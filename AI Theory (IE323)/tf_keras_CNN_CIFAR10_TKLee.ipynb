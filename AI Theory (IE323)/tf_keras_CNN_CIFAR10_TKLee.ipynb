{
 "cells": [
  {
   "cell_type": "markdown",
   "metadata": {
    "colab_type": "text",
    "id": "view-in-github"
   },
   "source": [
    "<a href=\"https://colab.research.google.com/github/jjyjung/ai/blob/gh-pages/tf_keras_CNN_CIFAR10.ipynb\" target=\"_parent\"><img src=\"https://colab.research.google.com/assets/colab-badge.svg\" alt=\"Open In Colab\"/></a>"
   ]
  },
  {
   "cell_type": "markdown",
   "metadata": {
    "id": "Hxi7riIaVzrd"
   },
   "source": [
    "Google Drive 연결"
   ]
  },
  {
   "cell_type": "code",
   "execution_count": 1,
   "metadata": {
    "colab": {
     "base_uri": "https://localhost:8080/"
    },
    "id": "q67R23-hc2Dh",
    "outputId": "ca6a05c5-7090-4107-a464-9592d30dad32"
   },
   "outputs": [
    {
     "name": "stdout",
     "output_type": "stream",
     "text": [
      "Mounted at /content/gdrive\n"
     ]
    }
   ],
   "source": [
    "from google.colab import drive\n",
    "drive.mount('/content/gdrive')   # google drive를 google colab에 연결. 처음 실행 시, 인증 필요 "
   ]
  },
  {
   "cell_type": "markdown",
   "metadata": {
    "id": "Ic9wytzIV60g"
   },
   "source": [
    "Google Drive 파일 읽기 테스트"
   ]
  },
  {
   "cell_type": "code",
   "execution_count": null,
   "metadata": {
    "colab": {
     "base_uri": "https://localhost:8080/",
     "height": 206
    },
    "id": "gdCiTXou_STW",
    "outputId": "22a94119-03bd-440f-ef9e-bcbda11719b8"
   },
   "outputs": [],
   "source": [
    "import pandas as pd\n",
    "\n",
    "# BMI 데이터를 읽어 들이고 정규화하기\n",
    "dir = \"/content/gdrive/My Drive/Colab Notebooks/\"\n",
    "df = pd.read_csv(dir + \"test.csv\")\n",
    "df"
   ]
  },
  {
   "cell_type": "markdown",
   "metadata": {
    "id": "Aden-4qHWAwN"
   },
   "source": [
    "CIFAR-10 데이터 불러오기"
   ]
  },
  {
   "cell_type": "code",
   "execution_count": 2,
   "metadata": {
    "colab": {
     "base_uri": "https://localhost:8080/"
    },
    "id": "BPIcj-qnhMJI",
    "outputId": "559c1173-bfa2-4ce0-eaf7-9a16af97689c"
   },
   "outputs": [
    {
     "name": "stdout",
     "output_type": "stream",
     "text": [
      "before: [[6]\n",
      " [9]\n",
      " [9]]\n",
      "after: [[0. 0. 0. 0. 0. 0. 1. 0. 0. 0.]\n",
      " [0. 0. 0. 0. 0. 0. 0. 0. 0. 1.]\n",
      " [0. 0. 0. 0. 0. 0. 0. 0. 0. 1.]]\n"
     ]
    }
   ],
   "source": [
    "import numpy as np\n",
    "import tensorflow as tf\n",
    "from tensorflow.keras.datasets import cifar10\n",
    "from tensorflow.keras.models import Sequential\n",
    "from tensorflow.keras.layers import Conv2D,MaxPooling2D,Flatten,Dense,Dropout\n",
    "from tensorflow.keras.optimizers import Adam\n",
    "from tensorflow.keras import regularizers\n",
    "import time\n",
    "\n",
    "# CIFAR-10 데이터셋을 읽고 신경망에 입력할 형태로 변환\n",
    "(x_train,y_train),(x_test,y_test)=cifar10.load_data()\n",
    "x_train=x_train.astype(np.float32)/255.0\n",
    "x_test=x_test.astype(np.float32)/255.0\n",
    "print(\"before:\",y_train[0:3])\n",
    "y_train=tf.keras.utils.to_categorical(y_train,10)\n",
    "y_test=tf.keras.utils.to_categorical(y_test,10)\n",
    "print(\"after:\",y_train[0:3])"
   ]
  },
  {
   "cell_type": "code",
   "execution_count": 3,
   "metadata": {
    "colab": {
     "base_uri": "https://localhost:8080/"
    },
    "id": "H8wv7GHmn-Na",
    "outputId": "2f6ba39b-970c-42f2-ef5c-908a89163b3f"
   },
   "outputs": [
    {
     "name": "stdout",
     "output_type": "stream",
     "text": [
      "before: [[[0.23137255 0.24313726 0.24705882]\n",
      "  [0.16862746 0.18039216 0.1764706 ]\n",
      "  [0.19607843 0.1882353  0.16862746]\n",
      "  ...\n",
      "  [0.61960787 0.5176471  0.42352942]\n",
      "  [0.59607846 0.49019608 0.4       ]\n",
      "  [0.5803922  0.4862745  0.40392157]]\n",
      "\n",
      " [[0.0627451  0.07843138 0.07843138]\n",
      "  [0.         0.         0.        ]\n",
      "  [0.07058824 0.03137255 0.        ]\n",
      "  ...\n",
      "  [0.48235294 0.34509805 0.21568628]\n",
      "  [0.46666667 0.3254902  0.19607843]\n",
      "  [0.47843137 0.34117648 0.22352941]]\n",
      "\n",
      " [[0.09803922 0.09411765 0.08235294]\n",
      "  [0.0627451  0.02745098 0.        ]\n",
      "  [0.19215687 0.10588235 0.03137255]\n",
      "  ...\n",
      "  [0.4627451  0.32941177 0.19607843]\n",
      "  [0.47058824 0.32941177 0.19607843]\n",
      "  [0.42745098 0.28627452 0.16470589]]\n",
      "\n",
      " ...\n",
      "\n",
      " [[0.8156863  0.6666667  0.3764706 ]\n",
      "  [0.7882353  0.6        0.13333334]\n",
      "  [0.7764706  0.6313726  0.10196079]\n",
      "  ...\n",
      "  [0.627451   0.52156866 0.27450982]\n",
      "  [0.21960784 0.12156863 0.02745098]\n",
      "  [0.20784314 0.13333334 0.07843138]]\n",
      "\n",
      " [[0.7058824  0.54509807 0.3764706 ]\n",
      "  [0.6784314  0.48235294 0.16470589]\n",
      "  [0.7294118  0.5647059  0.11764706]\n",
      "  ...\n",
      "  [0.72156864 0.5803922  0.36862746]\n",
      "  [0.38039216 0.24313726 0.13333334]\n",
      "  [0.3254902  0.20784314 0.13333334]]\n",
      "\n",
      " [[0.69411767 0.5647059  0.45490196]\n",
      "  [0.65882355 0.5058824  0.36862746]\n",
      "  [0.7019608  0.5568628  0.34117648]\n",
      "  ...\n",
      "  [0.84705883 0.72156864 0.54901963]\n",
      "  [0.5921569  0.4627451  0.32941177]\n",
      "  [0.48235294 0.36078432 0.28235295]]]\n"
     ]
    },
    {
     "data": {
      "text/plain": [
       "(50000, 32, 32, 3)"
      ]
     },
     "execution_count": 3,
     "metadata": {},
     "output_type": "execute_result"
    }
   ],
   "source": [
    "print(\"before:\",x_train[0])\n",
    "x_train.shape"
   ]
  },
  {
   "cell_type": "code",
   "execution_count": 4,
   "metadata": {
    "colab": {
     "base_uri": "https://localhost:8080/"
    },
    "id": "li5Y4mO6qBd6",
    "outputId": "83ae3089-074f-44ca-8ce1-2fd8a9c933f3"
   },
   "outputs": [
    {
     "data": {
      "text/plain": [
       "(10000, 32, 32, 3)"
      ]
     },
     "execution_count": 4,
     "metadata": {},
     "output_type": "execute_result"
    }
   ],
   "source": [
    "x_test.shape"
   ]
  },
  {
   "cell_type": "markdown",
   "metadata": {
    "id": "4ODFBgatWGbx"
   },
   "source": [
    "CNN 모델 설계 및 가시화"
   ]
  },
  {
   "cell_type": "code",
   "execution_count": 8,
   "metadata": {},
   "outputs": [
    {
     "name": "stdout",
     "output_type": "stream",
     "text": [
      "Requirement already satisfied: pydot in c:\\users\\82107\\anaconda3\\lib\\site-packages (1.4.2)\n",
      "Requirement already satisfied: pyparsing>=2.1.4 in c:\\users\\82107\\anaconda3\\lib\\site-packages (from pydot) (3.0.4)\n",
      "Note: you may need to restart the kernel to use updated packages.\n"
     ]
    }
   ],
   "source": [
    "pip install pydot"
   ]
  },
  {
   "cell_type": "code",
   "execution_count": 6,
   "metadata": {
    "colab": {
     "base_uri": "https://localhost:8080/",
     "height": 1000
    },
    "id": "1AS-V08VD0f8",
    "outputId": "8e5003cb-c56e-445a-f43a-8d8e16c25b2c"
   },
   "outputs": [
    {
     "name": "stdout",
     "output_type": "stream",
     "text": [
      "Model: \"sequential_1\"\n",
      "_________________________________________________________________\n",
      " Layer (type)                Output Shape              Param #   \n",
      "=================================================================\n",
      " conv2d_4 (Conv2D)           (None, 30, 30, 32)        896       \n",
      "                                                                 \n",
      " conv2d_5 (Conv2D)           (None, 28, 28, 32)        9248      \n",
      "                                                                 \n",
      " max_pooling2d_2 (MaxPooling  (None, 14, 14, 32)       0         \n",
      " 2D)                                                             \n",
      "                                                                 \n",
      " dropout_3 (Dropout)         (None, 14, 14, 32)        0         \n",
      "                                                                 \n",
      " conv2d_6 (Conv2D)           (None, 12, 12, 64)        18496     \n",
      "                                                                 \n",
      " conv2d_7 (Conv2D)           (None, 10, 10, 64)        36928     \n",
      "                                                                 \n",
      " max_pooling2d_3 (MaxPooling  (None, 5, 5, 64)         0         \n",
      " 2D)                                                             \n",
      "                                                                 \n",
      " dropout_4 (Dropout)         (None, 5, 5, 64)          0         \n",
      "                                                                 \n",
      " flatten_1 (Flatten)         (None, 1600)              0         \n",
      "                                                                 \n",
      " dense_2 (Dense)             (None, 512)               819712    \n",
      "                                                                 \n",
      " dropout_5 (Dropout)         (None, 512)               0         \n",
      "                                                                 \n",
      " dense_3 (Dense)             (None, 10)                5130      \n",
      "                                                                 \n",
      "=================================================================\n",
      "Total params: 890,410\n",
      "Trainable params: 890,410\n",
      "Non-trainable params: 0\n",
      "_________________________________________________________________\n"
     ]
    },
    {
     "data": {
      "image/png": "[encoded data removed]",
      "text/plain": [
       "<IPython.core.display.Image object>"
      ]
     },
     "execution_count": 6,
     "metadata": {},
     "output_type": "execute_result"
    }
   ],
   "source": [
    "# 모델 구조 설계\n",
    "input_shape=(32,32,3)\n",
    "n_kernals1=32\n",
    "n_kernals2=64\n",
    "n_hidden1=512\n",
    "n_output=10\n",
    "\n",
    "kernel_size=(3,3)\n",
    "pool_size=(2,2)\n",
    "strides=(1,1)\n",
    "\n",
    "# Model hyperparameters\n",
    "activation='relu'\n",
    "kernel_initializer='glorot_uniform'\n",
    "bias_initializer='zeros'\n",
    "dropout_rate=[0.25,0.25,0.25]\n",
    "l2_reg=0.0\n",
    "\n",
    "# 모델 설계\n",
    "cnn=Sequential()\n",
    "cnn.add(Conv2D(n_kernals1,kernel_size,strides=strides,activation=activation,kernel_initializer=kernel_initializer,bias_initializer=bias_initializer,input_shape=input_shape))\n",
    "cnn.add(Conv2D(n_kernals1,kernel_size,strides=strides,activation=activation,kernel_initializer=kernel_initializer,bias_initializer=bias_initializer))\n",
    "cnn.add(MaxPooling2D(pool_size=pool_size))\n",
    "cnn.add(Dropout(dropout_rate[0]))\n",
    "cnn.add(Conv2D(n_kernals2,kernel_size,strides=strides,activation=activation,kernel_initializer=kernel_initializer,bias_initializer=bias_initializer))\n",
    "cnn.add(Conv2D(n_kernals2,kernel_size,strides=strides,activation=activation,kernel_initializer=kernel_initializer,bias_initializer=bias_initializer))\n",
    "cnn.add(MaxPooling2D(pool_size=pool_size))\n",
    "cnn.add(Dropout(dropout_rate[1]))\n",
    "cnn.add(Flatten())\n",
    "cnn.add(Dense(n_hidden1,activation=activation))\n",
    "cnn.add(Dropout(dropout_rate[2]))\n",
    "cnn.add(Dense(n_output,activation='softmax',kernel_regularizer=regularizers.l2(l2_reg)))\n",
    "\n",
    "# 모델 확인\n",
    "cnn.summary()\n",
    "\n",
    "# SVG로 그리기\n",
    "from IPython.display import SVG\n",
    "from keras.utils.vis_utils import model_to_dot, plot_model\n",
    "%matplotlib inline\n",
    "SVG(model_to_dot(cnn, show_shapes=True, dpi=65).create(prog='dot', format='svg'))  # SVG로 가시화\n",
    "plot_model(cnn, to_file= 'png/cnn_cifar10.png', show_shapes=True, show_layer_names=True, dpi=65) # 파일 출력"
   ]
  },
  {
   "cell_type": "markdown",
   "metadata": {
    "id": "RWGRrUQeWL-x"
   },
   "source": [
    "모델 학습, 평가, 저장"
   ]
  },
  {
   "cell_type": "code",
   "execution_count": 8,
   "metadata": {
    "colab": {
     "base_uri": "https://localhost:8080/"
    },
    "id": "Enqj4AAQC3JB",
    "outputId": "4ce0ee83-c7c5-496d-c1a6-f5c128f0eca0"
   },
   "outputs": [
    {
     "name": "stdout",
     "output_type": "stream",
     "text": [
      "Epoch 1/25\n",
      "447/447 - 54s - loss: 0.3925 - accuracy: 0.8592 - val_loss: 0.6770 - val_accuracy: 0.7874 - 54s/epoch - 121ms/step\n",
      "Epoch 2/25\n",
      "447/447 - 52s - loss: 0.3729 - accuracy: 0.8667 - val_loss: 0.6698 - val_accuracy: 0.7832 - 52s/epoch - 117ms/step\n",
      "Epoch 3/25\n",
      "447/447 - 51s - loss: 0.3660 - accuracy: 0.8697 - val_loss: 0.6776 - val_accuracy: 0.7826 - 51s/epoch - 114ms/step\n",
      "Epoch 4/25\n",
      "447/447 - 51s - loss: 0.3578 - accuracy: 0.8720 - val_loss: 0.6915 - val_accuracy: 0.7821 - 51s/epoch - 114ms/step\n",
      "Epoch 5/25\n",
      "447/447 - 52s - loss: 0.3420 - accuracy: 0.8781 - val_loss: 0.6894 - val_accuracy: 0.7884 - 52s/epoch - 116ms/step\n",
      "Epoch 6/25\n",
      "447/447 - 52s - loss: 0.3342 - accuracy: 0.8791 - val_loss: 0.6924 - val_accuracy: 0.7830 - 52s/epoch - 115ms/step\n",
      "Epoch 7/25\n",
      "447/447 - 52s - loss: 0.3270 - accuracy: 0.8841 - val_loss: 0.7135 - val_accuracy: 0.7809 - 52s/epoch - 117ms/step\n",
      "Epoch 8/25\n",
      "447/447 - 54s - loss: 0.3177 - accuracy: 0.8863 - val_loss: 0.7125 - val_accuracy: 0.7824 - 54s/epoch - 121ms/step\n",
      "Epoch 9/25\n",
      "447/447 - 56s - loss: 0.3054 - accuracy: 0.8922 - val_loss: 0.6978 - val_accuracy: 0.7874 - 56s/epoch - 125ms/step\n",
      "Epoch 10/25\n",
      "447/447 - 53s - loss: 0.2931 - accuracy: 0.8957 - val_loss: 0.7459 - val_accuracy: 0.7806 - 53s/epoch - 119ms/step\n",
      "Epoch 11/25\n",
      "447/447 - 54s - loss: 0.2974 - accuracy: 0.8936 - val_loss: 0.7360 - val_accuracy: 0.7802 - 54s/epoch - 120ms/step\n",
      "Epoch 12/25\n",
      "447/447 - 54s - loss: 0.2825 - accuracy: 0.8991 - val_loss: 0.7144 - val_accuracy: 0.7890 - 54s/epoch - 120ms/step\n",
      "Epoch 13/25\n",
      "447/447 - 52s - loss: 0.2862 - accuracy: 0.8963 - val_loss: 0.7654 - val_accuracy: 0.7764 - 52s/epoch - 116ms/step\n",
      "Epoch 14/25\n",
      "447/447 - 54s - loss: 0.2757 - accuracy: 0.9029 - val_loss: 0.7261 - val_accuracy: 0.7868 - 54s/epoch - 121ms/step\n",
      "Epoch 15/25\n",
      "447/447 - 52s - loss: 0.2711 - accuracy: 0.9048 - val_loss: 0.7502 - val_accuracy: 0.7877 - 52s/epoch - 116ms/step\n",
      "Epoch 16/25\n",
      "447/447 - 52s - loss: 0.2726 - accuracy: 0.9034 - val_loss: 0.7375 - val_accuracy: 0.7868 - 52s/epoch - 115ms/step\n",
      "Epoch 17/25\n",
      "447/447 - 53s - loss: 0.2613 - accuracy: 0.9072 - val_loss: 0.7580 - val_accuracy: 0.7798 - 53s/epoch - 119ms/step\n",
      "Epoch 18/25\n",
      "447/447 - 53s - loss: 0.2630 - accuracy: 0.9075 - val_loss: 0.7378 - val_accuracy: 0.7840 - 53s/epoch - 118ms/step\n",
      "Epoch 19/25\n",
      "447/447 - 52s - loss: 0.2492 - accuracy: 0.9122 - val_loss: 0.7354 - val_accuracy: 0.7882 - 52s/epoch - 116ms/step\n",
      "Epoch 20/25\n",
      "447/447 - 52s - loss: 0.2505 - accuracy: 0.9119 - val_loss: 0.7536 - val_accuracy: 0.7860 - 52s/epoch - 116ms/step\n",
      "Epoch 21/25\n",
      "447/447 - 58s - loss: 0.2541 - accuracy: 0.9097 - val_loss: 0.7459 - val_accuracy: 0.7909 - 58s/epoch - 130ms/step\n",
      "Epoch 22/25\n",
      "447/447 - 55s - loss: 0.2437 - accuracy: 0.9148 - val_loss: 0.7587 - val_accuracy: 0.7875 - 55s/epoch - 123ms/step\n",
      "Epoch 23/25\n",
      "447/447 - 52s - loss: 0.2311 - accuracy: 0.9191 - val_loss: 0.7882 - val_accuracy: 0.7874 - 52s/epoch - 117ms/step\n",
      "Epoch 24/25\n",
      "447/447 - 52s - loss: 0.2371 - accuracy: 0.9164 - val_loss: 0.7648 - val_accuracy: 0.7805 - 52s/epoch - 117ms/step\n",
      "Epoch 25/25\n",
      "447/447 - 52s - loss: 0.2379 - accuracy: 0.9165 - val_loss: 0.7657 - val_accuracy: 0.7885 - 52s/epoch - 117ms/step\n",
      "학습시간(초): 1324.334731578827\n",
      "정확률(%): 78.85000109672546\n",
      "Saved model to disk.\n"
     ]
    }
   ],
   "source": [
    "# Learning hyperparameters\n",
    "batch_size=112\n",
    "epochs=25\n",
    "optimizer=Adam()\n",
    "\n",
    "# 모델 학습\n",
    "start=time.time()\n",
    "cnn.compile(loss='categorical_crossentropy',optimizer=optimizer,metrics=['accuracy'])\n",
    "hist=cnn.fit(x_train,y_train,batch_size=batch_size,epochs=epochs,validation_data=(x_test,y_test),verbose=2)\n",
    "end=time.time()\n",
    "print(\"학습시간(초):\", end-start)\n",
    "\n",
    "# 정확률 평가(1)\n",
    "res=cnn.evaluate(x_test,y_test,verbose=0)\n",
    "print(\"정확률(%):\",res[1]*100)\n",
    "\n",
    "# 모델 저장\n",
    "cnn.save(\"cnn_cifar10.h5\")\n",
    "print(\"Saved model to disk.\")"
   ]
  },
  {
   "cell_type": "markdown",
   "metadata": {
    "id": "XmJjyRWaWY5Y"
   },
   "source": [
    "모델 학습 그래프 그리기"
   ]
  },
  {
   "cell_type": "code",
   "execution_count": 10,
   "metadata": {
    "colab": {
     "base_uri": "https://localhost:8080/",
     "height": 573
    },
    "id": "ZHi6tiv5VnMZ",
    "outputId": "f60d2ebe-45a6-4f27-cdf1-d5a0ed3fec1b"
   },
   "outputs": [
    {
     "data": {
      "image/png": "[encoded data removed]",
      "text/plain": [
       "<Figure size 640x480 with 1 Axes>"
      ]
     },
     "metadata": {},
     "output_type": "display_data"
    },
    {
     "data": {
      "image/png": "[encoded data removed]",
      "text/plain": [
       "<Figure size 640x480 with 1 Axes>"
      ]
     },
     "metadata": {},
     "output_type": "display_data"
    }
   ],
   "source": [
    "import matplotlib.pyplot as plt\n",
    "\n",
    "plt.style.use('default')\n",
    "\n",
    "# Customize the default style\n",
    "plt.rcParams['figure.facecolor'] = 'white'\n",
    "plt.rcParams['axes.facecolor'] = 'white'\n",
    "plt.rcParams['axes.edgecolor'] = 'white'\n",
    "plt.rcParams['axes.labelcolor'] = 'white'\n",
    "plt.rcParams['axes.titlecolor'] = 'black'\n",
    "plt.rcParams['xtick.color'] = 'black'\n",
    "plt.rcParams['ytick.color'] = 'black'\n",
    "\n",
    "\n",
    "# 정확률 그래프\n",
    "plt.plot(hist.history['accuracy'])\n",
    "plt.plot(hist.history['val_accuracy'])\n",
    "plt.title('Model accuracy')\n",
    "plt.xlabel('Epoch')\n",
    "plt.ylabel('Accuracy')\n",
    "plt.legend(['Train','Validation'],loc='best')\n",
    "plt.grid()\n",
    "plt.show()\n",
    "\n",
    "# 손실 함수 그래프\n",
    "plt.plot(hist.history['loss'])\n",
    "plt.plot(hist.history['val_loss'])\n",
    "plt.title('Model loss')\n",
    "plt.xlabel('Epoch')\n",
    "plt.ylabel('Loss')\n",
    "plt.legend(['Train','Validation'],loc='best')\n",
    "plt.grid()\n",
    "plt.show()"
   ]
  },
  {
   "cell_type": "markdown",
   "metadata": {
    "id": "Q0BzpQa7Wmer"
   },
   "source": [
    "테스트 결과 및 Confusion Matrix 그리기"
   ]
  },
  {
   "cell_type": "code",
   "execution_count": 11,
   "metadata": {
    "colab": {
     "base_uri": "https://localhost:8080/"
    },
    "id": "gAd4JXEbWjxD",
    "outputId": "2da66b88-c45f-41f0-ea28-b832edf1cc4d"
   },
   "outputs": [
    {
     "name": "stdout",
     "output_type": "stream",
     "text": [
      "313/313 [==============================] - 3s 9ms/step\n",
      "[[837.  13.  71.  21.  15.  10.   9.   9.  47.  26.]\n",
      " [ 15. 866.   5.   4.   2.   2.   0.   1.  16.  33.]\n",
      " [ 23.   3. 653.  58.  41.  30.  32.  21.  12.   5.]\n",
      " [ 14.   1.  35. 577.  42. 138.  26.  27.   7.   5.]\n",
      " [ 11.   4.  86.  56. 781.  41.  23.  51.   5.   8.]\n",
      " [  5.   6.  44. 159.  22. 704.  14.  44.   5.   3.]\n",
      " [  7.  10.  61.  69.  44.  23. 884.   2.   3.   8.]\n",
      " [  7.   0.  27.  27.  45.  46.   5. 833.   1.   8.]\n",
      " [ 58.  32.  17.  19.   8.   3.   5.   5. 887.  41.]\n",
      " [ 23.  65.   1.  10.   0.   3.   2.   7.  17. 863.]]\n",
      "정확률(%): 78.85\n"
     ]
    }
   ],
   "source": [
    "# 테스트 집합\n",
    "res = cnn.predict(x_test)\n",
    "\n",
    "# Confusion Matrix\n",
    "conf=np.zeros((10,10))\n",
    "for i in range(len(res)):\n",
    "  conf[res[i].argmax()][y_test[i].argmax()]+=1\n",
    "print(conf)\n",
    "\n",
    "# 정확률 계산(2)\n",
    "no_correct=0\n",
    "for i in range(10):\n",
    "  no_correct+=conf[i][i]\n",
    "accuracy=no_correct/len(res)\n",
    "print(\"정확률(%):\",accuracy*100)"
   ]
  },
  {
   "cell_type": "markdown",
   "metadata": {
    "id": "KpZxTrixWzJS"
   },
   "source": [
    "저장된 모델 불러오기 및 평가"
   ]
  },
  {
   "cell_type": "code",
   "execution_count": 13,
   "metadata": {
    "colab": {
     "base_uri": "https://localhost:8080/"
    },
    "id": "Fc8m1Au5cXRz",
    "outputId": "6b31f204-f7ee-42c2-a0c4-6a2185205889"
   },
   "outputs": [
    {
     "name": "stdout",
     "output_type": "stream",
     "text": [
      "Model: \"sequential_1\"\n",
      "_________________________________________________________________\n",
      "Layer (type)                 Output Shape              Param #   \n",
      "=================================================================\n",
      "conv2d_4 (Conv2D)            (None, 30, 30, 32)        896       \n",
      "_________________________________________________________________\n",
      "conv2d_5 (Conv2D)            (None, 28, 28, 32)        9248      \n",
      "_________________________________________________________________\n",
      "max_pooling2d_2 (MaxPooling2 (None, 14, 14, 32)        0         \n",
      "_________________________________________________________________\n",
      "dropout_3 (Dropout)          (None, 14, 14, 32)        0         \n",
      "_________________________________________________________________\n",
      "conv2d_6 (Conv2D)            (None, 12, 12, 64)        18496     \n",
      "_________________________________________________________________\n",
      "conv2d_7 (Conv2D)            (None, 10, 10, 64)        36928     \n",
      "_________________________________________________________________\n",
      "max_pooling2d_3 (MaxPooling2 (None, 5, 5, 64)          0         \n",
      "_________________________________________________________________\n",
      "dropout_4 (Dropout)          (None, 5, 5, 64)          0         \n",
      "_________________________________________________________________\n",
      "flatten_1 (Flatten)          (None, 1600)              0         \n",
      "_________________________________________________________________\n",
      "dense_2 (Dense)              (None, 512)               819712    \n",
      "_________________________________________________________________\n",
      "dropout_5 (Dropout)          (None, 512)               0         \n",
      "_________________________________________________________________\n",
      "dense_3 (Dense)              (None, 10)                5130      \n",
      "=================================================================\n",
      "Total params: 890,410\n",
      "Trainable params: 890,410\n",
      "Non-trainable params: 0\n",
      "_________________________________________________________________\n",
      "정확률(%): 78.85000109672546\n"
     ]
    }
   ],
   "source": [
    "import numpy as np\n",
    "import tensorflow as tf\n",
    "from tensorflow.keras.datasets import cifar10\n",
    "from tensorflow.python.keras.models import load_model\n",
    "\n",
    "# 신경망 구조와 가중치를 저장하고 있는 파일을 읽어 옴\n",
    "cnn2 = load_model(\"cnn_cifar10.h5\")\n",
    "cnn2.summary()\n",
    "\n",
    "# CIFAR-10 데이터셋을 읽고 신경망에 입력할 형태로 변환\n",
    "(x_train,y_train),(x_test,y_test) = cifar10.load_data()\n",
    "x_train = x_train.astype(np.float32)/255.0\n",
    "x_test = x_test.astype(np.float32)/255.0\n",
    "y_train = tf.keras.utils.to_categorical(y_train,10)\n",
    "y_test = tf.keras.utils.to_categorical(y_test,10)\n",
    "\n",
    "res=cnn2.evaluate(x_test, y_test, verbose=0)\n",
    "print(\"정확률(%):\",res[1]*100)"
   ]
  },
  {
   "cell_type": "code",
   "execution_count": null,
   "metadata": {},
   "outputs": [],
   "source": []
  }
 ],
 "metadata": {
  "accelerator": "GPU",
  "colab": {
   "collapsed_sections": [],
   "include_colab_link": true,
   "name": "tf.keras_CNN_CIFAR10.ipynb",
   "provenance": []
  },
  "kernelspec": {
   "display_name": "Python 3 (ipykernel)",
   "language": "python",
   "name": "python3"
  },
  "language_info": {
   "codemirror_mode": {
    "name": "ipython",
    "version": 3
   },
   "file_extension": ".py",
   "mimetype": "text/x-python",
   "name": "python",
   "nbconvert_exporter": "python",
   "pygments_lexer": "ipython3",
   "version": "3.9.7"
  },
  "toc": {
   "base_numbering": 1,
   "nav_menu": {},
   "number_sections": true,
   "sideBar": true,
   "skip_h1_title": false,
   "title_cell": "Table of Contents",
   "title_sidebar": "Contents",
   "toc_cell": false,
   "toc_position": {},
   "toc_section_display": true,
   "toc_window_display": false
  }
 },
 "nbformat": 4,
 "nbformat_minor": 1
}
