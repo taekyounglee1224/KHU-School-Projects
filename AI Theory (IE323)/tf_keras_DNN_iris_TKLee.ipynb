{
 "cells": [
  {
   "cell_type": "markdown",
   "metadata": {
    "colab_type": "text",
    "id": "view-in-github"
   },
   "source": [
    "<a href=\"https://colab.research.google.com/github/jjyjung/ai/blob/gh-pages/tf_keras_DNN_BMI.ipynb\" target=\"_parent\"><img src=\"https://colab.research.google.com/assets/colab-badge.svg\" alt=\"Open In Colab\"/></a>"
   ]
  },
  {
   "cell_type": "markdown",
   "metadata": {
    "colab": {
     "base_uri": "https://localhost:8080/"
    },
    "id": "EYWPrHpHvOaT",
    "outputId": "9878200d-507f-44a4-8d24-45132de24fe4"
   },
   "source": [
    "from google.colab import drive\n",
    "\n",
    "drive.mount('/content/gdrive')   # google drive를 google colab에 연결. 처음 실행 시, 인증 필요 "
   ]
  },
  {
   "cell_type": "raw",
   "metadata": {
    "id": "22UZuhWkLtVt"
   },
   "source": [
    "import numpy as np\n",
    "import pandas as pd\n",
    "import tensorflow as tf\n",
    "from tensorflow.keras import layers  # 모듈(변수나 함수를 포함)만 불러오기\n",
    "\n",
    "# BMI 데이터를 읽어 들이고 정규화하기\n",
    "dir = \"/content/gdrive/My Drive/Colab Notebooks/ai/\"  ### [중요!!] Colab의 경우, bmi.csv를 저장할 위치를 기록하시오.\n",
    "df = pd.read_csv(dir + \"bmi.csv\")    ### [중요!!] https://github.com/jjyjung/ai/blob/gh-pages/bmi.csv 에서 다운받을 수 있습니다."
   ]
  },
  {
   "cell_type": "code",
   "execution_count": 2,
   "metadata": {},
   "outputs": [],
   "source": [
    "# # Jupyter Notebook에서 실행시킬 때에는 아래 2개 셀 대신에 이 코드를 실행하세요.\n",
    "import numpy as np\n",
    "import pandas as pd\n",
    "import tensorflow as tf\n",
    "from tensorflow.keras import layers  # 모듈(변수나 함수를 포함)만 불러오기\n",
    "\n",
    "# # BMI 데이터를 읽어 들이고 정규화하기\n",
    "\n",
    "df = pd.read_csv(\"csv/iris.csv\")"
   ]
  },
  {
   "cell_type": "code",
   "execution_count": 3,
   "metadata": {
    "colab": {
     "base_uri": "https://localhost:8080/",
     "height": 424
    },
    "id": "3GAFF1QOk58E",
    "outputId": "4538cdcf-bc60-4d7f-a060-27b0b15cb0eb"
   },
   "outputs": [
    {
     "data": {
      "text/html": [
       "<div>\n",
       "<style scoped>\n",
       "    .dataframe tbody tr th:only-of-type {\n",
       "        vertical-align: middle;\n",
       "    }\n",
       "\n",
       "    .dataframe tbody tr th {\n",
       "        vertical-align: top;\n",
       "    }\n",
       "\n",
       "    .dataframe thead th {\n",
       "        text-align: right;\n",
       "    }\n",
       "</style>\n",
       "<table border=\"1\" class=\"dataframe\">\n",
       "  <thead>\n",
       "    <tr style=\"text-align: right;\">\n",
       "      <th></th>\n",
       "      <th>sepal_length</th>\n",
       "      <th>sepal_width</th>\n",
       "      <th>petal_length</th>\n",
       "      <th>petal_width</th>\n",
       "      <th>iris_type</th>\n",
       "    </tr>\n",
       "  </thead>\n",
       "  <tbody>\n",
       "    <tr>\n",
       "      <th>0</th>\n",
       "      <td>6.4</td>\n",
       "      <td>3.1</td>\n",
       "      <td>5.5</td>\n",
       "      <td>1.8</td>\n",
       "      <td>Iris-virginica</td>\n",
       "    </tr>\n",
       "    <tr>\n",
       "      <th>1</th>\n",
       "      <td>6.5</td>\n",
       "      <td>3.0</td>\n",
       "      <td>5.8</td>\n",
       "      <td>2.2</td>\n",
       "      <td>Iris-virginica</td>\n",
       "    </tr>\n",
       "    <tr>\n",
       "      <th>2</th>\n",
       "      <td>4.6</td>\n",
       "      <td>3.1</td>\n",
       "      <td>1.5</td>\n",
       "      <td>0.2</td>\n",
       "      <td>Iris-setosa</td>\n",
       "    </tr>\n",
       "    <tr>\n",
       "      <th>3</th>\n",
       "      <td>6.4</td>\n",
       "      <td>2.8</td>\n",
       "      <td>5.6</td>\n",
       "      <td>2.1</td>\n",
       "      <td>Iris-virginica</td>\n",
       "    </tr>\n",
       "    <tr>\n",
       "      <th>4</th>\n",
       "      <td>5.0</td>\n",
       "      <td>3.3</td>\n",
       "      <td>1.4</td>\n",
       "      <td>0.2</td>\n",
       "      <td>Iris-setosa</td>\n",
       "    </tr>\n",
       "    <tr>\n",
       "      <th>...</th>\n",
       "      <td>...</td>\n",
       "      <td>...</td>\n",
       "      <td>...</td>\n",
       "      <td>...</td>\n",
       "      <td>...</td>\n",
       "    </tr>\n",
       "    <tr>\n",
       "      <th>145</th>\n",
       "      <td>5.1</td>\n",
       "      <td>3.8</td>\n",
       "      <td>1.9</td>\n",
       "      <td>0.4</td>\n",
       "      <td>Iris-setosa</td>\n",
       "    </tr>\n",
       "    <tr>\n",
       "      <th>146</th>\n",
       "      <td>5.7</td>\n",
       "      <td>2.8</td>\n",
       "      <td>4.5</td>\n",
       "      <td>1.3</td>\n",
       "      <td>Iris-versicolor</td>\n",
       "    </tr>\n",
       "    <tr>\n",
       "      <th>147</th>\n",
       "      <td>6.9</td>\n",
       "      <td>3.1</td>\n",
       "      <td>5.4</td>\n",
       "      <td>2.1</td>\n",
       "      <td>Iris-virginica</td>\n",
       "    </tr>\n",
       "    <tr>\n",
       "      <th>148</th>\n",
       "      <td>7.2</td>\n",
       "      <td>3.0</td>\n",
       "      <td>5.8</td>\n",
       "      <td>1.6</td>\n",
       "      <td>Iris-virginica</td>\n",
       "    </tr>\n",
       "    <tr>\n",
       "      <th>149</th>\n",
       "      <td>4.9</td>\n",
       "      <td>3.0</td>\n",
       "      <td>1.4</td>\n",
       "      <td>0.2</td>\n",
       "      <td>Iris-setosa</td>\n",
       "    </tr>\n",
       "  </tbody>\n",
       "</table>\n",
       "<p>150 rows × 5 columns</p>\n",
       "</div>"
      ],
      "text/plain": [
       "     sepal_length  sepal_width  petal_length  petal_width        iris_type\n",
       "0             6.4          3.1           5.5          1.8   Iris-virginica\n",
       "1             6.5          3.0           5.8          2.2   Iris-virginica\n",
       "2             4.6          3.1           1.5          0.2      Iris-setosa\n",
       "3             6.4          2.8           5.6          2.1   Iris-virginica\n",
       "4             5.0          3.3           1.4          0.2      Iris-setosa\n",
       "..            ...          ...           ...          ...              ...\n",
       "145           5.1          3.8           1.9          0.4      Iris-setosa\n",
       "146           5.7          2.8           4.5          1.3  Iris-versicolor\n",
       "147           6.9          3.1           5.4          2.1   Iris-virginica\n",
       "148           7.2          3.0           5.8          1.6   Iris-virginica\n",
       "149           4.9          3.0           1.4          0.2      Iris-setosa\n",
       "\n",
       "[150 rows x 5 columns]"
      ]
     },
     "execution_count": 3,
     "metadata": {},
     "output_type": "execute_result"
    }
   ],
   "source": [
    "df"
   ]
  },
  {
   "cell_type": "code",
   "execution_count": 9,
   "metadata": {},
   "outputs": [
    {
     "name": "stdout",
     "output_type": "stream",
     "text": [
      "5.84 0.83\n",
      "3.05 0.43\n",
      "3.76 1.76\n",
      "1.2 0.76\n"
     ]
    }
   ],
   "source": [
    "print(np.round(df['sepal_length'].mean(),2), np.round(df['sepal_length'].std(),2))\n",
    "print(np.round(df['sepal_width'].mean(),2), np.round(df['sepal_width'].std(),2))\n",
    "print(np.round(df['petal_length'].mean(),2), np.round(df['petal_length'].std(),2))\n",
    "print(np.round(df['petal_width'].mean(),2), np.round(df['petal_width'].std(),2))"
   ]
  },
  {
   "cell_type": "code",
   "execution_count": 12,
   "metadata": {
    "id": "WaC6EJH_kwwz"
   },
   "outputs": [],
   "source": [
    "# 몸무게와 키 데이터\n",
    "(df[\"sepal_length\"]-5.84) / 0.83   # normalization\n",
    "(df[\"sepal_width\"]-3.05) / 0.43 \n",
    "(df[\"petal_length\"]-3.76) / 1.76 \n",
    "(df[\"petal_width\"]-1.2) / 0.76 \n",
    "\n",
    "# X = df[[\"weight\", \"height\"]].to_numpy()\n",
    "X = df.iloc[:,0:4]\n",
    "\n",
    "# 레이블링, 라벨링 (labelling) => one-hot encoding\n",
    "bclass = {\"Iris-setosa\":[1,0,0], \"Iris-versicolor\":[0,1,0], \"Iris-virginica\":[0,0,1]}\n",
    "y = np.empty((150,3))     # 2000x3 크기의 다차원 벡터 생성\n",
    "for i, v in enumerate(df[\"iris_type\"]):\n",
    "    y[i] = bclass[v]        # \"thin'이면, y[i]=[1,0,0] 와 같이 할당\n",
    "    \n",
    "# 훈련 전용 데이터와 테스트 전용 데이터로 나누기\n",
    "X_train, y_train = X[0:100], y[0:100]\n",
    "X_test,  y_test  = X[100:150], y[100:150]"
   ]
  },
  {
   "cell_type": "code",
   "execution_count": 75,
   "metadata": {
    "id": "G2UgYhccLtVu",
    "scrolled": true
   },
   "outputs": [],
   "source": [
    "# 모델 구조 정의하기\n",
    "model = tf.keras.Sequential()         # 순차적 계층화 준비\n",
    "model.add(layers.Dense(6, input_shape=(4,)))  # 입력 4개로부터 전달받는 8개 노드의 layer 생성\n",
    "model.add(layers.Activation('relu'))  # ReLU 활성화함수 채택\n",
    "model.add(layers.Dropout(0.01))        # dropout ratio=20% (배치 훈련시 10% arc 무시)\n",
    "\n",
    "model.add(layers.Dense(4))            # 6개 노드의 layer 생성\n",
    "model.add(layers.Activation('relu'))\n",
    "model.add(layers.Dropout(0.01))\n",
    "\n",
    "model.add(layers.Dense(3))\n",
    "model.add(layers.Activation('softmax'))# 분류(classification)을 위해 softmax 함수 사용\n",
    "\n",
    "# 모델 구축하기\n",
    "model.compile(\n",
    "    loss='categorical_crossentropy',  # 다중 교차엔트로피\n",
    "    optimizer=\"rmsprop\",   # 최적화 기법 중 하나\n",
    "    metrics=['accuracy',tf.keras.metrics.TruePositives(name='tp'), tf.keras.metrics.Precision(), tf.keras.metrics.AUC()])"
   ]
  },
  {
   "cell_type": "code",
   "execution_count": 76,
   "metadata": {
    "colab": {
     "base_uri": "https://localhost:8080/"
    },
    "id": "2IhHchdXLtVv",
    "outputId": "7b988e8a-0292-484a-e66e-1943438a3938",
    "scrolled": true
   },
   "outputs": [
    {
     "name": "stdout",
     "output_type": "stream",
     "text": [
      "Epoch 1/5\n",
      "9/9 [==============================] - 3s 122ms/step - loss: 1.3616 - accuracy: 0.3111 - tp: 28.0000 - precision_25: 0.3294 - auc_25: 0.6338 - val_loss: 0.9809 - val_accuracy: 0.6000 - val_tp: 6.0000 - val_precision_25: 0.7500 - val_auc_25: 0.7850\n",
      "Epoch 2/5\n",
      "9/9 [==============================] - 0s 9ms/step - loss: 1.1779 - accuracy: 0.3222 - tp: 28.0000 - precision_25: 0.4590 - auc_25: 0.6495 - val_loss: 0.8682 - val_accuracy: 0.6000 - val_tp: 6.0000 - val_precision_25: 0.7500 - val_auc_25: 0.7950\n",
      "Epoch 3/5\n",
      "9/9 [==============================] - 0s 11ms/step - loss: 1.0785 - accuracy: 0.5000 - tp: 27.0000 - precision_25: 0.7105 - auc_25: 0.6800 - val_loss: 0.7796 - val_accuracy: 0.8000 - val_tp: 6.0000 - val_precision_25: 1.0000 - val_auc_25: 0.8475\n",
      "Epoch 4/5\n",
      "9/9 [==============================] - 0s 9ms/step - loss: 0.9743 - accuracy: 0.6333 - tp: 27.0000 - precision_25: 0.9000 - auc_25: 0.7290 - val_loss: 0.7086 - val_accuracy: 0.8000 - val_tp: 7.0000 - val_precision_25: 1.0000 - val_auc_25: 0.8825\n",
      "Epoch 5/5\n",
      "9/9 [==============================] - 0s 8ms/step - loss: 0.9531 - accuracy: 0.6778 - tp: 30.0000 - precision_25: 0.8108 - auc_25: 0.7484 - val_loss: 0.6675 - val_accuracy: 0.9000 - val_tp: 7.0000 - val_precision_25: 1.0000 - val_auc_25: 0.9500\n",
      "2/2 [==============================] - 1s 6ms/step - loss: 0.8558 - accuracy: 0.7200 - tp: 18.0000 - precision_25: 1.0000 - auc_25: 0.8060\n",
      "test_loss:  0.8557812571525574\n",
      "test_acc:  0.7200000286102295\n"
     ]
    }
   ],
   "source": [
    "# 데이터 훈련하기\n",
    "hist = model.fit(\n",
    "    X_train, y_train,\n",
    "    batch_size=10,     # 5개에 한 번씩 업데이터 실행\n",
    "    epochs=5,          # 훈련 데이터셋을 총 10회 반복 실험. 단, 조기중지될 수 있음\n",
    "    validation_split=0.1,  \n",
    "        #validation data 분할 비율. 즉, 100개 중에서 20%인 200개를 validation용으로 분할\n",
    "    callbacks=[tf.keras.callbacks.EarlyStopping(monitor='val_loss', patience=3)],  \n",
    "        #'val_loss'를 monitor하여 감소하면 한 번 더 참고 조기중지\n",
    "    verbose=1)   # 전 과정을 화면에 출력(1) 또는 미출력(0) 모드\n",
    "\n",
    "# 테스트 데이터로 평가하기\n",
    "score = model.evaluate(X_test, y_test)\n",
    "print('test_loss: ', score[0])\n",
    "print('test_acc: ', score[1])"
   ]
  },
  {
   "cell_type": "code",
   "execution_count": 77,
   "metadata": {
    "colab": {
     "base_uri": "https://localhost:8080/"
    },
    "id": "eVZ2sf6Gb5Y-",
    "outputId": "3f1f8080-3042-477e-d02a-5769555b3bd6"
   },
   "outputs": [
    {
     "data": {
      "text/plain": [
       "dict_keys(['loss', 'accuracy', 'tp', 'precision_25', 'auc_25', 'val_loss', 'val_accuracy', 'val_tp', 'val_precision_25', 'val_auc_25'])"
      ]
     },
     "execution_count": 77,
     "metadata": {},
     "output_type": "execute_result"
    }
   ],
   "source": [
    "hist.history.keys()"
   ]
  },
  {
   "cell_type": "code",
   "execution_count": 78,
   "metadata": {
    "colab": {
     "base_uri": "https://localhost:8080/"
    },
    "id": "sCPklZHEfGqh",
    "outputId": "cb0ae127-a97a-4d46-b4ec-b7491b02f49b"
   },
   "outputs": [
    {
     "data": {
      "text/plain": [
       "[0.8557812571525574, 0.7200000286102295, 18.0, 1.0, 0.8059999942779541]"
      ]
     },
     "execution_count": 78,
     "metadata": {},
     "output_type": "execute_result"
    }
   ],
   "source": [
    "score"
   ]
  },
  {
   "cell_type": "code",
   "execution_count": 79,
   "metadata": {
    "colab": {
     "base_uri": "https://localhost:8080/",
     "height": 279
    },
    "id": "Hh1NwcAwLtVw",
    "outputId": "e528b594-947c-4660-a49b-399f36fb07e0",
    "scrolled": true
   },
   "outputs": [
    {
     "data": {
      "image/png": "[encoded data removed]",
      "text/plain": [
       "<Figure size 432x288 with 2 Axes>"
      ]
     },
     "metadata": {
      "needs_background": "light"
     },
     "output_type": "display_data"
    }
   ],
   "source": [
    "import matplotlib.pyplot as plt\n",
    "\n",
    "fig, loss_ax = plt.subplots()\n",
    "acc_ax = loss_ax.twinx()\n",
    "\n",
    "loss_ax.plot(hist.history['loss'], 'y', label='train loss')\n",
    "loss_ax.plot(hist.history['val_loss'], 'r', label='val loss')\n",
    "\n",
    "acc_ax.plot(hist.history['accuracy'], 'b', label='train acc')\n",
    "acc_ax.plot(hist.history['val_accuracy'], 'g', label='val acc')\n",
    "\n",
    "loss_ax.set_xlabel('epoch')\n",
    "loss_ax.set_ylabel('loss')\n",
    "acc_ax.set_ylabel('accuray')\n",
    "\n",
    "loss_ax.legend(loc='upper left')\n",
    "acc_ax.legend(loc='lower left')\n",
    "\n",
    "plt.show()"
   ]
  },
  {
   "cell_type": "code",
   "execution_count": 80,
   "metadata": {
    "colab": {
     "base_uri": "https://localhost:8080/"
    },
    "id": "a0LNN770LtVw",
    "outputId": "1ec22b22-2dbb-4fd7-be46-d564400fa2b9"
   },
   "outputs": [
    {
     "name": "stdout",
     "output_type": "stream",
     "text": [
      "Model: \"sequential_25\"\n",
      "_________________________________________________________________\n",
      " Layer (type)                Output Shape              Param #   \n",
      "=================================================================\n",
      " dense_75 (Dense)            (None, 6)                 30        \n",
      "                                                                 \n",
      " activation_75 (Activation)  (None, 6)                 0         \n",
      "                                                                 \n",
      " dropout_50 (Dropout)        (None, 6)                 0         \n",
      "                                                                 \n",
      " dense_76 (Dense)            (None, 4)                 28        \n",
      "                                                                 \n",
      " activation_76 (Activation)  (None, 4)                 0         \n",
      "                                                                 \n",
      " dropout_51 (Dropout)        (None, 4)                 0         \n",
      "                                                                 \n",
      " dense_77 (Dense)            (None, 3)                 15        \n",
      "                                                                 \n",
      " activation_77 (Activation)  (None, 3)                 0         \n",
      "                                                                 \n",
      "=================================================================\n",
      "Total params: 73\n",
      "Trainable params: 73\n",
      "Non-trainable params: 0\n",
      "_________________________________________________________________\n"
     ]
    }
   ],
   "source": [
    "model.summary()"
   ]
  },
  {
   "cell_type": "code",
   "execution_count": 81,
   "metadata": {
    "colab": {
     "base_uri": "https://localhost:8080/"
    },
    "id": "Ap06VxZI5Aog",
    "outputId": "a69b727c-1e11-4086-e5c3-d3a3d075a1dd"
   },
   "outputs": [
    {
     "data": {
      "text/plain": [
       "[array([[-0.12261248,  0.07350006, -0.24954985, -0.57083046,  0.6825891 ,\n",
       "          0.5035509 ],\n",
       "        [-0.37365708, -0.43590447,  0.13789321,  0.10847099,  0.6312213 ,\n",
       "         -0.6704069 ],\n",
       "        [-0.52761966,  0.30455127,  0.59732234,  0.72023374, -0.7060156 ,\n",
       "         -0.07214554],\n",
       "        [-0.7674975 , -0.24113022, -0.46511653, -0.05135358,  0.03347822,\n",
       "         -0.07292071]], dtype=float32),\n",
       " array([ 0.        ,  0.03304118,  0.03164127, -0.00438442, -0.0431522 ,\n",
       "         0.04281199], dtype=float32),\n",
       " array([[ 0.5565003 ,  0.65397406,  0.6627486 , -0.20402586],\n",
       "        [-0.36623368,  0.5839611 , -0.04535835,  0.42781052],\n",
       "        [ 0.3948926 , -0.17382815, -0.23731355, -0.6171372 ],\n",
       "        [-0.8164841 , -0.24627915,  0.05215052,  0.00762985],\n",
       "        [ 0.39080942,  0.25889242,  0.64115024,  0.09710862],\n",
       "        [-0.5975844 ,  0.6546281 , -0.4583311 , -0.3764314 ]],\n",
       "       dtype=float32),\n",
       " array([-0.00549799,  0.04298002, -0.04371041,  0.04403626], dtype=float32),\n",
       " array([[-0.32708213,  0.84103376, -0.5430448 ],\n",
       "        [-0.31845856, -0.0188054 ,  0.821208  ],\n",
       "        [ 0.72111446, -0.30458564, -0.7180015 ],\n",
       "        [-0.21368904, -0.56282204,  0.4571558 ]], dtype=float32),\n",
       " array([-0.04141821,  0.00775549,  0.04279108], dtype=float32)]"
      ]
     },
     "execution_count": 81,
     "metadata": {},
     "output_type": "execute_result"
    }
   ],
   "source": [
    "model.get_weights()"
   ]
  },
  {
   "cell_type": "code",
   "execution_count": 82,
   "metadata": {
    "colab": {
     "base_uri": "https://localhost:8080/"
    },
    "id": "nhPK4V6nLtVx",
    "outputId": "8bb8b96b-f1ba-4146-d6d8-3870c404efb6",
    "scrolled": true
   },
   "outputs": [
    {
     "name": "stdout",
     "output_type": "stream",
     "text": [
      "INFO:tensorflow:Assets written to: dnn_iris\\assets\n",
      "Saved model to disk.\n",
      "Model: \"sequential_25\"\n",
      "_________________________________________________________________\n",
      " Layer (type)                Output Shape              Param #   \n",
      "=================================================================\n",
      " dense_75 (Dense)            (None, 6)                 30        \n",
      "                                                                 \n",
      " activation_75 (Activation)  (None, 6)                 0         \n",
      "                                                                 \n",
      " dropout_50 (Dropout)        (None, 6)                 0         \n",
      "                                                                 \n",
      " dense_76 (Dense)            (None, 4)                 28        \n",
      "                                                                 \n",
      " activation_76 (Activation)  (None, 4)                 0         \n",
      "                                                                 \n",
      " dropout_51 (Dropout)        (None, 4)                 0         \n",
      "                                                                 \n",
      " dense_77 (Dense)            (None, 3)                 15        \n",
      "                                                                 \n",
      " activation_77 (Activation)  (None, 3)                 0         \n",
      "                                                                 \n",
      "=================================================================\n",
      "Total params: 73\n",
      "Trainable params: 73\n",
      "Non-trainable params: 0\n",
      "_________________________________________________________________\n",
      "2/2 [==============================] - 0s 6ms/step - loss: 0.8558 - accuracy: 0.7200 - tp: 18.0000 - precision_25: 1.0000 - auc_25: 0.8060\n",
      "test_loss:  0.8557812571525574\n",
      "test_acc:  0.7200000286102295\n"
     ]
    }
   ],
   "source": [
    "model.save(\"dnn_iris\")\n",
    "print(\"Saved model to disk.\")\n",
    "\n",
    "from numpy import loadtxt\n",
    "from tensorflow.python.keras.models import load_model\n",
    "\n",
    "# 저장된 모델 읽어오기\n",
    "loaded_model = load_model(\"dnn_iris\")\n",
    "model.summary()\n",
    "\n",
    "# 모델을 평가하기\n",
    "score = model.evaluate(X_test, y_test)\n",
    "print('test_loss: ', score[0])\n",
    "print('test_acc: ', score[1])"
   ]
  },
  {
   "cell_type": "code",
   "execution_count": 83,
   "metadata": {
    "colab": {
     "base_uri": "https://localhost:8080/"
    },
    "id": "X8sQr21XLtVy",
    "outputId": "5ca5b4bc-205b-48a2-e689-ff4556ac0446"
   },
   "outputs": [
    {
     "name": "stdout",
     "output_type": "stream",
     "text": [
      "2/2 [==============================] - 0s 5ms/step\n",
      "[[0.63728714 0.32253143 0.04018141]\n",
      " [0.4236843  0.3736821  0.20263352]\n",
      " [0.3294058  0.29405725 0.37653682]\n",
      " [0.36323112 0.4300987  0.20667014]\n",
      " [0.24946326 0.2703003  0.48023644]\n",
      " [0.62388575 0.33032456 0.04578964]\n",
      " [0.63165474 0.32970554 0.03863974]\n",
      " [0.6660996  0.30576307 0.02813742]\n",
      " [0.20081457 0.21279915 0.5863862 ]\n",
      " [0.3528764  0.3774682  0.2696554 ]\n",
      " [0.334418   0.41865796 0.24692401]\n",
      " [0.6313257  0.32968894 0.03898529]\n",
      " [0.3524298  0.45348454 0.19408567]\n",
      " [0.6728131  0.30433467 0.02285219]\n",
      " [0.288825   0.35700083 0.35417405]\n",
      " [0.30694413 0.32213482 0.370921  ]\n",
      " [0.32191622 0.27932602 0.39875773]\n",
      " [0.3714551  0.41016045 0.21838433]\n",
      " [0.33379936 0.40104705 0.26515347]\n",
      " [0.623297   0.33042684 0.04627625]\n",
      " [0.5791477  0.3742925  0.04655977]\n",
      " [0.6028217  0.34656498 0.05061327]\n",
      " [0.37443677 0.33986214 0.2857011 ]\n",
      " [0.336348   0.33334762 0.3303044 ]\n",
      " [0.3288752  0.3397844  0.33134043]\n",
      " [0.5796372  0.3532933  0.06706941]\n",
      " [0.36462015 0.4134305  0.2219493 ]\n",
      " [0.12468669 0.17538448 0.6999287 ]\n",
      " [0.3690176  0.49472502 0.13625742]\n",
      " [0.66429937 0.31004018 0.02566047]\n",
      " [0.41086775 0.4278712  0.16126095]\n",
      " [0.32424676 0.38366848 0.29208478]\n",
      " [0.51315993 0.33971167 0.14712843]\n",
      " [0.65525717 0.31539434 0.02934842]\n",
      " [0.33291897 0.38359588 0.28348508]\n",
      " [0.24809183 0.30229107 0.44961715]\n",
      " [0.3958146  0.3537884  0.25039688]\n",
      " [0.38196278 0.41176808 0.2062691 ]\n",
      " [0.34932253 0.30888012 0.34179744]\n",
      " [0.365204   0.40529135 0.22950462]\n",
      " [0.402569   0.32226455 0.27516645]\n",
      " [0.57304204 0.35794312 0.06901486]\n",
      " [0.4156213  0.44865236 0.13572626]\n",
      " [0.39224002 0.36503953 0.24272053]\n",
      " [0.33061466 0.41909426 0.25029105]\n",
      " [0.58233094 0.3812624  0.03640672]\n",
      " [0.34584582 0.414466   0.23968828]\n",
      " [0.34041244 0.3774629  0.28212464]\n",
      " [0.25953558 0.30443037 0.436034  ]\n",
      " [0.5823925  0.33935887 0.07824866]]\n"
     ]
    },
    {
     "data": {
      "text/plain": [
       "array([0, 0, 2, 1, 2, 0, 0, 0, 2, 1, 1, 0, 1, 0, 1, 2, 2, 1, 1, 0, 0, 0,\n",
       "       0, 0, 1, 0, 1, 2, 1, 0, 1, 1, 0, 0, 1, 2, 0, 1, 0, 1, 0, 0, 1, 0,\n",
       "       1, 0, 1, 1, 2, 0], dtype=int64)"
      ]
     },
     "execution_count": 83,
     "metadata": {},
     "output_type": "execute_result"
    }
   ],
   "source": [
    "# X_test 샘플들의 클래스 예측하기\n",
    "y_prob = model.predict(X_test)    # X_test의 출력값 확인하기\n",
    "print(y_prob)\n",
    "\n",
    "y_class = y_prob.argmax(axis=-1)  # X_test의 클래스 예측하기\n",
    "y_class"
   ]
  },
  {
   "cell_type": "code",
   "execution_count": 94,
   "metadata": {
    "colab": {
     "base_uri": "https://localhost:8080/"
    },
    "id": "34Xez1yYLtV0",
    "outputId": "de5459c3-5c28-43dc-90da-35230b0b4407"
   },
   "outputs": [
    {
     "name": "stdout",
     "output_type": "stream",
     "text": [
      "[5.7, 3.8, 1.7, 0.3]\n",
      "1/1 [==============================] - 0s 62ms/step\n",
      "[[0.63728714 0.3225315  0.0401814 ]] 0\n"
     ]
    }
   ],
   "source": [
    "# 새로운 샘플의 클래스 예측하기\n",
    "X_new = [5.7, 3.8, 1.7, 0.3]\n",
    "(X_new[0]-5.84)/0.83; (X_new[1]-3.05)/0.43; (X_new[2]-3.76)/1.76; (X_new[3]-1.2)/0.76\n",
    "print(X_new)\n",
    "\n",
    "y_prob = model.predict([X_new]) # X_new의 출력값 확인하기\n",
    "y_pred = y_prob.argmax()        # X_new의 클래스 예측하기\n",
    "print(y_prob, y_pred)"
   ]
  },
  {
   "cell_type": "code",
   "execution_count": 85,
   "metadata": {
    "colab": {
     "base_uri": "https://localhost:8080/"
    },
    "id": "YDjOYxUzLtVz",
    "outputId": "5541b472-0280-4d90-b1d6-7d0ac41d0004"
   },
   "outputs": [
    {
     "data": {
      "text/plain": [
       "pandas.core.frame.DataFrame"
      ]
     },
     "execution_count": 85,
     "metadata": {},
     "output_type": "execute_result"
    }
   ],
   "source": [
    "type(X_test)"
   ]
  },
  {
   "cell_type": "code",
   "execution_count": 86,
   "metadata": {
    "colab": {
     "base_uri": "https://localhost:8080/",
     "height": 206
    },
    "id": "iOdX9FRmLtVz",
    "outputId": "64047610-4b7c-4718-d131-0f8e1556e3bc"
   },
   "outputs": [
    {
     "data": {
      "text/html": [
       "<div>\n",
       "<style scoped>\n",
       "    .dataframe tbody tr th:only-of-type {\n",
       "        vertical-align: middle;\n",
       "    }\n",
       "\n",
       "    .dataframe tbody tr th {\n",
       "        vertical-align: top;\n",
       "    }\n",
       "\n",
       "    .dataframe thead th {\n",
       "        text-align: right;\n",
       "    }\n",
       "</style>\n",
       "<table border=\"1\" class=\"dataframe\">\n",
       "  <thead>\n",
       "    <tr style=\"text-align: right;\">\n",
       "      <th></th>\n",
       "      <th>sepal_length</th>\n",
       "      <th>sepal_width</th>\n",
       "      <th>petal_length</th>\n",
       "      <th>petal_width</th>\n",
       "    </tr>\n",
       "  </thead>\n",
       "  <tbody>\n",
       "    <tr>\n",
       "      <th>100</th>\n",
       "      <td>5.7</td>\n",
       "      <td>3.8</td>\n",
       "      <td>1.7</td>\n",
       "      <td>0.3</td>\n",
       "    </tr>\n",
       "    <tr>\n",
       "      <th>101</th>\n",
       "      <td>7.2</td>\n",
       "      <td>3.6</td>\n",
       "      <td>6.1</td>\n",
       "      <td>2.5</td>\n",
       "    </tr>\n",
       "    <tr>\n",
       "      <th>102</th>\n",
       "      <td>6.3</td>\n",
       "      <td>2.9</td>\n",
       "      <td>5.6</td>\n",
       "      <td>1.8</td>\n",
       "    </tr>\n",
       "    <tr>\n",
       "      <th>103</th>\n",
       "      <td>4.9</td>\n",
       "      <td>2.4</td>\n",
       "      <td>3.3</td>\n",
       "      <td>1.0</td>\n",
       "    </tr>\n",
       "    <tr>\n",
       "      <th>104</th>\n",
       "      <td>7.7</td>\n",
       "      <td>3.0</td>\n",
       "      <td>6.1</td>\n",
       "      <td>2.3</td>\n",
       "    </tr>\n",
       "  </tbody>\n",
       "</table>\n",
       "</div>"
      ],
      "text/plain": [
       "     sepal_length  sepal_width  petal_length  petal_width\n",
       "100           5.7          3.8           1.7          0.3\n",
       "101           7.2          3.6           6.1          2.5\n",
       "102           6.3          2.9           5.6          1.8\n",
       "103           4.9          2.4           3.3          1.0\n",
       "104           7.7          3.0           6.1          2.3"
      ]
     },
     "execution_count": 86,
     "metadata": {},
     "output_type": "execute_result"
    }
   ],
   "source": [
    "X_test.head()"
   ]
  },
  {
   "cell_type": "code",
   "execution_count": 87,
   "metadata": {
    "colab": {
     "base_uri": "https://localhost:8080/"
    },
    "id": "xaOIG8Kaovrc",
    "outputId": "d38c67d0-5ddf-4658-ac28-c37ced1847c1"
   },
   "outputs": [
    {
     "data": {
      "text/plain": [
       "[100, 101, 102, 103, 104]"
      ]
     },
     "execution_count": 87,
     "metadata": {},
     "output_type": "execute_result"
    }
   ],
   "source": [
    "X_test.head(5).index.tolist()"
   ]
  },
  {
   "cell_type": "code",
   "execution_count": 88,
   "metadata": {
    "colab": {
     "base_uri": "https://localhost:8080/"
    },
    "id": "HfXV29CxuGk0",
    "outputId": "d02a0177-51e0-4955-fcd6-616ee368cf24"
   },
   "outputs": [
    {
     "name": "stdout",
     "output_type": "stream",
     "text": [
      "sepal_length    5.7\n",
      "sepal_width     3.8\n",
      "petal_length    1.7\n",
      "petal_width     0.3\n",
      "Name: 100, dtype: float64\n",
      "\n",
      "1/1 [==============================] - 0s 81ms/step\n",
      "[[0.63728714 0.3225315  0.0401814 ]] 0\n"
     ]
    }
   ],
   "source": [
    "X_test0 = X_test.loc[100]\n",
    "print(X_test0); print()\n",
    "\n",
    "X_test_li = list(X_test0)\n",
    "y_prob = model.predict([X_test_li])  # model.predict([[0.69, 0.55]])\n",
    "y_pred = y_prob.argmax()\n",
    "print(y_prob, y_pred)"
   ]
  },
  {
   "cell_type": "code",
   "execution_count": 91,
   "metadata": {
    "id": "flB-FoC2LtV0"
   },
   "outputs": [],
   "source": [
    "def predict_iris(X_new):\n",
    "  y_prob = model.predict([X_new])\n",
    "  y_pred = y_prob.argmax()\n",
    "  print(X_new, y_prob, y_pred, sep='\\t')"
   ]
  },
  {
   "cell_type": "code",
   "execution_count": 93,
   "metadata": {
    "colab": {
     "base_uri": "https://localhost:8080/"
    },
    "id": "EMJdeu5nLtV0",
    "outputId": "b26122ad-51b2-4727-fd61-92aee211126e"
   },
   "outputs": [
    {
     "name": "stdout",
     "output_type": "stream",
     "text": [
      "1/1 [==============================] - 0s 71ms/step\n",
      "[5.770000000000001, 3.019, 3.6839999999999997, 1.1649999999999998]\t[[0.4117688  0.46296203 0.12526922]]\t1\n",
      "1/1 [==============================] - 0s 101ms/step\n",
      "[4.3, 2.0, 1.1, 0.1]\t[[0.482119   0.33319524 0.18468575]]\t0\n",
      "1/1 [==============================] - 0s 98ms/step\n",
      "[7.7, 4.1, 6.7, 2.5]\t[[0.46060857 0.38841137 0.15098007]]\t0\n",
      "1/1 [==============================] - 0s 91ms/step\n",
      "[4.3, 6.7, 4.3, 4.1]\t[[0.7621211 0.1959222 0.0419568]]\t0\n",
      "1/1 [==============================] - 0s 84ms/step\n",
      "[7.7, 1.1, 7.7, 2.0]\t[[0.05314534 0.11262204 0.8342326 ]]\t2\n"
     ]
    }
   ],
   "source": [
    "X_mean = [X_train[\"sepal_length\"].mean(), X_train[\"sepal_width\"].mean(), X_train[\"petal_length\"].mean(), X_train[\"petal_width\"].mean()]\n",
    "X_min = [X_train[\"sepal_length\"].min(), X_train[\"sepal_width\"].min(), X_train[\"petal_length\"].min(), X_train[\"petal_width\"].min()]\n",
    "X_max = [X_train[\"sepal_length\"].max(), X_train[\"sepal_width\"].max(), X_train[\"petal_length\"].max(), X_train[\"petal_width\"].max()]\n",
    "X_min_max = [X_train[\"sepal_length\"].min(), X_train[\"petal_length\"].max(), X_train[\"sepal_length\"].min(), X_train[\"sepal_width\"].max()]\n",
    "X_max_min = [X_train[\"sepal_length\"].max(), X_train[\"petal_length\"].min(), X_train[\"sepal_length\"].max(), X_train[\"sepal_width\"].min()]\n",
    "\n",
    "predict_iris(X_mean)\n",
    "predict_iris(X_min)\n",
    "predict_iris(X_max)\n",
    "predict_iris(X_min_max)\n",
    "predict_iris(X_max_min)"
   ]
  }
 ],
 "metadata": {
  "colab": {
   "collapsed_sections": [],
   "include_colab_link": true,
   "provenance": []
  },
  "kernelspec": {
   "display_name": "Python 3 (ipykernel)",
   "language": "python",
   "name": "python3"
  },
  "language_info": {
   "codemirror_mode": {
    "name": "ipython",
    "version": 3
   },
   "file_extension": ".py",
   "mimetype": "text/x-python",
   "name": "python",
   "nbconvert_exporter": "python",
   "pygments_lexer": "ipython3",
   "version": "3.9.7"
  },
  "toc": {
   "base_numbering": 1,
   "nav_menu": {},
   "number_sections": true,
   "sideBar": true,
   "skip_h1_title": false,
   "title_cell": "Table of Contents",
   "title_sidebar": "Contents",
   "toc_cell": false,
   "toc_position": {},
   "toc_section_display": true,
   "toc_window_display": false
  }
 },
 "nbformat": 4,
 "nbformat_minor": 1
}
