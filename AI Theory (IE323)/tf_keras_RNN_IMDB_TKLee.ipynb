{
 "cells": [
  {
   "cell_type": "markdown",
   "metadata": {
    "colab_type": "text",
    "id": "view-in-github"
   },
   "source": [
    "<a href=\"https://colab.research.google.com/github/jjyjung/ai/blob/gh-pages/tf_keras_RNN_IMDB.ipynb\" target=\"_parent\"><img src=\"https://colab.research.google.com/assets/colab-badge.svg\" alt=\"Open In Colab\"/></a>"
   ]
  },
  {
   "cell_type": "markdown",
   "metadata": {
    "id": "iYnBwwO6SLuO"
   },
   "source": [
    "**IMDB (Internet Movie DataBase ) – movie reviews sentiment classification**\n",
    "* IMDB https://www.imdb.com/interfaces/\n",
    "* https://keras.io/datasets/#imdb-movie-reviews-sentiment-classification\n",
    "* Binary classification: Dataset of 25,000 movies reviews from IMDB, labeled by sentiment (positive[1]/negative[0]).\n",
    "* Each review is encoded as a sequence of word indexes (integers).\n",
    "* For convenience, words are indexed by overall frequency in the dataset, so that for instance the integer “3” encodes the 3rd most frequent word in the data.\n",
    "* This allows for quick filtering operations such as: “only consider the top 10,000 most common words, but eliminate the top 20 most common words”.\n",
    " - e.g.  imdb.load_data(num_words=10000, skip_top=20)\n",
    "* As a convention, \"0\" does not stand for a specific word, but instead is used to encode any unknown word."
   ]
  },
  {
   "cell_type": "code",
   "execution_count": 1,
   "metadata": {
    "id": "dySs1zv4qtQH"
   },
   "outputs": [],
   "source": [
    "import tensorflow as tf\n",
    "from tensorflow.keras import Sequential\n",
    "from tensorflow.keras import layers\n",
    "from tensorflow.keras.datasets import imdb\n",
    "from tensorflow.keras.preprocessing import sequence\n",
    "from tensorflow.keras.layers import Embedding, SimpleRNN, LSTM, GRU, Dense\n",
    "from tensorflow.keras.callbacks import EarlyStopping"
   ]
  },
  {
   "cell_type": "code",
   "execution_count": 38,
   "metadata": {
    "colab": {
     "base_uri": "https://localhost:8080/"
    },
    "id": "yG5BVcPJqtQK",
    "outputId": "49250527-8d3a-4712-da53-f9ea6090fadc"
   },
   "outputs": [],
   "source": [
    "## IMDB 데이터 추출 설정\n",
    "max_features = 10000  # 사용할 단어의 최대 개수\n",
    "maxlen = 500   # 한 영화리뷰의 최대 단어 길이\n",
    "skip_top = 20  # 너무 일반적인 단어 20개는 제외함\n",
    "\n",
    "(input_train, y_train), (input_test, y_test) = imdb.load_data(num_words=max_features, skip_top=skip_top)\n",
    "\n",
    "# 기준보다 단어 개수가 짧은 영화리뷰는 나머지를 0으로 패딩시킴\n",
    "X_train = sequence.pad_sequences(input_train, maxlen=maxlen)  # 기본값 padding='pre' (왼쪽을 0으로 채움. 'post'는 오른쪽을 채움)\n",
    "X_test = sequence.pad_sequences(input_test, maxlen=maxlen)"
   ]
  },
  {
   "cell_type": "code",
   "execution_count": 39,
   "metadata": {
    "colab": {
     "base_uri": "https://localhost:8080/"
    },
    "id": "xXGcNOE8qtQM",
    "outputId": "e56593a7-857d-4de5-bce2-b2b54be126ff"
   },
   "outputs": [
    {
     "name": "stdout",
     "output_type": "stream",
     "text": [
      "(25000, 500)\n",
      "(25000, 500)\n",
      "9999 0\n",
      "[1 0 0 ... 0 1 0] (25000,)\n",
      "[0 1 1 ... 0 0 0] (25000,)\n"
     ]
    }
   ],
   "source": [
    "print(X_train.shape)\n",
    "print(X_test.shape)\n",
    "print(X_train.max(), X_train.min())\n",
    "print(y_train, y_train.shape)\n",
    "print(y_test, y_test.shape)"
   ]
  },
  {
   "cell_type": "code",
   "execution_count": 40,
   "metadata": {
    "colab": {
     "base_uri": "https://localhost:8080/"
    },
    "id": "JGTrhp9J_2FZ",
    "outputId": "53e9b630-99ed-46cd-fc92-39d41528c4c2"
   },
   "outputs": [
    {
     "data": {
      "text/plain": [
       "numpy.ndarray"
      ]
     },
     "execution_count": 40,
     "metadata": {},
     "output_type": "execute_result"
    }
   ],
   "source": [
    "type(y_train)"
   ]
  },
  {
   "cell_type": "code",
   "execution_count": 41,
   "metadata": {
    "colab": {
     "base_uri": "https://localhost:8080/"
    },
    "id": "CT0BlKNkqtQM",
    "outputId": "59fd5e49-2d4c-4e8b-9eba-71eec18624c9"
   },
   "outputs": [
    {
     "name": "stdout",
     "output_type": "stream",
     "text": [
      "[list([2, 2, 2, 2, 33, 2804, 2, 2040, 432, 111, 153, 103, 2, 1494, 2, 70, 131, 67, 2, 61, 2, 744, 35, 3715, 761, 61, 5766, 452, 9214, 2, 985, 2, 2, 59, 166, 2, 105, 216, 1239, 41, 1797, 2, 2, 2, 35, 744, 2413, 31, 2, 2, 687, 23, 2, 2, 7339, 2, 3693, 42, 38, 39, 121, 59, 456, 2, 2, 2, 265, 2, 575, 111, 153, 159, 59, 2, 1447, 21, 25, 586, 482, 39, 2, 96, 59, 716, 2, 2, 172, 65, 2, 579, 2, 6004, 2, 1615, 2, 2, 2, 5168, 2, 2, 7064, 2, 2, 2, 464, 31, 314, 2, 2, 2, 719, 605, 2, 2, 202, 27, 310, 2, 3772, 3501, 2, 2722, 58, 2, 2, 537, 2116, 180, 40, 2, 413, 173, 2, 263, 112, 37, 152, 377, 2, 537, 263, 846, 579, 178, 54, 75, 71, 476, 36, 413, 263, 2504, 182, 2, 2, 75, 2306, 922, 36, 279, 131, 2895, 2, 2867, 42, 2, 35, 921, 2, 192, 2, 1219, 3890, 2, 2, 217, 4122, 1710, 537, 2, 1236, 2, 736, 2, 2, 61, 403, 2, 2, 40, 61, 4494, 2, 27, 4494, 159, 90, 263, 2311, 4319, 309, 2, 178, 2, 82, 4319, 2, 65, 2, 9225, 145, 143, 5122, 2, 7039, 537, 746, 537, 537, 2, 7979, 2, 2, 594, 2, 5168, 94, 9096, 3987, 2, 2, 2, 2, 538, 2, 1795, 246, 2, 2, 2, 2, 635, 2, 2, 51, 408, 2, 94, 318, 1382, 2, 47, 2, 2683, 936, 2, 6307, 2, 2, 49, 2, 2, 1885, 2, 1118, 25, 80, 126, 842, 2, 2, 2, 2, 4726, 27, 4494, 2, 1550, 3633, 159, 27, 341, 29, 2733, 2, 4185, 173, 2, 90, 2, 2, 30, 2, 2, 1784, 86, 1117, 2, 3261, 46, 2, 2, 21, 29, 2, 2841, 23, 2, 1010, 2, 793, 2, 2, 1386, 1830, 2, 2, 246, 50, 2, 2, 2750, 1944, 746, 90, 29, 2, 2, 124, 2, 882, 2, 882, 496, 27, 2, 2213, 537, 121, 127, 1219, 130, 2, 29, 494, 2, 124, 2, 882, 496, 2, 341, 2, 27, 846, 2, 2, 29, 2, 1906, 2, 97, 2, 236, 2, 1311, 2, 2, 2, 2, 31, 2, 2, 91, 2, 3987, 70, 2, 882, 30, 579, 42, 2, 2, 32, 2, 537, 2, 2, 2, 2, 65, 44, 537, 75, 2, 1775, 3353, 2, 1846, 2, 2, 2, 154, 2, 2, 518, 53, 2, 2, 2, 3211, 882, 2, 399, 38, 75, 257, 3807, 2, 2, 2, 29, 456, 2, 65, 2, 27, 205, 113, 2, 2, 2, 2, 2, 2, 2, 242, 2, 91, 1202, 2, 2, 2070, 307, 22, 2, 5168, 126, 93, 40, 2, 2, 188, 1076, 3222, 2, 2, 2, 2, 2348, 537, 23, 53, 537, 21, 82, 40, 2, 2, 2, 2, 280, 2, 219, 2, 2, 431, 758, 859, 2, 953, 1052, 2, 2, 5991, 2, 94, 40, 25, 238, 60, 2, 2, 2, 804, 2, 2, 2, 9941, 132, 2, 67, 2, 22, 2, 2, 283, 2, 5168, 2, 31, 2, 242, 955, 48, 25, 279, 2, 23, 2, 1685, 195, 25, 238, 60, 796, 2, 2, 671, 2, 2804, 2, 2, 559, 154, 888, 2, 726, 50, 26, 49, 7008, 2, 566, 30, 579, 21, 64, 2574])\n",
      " list([2, 249, 1323, 2, 61, 113, 2, 2, 2, 1637, 2, 20, 56, 33, 2401, 2, 457, 88, 2, 2626, 1400, 45, 3171, 2, 70, 79, 49, 706, 919, 2, 2, 355, 340, 355, 1696, 96, 143, 2, 22, 32, 289, 2, 61, 369, 71, 2359, 2, 2, 2, 131, 2073, 249, 114, 249, 229, 249, 20, 2, 28, 126, 110, 2, 473, 2, 569, 61, 419, 56, 429, 2, 1513, 2, 35, 534, 95, 474, 570, 2, 25, 124, 138, 88, 2, 421, 1543, 52, 725, 6397, 61, 419, 2, 2, 1571, 2, 1543, 20, 2, 2, 2, 2, 296, 2, 3524, 2, 2, 421, 128, 74, 233, 334, 207, 126, 224, 2, 562, 298, 2167, 1272, 2, 2601, 2, 516, 988, 43, 2, 79, 120, 2, 595, 2, 784, 25, 3171, 2, 165, 170, 143, 2, 2, 2, 7224, 2, 226, 251, 2, 61, 113])]\n",
      "550 147\n",
      "[[ 687   23    2    2 7339    2 3693   42   38   39  121   59  456    2\n",
      "     2    2  265    2  575  111  153  159   59    2 1447   21   25  586\n",
      "   482   39    2   96   59  716    2    2  172   65    2  579    2 6004\n",
      "     2 1615    2    2    2 5168    2    2 7064    2    2    2  464   31\n",
      "   314    2    2    2  719  605    2    2  202   27  310    2 3772 3501\n",
      "     2 2722   58    2    2  537 2116  180   40    2  413  173    2  263\n",
      "   112   37  152  377    2  537  263  846  579  178   54   75   71  476\n",
      "    36  413  263 2504  182    2    2   75 2306  922   36  279  131 2895\n",
      "     2 2867   42    2   35  921    2  192    2 1219 3890    2    2  217\n",
      "  4122 1710  537    2 1236    2  736    2    2   61  403    2    2   40\n",
      "    61 4494    2   27 4494  159   90  263 2311 4319  309    2  178    2\n",
      "    82 4319    2   65    2 9225  145  143 5122    2 7039  537  746  537\n",
      "   537    2 7979    2    2  594    2 5168   94 9096 3987    2    2    2\n",
      "     2  538    2 1795  246    2    2    2    2  635    2    2   51  408\n",
      "     2   94  318 1382    2   47    2 2683  936    2 6307    2    2   49\n",
      "     2    2 1885    2 1118   25   80  126  842    2    2    2    2 4726\n",
      "    27 4494    2 1550 3633  159   27  341   29 2733    2 4185  173    2\n",
      "    90    2    2   30    2    2 1784   86 1117    2 3261   46    2    2\n",
      "    21   29    2 2841   23    2 1010    2  793    2    2 1386 1830    2\n",
      "     2  246   50    2    2 2750 1944  746   90   29    2    2  124    2\n",
      "   882    2  882  496   27    2 2213  537  121  127 1219  130    2   29\n",
      "   494    2  124    2  882  496    2  341    2   27  846    2    2   29\n",
      "     2 1906    2   97    2  236    2 1311    2    2    2    2   31    2\n",
      "     2   91    2 3987   70    2  882   30  579   42    2    2   32    2\n",
      "   537    2    2    2    2   65   44  537   75    2 1775 3353    2 1846\n",
      "     2    2    2  154    2    2  518   53    2    2    2 3211  882    2\n",
      "   399   38   75  257 3807    2    2    2   29  456    2   65    2   27\n",
      "   205  113    2    2    2    2    2    2    2  242    2   91 1202    2\n",
      "     2 2070  307   22    2 5168  126   93   40    2    2  188 1076 3222\n",
      "     2    2    2    2 2348  537   23   53  537   21   82   40    2    2\n",
      "     2    2  280    2  219    2    2  431  758  859    2  953 1052    2\n",
      "     2 5991    2   94   40   25  238   60    2    2    2  804    2    2\n",
      "     2 9941  132    2   67    2   22    2    2  283    2 5168    2   31\n",
      "     2  242  955   48   25  279    2   23    2 1685  195   25  238   60\n",
      "   796    2    2  671    2 2804    2    2  559  154  888    2  726   50\n",
      "    26   49 7008    2  566   30  579   21   64 2574]\n",
      " [   0    0    0    0    0    0    0    0    0    0    0    0    0    0\n",
      "     0    0    0    0    0    0    0    0    0    0    0    0    0    0\n",
      "     0    0    0    0    0    0    0    0    0    0    0    0    0    0\n",
      "     0    0    0    0    0    0    0    0    0    0    0    0    0    0\n",
      "     0    0    0    0    0    0    0    0    0    0    0    0    0    0\n",
      "     0    0    0    0    0    0    0    0    0    0    0    0    0    0\n",
      "     0    0    0    0    0    0    0    0    0    0    0    0    0    0\n",
      "     0    0    0    0    0    0    0    0    0    0    0    0    0    0\n",
      "     0    0    0    0    0    0    0    0    0    0    0    0    0    0\n",
      "     0    0    0    0    0    0    0    0    0    0    0    0    0    0\n",
      "     0    0    0    0    0    0    0    0    0    0    0    0    0    0\n",
      "     0    0    0    0    0    0    0    0    0    0    0    0    0    0\n",
      "     0    0    0    0    0    0    0    0    0    0    0    0    0    0\n",
      "     0    0    0    0    0    0    0    0    0    0    0    0    0    0\n",
      "     0    0    0    0    0    0    0    0    0    0    0    0    0    0\n",
      "     0    0    0    0    0    0    0    0    0    0    0    0    0    0\n",
      "     0    0    0    0    0    0    0    0    0    0    0    0    0    0\n",
      "     0    0    0    0    0    0    0    0    0    0    0    0    0    0\n",
      "     0    0    0    0    0    0    0    0    0    0    0    0    0    0\n",
      "     0    0    0    0    0    0    0    0    0    0    0    0    0    0\n",
      "     0    0    0    0    0    0    0    0    0    0    0    0    0    0\n",
      "     0    0    0    0    0    0    0    0    0    0    0    0    0    0\n",
      "     0    0    0    0    0    0    0    0    0    0    0    0    0    0\n",
      "     0    0    0    0    0    0    0    0    0    0    0    0    0    0\n",
      "     0    0    0    0    0    0    0    0    0    0    0    0    0    0\n",
      "     0    0    0    2  249 1323    2   61  113    2    2    2 1637    2\n",
      "    20   56   33 2401    2  457   88    2 2626 1400   45 3171    2   70\n",
      "    79   49  706  919    2    2  355  340  355 1696   96  143    2   22\n",
      "    32  289    2   61  369   71 2359    2    2    2  131 2073  249  114\n",
      "   249  229  249   20    2   28  126  110    2  473    2  569   61  419\n",
      "    56  429    2 1513    2   35  534   95  474  570    2   25  124  138\n",
      "    88    2  421 1543   52  725 6397   61  419    2    2 1571    2 1543\n",
      "    20    2    2    2    2  296    2 3524    2    2  421  128   74  233\n",
      "   334  207  126  224    2  562  298 2167 1272    2 2601    2  516  988\n",
      "    43    2   79  120    2  595    2  784   25 3171    2  165  170  143\n",
      "     2    2    2 7224    2  226  251    2   61  113]]\n",
      "500 500\n"
     ]
    }
   ],
   "source": [
    "print(input_train[3:5])\n",
    "print(len(input_train[3]), len(input_train[4]))\n",
    "\n",
    "print(X_train[3:5])\n",
    "print(len(X_train[3]), len(X_train[4]))"
   ]
  },
  {
   "cell_type": "code",
   "execution_count": 42,
   "metadata": {
    "colab": {
     "base_uri": "https://localhost:8080/"
    },
    "id": "0_P2IDDRc0xC",
    "outputId": "f106d078-70ef-4f4c-d74d-6769a0d9e144"
   },
   "outputs": [
    {
     "name": "stdout",
     "output_type": "stream",
     "text": [
      "88584\n"
     ]
    }
   ],
   "source": [
    "# 단어별 인덱스 확인하기\n",
    "word_to_index = imdb.get_word_index(path='imdb_word_index.json')\n",
    "print(len(word_to_index))\n",
    "\n",
    "index_to_word = {}\n",
    "for key, value in word_to_index.items():\n",
    "    index_to_word[value+3] = key   # IMDB의 word index 1,2,3은 특별 토큰임. 4부터 실제 단어임."
   ]
  },
  {
   "cell_type": "code",
   "execution_count": 43,
   "metadata": {
    "colab": {
     "base_uri": "https://localhost:8080/"
    },
    "id": "5sqWRi5KmKdI",
    "outputId": "5d9ce390-a64f-4f29-b84a-4c905a604698"
   },
   "outputs": [
    {
     "data": {
      "text/plain": [
       "[(34704, 'fawn'),\n",
       " (52009, 'tsukino'),\n",
       " (52010, 'nunnery'),\n",
       " (16819, 'sonja'),\n",
       " (63954, 'vani'),\n",
       " (1411, 'woods'),\n",
       " (16118, 'spiders'),\n",
       " (2348, 'hanging'),\n",
       " (2292, 'woody'),\n",
       " (52011, 'trawling'),\n",
       " (52012, \"hold's\"),\n",
       " (11310, 'comically'),\n",
       " (40833, 'localized'),\n",
       " (30571, 'disobeying'),\n",
       " (52013, \"'royale\"),\n",
       " (40834, \"harpo's\"),\n",
       " (52014, 'canet'),\n",
       " (19316, 'aileen'),\n",
       " (52015, 'acurately'),\n",
       " (52016, \"diplomat's\")]"
      ]
     },
     "execution_count": 43,
     "metadata": {},
     "output_type": "execute_result"
    }
   ],
   "source": [
    "list(index_to_word.items())[:20]"
   ]
  },
  {
   "cell_type": "code",
   "execution_count": 44,
   "metadata": {
    "colab": {
     "base_uri": "https://localhost:8080/"
    },
    "id": "ENRLZomzd8Ct",
    "outputId": "d5c930ea-f0c9-4af6-bd5e-e5cafaec5767"
   },
   "outputs": [
    {
     "data": {
      "text/plain": [
       "[(4, 'the'),\n",
       " (5, 'and'),\n",
       " (6, 'a'),\n",
       " (7, 'of'),\n",
       " (8, 'to'),\n",
       " (9, 'is'),\n",
       " (10, 'br'),\n",
       " (11, 'in'),\n",
       " (12, 'it'),\n",
       " (13, 'i'),\n",
       " (14, 'this'),\n",
       " (15, 'that'),\n",
       " (16, 'was'),\n",
       " (17, 'as'),\n",
       " (18, 'for'),\n",
       " (19, 'with'),\n",
       " (20, 'movie'),\n",
       " (21, 'but'),\n",
       " (22, 'film'),\n",
       " (23, 'on')]"
      ]
     },
     "execution_count": 44,
     "metadata": {},
     "output_type": "execute_result"
    }
   ],
   "source": [
    "# 빈도가 많은 20개 단어 확인하기\n",
    "sorted_index_to_word = dict(sorted(index_to_word.items()))\n",
    "list(sorted_index_to_word.items())[:20]"
   ]
  },
  {
   "cell_type": "code",
   "execution_count": 45,
   "metadata": {
    "id": "nIPV6upmhnxd"
   },
   "outputs": [],
   "source": [
    "# imdb의 word index 0, 1, 2. 3은 각각 <pad>: padding, <sos>: start of sentence, <unk>: unknown, <<UNUSED>\n",
    "for index, token in enumerate((\"<PAD>\", \"<START>\", \"<UNK>\", \"<UNUSED\")):\n",
    "  index_to_word[index] = token"
   ]
  },
  {
   "cell_type": "code",
   "execution_count": 46,
   "metadata": {
    "colab": {
     "base_uri": "https://localhost:8080/"
    },
    "id": "2b6G0cwChHc2",
    "outputId": "d0211b0a-5d1d-471e-f86c-50fc57c9be28"
   },
   "outputs": [
    {
     "name": "stdout",
     "output_type": "stream",
     "text": [
      "<PAD> <PAD> <PAD> <PAD> <PAD> <PAD> <PAD> <PAD> <PAD> <PAD> <PAD> <PAD> <PAD> <PAD> <PAD> <PAD> <PAD> <PAD> <PAD> <PAD> <PAD> <PAD> <PAD> <PAD> <PAD> <PAD> <PAD> <PAD> <PAD> <PAD> <PAD> <PAD> <PAD> <PAD> <PAD> <PAD> <PAD> <PAD> <PAD> <PAD> <PAD> <PAD> <PAD> <PAD> <PAD> <PAD> <PAD> <PAD> <PAD> <PAD> <PAD> <PAD> <PAD> <PAD> <PAD> <PAD> <PAD> <PAD> <PAD> <PAD> <PAD> <PAD> <PAD> <PAD> <PAD> <PAD> <PAD> <PAD> <PAD> <PAD> <PAD> <PAD> <PAD> <PAD> <PAD> <PAD> <PAD> <PAD> <PAD> <PAD> <PAD> <PAD> <PAD> <PAD> <PAD> <PAD> <PAD> <PAD> <PAD> <PAD> <PAD> <PAD> <PAD> <PAD> <PAD> <PAD> <PAD> <PAD> <PAD> <PAD> <PAD> <PAD> <PAD> <PAD> <PAD> <PAD> <PAD> <PAD> <PAD> <PAD> <PAD> <PAD> <PAD> <PAD> <PAD> <PAD> <PAD> <PAD> <PAD> <PAD> <PAD> <PAD> <PAD> <PAD> <PAD> <PAD> <PAD> <PAD> <PAD> <PAD> <PAD> <PAD> <PAD> <PAD> <PAD> <PAD> <PAD> <PAD> <PAD> <PAD> <PAD> <PAD> <PAD> <PAD> <PAD> <PAD> <PAD> <PAD> <PAD> <PAD> <PAD> <PAD> <PAD> <PAD> <PAD> <PAD> <PAD> <PAD> <PAD> <PAD> <PAD> <PAD> <PAD> <PAD> <PAD> <PAD> <PAD> <PAD> <PAD> <PAD> <PAD> <PAD> <PAD> <PAD> <PAD> <PAD> <PAD> <PAD> <PAD> <PAD> <PAD> <PAD> <PAD> <PAD> <PAD> <PAD> <PAD> <PAD> <PAD> <PAD> <PAD> <PAD> <PAD> <PAD> <PAD> <PAD> <PAD> <PAD> <PAD> <PAD> <PAD> <PAD> <PAD> <PAD> <PAD> <PAD> <PAD> <PAD> <PAD> <PAD> <PAD> <PAD> <PAD> <PAD> <PAD> <PAD> <PAD> <PAD> <PAD> <PAD> <PAD> <PAD> <PAD> <PAD> <PAD> <PAD> <PAD> <PAD> <PAD> <PAD> <PAD> <PAD> <PAD> <PAD> <PAD> <PAD> <PAD> <PAD> <PAD> <PAD> <PAD> <PAD> <PAD> <PAD> <PAD> <PAD> <PAD> <PAD> <PAD> <PAD> <PAD> <PAD> <PAD> <PAD> <PAD> <PAD> <PAD> <PAD> <PAD> <PAD> <PAD> <PAD> <PAD> <PAD> <PAD> <PAD> <PAD> <PAD> <PAD> <PAD> <PAD> <PAD> <PAD> <PAD> <PAD> <PAD> <PAD> <PAD> <PAD> <PAD> <PAD> <PAD> <UNK> <UNK> film <UNK> just brilliant casting location scenery story direction everyone's really suited <UNK> part they played <UNK> you could just imagine being there robert <UNK> <UNK> an amazing actor <UNK> now <UNK> same being director <UNK> father came from <UNK> same scottish island <UNK> myself so <UNK> loved <UNK> fact there <UNK> <UNK> real connection <UNK> <UNK> film <UNK> witty remarks throughout <UNK> film were great <UNK> <UNK> just brilliant so much <UNK> <UNK> bought <UNK> film <UNK> soon <UNK> <UNK> <UNK> released <UNK> <UNK> <UNK> would recommend <UNK> <UNK> everyone <UNK> watch <UNK> <UNK> fly fishing <UNK> amazing really cried at <UNK> end <UNK> <UNK> so sad <UNK> you know what they say if you cry at <UNK> film <UNK> must have been good <UNK> <UNK> definitely <UNK> also <UNK> <UNK> <UNK> two little boy's <UNK> played <UNK> <UNK> <UNK> norman <UNK> paul they were just brilliant children are often left out <UNK> <UNK> <UNK> list <UNK> think because <UNK> stars <UNK> play them all grown up are such <UNK> big profile <UNK> <UNK> whole film but these children are amazing <UNK> should be praised <UNK> what they have done don't you think <UNK> whole story <UNK> so lovely because <UNK> <UNK> true <UNK> <UNK> someone's life after all <UNK> <UNK> shared <UNK> us all\n",
      "<PAD> <PAD> <PAD> <PAD> <PAD> <PAD> <PAD> <PAD> <PAD> <PAD> <PAD> <PAD> <PAD> <PAD> <PAD> <PAD> <PAD> <PAD> <PAD> <PAD> <PAD> <PAD> <PAD> <PAD> <PAD> <PAD> <PAD> <PAD> <PAD> <PAD> <PAD> <PAD> <PAD> <PAD> <PAD> <PAD> <PAD> <PAD> <PAD> <PAD> <PAD> <PAD> <PAD> <PAD> <PAD> <PAD> <PAD> <PAD> <PAD> <PAD> <PAD> <PAD> <PAD> <PAD> <PAD> <PAD> <PAD> <PAD> <PAD> <PAD> <PAD> <PAD> <PAD> <PAD> <PAD> <PAD> <PAD> <PAD> <PAD> <PAD> <PAD> <PAD> <PAD> <PAD> <PAD> <PAD> <PAD> <PAD> <PAD> <PAD> <PAD> <PAD> <PAD> <PAD> <PAD> <PAD> <PAD> <PAD> <PAD> <PAD> <PAD> <PAD> <PAD> <PAD> <PAD> <PAD> <PAD> <PAD> <PAD> <PAD> <PAD> <PAD> <PAD> <PAD> <PAD> <PAD> <PAD> <PAD> <PAD> <PAD> <PAD> <PAD> <PAD> <PAD> <PAD> <PAD> <PAD> <PAD> <PAD> <PAD> <PAD> <PAD> <PAD> <PAD> <PAD> <PAD> <PAD> <PAD> <PAD> <PAD> <PAD> <PAD> <PAD> <PAD> <PAD> <PAD> <PAD> <PAD> <PAD> <PAD> <PAD> <PAD> <PAD> <PAD> <PAD> <PAD> <PAD> <PAD> <PAD> <PAD> <PAD> <PAD> <PAD> <PAD> <PAD> <PAD> <PAD> <PAD> <PAD> <PAD> <PAD> <PAD> <PAD> <PAD> <PAD> <PAD> <PAD> <PAD> <PAD> <PAD> <PAD> <PAD> <PAD> <PAD> <PAD> <PAD> <PAD> <PAD> <PAD> <PAD> <PAD> <PAD> <PAD> <PAD> <PAD> <PAD> <PAD> <PAD> <PAD> <PAD> <PAD> <PAD> <PAD> <PAD> <PAD> <PAD> <PAD> <PAD> <PAD> <PAD> <PAD> <PAD> <PAD> <PAD> <PAD> <PAD> <PAD> <PAD> <PAD> <PAD> <PAD> <PAD> <PAD> <PAD> <PAD> <PAD> <PAD> <PAD> <PAD> <PAD> <PAD> <PAD> <PAD> <PAD> <PAD> <PAD> <PAD> <PAD> <PAD> <PAD> <PAD> <PAD> <PAD> <PAD> <PAD> <PAD> <PAD> <PAD> <PAD> <PAD> <PAD> <PAD> <PAD> <PAD> <PAD> <PAD> <PAD> <PAD> <PAD> <PAD> <PAD> <PAD> <PAD> <PAD> <PAD> <PAD> <PAD> <PAD> <PAD> <PAD> <PAD> <PAD> <PAD> <PAD> <PAD> <PAD> <PAD> <PAD> <PAD> <PAD> <PAD> <PAD> <PAD> <PAD> <PAD> <PAD> <PAD> <PAD> <PAD> <PAD> <PAD> <PAD> <PAD> <PAD> <PAD> <PAD> <PAD> <PAD> <PAD> <PAD> <PAD> <PAD> <PAD> <PAD> <PAD> <PAD> <PAD> <PAD> <PAD> <PAD> <PAD> <PAD> <PAD> <PAD> <PAD> <PAD> <PAD> <PAD> <PAD> <PAD> <PAD> <UNK> big hair big boobs bad music <UNK> <UNK> giant safety pin these are <UNK> words <UNK> best describe <UNK> terrible movie <UNK> love cheesy horror movies <UNK> i've seen hundreds but <UNK> had got <UNK> be on <UNK> <UNK> worst ever made <UNK> plot <UNK> paper thin <UNK> ridiculous <UNK> acting <UNK> an abomination <UNK> script <UNK> completely laughable <UNK> best <UNK> <UNK> end showdown <UNK> <UNK> cop <UNK> how he worked out who <UNK> killer <UNK> it's just so damn terribly written <UNK> clothes are sickening <UNK> funny <UNK> equal <UNK> <UNK> hair <UNK> big lots <UNK> boobs <UNK> men wear those cut <UNK> shirts <UNK> show off their <UNK> sickening <UNK> men actually wore them <UNK> <UNK> music <UNK> just <UNK> trash <UNK> plays over <UNK> over again <UNK> almost every scene there <UNK> trashy music boobs <UNK> <UNK> taking away bodies <UNK> <UNK> gym still doesn't close <UNK> <UNK> all joking aside <UNK> <UNK> <UNK> truly bad film whose only charm <UNK> <UNK> look back on <UNK> disaster <UNK> <UNK> <UNK> 80's <UNK> have <UNK> good old laugh at how bad everything <UNK> back then\n",
      "<PAD> <PAD> <PAD> <PAD> <PAD> <PAD> <PAD> <PAD> <PAD> <PAD> <PAD> <PAD> <PAD> <PAD> <PAD> <PAD> <PAD> <PAD> <PAD> <PAD> <PAD> <PAD> <PAD> <PAD> <PAD> <PAD> <PAD> <PAD> <PAD> <PAD> <PAD> <PAD> <PAD> <PAD> <PAD> <PAD> <PAD> <PAD> <PAD> <PAD> <PAD> <PAD> <PAD> <PAD> <PAD> <PAD> <PAD> <PAD> <PAD> <PAD> <PAD> <PAD> <PAD> <PAD> <PAD> <PAD> <PAD> <PAD> <PAD> <PAD> <PAD> <PAD> <PAD> <PAD> <PAD> <PAD> <PAD> <PAD> <PAD> <PAD> <PAD> <PAD> <PAD> <PAD> <PAD> <PAD> <PAD> <PAD> <PAD> <PAD> <PAD> <PAD> <PAD> <PAD> <PAD> <PAD> <PAD> <PAD> <PAD> <PAD> <PAD> <PAD> <PAD> <PAD> <PAD> <PAD> <PAD> <PAD> <PAD> <PAD> <PAD> <PAD> <PAD> <PAD> <PAD> <PAD> <PAD> <PAD> <PAD> <PAD> <PAD> <PAD> <PAD> <PAD> <PAD> <PAD> <PAD> <PAD> <PAD> <PAD> <PAD> <PAD> <PAD> <PAD> <PAD> <PAD> <PAD> <PAD> <PAD> <PAD> <PAD> <PAD> <PAD> <PAD> <PAD> <PAD> <PAD> <PAD> <PAD> <PAD> <PAD> <PAD> <PAD> <PAD> <PAD> <PAD> <PAD> <PAD> <PAD> <PAD> <PAD> <PAD> <PAD> <PAD> <PAD> <PAD> <PAD> <PAD> <PAD> <PAD> <PAD> <PAD> <PAD> <PAD> <PAD> <PAD> <PAD> <PAD> <PAD> <PAD> <PAD> <PAD> <PAD> <PAD> <PAD> <PAD> <PAD> <PAD> <PAD> <PAD> <PAD> <PAD> <PAD> <PAD> <PAD> <PAD> <PAD> <PAD> <PAD> <PAD> <PAD> <PAD> <PAD> <PAD> <PAD> <PAD> <PAD> <PAD> <PAD> <PAD> <PAD> <PAD> <PAD> <PAD> <PAD> <PAD> <PAD> <PAD> <PAD> <PAD> <PAD> <PAD> <PAD> <PAD> <PAD> <PAD> <PAD> <PAD> <PAD> <PAD> <PAD> <PAD> <PAD> <PAD> <PAD> <PAD> <PAD> <PAD> <PAD> <PAD> <PAD> <PAD> <PAD> <PAD> <PAD> <PAD> <PAD> <PAD> <PAD> <PAD> <PAD> <PAD> <PAD> <PAD> <PAD> <PAD> <PAD> <PAD> <PAD> <PAD> <PAD> <PAD> <PAD> <PAD> <PAD> <PAD> <PAD> <PAD> <PAD> <PAD> <PAD> <PAD> <PAD> <PAD> <PAD> <PAD> <PAD> <PAD> <PAD> <PAD> <PAD> <PAD> <PAD> <PAD> <PAD> <PAD> <PAD> <PAD> <PAD> <PAD> <PAD> <PAD> <PAD> <PAD> <PAD> <PAD> <PAD> <PAD> <PAD> <PAD> <PAD> <PAD> <PAD> <PAD> <PAD> <PAD> <PAD> <PAD> <PAD> <PAD> <PAD> <PAD> <PAD> <PAD> <PAD> <PAD> <PAD> <PAD> <PAD> <PAD> <PAD> <PAD> <PAD> <PAD> <PAD> <PAD> <PAD> <PAD> <PAD> <PAD> <PAD> <PAD> <PAD> <PAD> <PAD> <PAD> <PAD> <PAD> <PAD> <PAD> <PAD> <PAD> <PAD> <PAD> <PAD> <PAD> <PAD> <PAD> <PAD> <PAD> <PAD> <PAD> <PAD> <PAD> <PAD> <PAD> <PAD> <PAD> <PAD> <PAD> <PAD> <PAD> <PAD> <PAD> <PAD> <PAD> <PAD> <PAD> <PAD> <UNK> <UNK> has <UNK> be one <UNK> <UNK> worst films <UNK> <UNK> 1990s when my friends <UNK> were watching <UNK> film being <UNK> target audience <UNK> <UNK> aimed at we just sat watched <UNK> first half an hour <UNK> our jaws touching <UNK> floor at how bad <UNK> really <UNK> <UNK> rest <UNK> <UNK> time everyone else <UNK> <UNK> theatre just started talking <UNK> each other leaving or generally crying into their popcorn <UNK> they actually paid money they had <UNK> working <UNK> watch <UNK> feeble excuse <UNK> <UNK> film <UNK> must have looked like <UNK> great idea on paper but on film <UNK> looks like no one <UNK> <UNK> film has <UNK> clue what <UNK> going on crap acting crap costumes <UNK> can't get across how <UNK> <UNK> <UNK> <UNK> watch save yourself an hour <UNK> bit <UNK> your life\n",
      "events on <UNK> <UNK> heath <UNK> mile or so from where she lives <UNK> <UNK> <UNK> course <UNK> happened many years before she <UNK> born but you wouldn't guess from <UNK> way she tells <UNK> <UNK> same story <UNK> told <UNK> bars <UNK> length <UNK> <UNK> <UNK> scotland <UNK> <UNK> discussed <UNK> <UNK> <UNK> friend one night <UNK> <UNK> <UNK> local cut <UNK> <UNK> give his version <UNK> discussion continued <UNK> closing time <UNK> <UNK> stories passed down like <UNK> become part <UNK> our being who doesn't remember <UNK> stories our parents told us when we were children they become our invisible world <UNK> <UNK> we grow older they maybe still serve <UNK> inspiration or <UNK> an emotional <UNK> fact <UNK> fiction blend <UNK> <UNK> role models warning stories <UNK> magic <UNK> mystery <UNK> <UNK> my name <UNK> <UNK> like my grandfather <UNK> his grandfather before him our protagonist introduces himself <UNK> us <UNK> also introduces <UNK> story <UNK> stretches back through generations <UNK> produces stories within stories stories <UNK> evoke <UNK> <UNK> wonder <UNK> scotland its rugged mountains <UNK> <UNK> <UNK> <UNK> stuff <UNK> legend yet <UNK> <UNK> <UNK> <UNK> reality <UNK> <UNK> what gives <UNK> its special charm <UNK> has <UNK> rough beauty <UNK> authenticity <UNK> <UNK> some <UNK> <UNK> finest <UNK> singing you will ever hear <UNK> <UNK> <UNK> <UNK> visits his grandfather <UNK> hospital shortly before his death he burns <UNK> frustration part <UNK> him <UNK> <UNK> be <UNK> <UNK> twenty first century <UNK> hang out <UNK> <UNK> but he <UNK> raised on <UNK> western <UNK> among <UNK> <UNK> speaking community <UNK> <UNK> yet there <UNK> <UNK> deeper conflict within him he <UNK> <UNK> know <UNK> truth <UNK> truth behind his <UNK> ancient stories where does fiction end <UNK> he wants <UNK> know <UNK> truth behind <UNK> death <UNK> his parents <UNK> <UNK> he <UNK> pulled <UNK> make <UNK> last <UNK> journey <UNK> <UNK> <UNK> <UNK> one <UNK> <UNK> most <UNK> mountains can <UNK> truth be told or <UNK> <UNK> all <UNK> stories <UNK> <UNK> <UNK> <UNK> story about stories we <UNK> bloody battles <UNK> lovers <UNK> <UNK> <UNK> old <UNK> <UNK> sometimes more <UNK> <UNK> <UNK> accepted truth <UNK> doing so we each connect <UNK> <UNK> <UNK> he lives <UNK> story <UNK> his own life <UNK> <UNK> <UNK> <UNK> <UNK> <UNK> <UNK> probably <UNK> most honest <UNK> <UNK> genuinely beautiful film <UNK> scotland ever made like <UNK> <UNK> got slightly annoyed <UNK> <UNK> <UNK> <UNK> hanging stories on more stories but also like <UNK> <UNK> <UNK> <UNK> once <UNK> saw <UNK> <UNK> picture ' forget <UNK> box office <UNK> <UNK> braveheart <UNK> its like you might even <UNK> <UNK> <UNK> famous <UNK> <UNK> <UNK> wicker man <UNK> see <UNK> film <UNK> <UNK> true <UNK> scotland <UNK> one <UNK> probably unique if you maybe <UNK> on <UNK> deeply enough you might even re <UNK> <UNK> power <UNK> storytelling <UNK> <UNK> age old question <UNK> whether there are some truths <UNK> cannot be told but only experienced\n",
      "<PAD> <PAD> <PAD> <PAD> <PAD> <PAD> <PAD> <PAD> <PAD> <PAD> <PAD> <PAD> <PAD> <PAD> <PAD> <PAD> <PAD> <PAD> <PAD> <PAD> <PAD> <PAD> <PAD> <PAD> <PAD> <PAD> <PAD> <PAD> <PAD> <PAD> <PAD> <PAD> <PAD> <PAD> <PAD> <PAD> <PAD> <PAD> <PAD> <PAD> <PAD> <PAD> <PAD> <PAD> <PAD> <PAD> <PAD> <PAD> <PAD> <PAD> <PAD> <PAD> <PAD> <PAD> <PAD> <PAD> <PAD> <PAD> <PAD> <PAD> <PAD> <PAD> <PAD> <PAD> <PAD> <PAD> <PAD> <PAD> <PAD> <PAD> <PAD> <PAD> <PAD> <PAD> <PAD> <PAD> <PAD> <PAD> <PAD> <PAD> <PAD> <PAD> <PAD> <PAD> <PAD> <PAD> <PAD> <PAD> <PAD> <PAD> <PAD> <PAD> <PAD> <PAD> <PAD> <PAD> <PAD> <PAD> <PAD> <PAD> <PAD> <PAD> <PAD> <PAD> <PAD> <PAD> <PAD> <PAD> <PAD> <PAD> <PAD> <PAD> <PAD> <PAD> <PAD> <PAD> <PAD> <PAD> <PAD> <PAD> <PAD> <PAD> <PAD> <PAD> <PAD> <PAD> <PAD> <PAD> <PAD> <PAD> <PAD> <PAD> <PAD> <PAD> <PAD> <PAD> <PAD> <PAD> <PAD> <PAD> <PAD> <PAD> <PAD> <PAD> <PAD> <PAD> <PAD> <PAD> <PAD> <PAD> <PAD> <PAD> <PAD> <PAD> <PAD> <PAD> <PAD> <PAD> <PAD> <PAD> <PAD> <PAD> <PAD> <PAD> <PAD> <PAD> <PAD> <PAD> <PAD> <PAD> <PAD> <PAD> <PAD> <PAD> <PAD> <PAD> <PAD> <PAD> <PAD> <PAD> <PAD> <PAD> <PAD> <PAD> <PAD> <PAD> <PAD> <PAD> <PAD> <PAD> <PAD> <PAD> <PAD> <PAD> <PAD> <PAD> <PAD> <PAD> <PAD> <PAD> <PAD> <PAD> <PAD> <PAD> <PAD> <PAD> <PAD> <PAD> <PAD> <PAD> <PAD> <PAD> <PAD> <PAD> <PAD> <PAD> <PAD> <PAD> <PAD> <PAD> <PAD> <PAD> <PAD> <PAD> <PAD> <PAD> <PAD> <PAD> <PAD> <PAD> <PAD> <PAD> <PAD> <PAD> <PAD> <PAD> <PAD> <PAD> <PAD> <PAD> <PAD> <PAD> <PAD> <PAD> <PAD> <PAD> <PAD> <PAD> <PAD> <PAD> <PAD> <PAD> <PAD> <PAD> <PAD> <PAD> <PAD> <PAD> <PAD> <PAD> <PAD> <PAD> <PAD> <PAD> <PAD> <PAD> <PAD> <PAD> <PAD> <PAD> <PAD> <PAD> <PAD> <PAD> <PAD> <PAD> <PAD> <PAD> <PAD> <PAD> <PAD> <PAD> <PAD> <PAD> <PAD> <PAD> <PAD> <PAD> <PAD> <PAD> <PAD> <PAD> <PAD> <PAD> <PAD> <PAD> <PAD> <PAD> <PAD> <PAD> <PAD> <PAD> <PAD> <PAD> <PAD> <PAD> <PAD> <PAD> <PAD> <PAD> <PAD> <PAD> <PAD> <PAD> <PAD> <PAD> <PAD> <PAD> <PAD> <PAD> <PAD> <PAD> <PAD> <PAD> <PAD> <PAD> <PAD> <PAD> <PAD> <PAD> <PAD> <PAD> <PAD> <PAD> <PAD> <PAD> <PAD> <PAD> <PAD> <PAD> <PAD> <PAD> <PAD> <PAD> <PAD> <PAD> <PAD> <PAD> <PAD> <PAD> <PAD> <PAD> <PAD> <UNK> worst mistake <UNK> my life <UNK> <UNK> <UNK> picked <UNK> movie up at target <UNK> 5 because <UNK> figured hey it's sandler <UNK> can get some cheap laughs <UNK> <UNK> wrong completely wrong mid way through <UNK> film all three <UNK> my friends were asleep <UNK> <UNK> <UNK> still suffering worst plot worst script worst movie <UNK> have ever seen <UNK> wanted <UNK> hit my head up against <UNK> wall <UNK> an hour then i'd stop <UNK> you know why because <UNK> felt damn good upon bashing my head <UNK> <UNK> stuck <UNK> damn movie <UNK> <UNK> <UNK> <UNK> watched <UNK> burn <UNK> <UNK> felt better than anything else i've ever done <UNK> took american psycho army <UNK> darkness <UNK> kill bill just <UNK> get over <UNK> crap <UNK> hate you sandler <UNK> actually going through <UNK> <UNK> <UNK> ruining <UNK> whole day <UNK> my life\n"
     ]
    }
   ],
   "source": [
    "print(' '.join([index_to_word[index] for index in X_train[0]]))\n",
    "print(' '.join([index_to_word[index] for index in X_train[1]]))\n",
    "print(' '.join([index_to_word[index] for index in X_train[2]]))\n",
    "print(' '.join([index_to_word[index] for index in X_train[3]]))\n",
    "print(' '.join([index_to_word[index] for index in X_train[4]]))"
   ]
  },
  {
   "cell_type": "code",
   "execution_count": 47,
   "metadata": {
    "colab": {
     "base_uri": "https://localhost:8080/"
    },
    "id": "SQi9VbFGgTop",
    "outputId": "24c5cb8f-2194-4404-adb1-ba44552ad5f9"
   },
   "outputs": [
    {
     "data": {
      "text/plain": [
       "10000"
      ]
     },
     "execution_count": 47,
     "metadata": {},
     "output_type": "execute_result"
    }
   ],
   "source": [
    "max_features"
   ]
  },
  {
   "cell_type": "code",
   "execution_count": 48,
   "metadata": {
    "colab": {
     "base_uri": "https://localhost:8080/"
    },
    "id": "a-KUzB2SqtQO",
    "outputId": "7dba4590-72c2-4cde-e350-681a4993e67e"
   },
   "outputs": [
    {
     "name": "stdout",
     "output_type": "stream",
     "text": [
      "Epoch 1/120\n",
      "239/239 [==============================] - 40s 156ms/step - loss: 0.5669 - acc: 0.6956 - val_loss: 0.4076 - val_acc: 0.8252\n",
      "Epoch 2/120\n",
      "239/239 [==============================] - 37s 155ms/step - loss: 0.3327 - acc: 0.8620 - val_loss: 0.3978 - val_acc: 0.8242\n",
      "Epoch 3/120\n",
      "239/239 [==============================] - 37s 156ms/step - loss: 0.2244 - acc: 0.9140 - val_loss: 0.3916 - val_acc: 0.8404\n",
      "Epoch 4/120\n",
      "239/239 [==============================] - 37s 156ms/step - loss: 0.1393 - acc: 0.9507 - val_loss: 0.4555 - val_acc: 0.8368\n",
      "Epoch 5/120\n",
      "239/239 [==============================] - 39s 162ms/step - loss: 0.0703 - acc: 0.9772 - val_loss: 0.5111 - val_acc: 0.8060\n",
      "Epoch 6/120\n",
      "239/239 [==============================] - 38s 160ms/step - loss: 0.0377 - acc: 0.9890 - val_loss: 0.5496 - val_acc: 0.8224\n",
      "Epoch 7/120\n",
      "239/239 [==============================] - 39s 161ms/step - loss: 0.0204 - acc: 0.9938 - val_loss: 0.7497 - val_acc: 0.7598\n",
      "Epoch 8/120\n",
      "239/239 [==============================] - 40s 167ms/step - loss: 0.0146 - acc: 0.9959 - val_loss: 0.7042 - val_acc: 0.7966\n",
      "Epoch 9/120\n",
      "239/239 [==============================] - 38s 161ms/step - loss: 0.0085 - acc: 0.9976 - val_loss: 0.7516 - val_acc: 0.7988\n",
      "Epoch 10/120\n",
      "239/239 [==============================] - 38s 161ms/step - loss: 0.0102 - acc: 0.9973 - val_loss: 0.7992 - val_acc: 0.8188\n",
      "Epoch 11/120\n",
      "239/239 [==============================] - 40s 168ms/step - loss: 0.0059 - acc: 0.9983 - val_loss: 0.8676 - val_acc: 0.7848\n"
     ]
    }
   ],
   "source": [
    "model = Sequential()\n",
    "model.add(Embedding(max_features, 100, input_length=maxlen))  # Embedding(vocab_size, embedding_dim, input_length=200)\n",
    "model.add(SimpleRNN(32\n",
    "            #  activation=\"tanh\",\n",
    "            #  recurrent_activation=\"sigmoid\",\n",
    "            #  use_bias=True,\n",
    "            #  kernel_initializer=\"glorot_uniform\",\n",
    "            #  recurrent_initializer=\"orthogonal\",\n",
    "            #  bias_initializer=\"zeros\",\n",
    "            #  unit_forget_bias=True\n",
    "))\n",
    "model.add(Dense(1, activation='sigmoid'))\n",
    "\n",
    "model.compile(optimizer='rmsprop', loss='binary_crossentropy', metrics=['acc'])\n",
    "hist = model.fit(X_train, y_train,\n",
    "                   epochs=120,\n",
    "                   batch_size=84,\n",
    "                   callbacks=[EarlyStopping(monitor='val_loss', patience=8)],\n",
    "                   validation_split=0.2)"
   ]
  },
  {
   "cell_type": "code",
   "execution_count": 49,
   "metadata": {
    "colab": {
     "base_uri": "https://localhost:8080/"
    },
    "id": "ICVemdmtqtQO",
    "outputId": "9d3f5bb8-0700-46c7-e8d2-ce7c34d96663",
    "scrolled": true
   },
   "outputs": [
    {
     "name": "stdout",
     "output_type": "stream",
     "text": [
      "Model: \"sequential_3\"\n",
      "_________________________________________________________________\n",
      " Layer (type)                Output Shape              Param #   \n",
      "=================================================================\n",
      " embedding_3 (Embedding)     (None, 500, 100)          1000000   \n",
      "                                                                 \n",
      " simple_rnn_3 (SimpleRNN)    (None, 32)                4256      \n",
      "                                                                 \n",
      " dense_3 (Dense)             (None, 1)                 33        \n",
      "                                                                 \n",
      "=================================================================\n",
      "Total params: 1,004,289\n",
      "Trainable params: 1,004,289\n",
      "Non-trainable params: 0\n",
      "_________________________________________________________________\n"
     ]
    }
   ],
   "source": [
    "model.summary()"
   ]
  },
  {
   "cell_type": "code",
   "execution_count": 50,
   "metadata": {
    "colab": {
     "base_uri": "https://localhost:8080/",
     "height": 425
    },
    "id": "riFehk4tqtQP",
    "outputId": "f79e7002-ea2f-4329-9a1e-be7594ef7949"
   },
   "outputs": [
    {
     "data": {
      "image/svg+xml": [
       "<svg xmlns=\"http://www.w3.org/2000/svg\" xmlns:xlink=\"http://www.w3.org/1999/xlink\" width=\"259pt\" height=\"304pt\" viewBox=\"0.00 0.00 259.00 304.00\">\n",
       "<g id=\"graph0\" class=\"graph\" transform=\"scale(1 1) rotate(0) translate(4 300)\">\n",
       "<title>G</title>\n",
       "<polygon fill=\"white\" stroke=\"transparent\" points=\"-4,4 -4,-300 255,-300 255,4 -4,4\"/>\n",
       "<!-- 2066888221936 -->\n",
       "<g id=\"node1\" class=\"node\">\n",
       "<title>2066888221936</title>\n",
       "<polygon fill=\"none\" stroke=\"black\" points=\"13,-249.5 13,-295.5 238,-295.5 238,-249.5 13,-249.5\"/>\n",
       "<text text-anchor=\"middle\" x=\"51.5\" y=\"-268.8\" font-family=\"Times New Roman,serif\" font-size=\"14.00\">InputLayer</text>\n",
       "<polyline fill=\"none\" stroke=\"black\" points=\"90,-249.5 90,-295.5 \"/>\n",
       "<text text-anchor=\"middle\" x=\"118\" y=\"-280.3\" font-family=\"Times New Roman,serif\" font-size=\"14.00\">input:</text>\n",
       "<polyline fill=\"none\" stroke=\"black\" points=\"90,-272.5 146,-272.5 \"/>\n",
       "<text text-anchor=\"middle\" x=\"118\" y=\"-257.3\" font-family=\"Times New Roman,serif\" font-size=\"14.00\">output:</text>\n",
       "<polyline fill=\"none\" stroke=\"black\" points=\"146,-249.5 146,-295.5 \"/>\n",
       "<text text-anchor=\"middle\" x=\"192\" y=\"-280.3\" font-family=\"Times New Roman,serif\" font-size=\"14.00\">[(None, 500)]</text>\n",
       "<polyline fill=\"none\" stroke=\"black\" points=\"146,-272.5 238,-272.5 \"/>\n",
       "<text text-anchor=\"middle\" x=\"192\" y=\"-257.3\" font-family=\"Times New Roman,serif\" font-size=\"14.00\">[(None, 500)]</text>\n",
       "</g>\n",
       "<!-- 2066889629120 -->\n",
       "<g id=\"node2\" class=\"node\">\n",
       "<title>2066889629120</title>\n",
       "<polygon fill=\"none\" stroke=\"black\" points=\"2,-166.5 2,-212.5 249,-212.5 249,-166.5 2,-166.5\"/>\n",
       "<text text-anchor=\"middle\" x=\"42\" y=\"-185.8\" font-family=\"Times New Roman,serif\" font-size=\"14.00\">Embedding</text>\n",
       "<polyline fill=\"none\" stroke=\"black\" points=\"82,-166.5 82,-212.5 \"/>\n",
       "<text text-anchor=\"middle\" x=\"110\" y=\"-197.3\" font-family=\"Times New Roman,serif\" font-size=\"14.00\">input:</text>\n",
       "<polyline fill=\"none\" stroke=\"black\" points=\"82,-189.5 138,-189.5 \"/>\n",
       "<text text-anchor=\"middle\" x=\"110\" y=\"-174.3\" font-family=\"Times New Roman,serif\" font-size=\"14.00\">output:</text>\n",
       "<polyline fill=\"none\" stroke=\"black\" points=\"138,-166.5 138,-212.5 \"/>\n",
       "<text text-anchor=\"middle\" x=\"193.5\" y=\"-197.3\" font-family=\"Times New Roman,serif\" font-size=\"14.00\">(None, 500)</text>\n",
       "<polyline fill=\"none\" stroke=\"black\" points=\"138,-189.5 249,-189.5 \"/>\n",
       "<text text-anchor=\"middle\" x=\"193.5\" y=\"-174.3\" font-family=\"Times New Roman,serif\" font-size=\"14.00\">(None, 500, 100)</text>\n",
       "</g>\n",
       "<!-- 2066888221936&#45;&gt;2066889629120 -->\n",
       "<g id=\"edge1\" class=\"edge\">\n",
       "<title>2066888221936-&gt;2066889629120</title>\n",
       "<path fill=\"none\" stroke=\"black\" d=\"M125.5,-249.37C125.5,-241.15 125.5,-231.66 125.5,-222.73\"/>\n",
       "<polygon fill=\"black\" stroke=\"black\" points=\"129,-222.61 125.5,-212.61 122,-222.61 129,-222.61\"/>\n",
       "</g>\n",
       "<!-- 2066811285456 -->\n",
       "<g id=\"node3\" class=\"node\">\n",
       "<title>2066811285456</title>\n",
       "<polygon fill=\"none\" stroke=\"black\" points=\"0,-83.5 0,-129.5 251,-129.5 251,-83.5 0,-83.5\"/>\n",
       "<text text-anchor=\"middle\" x=\"42\" y=\"-102.8\" font-family=\"Times New Roman,serif\" font-size=\"14.00\">SimpleRNN</text>\n",
       "<polyline fill=\"none\" stroke=\"black\" points=\"84,-83.5 84,-129.5 \"/>\n",
       "<text text-anchor=\"middle\" x=\"112\" y=\"-114.3\" font-family=\"Times New Roman,serif\" font-size=\"14.00\">input:</text>\n",
       "<polyline fill=\"none\" stroke=\"black\" points=\"84,-106.5 140,-106.5 \"/>\n",
       "<text text-anchor=\"middle\" x=\"112\" y=\"-91.3\" font-family=\"Times New Roman,serif\" font-size=\"14.00\">output:</text>\n",
       "<polyline fill=\"none\" stroke=\"black\" points=\"140,-83.5 140,-129.5 \"/>\n",
       "<text text-anchor=\"middle\" x=\"195.5\" y=\"-114.3\" font-family=\"Times New Roman,serif\" font-size=\"14.00\">(None, 500, 100)</text>\n",
       "<polyline fill=\"none\" stroke=\"black\" points=\"140,-106.5 251,-106.5 \"/>\n",
       "<text text-anchor=\"middle\" x=\"195.5\" y=\"-91.3\" font-family=\"Times New Roman,serif\" font-size=\"14.00\">(None, 32)</text>\n",
       "</g>\n",
       "<!-- 2066889629120&#45;&gt;2066811285456 -->\n",
       "<g id=\"edge2\" class=\"edge\">\n",
       "<title>2066889629120-&gt;2066811285456</title>\n",
       "<path fill=\"none\" stroke=\"black\" d=\"M125.5,-166.37C125.5,-158.15 125.5,-148.66 125.5,-139.73\"/>\n",
       "<polygon fill=\"black\" stroke=\"black\" points=\"129,-139.61 125.5,-129.61 122,-139.61 129,-139.61\"/>\n",
       "</g>\n",
       "<!-- 2066890592560 -->\n",
       "<g id=\"node4\" class=\"node\">\n",
       "<title>2066890592560</title>\n",
       "<polygon fill=\"none\" stroke=\"black\" points=\"33.5,-0.5 33.5,-46.5 217.5,-46.5 217.5,-0.5 33.5,-0.5\"/>\n",
       "<text text-anchor=\"middle\" x=\"59\" y=\"-19.8\" font-family=\"Times New Roman,serif\" font-size=\"14.00\">Dense</text>\n",
       "<polyline fill=\"none\" stroke=\"black\" points=\"84.5,-0.5 84.5,-46.5 \"/>\n",
       "<text text-anchor=\"middle\" x=\"112.5\" y=\"-31.3\" font-family=\"Times New Roman,serif\" font-size=\"14.00\">input:</text>\n",
       "<polyline fill=\"none\" stroke=\"black\" points=\"84.5,-23.5 140.5,-23.5 \"/>\n",
       "<text text-anchor=\"middle\" x=\"112.5\" y=\"-8.3\" font-family=\"Times New Roman,serif\" font-size=\"14.00\">output:</text>\n",
       "<polyline fill=\"none\" stroke=\"black\" points=\"140.5,-0.5 140.5,-46.5 \"/>\n",
       "<text text-anchor=\"middle\" x=\"179\" y=\"-31.3\" font-family=\"Times New Roman,serif\" font-size=\"14.00\">(None, 32)</text>\n",
       "<polyline fill=\"none\" stroke=\"black\" points=\"140.5,-23.5 217.5,-23.5 \"/>\n",
       "<text text-anchor=\"middle\" x=\"179\" y=\"-8.3\" font-family=\"Times New Roman,serif\" font-size=\"14.00\">(None, 1)</text>\n",
       "</g>\n",
       "<!-- 2066811285456&#45;&gt;2066890592560 -->\n",
       "<g id=\"edge3\" class=\"edge\">\n",
       "<title>2066811285456-&gt;2066890592560</title>\n",
       "<path fill=\"none\" stroke=\"black\" d=\"M125.5,-83.37C125.5,-75.15 125.5,-65.66 125.5,-56.73\"/>\n",
       "<polygon fill=\"black\" stroke=\"black\" points=\"129,-56.61 125.5,-46.61 122,-56.61 129,-56.61\"/>\n",
       "</g>\n",
       "</g>\n",
       "</svg>"
      ],
      "text/plain": [
       "<IPython.core.display.SVG object>"
      ]
     },
     "execution_count": 50,
     "metadata": {},
     "output_type": "execute_result"
    }
   ],
   "source": [
    "# visualize model structure\n",
    "from IPython.display import SVG\n",
    "from tensorflow.keras.utils import model_to_dot, plot_model\n",
    "\n",
    "SVG(model_to_dot(model, show_shapes=True, show_layer_names=False,\n",
    "                 rankdir='TB', dpi=72).create(prog='dot', format='svg'))"
   ]
  },
  {
   "cell_type": "code",
   "execution_count": 51,
   "metadata": {
    "colab": {
     "base_uri": "https://localhost:8080/",
     "height": 465
    },
    "id": "sSh15g9kqtQQ",
    "outputId": "fa35f0c0-4f9d-402e-8903-24ff90811bb9"
   },
   "outputs": [
    {
     "data": {
      "image/png": "[encoded data removed]",
      "text/plain": [
       "<Figure size 576x360 with 2 Axes>"
      ]
     },
     "metadata": {
      "needs_background": "light"
     },
     "output_type": "display_data"
    }
   ],
   "source": [
    "import matplotlib.pyplot as plt\n",
    "\n",
    "fig, loss_ax = plt.subplots(figsize=(8, 5))\n",
    "\n",
    "acc_ax = loss_ax.twinx()\n",
    "\n",
    "loss_ax.plot(hist.history['loss'], 'y', label='train loss')\n",
    "loss_ax.plot(hist.history['val_loss'], 'r', label='val loss')\n",
    "\n",
    "acc_ax.plot(hist.history['acc'], 'b', label='train acc')\n",
    "acc_ax.plot(hist.history['val_acc'], 'g', label='val acc')\n",
    "\n",
    "loss_ax.set_xlabel('epoch')\n",
    "loss_ax.set_ylabel('loss')\n",
    "acc_ax.set_ylabel('accuray')\n",
    "\n",
    "loss_ax.legend(loc='upper left')\n",
    "acc_ax.legend(loc='lower left')\n",
    "\n",
    "plt.show()"
   ]
  },
  {
   "cell_type": "code",
   "execution_count": 52,
   "metadata": {
    "colab": {
     "base_uri": "https://localhost:8080/"
    },
    "id": "114caIR1qtQR",
    "outputId": "c1b8fac8-514d-46ad-f8c3-1e7dd2c9392b"
   },
   "outputs": [
    {
     "name": "stdout",
     "output_type": "stream",
     "text": [
      "782/782 [==============================] - 24s 31ms/step - loss: 0.8695 - acc: 0.7873\n",
      "test_loss:  0.8694810271263123\n",
      "test_acc:  0.7872800230979919\n"
     ]
    }
   ],
   "source": [
    "score = model.evaluate(X_test, y_test)\n",
    "print('test_loss: ', score[0])\n",
    "print('test_acc: ', score[1])"
   ]
  },
  {
   "cell_type": "code",
   "execution_count": null,
   "metadata": {},
   "outputs": [],
   "source": []
  }
 ],
 "metadata": {
  "colab": {
   "include_colab_link": true,
   "provenance": []
  },
  "kernelspec": {
   "display_name": "Python 3 (ipykernel)",
   "language": "python",
   "name": "python3"
  },
  "language_info": {
   "codemirror_mode": {
    "name": "ipython",
    "version": 3
   },
   "file_extension": ".py",
   "mimetype": "text/x-python",
   "name": "python",
   "nbconvert_exporter": "python",
   "pygments_lexer": "ipython3",
   "version": "3.9.7"
  },
  "toc": {
   "base_numbering": 1,
   "nav_menu": {},
   "number_sections": true,
   "sideBar": true,
   "skip_h1_title": false,
   "title_cell": "Table of Contents",
   "title_sidebar": "Contents",
   "toc_cell": false,
   "toc_position": {},
   "toc_section_display": true,
   "toc_window_display": false
  }
 },
 "nbformat": 4,
 "nbformat_minor": 1
}
