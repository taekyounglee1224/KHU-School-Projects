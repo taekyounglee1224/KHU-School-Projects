{
 "cells": [
  {
   "cell_type": "markdown",
   "id": "6fb14145",
   "metadata": {},
   "source": [
    "# The Impact of Economic Indicators on Online Shopping Sales"
   ]
  },
  {
   "cell_type": "markdown",
   "id": "dfb825ca",
   "metadata": {},
   "source": [
    "<font size = 4>(다크 모드에서 작업했습니다)</font>"
   ]
  },
  {
   "cell_type": "markdown",
   "id": "759ab3e8",
   "metadata": {},
   "source": [
    "<li>StudentID: 2022104004</li>\n",
    "<li>Year: 2nd Year(2학년)</li>\n",
    "<li>Department: Industrial Management Engineering(산업경영공학과)</li>\n",
    "<li>Student Name: Tae Kyoung Lee(이태경)</li>\n",
    "       "
   ]
  },
  {
   "cell_type": "markdown",
   "id": "7c4df6e4",
   "metadata": {},
   "source": [
    "# Contents"
   ]
  },
  {
   "cell_type": "markdown",
   "id": "7937ed73",
   "metadata": {},
   "source": [
    "<details>\n",
    "    <summary><font size = 4 ><font color = '#F5A9A9'> > See Contents </font></font></summary>\n",
    "    <ul>\n",
    "        <li>  1. Reason for Defining Subject </li>\n",
    "        <li>  2. Hypothesis Definition</li>\n",
    "        <li>  3. Sources and Informations of Datasets </li>\n",
    "        <li>  4. Solutions of Hypotheses </li>\n",
    "        <li>  5. Final Solution </li>\n",
    "        <li>  6. References </li>\n",
    "    </ul>\n",
    "</details>"
   ]
  },
  {
   "cell_type": "markdown",
   "id": "d952bfdd",
   "metadata": {},
   "source": [
    "## Reasons For Defining Subject"
   ]
  },
  {
   "cell_type": "markdown",
   "id": "3f915b44",
   "metadata": {},
   "source": [
    "<li><font color = '#FE642E'><font size = 4> [My Subject]: \n",
    "\"The Impact of Economic Indicator Fluctuations on Online Shopping Sales\"</font></font></li>\n",
    "\n",
    "\n",
    "<details>\n",
    "    <summary> >>Reason for Defining Subject</summary>\n",
    "    <ul>\n",
    "        \"This topic aims to explore the relationship between overall economic indicator fluctuations and international sales in the online shopping sector. By analyzing the interconnection between economic indicators and the online shopping market, it seeks to understand how economic conditions influence international online sales. The rationale for choosing this topic lies in its relevance to understanding the broader economic forces that shape consumer behavior and market dynamics in the digital age. It offers valuable insights into how global economic trends can affect the e-commerce sector, which is increasingly becoming a significant part of the world economy.\"\n",
    "    </ul>\n",
    "</details>"
   ]
  },
  {
   "cell_type": "markdown",
   "id": "c9841421",
   "metadata": {},
   "source": [
    "## Hypothesis Definition"
   ]
  },
  {
   "cell_type": "markdown",
   "id": "fd54f2a2",
   "metadata": {},
   "source": [
    "<li><font color = '#FACC2E'><font size = 4> [Hypothesis 1]: \"The Rise in the Economic Sentiment Index is Related to an Increase in Overseas Online Shopping Sales.\"</font></font> </li>"
   ]
  },
  {
   "cell_type": "markdown",
   "id": "71044291",
   "metadata": {},
   "source": [
    "<li> <font color = '#FACC2E'><font size = 4>[Hypothesis 2]: \"The Volatility of the KOSPI Index Affects the Sales of Specific Product Groups in Overseas Online Shopping.\"</font></font> </li>"
   ]
  },
  {
   "cell_type": "markdown",
   "id": "c49a1f1a",
   "metadata": {},
   "source": [
    "<li> <font color = '#FACC2E'><font size = 4>[Hypothesis 3]: \"The Increase in Service Production Index is Associated with Expansion of Overseas Online Shopping Sales.\" </font></font></li>"
   ]
  },
  {
   "cell_type": "markdown",
   "id": "27f78249",
   "metadata": {},
   "source": [
    "## Sources and Informations of Data"
   ]
  },
  {
   "cell_type": "markdown",
   "id": "a44e92c6",
   "metadata": {},
   "source": [
    "[국가통계포털](https://kosis.kr/statHtml/statHtml.do?orgId=301&tblId=DT_513Y001&vw_cd=MT_ZTITLE&list_id=J1_301025&scrId=&seqNo=&lang_mode=ko&obj_var_id=&itm_id=&conn_path=MT_ZTITLE&path=%252FstatisticsList%252FstatisticsListIndex.do)\n",
    "\n",
    "    Data from 1970~2023 about South Koreas's enconomic feature indexes\n",
    "    \n",
    "[국가통계포털: 지역별/상품군별 온라인쇼핑 해외직접판매역](https://kosis.kr/statHtml/statHtml.do?orgId=301&tblId=DT_513Y001&vw_cd=MT_ZTITLE&list_id=J1_301025&scrId=&seqNo=&lang_mode=ko&obj_var_id=&itm_id=&conn_path=MT_ZTITLE&path=%252FstatisticsList%252FstatisticsListIndex.do)\n",
    "\n",
    "    Data about sellings for korean online shopping from 2014~2023\n"
   ]
  },
  {
   "cell_type": "markdown",
   "id": "e6584a59",
   "metadata": {},
   "source": [
    "### Load Data"
   ]
  },
  {
   "cell_type": "code",
   "execution_count": 81,
   "id": "650d8fea",
   "metadata": {},
   "outputs": [],
   "source": [
    "import pandas as pd\n",
    "\n",
    "eco_df = pd.read_csv('./business_indicators.csv')\n",
    "shopping_df = pd.read_csv('./shopping.csv', encoding = 'cp949')"
   ]
  },
  {
   "cell_type": "code",
   "execution_count": 5,
   "id": "bf21aae0",
   "metadata": {},
   "outputs": [
    {
     "data": {
      "text/html": [
       "<div>\n",
       "<style scoped>\n",
       "    .dataframe tbody tr th:only-of-type {\n",
       "        vertical-align: middle;\n",
       "    }\n",
       "\n",
       "    .dataframe tbody tr th {\n",
       "        vertical-align: top;\n",
       "    }\n",
       "\n",
       "    .dataframe thead th {\n",
       "        text-align: right;\n",
       "    }\n",
       "</style>\n",
       "<table border=\"1\" class=\"dataframe\">\n",
       "  <thead>\n",
       "    <tr style=\"text-align: right;\">\n",
       "      <th></th>\n",
       "      <th>시점</th>\n",
       "      <th>선행종합지수(2020=100)</th>\n",
       "      <th>재고순환지표(%p)</th>\n",
       "      <th>경제심리지수</th>\n",
       "      <th>기계류내수출하지수(선박제외)(2020=100)</th>\n",
       "      <th>건설수주액(실질)(십억원)</th>\n",
       "      <th>수출입물가비율(2015=100)</th>\n",
       "      <th>코스피(1980.1.4=100)</th>\n",
       "      <th>장단기금리차(%p)</th>\n",
       "      <th>동행종합지수(2020=100)</th>\n",
       "      <th>...</th>\n",
       "      <th>소매판매액지수(2020=100)</th>\n",
       "      <th>내수출하지수(2020=100)</th>\n",
       "      <th>수입액(실질)(백만불)</th>\n",
       "      <th>비농림어업취업자수(천명)</th>\n",
       "      <th>후행종합지수(2020=100)</th>\n",
       "      <th>생산자제품재고지수(2020=100)</th>\n",
       "      <th>소비자물가지수변화율(서비스)</th>\n",
       "      <th>소비재수입액(실질)(백만불)</th>\n",
       "      <th>취업자수(천명)</th>\n",
       "      <th>CP유통수익률(%p)</th>\n",
       "    </tr>\n",
       "  </thead>\n",
       "  <tbody>\n",
       "    <tr>\n",
       "      <th>0</th>\n",
       "      <td>2019.01</td>\n",
       "      <td>94.8</td>\n",
       "      <td>-6.7</td>\n",
       "      <td>93.4</td>\n",
       "      <td>99.0</td>\n",
       "      <td>11876.8</td>\n",
       "      <td>94.9</td>\n",
       "      <td>2085.1</td>\n",
       "      <td>0.26</td>\n",
       "      <td>99.0</td>\n",
       "      <td>...</td>\n",
       "      <td>99.8</td>\n",
       "      <td>103.3</td>\n",
       "      <td>40827.6</td>\n",
       "      <td>25516.3</td>\n",
       "      <td>96.7</td>\n",
       "      <td>98.8</td>\n",
       "      <td>1.5</td>\n",
       "      <td>7175.7</td>\n",
       "      <td>26936.4</td>\n",
       "      <td>1.9</td>\n",
       "    </tr>\n",
       "    <tr>\n",
       "      <th>1</th>\n",
       "      <td>2019.02</td>\n",
       "      <td>95.0</td>\n",
       "      <td>-5.7</td>\n",
       "      <td>94.4</td>\n",
       "      <td>96.1</td>\n",
       "      <td>11764.3</td>\n",
       "      <td>94.3</td>\n",
       "      <td>2127.4</td>\n",
       "      <td>0.12</td>\n",
       "      <td>98.7</td>\n",
       "      <td>...</td>\n",
       "      <td>99.0</td>\n",
       "      <td>101.9</td>\n",
       "      <td>40161.1</td>\n",
       "      <td>25530.8</td>\n",
       "      <td>96.9</td>\n",
       "      <td>98.2</td>\n",
       "      <td>1.4</td>\n",
       "      <td>7026.7</td>\n",
       "      <td>26953.3</td>\n",
       "      <td>2.0</td>\n",
       "    </tr>\n",
       "    <tr>\n",
       "      <th>2</th>\n",
       "      <td>2019.03</td>\n",
       "      <td>95.3</td>\n",
       "      <td>-3.4</td>\n",
       "      <td>95.1</td>\n",
       "      <td>96.1</td>\n",
       "      <td>13069.7</td>\n",
       "      <td>92.9</td>\n",
       "      <td>2158.0</td>\n",
       "      <td>0.11</td>\n",
       "      <td>98.8</td>\n",
       "      <td>...</td>\n",
       "      <td>99.8</td>\n",
       "      <td>101.5</td>\n",
       "      <td>39162.4</td>\n",
       "      <td>25597.3</td>\n",
       "      <td>97.0</td>\n",
       "      <td>96.9</td>\n",
       "      <td>1.3</td>\n",
       "      <td>7097.4</td>\n",
       "      <td>26997.0</td>\n",
       "      <td>2.0</td>\n",
       "    </tr>\n",
       "  </tbody>\n",
       "</table>\n",
       "<p>3 rows × 23 columns</p>\n",
       "</div>"
      ],
      "text/plain": [
       "        시점   선행종합지수(2020=100)   재고순환지표(%p)   경제심리지수  \\\n",
       "0  2019.01               94.8         -6.7     93.4   \n",
       "1  2019.02               95.0         -5.7     94.4   \n",
       "2  2019.03               95.3         -3.4     95.1   \n",
       "\n",
       "    기계류내수출하지수(선박제외)(2020=100)   건설수주액(실질)(십억원)  수출입물가비율(2015=100)  \\\n",
       "0                        99.0          11876.8               94.9   \n",
       "1                        96.1          11764.3               94.3   \n",
       "2                        96.1          13069.7               92.9   \n",
       "\n",
       "   코스피(1980.1.4=100)   장단기금리차(%p)   동행종합지수(2020=100)  ...   소매판매액지수(2020=100)  \\\n",
       "0             2085.1         0.26               99.0  ...                99.8   \n",
       "1             2127.4         0.12               98.7  ...                99.0   \n",
       "2             2158.0         0.11               98.8  ...                99.8   \n",
       "\n",
       "    내수출하지수(2020=100)   수입액(실질)(백만불)   비농림어업취업자수(천명)   후행종합지수(2020=100)  \\\n",
       "0              103.3        40827.6         25516.3               96.7   \n",
       "1              101.9        40161.1         25530.8               96.9   \n",
       "2              101.5        39162.4         25597.3               97.0   \n",
       "\n",
       "    생산자제품재고지수(2020=100)   소비자물가지수변화율(서비스)   소비재수입액(실질)(백만불)   취업자수(천명)  \\\n",
       "0                  98.8               1.5            7175.7    26936.4   \n",
       "1                  98.2               1.4            7026.7    26953.3   \n",
       "2                  96.9               1.3            7097.4    26997.0   \n",
       "\n",
       "    CP유통수익률(%p)  \n",
       "0           1.9  \n",
       "1           2.0  \n",
       "2           2.0  \n",
       "\n",
       "[3 rows x 23 columns]"
      ]
     },
     "execution_count": 5,
     "metadata": {},
     "output_type": "execute_result"
    }
   ],
   "source": [
    "eco_df.head(3)"
   ]
  },
  {
   "cell_type": "code",
   "execution_count": 82,
   "id": "3aa0023b",
   "metadata": {},
   "outputs": [
    {
     "data": {
      "text/html": [
       "<div>\n",
       "<style scoped>\n",
       "    .dataframe tbody tr th:only-of-type {\n",
       "        vertical-align: middle;\n",
       "    }\n",
       "\n",
       "    .dataframe tbody tr th {\n",
       "        vertical-align: top;\n",
       "    }\n",
       "\n",
       "    .dataframe thead th {\n",
       "        text-align: right;\n",
       "    }\n",
       "</style>\n",
       "<table border=\"1\" class=\"dataframe\">\n",
       "  <thead>\n",
       "    <tr style=\"text-align: right;\">\n",
       "      <th></th>\n",
       "      <th>지역별(1)</th>\n",
       "      <th>지역별(2)</th>\n",
       "      <th>지역별(3)</th>\n",
       "      <th>상품군별(1)</th>\n",
       "      <th>상품군별(2)</th>\n",
       "      <th>판매유형별(1)</th>\n",
       "      <th>2019.1/4</th>\n",
       "      <th>2019.2/4</th>\n",
       "      <th>2019.3/4</th>\n",
       "      <th>2019.4/4</th>\n",
       "      <th>...</th>\n",
       "      <th>2021.2/4</th>\n",
       "      <th>2021.3/4</th>\n",
       "      <th>2021.4/4</th>\n",
       "      <th>2022.1/4</th>\n",
       "      <th>2022.2/4</th>\n",
       "      <th>2022.3/4</th>\n",
       "      <th>2022.4/4</th>\n",
       "      <th>2023.1/4</th>\n",
       "      <th>2023.2/4</th>\n",
       "      <th>2023.3/4 p)</th>\n",
       "    </tr>\n",
       "  </thead>\n",
       "  <tbody>\n",
       "    <tr>\n",
       "      <th>0</th>\n",
       "      <td>합계</td>\n",
       "      <td>소계</td>\n",
       "      <td>소계</td>\n",
       "      <td>합계</td>\n",
       "      <td>소계</td>\n",
       "      <td>계</td>\n",
       "      <td>1251122</td>\n",
       "      <td>1345723</td>\n",
       "      <td>1526135</td>\n",
       "      <td>1881628</td>\n",
       "      <td>...</td>\n",
       "      <td>1222986</td>\n",
       "      <td>1034913</td>\n",
       "      <td>926718</td>\n",
       "      <td>567581</td>\n",
       "      <td>505954</td>\n",
       "      <td>415148</td>\n",
       "      <td>353040</td>\n",
       "      <td>283913</td>\n",
       "      <td>462604</td>\n",
       "      <td>441568</td>\n",
       "    </tr>\n",
       "    <tr>\n",
       "      <th>1</th>\n",
       "      <td>합계</td>\n",
       "      <td>소계</td>\n",
       "      <td>소계</td>\n",
       "      <td>합계</td>\n",
       "      <td>소계</td>\n",
       "      <td>면세점</td>\n",
       "      <td>1070693</td>\n",
       "      <td>1157158</td>\n",
       "      <td>1336372</td>\n",
       "      <td>1655635</td>\n",
       "      <td>...</td>\n",
       "      <td>974415</td>\n",
       "      <td>795824</td>\n",
       "      <td>681168</td>\n",
       "      <td>363520</td>\n",
       "      <td>300602</td>\n",
       "      <td>211640</td>\n",
       "      <td>152113</td>\n",
       "      <td>111187</td>\n",
       "      <td>281235</td>\n",
       "      <td>271525</td>\n",
       "    </tr>\n",
       "    <tr>\n",
       "      <th>2</th>\n",
       "      <td>합계</td>\n",
       "      <td>소계</td>\n",
       "      <td>소계</td>\n",
       "      <td>합계</td>\n",
       "      <td>소계</td>\n",
       "      <td>면세점 이외</td>\n",
       "      <td>180429</td>\n",
       "      <td>188565</td>\n",
       "      <td>189763</td>\n",
       "      <td>225993</td>\n",
       "      <td>...</td>\n",
       "      <td>248571</td>\n",
       "      <td>239089</td>\n",
       "      <td>245550</td>\n",
       "      <td>204061</td>\n",
       "      <td>205352</td>\n",
       "      <td>203508</td>\n",
       "      <td>200927</td>\n",
       "      <td>172726</td>\n",
       "      <td>181369</td>\n",
       "      <td>170043</td>\n",
       "    </tr>\n",
       "  </tbody>\n",
       "</table>\n",
       "<p>3 rows × 25 columns</p>\n",
       "</div>"
      ],
      "text/plain": [
       "  지역별(1) 지역별(2) 지역별(3) 상품군별(1) 상품군별(2) 판매유형별(1) 2019.1/4 2019.2/4 2019.3/4  \\\n",
       "0     합계     소계     소계      합계      소계        계  1251122  1345723  1526135   \n",
       "1     합계     소계     소계      합계      소계      면세점  1070693  1157158  1336372   \n",
       "2     합계     소계     소계      합계      소계   면세점 이외   180429   188565   189763   \n",
       "\n",
       "  2019.4/4  ... 2021.2/4 2021.3/4 2021.4/4 2022.1/4 2022.2/4 2022.3/4  \\\n",
       "0  1881628  ...  1222986  1034913   926718   567581   505954   415148   \n",
       "1  1655635  ...   974415   795824   681168   363520   300602   211640   \n",
       "2   225993  ...   248571   239089   245550   204061   205352   203508   \n",
       "\n",
       "  2022.4/4 2023.1/4 2023.2/4 2023.3/4 p)  \n",
       "0   353040   283913   462604      441568  \n",
       "1   152113   111187   281235      271525  \n",
       "2   200927   172726   181369      170043  \n",
       "\n",
       "[3 rows x 25 columns]"
      ]
     },
     "execution_count": 82,
     "metadata": {},
     "output_type": "execute_result"
    }
   ],
   "source": [
    "shopping_df.head(3)"
   ]
  },
  {
   "cell_type": "markdown",
   "id": "fac9fa1e",
   "metadata": {},
   "source": [
    "## Analysis and Solutions of Hypothesis"
   ]
  },
  {
   "cell_type": "markdown",
   "id": "ea592acb",
   "metadata": {},
   "source": [
    "### Analysis for Hypothesis 1"
   ]
  },
  {
   "cell_type": "markdown",
   "id": "8a22c5ed",
   "metadata": {},
   "source": [
    "<li><font color = '#FACC2E'><font size = 4> [Hypothesis 1]: \"The Rise in the Economic Sentiment Index is Related to an Increase in Overseas Online Shopping Sales.\"</font></font> </li>"
   ]
  },
  {
   "cell_type": "markdown",
   "id": "c43b2af2",
   "metadata": {},
   "source": [
    "#### Load Necessary Libraries"
   ]
  },
  {
   "cell_type": "code",
   "execution_count": 52,
   "id": "befb50b6",
   "metadata": {},
   "outputs": [],
   "source": [
    "import numpy as np\n",
    "import matplotlib.pyplot as plt\n",
    "import seaborn as sns\n",
    "\n",
    "%matplotlib inline\n",
    "plt.style.use('default')\n",
    "\n",
    "# Customize the default style\n",
    "plt.rcParams['figure.facecolor'] = 'white'\n",
    "plt.rcParams['axes.facecolor'] = 'white'\n",
    "plt.rcParams['axes.edgecolor'] = 'black'\n",
    "plt.rcParams['axes.labelcolor'] = 'black'\n",
    "plt.rcParams['axes.titlecolor'] = 'black'\n",
    "plt.rcParams['xtick.color'] = 'black'\n",
    "plt.rcParams['ytick.color'] = 'black'\n"
   ]
  },
  {
   "cell_type": "markdown",
   "id": "decd84c4",
   "metadata": {},
   "source": [
    "#### Extract Only '경제심리지수' from eco_df Dataframe"
   ]
  },
  {
   "cell_type": "code",
   "execution_count": 22,
   "id": "5cb338f2",
   "metadata": {},
   "outputs": [
    {
     "name": "stdout",
     "output_type": "stream",
     "text": [
      "Index(['시점', ' 선행종합지수(2020=100)', ' 재고순환지표(%p)', ' 경제심리지수',\n",
      "       ' 기계류내수출하지수(선박제외)(2020=100)', ' 건설수주액(실질)(십억원)', '수출입물가비율(2015=100)',\n",
      "       '코스피(1980.1.4=100)', ' 장단기금리차(%p)', ' 동행종합지수(2020=100)',\n",
      "       ' 광공업생산지수(2020=100)', ' 서비스업생산지수(도소매업제외)(2020=100)', ' 건설기성액(실질)(십억원)',\n",
      "       ' 소매판매액지수(2020=100)', ' 내수출하지수(2020=100)', ' 수입액(실질)(백만불)',\n",
      "       ' 비농림어업취업자수(천명)', ' 후행종합지수(2020=100)', ' 생산자제품재고지수(2020=100)',\n",
      "       ' 소비자물가지수변화율(서비스)', ' 소비재수입액(실질)(백만불)', ' 취업자수(천명)', ' CP유통수익률(%p)'],\n",
      "      dtype='object')\n"
     ]
    }
   ],
   "source": [
    "print(eco_df.columns)"
   ]
  },
  {
   "cell_type": "code",
   "execution_count": 25,
   "id": "0361ecc3",
   "metadata": {},
   "outputs": [
    {
     "data": {
      "text/html": [
       "<div>\n",
       "<style scoped>\n",
       "    .dataframe tbody tr th:only-of-type {\n",
       "        vertical-align: middle;\n",
       "    }\n",
       "\n",
       "    .dataframe tbody tr th {\n",
       "        vertical-align: top;\n",
       "    }\n",
       "\n",
       "    .dataframe thead th {\n",
       "        text-align: right;\n",
       "    }\n",
       "</style>\n",
       "<table border=\"1\" class=\"dataframe\">\n",
       "  <thead>\n",
       "    <tr style=\"text-align: right;\">\n",
       "      <th></th>\n",
       "      <th>시점</th>\n",
       "      <th>경제심리지수</th>\n",
       "    </tr>\n",
       "  </thead>\n",
       "  <tbody>\n",
       "    <tr>\n",
       "      <th>0</th>\n",
       "      <td>2019.01</td>\n",
       "      <td>93.4</td>\n",
       "    </tr>\n",
       "    <tr>\n",
       "      <th>1</th>\n",
       "      <td>2019.02</td>\n",
       "      <td>94.4</td>\n",
       "    </tr>\n",
       "    <tr>\n",
       "      <th>2</th>\n",
       "      <td>2019.03</td>\n",
       "      <td>95.1</td>\n",
       "    </tr>\n",
       "    <tr>\n",
       "      <th>3</th>\n",
       "      <td>2019.04</td>\n",
       "      <td>96.9</td>\n",
       "    </tr>\n",
       "    <tr>\n",
       "      <th>4</th>\n",
       "      <td>2019.05</td>\n",
       "      <td>95.8</td>\n",
       "    </tr>\n",
       "  </tbody>\n",
       "</table>\n",
       "</div>"
      ],
      "text/plain": [
       "        시점   경제심리지수\n",
       "0  2019.01     93.4\n",
       "1  2019.02     94.4\n",
       "2  2019.03     95.1\n",
       "3  2019.04     96.9\n",
       "4  2019.05     95.8"
      ]
     },
     "execution_count": 25,
     "metadata": {},
     "output_type": "execute_result"
    }
   ],
   "source": [
    "eco_df_sentiment = pd.DataFrame(eco_df[['시점', ' 경제심리지수']])\n",
    "eco_df_sentiment.head()"
   ]
  },
  {
   "cell_type": "markdown",
   "id": "2d0d758e",
   "metadata": {},
   "source": [
    "#### Change the value 2023.07 p), 2023.08 p), 2023.09 p) to 2023.07, 2023.08, 2023.09"
   ]
  },
  {
   "cell_type": "code",
   "execution_count": 44,
   "id": "b69a9984",
   "metadata": {},
   "outputs": [
    {
     "data": {
      "text/html": [
       "<div>\n",
       "<style scoped>\n",
       "    .dataframe tbody tr th:only-of-type {\n",
       "        vertical-align: middle;\n",
       "    }\n",
       "\n",
       "    .dataframe tbody tr th {\n",
       "        vertical-align: top;\n",
       "    }\n",
       "\n",
       "    .dataframe thead th {\n",
       "        text-align: right;\n",
       "    }\n",
       "</style>\n",
       "<table border=\"1\" class=\"dataframe\">\n",
       "  <thead>\n",
       "    <tr style=\"text-align: right;\">\n",
       "      <th></th>\n",
       "      <th>시점</th>\n",
       "      <th>경제심리지수</th>\n",
       "    </tr>\n",
       "  </thead>\n",
       "  <tbody>\n",
       "    <tr>\n",
       "      <th>52</th>\n",
       "      <td>2023.05</td>\n",
       "      <td>93.2</td>\n",
       "    </tr>\n",
       "    <tr>\n",
       "      <th>53</th>\n",
       "      <td>2023.06</td>\n",
       "      <td>94.6</td>\n",
       "    </tr>\n",
       "    <tr>\n",
       "      <th>54</th>\n",
       "      <td>2023.07</td>\n",
       "      <td>94.7</td>\n",
       "    </tr>\n",
       "    <tr>\n",
       "      <th>55</th>\n",
       "      <td>2023.08</td>\n",
       "      <td>94.6</td>\n",
       "    </tr>\n",
       "    <tr>\n",
       "      <th>56</th>\n",
       "      <td>2023.09</td>\n",
       "      <td>93.6</td>\n",
       "    </tr>\n",
       "  </tbody>\n",
       "</table>\n",
       "</div>"
      ],
      "text/plain": [
       "         시점   경제심리지수\n",
       "52  2023.05     93.2\n",
       "53  2023.06     94.6\n",
       "54  2023.07     94.7\n",
       "55  2023.08     94.6\n",
       "56  2023.09     93.6"
      ]
     },
     "execution_count": 44,
     "metadata": {},
     "output_type": "execute_result"
    }
   ],
   "source": [
    "#'시점'이라는 열에서 'p)'를 제거\n",
    "eco_df_sentiment['시점'] = eco_df_sentiment['시점'].str.replace(\"2023.07\\)\", '2023.07', regex = False)\n",
    "eco_df_sentiment['시점'] = eco_df_sentiment['시점'].str.replace(\"2023.08\\)\", '2023.08', regex = False)\n",
    "eco_df_sentiment['시점'] = eco_df_sentiment['시점'].str.replace(\"2023.09\\)\", '2023.09', regex = False)\n",
    "\n",
    "\n",
    "eco_df_sentiment.tail()"
   ]
  },
  {
   "cell_type": "markdown",
   "id": "93da3c66",
   "metadata": {},
   "source": [
    "#### Only leave values for March, June, September, and December\n",
    "Since the time for shopping_df is ordered quarterly"
   ]
  },
  {
   "cell_type": "code",
   "execution_count": 48,
   "id": "c5ffc671",
   "metadata": {},
   "outputs": [
    {
     "data": {
      "text/html": [
       "<div>\n",
       "<style scoped>\n",
       "    .dataframe tbody tr th:only-of-type {\n",
       "        vertical-align: middle;\n",
       "    }\n",
       "\n",
       "    .dataframe tbody tr th {\n",
       "        vertical-align: top;\n",
       "    }\n",
       "\n",
       "    .dataframe thead th {\n",
       "        text-align: right;\n",
       "    }\n",
       "</style>\n",
       "<table border=\"1\" class=\"dataframe\">\n",
       "  <thead>\n",
       "    <tr style=\"text-align: right;\">\n",
       "      <th></th>\n",
       "      <th>시점</th>\n",
       "      <th>경제심리지수</th>\n",
       "    </tr>\n",
       "  </thead>\n",
       "  <tbody>\n",
       "    <tr>\n",
       "      <th>2</th>\n",
       "      <td>2019.03</td>\n",
       "      <td>95.1</td>\n",
       "    </tr>\n",
       "    <tr>\n",
       "      <th>5</th>\n",
       "      <td>2019.06</td>\n",
       "      <td>95.3</td>\n",
       "    </tr>\n",
       "    <tr>\n",
       "      <th>8</th>\n",
       "      <td>2019.09</td>\n",
       "      <td>92.1</td>\n",
       "    </tr>\n",
       "    <tr>\n",
       "      <th>11</th>\n",
       "      <td>2019.12</td>\n",
       "      <td>93.9</td>\n",
       "    </tr>\n",
       "    <tr>\n",
       "      <th>14</th>\n",
       "      <td>2020.03</td>\n",
       "      <td>85.1</td>\n",
       "    </tr>\n",
       "  </tbody>\n",
       "</table>\n",
       "</div>"
      ],
      "text/plain": [
       "         시점   경제심리지수\n",
       "2   2019.03     95.1\n",
       "5   2019.06     95.3\n",
       "8   2019.09     92.1\n",
       "11  2019.12     93.9\n",
       "14  2020.03     85.1"
      ]
     },
     "execution_count": 48,
     "metadata": {},
     "output_type": "execute_result"
    }
   ],
   "source": [
    "# 마지막 두 문자가 주어진 리스트에 있는 경우 해당 행을 선택\n",
    "to_drop = eco_df_sentiment['시점'].str[-2:].isin(['01', '02', '04', '05', '07', '08', '10', '11'])\n",
    "\n",
    "# 조건을 만족하는 행을 제거\n",
    "eco_df_sentiment = eco_df_sentiment[~to_drop]\n",
    "eco_df_sentiment.head()"
   ]
  },
  {
   "cell_type": "markdown",
   "id": "b5784b4c",
   "metadata": {},
   "source": [
    "####  Change the Months Into Quartiles"
   ]
  },
  {
   "cell_type": "code",
   "execution_count": 53,
   "id": "4aae498d",
   "metadata": {},
   "outputs": [
    {
     "data": {
      "text/html": [
       "<div>\n",
       "<style scoped>\n",
       "    .dataframe tbody tr th:only-of-type {\n",
       "        vertical-align: middle;\n",
       "    }\n",
       "\n",
       "    .dataframe tbody tr th {\n",
       "        vertical-align: top;\n",
       "    }\n",
       "\n",
       "    .dataframe thead th {\n",
       "        text-align: right;\n",
       "    }\n",
       "</style>\n",
       "<table border=\"1\" class=\"dataframe\">\n",
       "  <thead>\n",
       "    <tr style=\"text-align: right;\">\n",
       "      <th></th>\n",
       "      <th>시점</th>\n",
       "      <th>경제심리지수</th>\n",
       "    </tr>\n",
       "  </thead>\n",
       "  <tbody>\n",
       "    <tr>\n",
       "      <th>2</th>\n",
       "      <td>2019.1/4</td>\n",
       "      <td>95.1</td>\n",
       "    </tr>\n",
       "    <tr>\n",
       "      <th>5</th>\n",
       "      <td>2019.2/4</td>\n",
       "      <td>95.3</td>\n",
       "    </tr>\n",
       "    <tr>\n",
       "      <th>8</th>\n",
       "      <td>2019.3/4</td>\n",
       "      <td>92.1</td>\n",
       "    </tr>\n",
       "    <tr>\n",
       "      <th>11</th>\n",
       "      <td>2019.4/4</td>\n",
       "      <td>93.9</td>\n",
       "    </tr>\n",
       "    <tr>\n",
       "      <th>14</th>\n",
       "      <td>2020.1/4</td>\n",
       "      <td>85.1</td>\n",
       "    </tr>\n",
       "  </tbody>\n",
       "</table>\n",
       "</div>"
      ],
      "text/plain": [
       "          시점   경제심리지수\n",
       "2   2019.1/4     95.1\n",
       "5   2019.2/4     95.3\n",
       "8   2019.3/4     92.1\n",
       "11  2019.4/4     93.9\n",
       "14  2020.1/4     85.1"
      ]
     },
     "execution_count": 53,
     "metadata": {},
     "output_type": "execute_result"
    }
   ],
   "source": [
    "#월별 값을 분기별 값으로 변경\n",
    "eco_df_sentiment['시점'] = eco_df_sentiment['시점'].str.replace(\"03\", '1/4', regex = False)\n",
    "eco_df_sentiment['시점'] = eco_df_sentiment['시점'].str.replace(\"06\", '2/4', regex = False)\n",
    "eco_df_sentiment['시점'] = eco_df_sentiment['시점'].str.replace(\"09\", '3/4', regex = False)\n",
    "eco_df_sentiment['시점'] = eco_df_sentiment['시점'].str.replace(\"12\", '4/4', regex = False)\n",
    "\n",
    "\n",
    "eco_df_sentiment.head()"
   ]
  },
  {
   "cell_type": "markdown",
   "id": "49e37fc9",
   "metadata": {},
   "source": [
    "#### Visualize Economic Sentiment Index Over Time by Line Graph"
   ]
  },
  {
   "cell_type": "code",
   "execution_count": 100,
   "id": "622d908e",
   "metadata": {},
   "outputs": [
    {
     "data": {
      "image/png": "[encoded data removed]",
      "text/plain": [
       "<Figure size 2200x600 with 1 Axes>"
      ]
     },
     "metadata": {},
     "output_type": "display_data"
    }
   ],
   "source": [
    "plt.figure(figsize = (22,6))\n",
    "plt.plot(eco_df_sentiment['시점'], eco_df_sentiment[' 경제심리지수'], color = 'red', linestyle= '--', marker = 'o')\n",
    "plt.title('Variance of Economic Sentiment Index over Time')\n",
    "plt.xlabel('Time')\n",
    "plt.ylabel('Eco-Sent-Index')\n",
    "plt.ylim(50, 110)\n",
    "plt.show()"
   ]
  },
  {
   "cell_type": "markdown",
   "id": "1f482f65",
   "metadata": {},
   "source": [
    "#### Create Tidy Data - Move '분기' values in shopping_df to row values"
   ]
  },
  {
   "cell_type": "code",
   "execution_count": 56,
   "id": "c5a66807",
   "metadata": {},
   "outputs": [
    {
     "name": "stdout",
     "output_type": "stream",
     "text": [
      "Index(['지역별(1)', '지역별(2)', '지역별(3)', '상품군별(1)', '상품군별(2)', '판매유형별(1)',\n",
      "       '2019.1/4', '2019.2/4', '2019.3/4', '2019.4/4', '2020.1/4', '2020.2/4',\n",
      "       '2020.3/4', '2020.4/4', '2021.1/4', '2021.2/4', '2021.3/4', '2021.4/4',\n",
      "       '2022.1/4', '2022.2/4', '2022.3/4', '2022.4/4', '2023.1/4', '2023.2/4',\n",
      "       '2023.3/4 p)'],\n",
      "      dtype='object')\n"
     ]
    }
   ],
   "source": [
    "print(shopping_df.columns)"
   ]
  },
  {
   "cell_type": "code",
   "execution_count": 83,
   "id": "0fbe7f2c",
   "metadata": {},
   "outputs": [
    {
     "data": {
      "text/html": [
       "<div>\n",
       "<style scoped>\n",
       "    .dataframe tbody tr th:only-of-type {\n",
       "        vertical-align: middle;\n",
       "    }\n",
       "\n",
       "    .dataframe tbody tr th {\n",
       "        vertical-align: top;\n",
       "    }\n",
       "\n",
       "    .dataframe thead th {\n",
       "        text-align: right;\n",
       "    }\n",
       "</style>\n",
       "<table border=\"1\" class=\"dataframe\">\n",
       "  <thead>\n",
       "    <tr style=\"text-align: right;\">\n",
       "      <th></th>\n",
       "      <th>지역별(1)</th>\n",
       "      <th>지역별(2)</th>\n",
       "      <th>지역별(3)</th>\n",
       "      <th>상품군별(1)</th>\n",
       "      <th>상품군별(2)</th>\n",
       "      <th>판매유형별(1)</th>\n",
       "      <th>기간</th>\n",
       "      <th>백만원</th>\n",
       "    </tr>\n",
       "  </thead>\n",
       "  <tbody>\n",
       "    <tr>\n",
       "      <th>0</th>\n",
       "      <td>합계</td>\n",
       "      <td>소계</td>\n",
       "      <td>소계</td>\n",
       "      <td>합계</td>\n",
       "      <td>소계</td>\n",
       "      <td>계</td>\n",
       "      <td>2019.1/4</td>\n",
       "      <td>1251122</td>\n",
       "    </tr>\n",
       "    <tr>\n",
       "      <th>1</th>\n",
       "      <td>합계</td>\n",
       "      <td>소계</td>\n",
       "      <td>소계</td>\n",
       "      <td>합계</td>\n",
       "      <td>소계</td>\n",
       "      <td>면세점</td>\n",
       "      <td>2019.1/4</td>\n",
       "      <td>1070693</td>\n",
       "    </tr>\n",
       "    <tr>\n",
       "      <th>2</th>\n",
       "      <td>합계</td>\n",
       "      <td>소계</td>\n",
       "      <td>소계</td>\n",
       "      <td>합계</td>\n",
       "      <td>소계</td>\n",
       "      <td>면세점 이외</td>\n",
       "      <td>2019.1/4</td>\n",
       "      <td>180429</td>\n",
       "    </tr>\n",
       "    <tr>\n",
       "      <th>3</th>\n",
       "      <td>합계</td>\n",
       "      <td>소계</td>\n",
       "      <td>소계</td>\n",
       "      <td>컴퓨터 및 주변기기</td>\n",
       "      <td>소계</td>\n",
       "      <td>계</td>\n",
       "      <td>2019.1/4</td>\n",
       "      <td>3702</td>\n",
       "    </tr>\n",
       "    <tr>\n",
       "      <th>4</th>\n",
       "      <td>합계</td>\n",
       "      <td>소계</td>\n",
       "      <td>소계</td>\n",
       "      <td>컴퓨터 및 주변기기</td>\n",
       "      <td>소계</td>\n",
       "      <td>면세점</td>\n",
       "      <td>2019.1/4</td>\n",
       "      <td>2</td>\n",
       "    </tr>\n",
       "    <tr>\n",
       "      <th>...</th>\n",
       "      <td>...</td>\n",
       "      <td>...</td>\n",
       "      <td>...</td>\n",
       "      <td>...</td>\n",
       "      <td>...</td>\n",
       "      <td>...</td>\n",
       "      <td>...</td>\n",
       "      <td>...</td>\n",
       "    </tr>\n",
       "    <tr>\n",
       "      <th>18406</th>\n",
       "      <td>기타</td>\n",
       "      <td>소계</td>\n",
       "      <td>소계</td>\n",
       "      <td>생활·자동차용품</td>\n",
       "      <td>소계</td>\n",
       "      <td>면세점</td>\n",
       "      <td>2023.3/4 p)</td>\n",
       "      <td>-</td>\n",
       "    </tr>\n",
       "    <tr>\n",
       "      <th>18407</th>\n",
       "      <td>기타</td>\n",
       "      <td>소계</td>\n",
       "      <td>소계</td>\n",
       "      <td>생활·자동차용품</td>\n",
       "      <td>소계</td>\n",
       "      <td>면세점 이외</td>\n",
       "      <td>2023.3/4 p)</td>\n",
       "      <td>-</td>\n",
       "    </tr>\n",
       "    <tr>\n",
       "      <th>18408</th>\n",
       "      <td>기타</td>\n",
       "      <td>소계</td>\n",
       "      <td>소계</td>\n",
       "      <td>기 타</td>\n",
       "      <td>소계</td>\n",
       "      <td>계</td>\n",
       "      <td>2023.3/4 p)</td>\n",
       "      <td>-</td>\n",
       "    </tr>\n",
       "    <tr>\n",
       "      <th>18409</th>\n",
       "      <td>기타</td>\n",
       "      <td>소계</td>\n",
       "      <td>소계</td>\n",
       "      <td>기 타</td>\n",
       "      <td>소계</td>\n",
       "      <td>면세점</td>\n",
       "      <td>2023.3/4 p)</td>\n",
       "      <td>-</td>\n",
       "    </tr>\n",
       "    <tr>\n",
       "      <th>18410</th>\n",
       "      <td>기타</td>\n",
       "      <td>소계</td>\n",
       "      <td>소계</td>\n",
       "      <td>기 타</td>\n",
       "      <td>소계</td>\n",
       "      <td>면세점 이외</td>\n",
       "      <td>2023.3/4 p)</td>\n",
       "      <td>-</td>\n",
       "    </tr>\n",
       "  </tbody>\n",
       "</table>\n",
       "<p>18411 rows × 8 columns</p>\n",
       "</div>"
      ],
      "text/plain": [
       "      지역별(1) 지역별(2) 지역별(3)     상품군별(1) 상품군별(2) 판매유형별(1)           기간      백만원\n",
       "0         합계     소계     소계          합계      소계        계     2019.1/4  1251122\n",
       "1         합계     소계     소계          합계      소계      면세점     2019.1/4  1070693\n",
       "2         합계     소계     소계          합계      소계   면세점 이외     2019.1/4   180429\n",
       "3         합계     소계     소계  컴퓨터 및 주변기기      소계        계     2019.1/4     3702\n",
       "4         합계     소계     소계  컴퓨터 및 주변기기      소계      면세점     2019.1/4        2\n",
       "...      ...    ...    ...         ...     ...      ...          ...      ...\n",
       "18406     기타     소계     소계    생활·자동차용품      소계      면세점  2023.3/4 p)        -\n",
       "18407     기타     소계     소계    생활·자동차용품      소계   면세점 이외  2023.3/4 p)        -\n",
       "18408     기타     소계     소계         기 타      소계        계  2023.3/4 p)        -\n",
       "18409     기타     소계     소계         기 타      소계      면세점  2023.3/4 p)        -\n",
       "18410     기타     소계     소계         기 타      소계   면세점 이외  2023.3/4 p)        -\n",
       "\n",
       "[18411 rows x 8 columns]"
      ]
     },
     "execution_count": 83,
     "metadata": {},
     "output_type": "execute_result"
    }
   ],
   "source": [
    "shopping_df = shopping_df.melt(id_vars = ['지역별(1)', '지역별(2)', '지역별(3)', '상품군별(1)', '상품군별(2)', '판매유형별(1)']\n",
    "                    ,var_name = '기간', value_name = '백만원')\n",
    "shopping_df"
   ]
  },
  {
   "cell_type": "markdown",
   "id": "61b0934e",
   "metadata": {},
   "source": [
    "#### Change 2023.3/4 p) to 2023.3/4"
   ]
  },
  {
   "cell_type": "code",
   "execution_count": 84,
   "id": "9345c4f9",
   "metadata": {},
   "outputs": [
    {
     "data": {
      "text/html": [
       "<div>\n",
       "<style scoped>\n",
       "    .dataframe tbody tr th:only-of-type {\n",
       "        vertical-align: middle;\n",
       "    }\n",
       "\n",
       "    .dataframe tbody tr th {\n",
       "        vertical-align: top;\n",
       "    }\n",
       "\n",
       "    .dataframe thead th {\n",
       "        text-align: right;\n",
       "    }\n",
       "</style>\n",
       "<table border=\"1\" class=\"dataframe\">\n",
       "  <thead>\n",
       "    <tr style=\"text-align: right;\">\n",
       "      <th></th>\n",
       "      <th>지역별(1)</th>\n",
       "      <th>지역별(2)</th>\n",
       "      <th>지역별(3)</th>\n",
       "      <th>상품군별(1)</th>\n",
       "      <th>상품군별(2)</th>\n",
       "      <th>판매유형별(1)</th>\n",
       "      <th>기간</th>\n",
       "      <th>백만원</th>\n",
       "    </tr>\n",
       "  </thead>\n",
       "  <tbody>\n",
       "    <tr>\n",
       "      <th>0</th>\n",
       "      <td>합계</td>\n",
       "      <td>소계</td>\n",
       "      <td>소계</td>\n",
       "      <td>합계</td>\n",
       "      <td>소계</td>\n",
       "      <td>계</td>\n",
       "      <td>2019.1/4</td>\n",
       "      <td>1251122</td>\n",
       "    </tr>\n",
       "    <tr>\n",
       "      <th>1</th>\n",
       "      <td>합계</td>\n",
       "      <td>소계</td>\n",
       "      <td>소계</td>\n",
       "      <td>합계</td>\n",
       "      <td>소계</td>\n",
       "      <td>면세점</td>\n",
       "      <td>2019.1/4</td>\n",
       "      <td>1070693</td>\n",
       "    </tr>\n",
       "    <tr>\n",
       "      <th>2</th>\n",
       "      <td>합계</td>\n",
       "      <td>소계</td>\n",
       "      <td>소계</td>\n",
       "      <td>합계</td>\n",
       "      <td>소계</td>\n",
       "      <td>면세점 이외</td>\n",
       "      <td>2019.1/4</td>\n",
       "      <td>180429</td>\n",
       "    </tr>\n",
       "    <tr>\n",
       "      <th>3</th>\n",
       "      <td>합계</td>\n",
       "      <td>소계</td>\n",
       "      <td>소계</td>\n",
       "      <td>컴퓨터 및 주변기기</td>\n",
       "      <td>소계</td>\n",
       "      <td>계</td>\n",
       "      <td>2019.1/4</td>\n",
       "      <td>3702</td>\n",
       "    </tr>\n",
       "    <tr>\n",
       "      <th>4</th>\n",
       "      <td>합계</td>\n",
       "      <td>소계</td>\n",
       "      <td>소계</td>\n",
       "      <td>컴퓨터 및 주변기기</td>\n",
       "      <td>소계</td>\n",
       "      <td>면세점</td>\n",
       "      <td>2019.1/4</td>\n",
       "      <td>2</td>\n",
       "    </tr>\n",
       "    <tr>\n",
       "      <th>...</th>\n",
       "      <td>...</td>\n",
       "      <td>...</td>\n",
       "      <td>...</td>\n",
       "      <td>...</td>\n",
       "      <td>...</td>\n",
       "      <td>...</td>\n",
       "      <td>...</td>\n",
       "      <td>...</td>\n",
       "    </tr>\n",
       "    <tr>\n",
       "      <th>18406</th>\n",
       "      <td>기타</td>\n",
       "      <td>소계</td>\n",
       "      <td>소계</td>\n",
       "      <td>생활·자동차용품</td>\n",
       "      <td>소계</td>\n",
       "      <td>면세점</td>\n",
       "      <td>2023.3/4</td>\n",
       "      <td>-</td>\n",
       "    </tr>\n",
       "    <tr>\n",
       "      <th>18407</th>\n",
       "      <td>기타</td>\n",
       "      <td>소계</td>\n",
       "      <td>소계</td>\n",
       "      <td>생활·자동차용품</td>\n",
       "      <td>소계</td>\n",
       "      <td>면세점 이외</td>\n",
       "      <td>2023.3/4</td>\n",
       "      <td>-</td>\n",
       "    </tr>\n",
       "    <tr>\n",
       "      <th>18408</th>\n",
       "      <td>기타</td>\n",
       "      <td>소계</td>\n",
       "      <td>소계</td>\n",
       "      <td>기 타</td>\n",
       "      <td>소계</td>\n",
       "      <td>계</td>\n",
       "      <td>2023.3/4</td>\n",
       "      <td>-</td>\n",
       "    </tr>\n",
       "    <tr>\n",
       "      <th>18409</th>\n",
       "      <td>기타</td>\n",
       "      <td>소계</td>\n",
       "      <td>소계</td>\n",
       "      <td>기 타</td>\n",
       "      <td>소계</td>\n",
       "      <td>면세점</td>\n",
       "      <td>2023.3/4</td>\n",
       "      <td>-</td>\n",
       "    </tr>\n",
       "    <tr>\n",
       "      <th>18410</th>\n",
       "      <td>기타</td>\n",
       "      <td>소계</td>\n",
       "      <td>소계</td>\n",
       "      <td>기 타</td>\n",
       "      <td>소계</td>\n",
       "      <td>면세점 이외</td>\n",
       "      <td>2023.3/4</td>\n",
       "      <td>-</td>\n",
       "    </tr>\n",
       "  </tbody>\n",
       "</table>\n",
       "<p>18411 rows × 8 columns</p>\n",
       "</div>"
      ],
      "text/plain": [
       "      지역별(1) 지역별(2) 지역별(3)     상품군별(1) 상품군별(2) 판매유형별(1)        기간      백만원\n",
       "0         합계     소계     소계          합계      소계        계  2019.1/4  1251122\n",
       "1         합계     소계     소계          합계      소계      면세점  2019.1/4  1070693\n",
       "2         합계     소계     소계          합계      소계   면세점 이외  2019.1/4   180429\n",
       "3         합계     소계     소계  컴퓨터 및 주변기기      소계        계  2019.1/4     3702\n",
       "4         합계     소계     소계  컴퓨터 및 주변기기      소계      면세점  2019.1/4        2\n",
       "...      ...    ...    ...         ...     ...      ...       ...      ...\n",
       "18406     기타     소계     소계    생활·자동차용품      소계      면세점  2023.3/4        -\n",
       "18407     기타     소계     소계    생활·자동차용품      소계   면세점 이외  2023.3/4        -\n",
       "18408     기타     소계     소계         기 타      소계        계  2023.3/4        -\n",
       "18409     기타     소계     소계         기 타      소계      면세점  2023.3/4        -\n",
       "18410     기타     소계     소계         기 타      소계   면세점 이외  2023.3/4        -\n",
       "\n",
       "[18411 rows x 8 columns]"
      ]
     },
     "execution_count": 84,
     "metadata": {},
     "output_type": "execute_result"
    }
   ],
   "source": [
    "shopping_df['기간'] = shopping_df['기간'].str.replace(\"2023.3/4 p)\", '2023.3/4', regex = False)\n",
    "shopping_df"
   ]
  },
  {
   "cell_type": "markdown",
   "id": "77a01b56",
   "metadata": {},
   "source": [
    "#### Change '-' into Nan and change object type to float type"
   ]
  },
  {
   "cell_type": "code",
   "execution_count": 85,
   "id": "bcba6819",
   "metadata": {},
   "outputs": [
    {
     "data": {
      "text/html": [
       "<div>\n",
       "<style scoped>\n",
       "    .dataframe tbody tr th:only-of-type {\n",
       "        vertical-align: middle;\n",
       "    }\n",
       "\n",
       "    .dataframe tbody tr th {\n",
       "        vertical-align: top;\n",
       "    }\n",
       "\n",
       "    .dataframe thead th {\n",
       "        text-align: right;\n",
       "    }\n",
       "</style>\n",
       "<table border=\"1\" class=\"dataframe\">\n",
       "  <thead>\n",
       "    <tr style=\"text-align: right;\">\n",
       "      <th></th>\n",
       "      <th>지역별(1)</th>\n",
       "      <th>지역별(2)</th>\n",
       "      <th>지역별(3)</th>\n",
       "      <th>상품군별(1)</th>\n",
       "      <th>상품군별(2)</th>\n",
       "      <th>판매유형별(1)</th>\n",
       "      <th>기간</th>\n",
       "      <th>백만원</th>\n",
       "    </tr>\n",
       "  </thead>\n",
       "  <tbody>\n",
       "    <tr>\n",
       "      <th>0</th>\n",
       "      <td>합계</td>\n",
       "      <td>소계</td>\n",
       "      <td>소계</td>\n",
       "      <td>합계</td>\n",
       "      <td>소계</td>\n",
       "      <td>계</td>\n",
       "      <td>2019.1/4</td>\n",
       "      <td>1251122.0</td>\n",
       "    </tr>\n",
       "    <tr>\n",
       "      <th>1</th>\n",
       "      <td>합계</td>\n",
       "      <td>소계</td>\n",
       "      <td>소계</td>\n",
       "      <td>합계</td>\n",
       "      <td>소계</td>\n",
       "      <td>면세점</td>\n",
       "      <td>2019.1/4</td>\n",
       "      <td>1070693.0</td>\n",
       "    </tr>\n",
       "    <tr>\n",
       "      <th>2</th>\n",
       "      <td>합계</td>\n",
       "      <td>소계</td>\n",
       "      <td>소계</td>\n",
       "      <td>합계</td>\n",
       "      <td>소계</td>\n",
       "      <td>면세점 이외</td>\n",
       "      <td>2019.1/4</td>\n",
       "      <td>180429.0</td>\n",
       "    </tr>\n",
       "    <tr>\n",
       "      <th>3</th>\n",
       "      <td>합계</td>\n",
       "      <td>소계</td>\n",
       "      <td>소계</td>\n",
       "      <td>컴퓨터 및 주변기기</td>\n",
       "      <td>소계</td>\n",
       "      <td>계</td>\n",
       "      <td>2019.1/4</td>\n",
       "      <td>3702.0</td>\n",
       "    </tr>\n",
       "    <tr>\n",
       "      <th>4</th>\n",
       "      <td>합계</td>\n",
       "      <td>소계</td>\n",
       "      <td>소계</td>\n",
       "      <td>컴퓨터 및 주변기기</td>\n",
       "      <td>소계</td>\n",
       "      <td>면세점</td>\n",
       "      <td>2019.1/4</td>\n",
       "      <td>2.0</td>\n",
       "    </tr>\n",
       "    <tr>\n",
       "      <th>...</th>\n",
       "      <td>...</td>\n",
       "      <td>...</td>\n",
       "      <td>...</td>\n",
       "      <td>...</td>\n",
       "      <td>...</td>\n",
       "      <td>...</td>\n",
       "      <td>...</td>\n",
       "      <td>...</td>\n",
       "    </tr>\n",
       "    <tr>\n",
       "      <th>18406</th>\n",
       "      <td>기타</td>\n",
       "      <td>소계</td>\n",
       "      <td>소계</td>\n",
       "      <td>생활·자동차용품</td>\n",
       "      <td>소계</td>\n",
       "      <td>면세점</td>\n",
       "      <td>2023.3/4</td>\n",
       "      <td>NaN</td>\n",
       "    </tr>\n",
       "    <tr>\n",
       "      <th>18407</th>\n",
       "      <td>기타</td>\n",
       "      <td>소계</td>\n",
       "      <td>소계</td>\n",
       "      <td>생활·자동차용품</td>\n",
       "      <td>소계</td>\n",
       "      <td>면세점 이외</td>\n",
       "      <td>2023.3/4</td>\n",
       "      <td>NaN</td>\n",
       "    </tr>\n",
       "    <tr>\n",
       "      <th>18408</th>\n",
       "      <td>기타</td>\n",
       "      <td>소계</td>\n",
       "      <td>소계</td>\n",
       "      <td>기 타</td>\n",
       "      <td>소계</td>\n",
       "      <td>계</td>\n",
       "      <td>2023.3/4</td>\n",
       "      <td>NaN</td>\n",
       "    </tr>\n",
       "    <tr>\n",
       "      <th>18409</th>\n",
       "      <td>기타</td>\n",
       "      <td>소계</td>\n",
       "      <td>소계</td>\n",
       "      <td>기 타</td>\n",
       "      <td>소계</td>\n",
       "      <td>면세점</td>\n",
       "      <td>2023.3/4</td>\n",
       "      <td>NaN</td>\n",
       "    </tr>\n",
       "    <tr>\n",
       "      <th>18410</th>\n",
       "      <td>기타</td>\n",
       "      <td>소계</td>\n",
       "      <td>소계</td>\n",
       "      <td>기 타</td>\n",
       "      <td>소계</td>\n",
       "      <td>면세점 이외</td>\n",
       "      <td>2023.3/4</td>\n",
       "      <td>NaN</td>\n",
       "    </tr>\n",
       "  </tbody>\n",
       "</table>\n",
       "<p>18411 rows × 8 columns</p>\n",
       "</div>"
      ],
      "text/plain": [
       "      지역별(1) 지역별(2) 지역별(3)     상품군별(1) 상품군별(2) 판매유형별(1)        기간        백만원\n",
       "0         합계     소계     소계          합계      소계        계  2019.1/4  1251122.0\n",
       "1         합계     소계     소계          합계      소계      면세점  2019.1/4  1070693.0\n",
       "2         합계     소계     소계          합계      소계   면세점 이외  2019.1/4   180429.0\n",
       "3         합계     소계     소계  컴퓨터 및 주변기기      소계        계  2019.1/4     3702.0\n",
       "4         합계     소계     소계  컴퓨터 및 주변기기      소계      면세점  2019.1/4        2.0\n",
       "...      ...    ...    ...         ...     ...      ...       ...        ...\n",
       "18406     기타     소계     소계    생활·자동차용품      소계      면세점  2023.3/4        NaN\n",
       "18407     기타     소계     소계    생활·자동차용품      소계   면세점 이외  2023.3/4        NaN\n",
       "18408     기타     소계     소계         기 타      소계        계  2023.3/4        NaN\n",
       "18409     기타     소계     소계         기 타      소계      면세점  2023.3/4        NaN\n",
       "18410     기타     소계     소계         기 타      소계   면세점 이외  2023.3/4        NaN\n",
       "\n",
       "[18411 rows x 8 columns]"
      ]
     },
     "execution_count": 85,
     "metadata": {},
     "output_type": "execute_result"
    }
   ],
   "source": [
    "# - 를 결측치로 변경 후 금액 데이터를 수치형으로 변환\n",
    "shopping_df['백만원'] = shopping_df['백만원'].replace('-', np.nan).astype(float)\n",
    "shopping_df"
   ]
  },
  {
   "cell_type": "markdown",
   "id": "f19437bc",
   "metadata": {},
   "source": [
    "#### Remove Unnecessary Rows"
   ]
  },
  {
   "cell_type": "code",
   "execution_count": 87,
   "id": "55f9be12",
   "metadata": {},
   "outputs": [
    {
     "data": {
      "text/html": [
       "<div>\n",
       "<style scoped>\n",
       "    .dataframe tbody tr th:only-of-type {\n",
       "        vertical-align: middle;\n",
       "    }\n",
       "\n",
       "    .dataframe tbody tr th {\n",
       "        vertical-align: top;\n",
       "    }\n",
       "\n",
       "    .dataframe thead th {\n",
       "        text-align: right;\n",
       "    }\n",
       "</style>\n",
       "<table border=\"1\" class=\"dataframe\">\n",
       "  <thead>\n",
       "    <tr style=\"text-align: right;\">\n",
       "      <th></th>\n",
       "      <th>지역별(1)</th>\n",
       "      <th>지역별(2)</th>\n",
       "      <th>지역별(3)</th>\n",
       "      <th>상품군별(1)</th>\n",
       "      <th>상품군별(2)</th>\n",
       "      <th>판매유형별(1)</th>\n",
       "      <th>기간</th>\n",
       "      <th>백만원</th>\n",
       "    </tr>\n",
       "  </thead>\n",
       "  <tbody>\n",
       "    <tr>\n",
       "      <th>0</th>\n",
       "      <td>합계</td>\n",
       "      <td>소계</td>\n",
       "      <td>소계</td>\n",
       "      <td>합계</td>\n",
       "      <td>소계</td>\n",
       "      <td>계</td>\n",
       "      <td>2019.1/4</td>\n",
       "      <td>1251122.0</td>\n",
       "    </tr>\n",
       "    <tr>\n",
       "      <th>1</th>\n",
       "      <td>합계</td>\n",
       "      <td>소계</td>\n",
       "      <td>소계</td>\n",
       "      <td>합계</td>\n",
       "      <td>소계</td>\n",
       "      <td>면세점</td>\n",
       "      <td>2019.1/4</td>\n",
       "      <td>1070693.0</td>\n",
       "    </tr>\n",
       "    <tr>\n",
       "      <th>2</th>\n",
       "      <td>합계</td>\n",
       "      <td>소계</td>\n",
       "      <td>소계</td>\n",
       "      <td>합계</td>\n",
       "      <td>소계</td>\n",
       "      <td>면세점 이외</td>\n",
       "      <td>2019.1/4</td>\n",
       "      <td>180429.0</td>\n",
       "    </tr>\n",
       "    <tr>\n",
       "      <th>969</th>\n",
       "      <td>합계</td>\n",
       "      <td>소계</td>\n",
       "      <td>소계</td>\n",
       "      <td>합계</td>\n",
       "      <td>소계</td>\n",
       "      <td>계</td>\n",
       "      <td>2019.2/4</td>\n",
       "      <td>1345723.0</td>\n",
       "    </tr>\n",
       "    <tr>\n",
       "      <th>970</th>\n",
       "      <td>합계</td>\n",
       "      <td>소계</td>\n",
       "      <td>소계</td>\n",
       "      <td>합계</td>\n",
       "      <td>소계</td>\n",
       "      <td>면세점</td>\n",
       "      <td>2019.2/4</td>\n",
       "      <td>1157158.0</td>\n",
       "    </tr>\n",
       "    <tr>\n",
       "      <th>971</th>\n",
       "      <td>합계</td>\n",
       "      <td>소계</td>\n",
       "      <td>소계</td>\n",
       "      <td>합계</td>\n",
       "      <td>소계</td>\n",
       "      <td>면세점 이외</td>\n",
       "      <td>2019.2/4</td>\n",
       "      <td>188565.0</td>\n",
       "    </tr>\n",
       "    <tr>\n",
       "      <th>1938</th>\n",
       "      <td>합계</td>\n",
       "      <td>소계</td>\n",
       "      <td>소계</td>\n",
       "      <td>합계</td>\n",
       "      <td>소계</td>\n",
       "      <td>계</td>\n",
       "      <td>2019.3/4</td>\n",
       "      <td>1526135.0</td>\n",
       "    </tr>\n",
       "    <tr>\n",
       "      <th>1939</th>\n",
       "      <td>합계</td>\n",
       "      <td>소계</td>\n",
       "      <td>소계</td>\n",
       "      <td>합계</td>\n",
       "      <td>소계</td>\n",
       "      <td>면세점</td>\n",
       "      <td>2019.3/4</td>\n",
       "      <td>1336372.0</td>\n",
       "    </tr>\n",
       "    <tr>\n",
       "      <th>1940</th>\n",
       "      <td>합계</td>\n",
       "      <td>소계</td>\n",
       "      <td>소계</td>\n",
       "      <td>합계</td>\n",
       "      <td>소계</td>\n",
       "      <td>면세점 이외</td>\n",
       "      <td>2019.3/4</td>\n",
       "      <td>189763.0</td>\n",
       "    </tr>\n",
       "    <tr>\n",
       "      <th>2907</th>\n",
       "      <td>합계</td>\n",
       "      <td>소계</td>\n",
       "      <td>소계</td>\n",
       "      <td>합계</td>\n",
       "      <td>소계</td>\n",
       "      <td>계</td>\n",
       "      <td>2019.4/4</td>\n",
       "      <td>1881628.0</td>\n",
       "    </tr>\n",
       "  </tbody>\n",
       "</table>\n",
       "</div>"
      ],
      "text/plain": [
       "     지역별(1) 지역별(2) 지역별(3) 상품군별(1) 상품군별(2) 판매유형별(1)        기간        백만원\n",
       "0        합계     소계     소계      합계      소계        계  2019.1/4  1251122.0\n",
       "1        합계     소계     소계      합계      소계      면세점  2019.1/4  1070693.0\n",
       "2        합계     소계     소계      합계      소계   면세점 이외  2019.1/4   180429.0\n",
       "969      합계     소계     소계      합계      소계        계  2019.2/4  1345723.0\n",
       "970      합계     소계     소계      합계      소계      면세점  2019.2/4  1157158.0\n",
       "971      합계     소계     소계      합계      소계   면세점 이외  2019.2/4   188565.0\n",
       "1938     합계     소계     소계      합계      소계        계  2019.3/4  1526135.0\n",
       "1939     합계     소계     소계      합계      소계      면세점  2019.3/4  1336372.0\n",
       "1940     합계     소계     소계      합계      소계   면세점 이외  2019.3/4   189763.0\n",
       "2907     합계     소계     소계      합계      소계        계  2019.4/4  1881628.0"
      ]
     },
     "execution_count": 87,
     "metadata": {},
     "output_type": "execute_result"
    }
   ],
   "source": [
    "## 합계만 보기\n",
    "shopping_df = shopping_df[(shopping_df['지역별(1)'] == '합계') & (shopping_df['상품군별(1)'] == '합계')]\n",
    "shopping_df.head(10)"
   ]
  },
  {
   "cell_type": "markdown",
   "id": "d2cd206d",
   "metadata": {},
   "source": [
    "#### Check Nan Values"
   ]
  },
  {
   "cell_type": "code",
   "execution_count": 88,
   "id": "4176e7a0",
   "metadata": {},
   "outputs": [
    {
     "data": {
      "text/plain": [
       "지역별(1)      0\n",
       "지역별(2)      0\n",
       "지역별(3)      0\n",
       "상품군별(1)     0\n",
       "상품군별(2)     0\n",
       "판매유형별(1)    0\n",
       "기간          0\n",
       "백만원         0\n",
       "dtype: int64"
      ]
     },
     "execution_count": 88,
     "metadata": {},
     "output_type": "execute_result"
    }
   ],
   "source": [
    "shopping_df.isnull().sum()"
   ]
  },
  {
   "cell_type": "markdown",
   "id": "b4fa6de7",
   "metadata": {},
   "source": [
    "#### '판매유형별(1)' == '계'"
   ]
  },
  {
   "cell_type": "code",
   "execution_count": 91,
   "id": "d42ac1ee",
   "metadata": {},
   "outputs": [
    {
     "data": {
      "text/html": [
       "<div>\n",
       "<style scoped>\n",
       "    .dataframe tbody tr th:only-of-type {\n",
       "        vertical-align: middle;\n",
       "    }\n",
       "\n",
       "    .dataframe tbody tr th {\n",
       "        vertical-align: top;\n",
       "    }\n",
       "\n",
       "    .dataframe thead th {\n",
       "        text-align: right;\n",
       "    }\n",
       "</style>\n",
       "<table border=\"1\" class=\"dataframe\">\n",
       "  <thead>\n",
       "    <tr style=\"text-align: right;\">\n",
       "      <th></th>\n",
       "      <th>지역별(1)</th>\n",
       "      <th>지역별(2)</th>\n",
       "      <th>지역별(3)</th>\n",
       "      <th>상품군별(1)</th>\n",
       "      <th>상품군별(2)</th>\n",
       "      <th>판매유형별(1)</th>\n",
       "      <th>기간</th>\n",
       "      <th>백만원</th>\n",
       "    </tr>\n",
       "  </thead>\n",
       "  <tbody>\n",
       "    <tr>\n",
       "      <th>0</th>\n",
       "      <td>합계</td>\n",
       "      <td>소계</td>\n",
       "      <td>소계</td>\n",
       "      <td>합계</td>\n",
       "      <td>소계</td>\n",
       "      <td>계</td>\n",
       "      <td>2019.1/4</td>\n",
       "      <td>1251122.0</td>\n",
       "    </tr>\n",
       "    <tr>\n",
       "      <th>969</th>\n",
       "      <td>합계</td>\n",
       "      <td>소계</td>\n",
       "      <td>소계</td>\n",
       "      <td>합계</td>\n",
       "      <td>소계</td>\n",
       "      <td>계</td>\n",
       "      <td>2019.2/4</td>\n",
       "      <td>1345723.0</td>\n",
       "    </tr>\n",
       "    <tr>\n",
       "      <th>1938</th>\n",
       "      <td>합계</td>\n",
       "      <td>소계</td>\n",
       "      <td>소계</td>\n",
       "      <td>합계</td>\n",
       "      <td>소계</td>\n",
       "      <td>계</td>\n",
       "      <td>2019.3/4</td>\n",
       "      <td>1526135.0</td>\n",
       "    </tr>\n",
       "    <tr>\n",
       "      <th>2907</th>\n",
       "      <td>합계</td>\n",
       "      <td>소계</td>\n",
       "      <td>소계</td>\n",
       "      <td>합계</td>\n",
       "      <td>소계</td>\n",
       "      <td>계</td>\n",
       "      <td>2019.4/4</td>\n",
       "      <td>1881628.0</td>\n",
       "    </tr>\n",
       "    <tr>\n",
       "      <th>3876</th>\n",
       "      <td>합계</td>\n",
       "      <td>소계</td>\n",
       "      <td>소계</td>\n",
       "      <td>합계</td>\n",
       "      <td>소계</td>\n",
       "      <td>계</td>\n",
       "      <td>2020.1/4</td>\n",
       "      <td>1531212.0</td>\n",
       "    </tr>\n",
       "    <tr>\n",
       "      <th>4845</th>\n",
       "      <td>합계</td>\n",
       "      <td>소계</td>\n",
       "      <td>소계</td>\n",
       "      <td>합계</td>\n",
       "      <td>소계</td>\n",
       "      <td>계</td>\n",
       "      <td>2020.2/4</td>\n",
       "      <td>1290332.0</td>\n",
       "    </tr>\n",
       "    <tr>\n",
       "      <th>5814</th>\n",
       "      <td>합계</td>\n",
       "      <td>소계</td>\n",
       "      <td>소계</td>\n",
       "      <td>합계</td>\n",
       "      <td>소계</td>\n",
       "      <td>계</td>\n",
       "      <td>2020.3/4</td>\n",
       "      <td>1656729.0</td>\n",
       "    </tr>\n",
       "    <tr>\n",
       "      <th>6783</th>\n",
       "      <td>합계</td>\n",
       "      <td>소계</td>\n",
       "      <td>소계</td>\n",
       "      <td>합계</td>\n",
       "      <td>소계</td>\n",
       "      <td>계</td>\n",
       "      <td>2020.4/4</td>\n",
       "      <td>1525174.0</td>\n",
       "    </tr>\n",
       "    <tr>\n",
       "      <th>7752</th>\n",
       "      <td>합계</td>\n",
       "      <td>소계</td>\n",
       "      <td>소계</td>\n",
       "      <td>합계</td>\n",
       "      <td>소계</td>\n",
       "      <td>계</td>\n",
       "      <td>2021.1/4</td>\n",
       "      <td>1206923.0</td>\n",
       "    </tr>\n",
       "    <tr>\n",
       "      <th>8721</th>\n",
       "      <td>합계</td>\n",
       "      <td>소계</td>\n",
       "      <td>소계</td>\n",
       "      <td>합계</td>\n",
       "      <td>소계</td>\n",
       "      <td>계</td>\n",
       "      <td>2021.2/4</td>\n",
       "      <td>1222986.0</td>\n",
       "    </tr>\n",
       "    <tr>\n",
       "      <th>9690</th>\n",
       "      <td>합계</td>\n",
       "      <td>소계</td>\n",
       "      <td>소계</td>\n",
       "      <td>합계</td>\n",
       "      <td>소계</td>\n",
       "      <td>계</td>\n",
       "      <td>2021.3/4</td>\n",
       "      <td>1034913.0</td>\n",
       "    </tr>\n",
       "    <tr>\n",
       "      <th>10659</th>\n",
       "      <td>합계</td>\n",
       "      <td>소계</td>\n",
       "      <td>소계</td>\n",
       "      <td>합계</td>\n",
       "      <td>소계</td>\n",
       "      <td>계</td>\n",
       "      <td>2021.4/4</td>\n",
       "      <td>926718.0</td>\n",
       "    </tr>\n",
       "    <tr>\n",
       "      <th>11628</th>\n",
       "      <td>합계</td>\n",
       "      <td>소계</td>\n",
       "      <td>소계</td>\n",
       "      <td>합계</td>\n",
       "      <td>소계</td>\n",
       "      <td>계</td>\n",
       "      <td>2022.1/4</td>\n",
       "      <td>567581.0</td>\n",
       "    </tr>\n",
       "    <tr>\n",
       "      <th>12597</th>\n",
       "      <td>합계</td>\n",
       "      <td>소계</td>\n",
       "      <td>소계</td>\n",
       "      <td>합계</td>\n",
       "      <td>소계</td>\n",
       "      <td>계</td>\n",
       "      <td>2022.2/4</td>\n",
       "      <td>505954.0</td>\n",
       "    </tr>\n",
       "    <tr>\n",
       "      <th>13566</th>\n",
       "      <td>합계</td>\n",
       "      <td>소계</td>\n",
       "      <td>소계</td>\n",
       "      <td>합계</td>\n",
       "      <td>소계</td>\n",
       "      <td>계</td>\n",
       "      <td>2022.3/4</td>\n",
       "      <td>415148.0</td>\n",
       "    </tr>\n",
       "    <tr>\n",
       "      <th>14535</th>\n",
       "      <td>합계</td>\n",
       "      <td>소계</td>\n",
       "      <td>소계</td>\n",
       "      <td>합계</td>\n",
       "      <td>소계</td>\n",
       "      <td>계</td>\n",
       "      <td>2022.4/4</td>\n",
       "      <td>353040.0</td>\n",
       "    </tr>\n",
       "    <tr>\n",
       "      <th>15504</th>\n",
       "      <td>합계</td>\n",
       "      <td>소계</td>\n",
       "      <td>소계</td>\n",
       "      <td>합계</td>\n",
       "      <td>소계</td>\n",
       "      <td>계</td>\n",
       "      <td>2023.1/4</td>\n",
       "      <td>283913.0</td>\n",
       "    </tr>\n",
       "    <tr>\n",
       "      <th>16473</th>\n",
       "      <td>합계</td>\n",
       "      <td>소계</td>\n",
       "      <td>소계</td>\n",
       "      <td>합계</td>\n",
       "      <td>소계</td>\n",
       "      <td>계</td>\n",
       "      <td>2023.2/4</td>\n",
       "      <td>462604.0</td>\n",
       "    </tr>\n",
       "    <tr>\n",
       "      <th>17442</th>\n",
       "      <td>합계</td>\n",
       "      <td>소계</td>\n",
       "      <td>소계</td>\n",
       "      <td>합계</td>\n",
       "      <td>소계</td>\n",
       "      <td>계</td>\n",
       "      <td>2023.3/4</td>\n",
       "      <td>441568.0</td>\n",
       "    </tr>\n",
       "  </tbody>\n",
       "</table>\n",
       "</div>"
      ],
      "text/plain": [
       "      지역별(1) 지역별(2) 지역별(3) 상품군별(1) 상품군별(2) 판매유형별(1)        기간        백만원\n",
       "0         합계     소계     소계      합계      소계        계  2019.1/4  1251122.0\n",
       "969       합계     소계     소계      합계      소계        계  2019.2/4  1345723.0\n",
       "1938      합계     소계     소계      합계      소계        계  2019.3/4  1526135.0\n",
       "2907      합계     소계     소계      합계      소계        계  2019.4/4  1881628.0\n",
       "3876      합계     소계     소계      합계      소계        계  2020.1/4  1531212.0\n",
       "4845      합계     소계     소계      합계      소계        계  2020.2/4  1290332.0\n",
       "5814      합계     소계     소계      합계      소계        계  2020.3/4  1656729.0\n",
       "6783      합계     소계     소계      합계      소계        계  2020.4/4  1525174.0\n",
       "7752      합계     소계     소계      합계      소계        계  2021.1/4  1206923.0\n",
       "8721      합계     소계     소계      합계      소계        계  2021.2/4  1222986.0\n",
       "9690      합계     소계     소계      합계      소계        계  2021.3/4  1034913.0\n",
       "10659     합계     소계     소계      합계      소계        계  2021.4/4   926718.0\n",
       "11628     합계     소계     소계      합계      소계        계  2022.1/4   567581.0\n",
       "12597     합계     소계     소계      합계      소계        계  2022.2/4   505954.0\n",
       "13566     합계     소계     소계      합계      소계        계  2022.3/4   415148.0\n",
       "14535     합계     소계     소계      합계      소계        계  2022.4/4   353040.0\n",
       "15504     합계     소계     소계      합계      소계        계  2023.1/4   283913.0\n",
       "16473     합계     소계     소계      합계      소계        계  2023.2/4   462604.0\n",
       "17442     합계     소계     소계      합계      소계        계  2023.3/4   441568.0"
      ]
     },
     "execution_count": 91,
     "metadata": {},
     "output_type": "execute_result"
    }
   ],
   "source": [
    "shopping_df = shopping_df[(shopping_df['판매유형별(1)'] == '계')]\n",
    "shopping_df"
   ]
  },
  {
   "cell_type": "markdown",
   "id": "1e6fd1cb",
   "metadata": {},
   "source": [
    "이제 분기별로 상품군별 총 합계량이 정리되었다"
   ]
  },
  {
   "cell_type": "markdown",
   "id": "86606cb9",
   "metadata": {},
   "source": [
    "#### Visualize Sales Over Time by Bar Graph"
   ]
  },
  {
   "cell_type": "code",
   "execution_count": 125,
   "id": "432c66dc",
   "metadata": {},
   "outputs": [
    {
     "data": {
      "image/png": "[encoded data removed]",
      "text/plain": [
       "<Figure size 2200x600 with 1 Axes>"
      ]
     },
     "metadata": {},
     "output_type": "display_data"
    }
   ],
   "source": [
    "plt.figure(figsize = (22,6))\n",
    "plt.bar(shopping_df['기간'], shopping_df['백만원'], color = '#2CC69E')\n",
    "plt.title('Changes in Online Shopping Sales During 2019~2023')\n",
    "plt.xlabel('Time')\n",
    "plt.ylabel('Sales')\n",
    "plt.show()"
   ]
  },
  {
   "cell_type": "markdown",
   "id": "de48db59",
   "metadata": {},
   "source": [
    "#### Plot Two Graphs Together"
   ]
  },
  {
   "cell_type": "code",
   "execution_count": 156,
   "id": "4ea8f052",
   "metadata": {},
   "outputs": [
    {
     "data": {
      "image/png": "[encoded data removed]",
      "text/plain": [
       "<Figure size 2200x600 with 2 Axes>"
      ]
     },
     "metadata": {},
     "output_type": "display_data"
    }
   ],
   "source": [
    "import matplotlib.pyplot as plt\n",
    "\n",
    "x = shopping_df['기간']\n",
    "y1 = shopping_df['백만원']\n",
    "y2 = eco_df_sentiment[' 경제심리지수']\n",
    "\n",
    "# Create the figure and axis objects with specified figsize\n",
    "fig, ax1 = plt.subplots(figsize=(22,6))\n",
    "\n",
    "# Plot the bar chart\n",
    "ax1.bar(x, y1, color='#17B3EA', label='Online Shopping Sales', zorder = 1)\n",
    "ax1.set_xlabel('Time')\n",
    "ax1.set_ylabel('Sales in millions')\n",
    "ax1.tick_params('y')\n",
    "\n",
    "\n",
    "# Create a secondary y-axis for the line plot\n",
    "ax2 = ax1.twinx()\n",
    "\n",
    "ax2.plot(x, y2, color='r', linestyle='--', marker='o', label='Economic Sentiment Index', zorder = 2)\n",
    "ax2.set_ylabel('Economic Sentiment Index')\n",
    "ax2.set_ylim(0,150)\n",
    "ax2.tick_params('y')\n",
    "\n",
    "\n",
    "# Add a title and a legend\n",
    "plt.title('Online Shopping Sales and Economic Sentiment Index Over Time')\n",
    "ax1.legend(loc='upper left')\n",
    "ax2.legend(loc='upper right')\n",
    "\n",
    "# Show the plot\n",
    "plt.show()\n"
   ]
  },
  {
   "cell_type": "markdown",
   "id": "4f729197",
   "metadata": {},
   "source": [
    "#### Solution of Hypothesis 1"
   ]
  },
  {
   "cell_type": "markdown",
   "id": "1fa626b4",
   "metadata": {},
   "source": [
    "<details>\n",
    "    <summary><font color = '#EBC22A'><font size = 4>>Click to See Solution</font></font></summary>\n",
    "    <ul> The Economic Sentiment Index and the Online Shopping Sales generally seem to have an \n",
    "        inversely proportional relationship\n",
    "        \n",
    "    경제심리지수와 온라인 해외 판매 내역은 일반적으로 반비례관계를 가지는 것으로 보인다\n",
    "    </ul>\n",
    "</details>\n",
    "    "
   ]
  },
  {
   "cell_type": "markdown",
   "id": "47982ab0",
   "metadata": {},
   "source": [
    " ------------------------------------------------------------------------"
   ]
  },
  {
   "cell_type": "markdown",
   "id": "92d1a223",
   "metadata": {},
   "source": [
    "### Analysis for Hypothesis 2"
   ]
  },
  {
   "cell_type": "markdown",
   "id": "d4f895a0",
   "metadata": {},
   "source": [
    "<li> <font color = '#FACC2E'><font size = 4>[Hypothesis 2]: \"The Volatility of the KOSPI Index Affects the Sales of Specific Product Groups in Overseas Online Shopping.\"</font></font> </li>"
   ]
  },
  {
   "cell_type": "markdown",
   "id": "d10ddec4",
   "metadata": {},
   "source": [
    "#### Extract Only 'KOSPI' from eco_df Dataframe"
   ]
  },
  {
   "cell_type": "code",
   "execution_count": 139,
   "id": "dff53a6a",
   "metadata": {},
   "outputs": [
    {
     "data": {
      "text/html": [
       "<div>\n",
       "<style scoped>\n",
       "    .dataframe tbody tr th:only-of-type {\n",
       "        vertical-align: middle;\n",
       "    }\n",
       "\n",
       "    .dataframe tbody tr th {\n",
       "        vertical-align: top;\n",
       "    }\n",
       "\n",
       "    .dataframe thead th {\n",
       "        text-align: right;\n",
       "    }\n",
       "</style>\n",
       "<table border=\"1\" class=\"dataframe\">\n",
       "  <thead>\n",
       "    <tr style=\"text-align: right;\">\n",
       "      <th></th>\n",
       "      <th>시점</th>\n",
       "      <th>코스피(1980.1.4=100)</th>\n",
       "    </tr>\n",
       "  </thead>\n",
       "  <tbody>\n",
       "    <tr>\n",
       "      <th>0</th>\n",
       "      <td>2019.01</td>\n",
       "      <td>2085.1</td>\n",
       "    </tr>\n",
       "    <tr>\n",
       "      <th>1</th>\n",
       "      <td>2019.02</td>\n",
       "      <td>2127.4</td>\n",
       "    </tr>\n",
       "    <tr>\n",
       "      <th>2</th>\n",
       "      <td>2019.03</td>\n",
       "      <td>2158.0</td>\n",
       "    </tr>\n",
       "    <tr>\n",
       "      <th>3</th>\n",
       "      <td>2019.04</td>\n",
       "      <td>2194.7</td>\n",
       "    </tr>\n",
       "    <tr>\n",
       "      <th>4</th>\n",
       "      <td>2019.05</td>\n",
       "      <td>2153.6</td>\n",
       "    </tr>\n",
       "  </tbody>\n",
       "</table>\n",
       "</div>"
      ],
      "text/plain": [
       "        시점  코스피(1980.1.4=100)\n",
       "0  2019.01             2085.1\n",
       "1  2019.02             2127.4\n",
       "2  2019.03             2158.0\n",
       "3  2019.04             2194.7\n",
       "4  2019.05             2153.6"
      ]
     },
     "execution_count": 139,
     "metadata": {},
     "output_type": "execute_result"
    }
   ],
   "source": [
    "eco_df_kospi = pd.DataFrame(eco_df[['시점', '코스피(1980.1.4=100)']])\n",
    "eco_df_kospi.head()"
   ]
  },
  {
   "cell_type": "markdown",
   "id": "7d31f0a9",
   "metadata": {},
   "source": [
    "#### Change the value 2023.07 p), 2023.08 p), 2023.09 p) to 2023.07, 2023.08, 2023.09¶"
   ]
  },
  {
   "cell_type": "code",
   "execution_count": 140,
   "id": "20fc22ad",
   "metadata": {},
   "outputs": [
    {
     "data": {
      "text/html": [
       "<div>\n",
       "<style scoped>\n",
       "    .dataframe tbody tr th:only-of-type {\n",
       "        vertical-align: middle;\n",
       "    }\n",
       "\n",
       "    .dataframe tbody tr th {\n",
       "        vertical-align: top;\n",
       "    }\n",
       "\n",
       "    .dataframe thead th {\n",
       "        text-align: right;\n",
       "    }\n",
       "</style>\n",
       "<table border=\"1\" class=\"dataframe\">\n",
       "  <thead>\n",
       "    <tr style=\"text-align: right;\">\n",
       "      <th></th>\n",
       "      <th>시점</th>\n",
       "      <th>코스피(1980.1.4=100)</th>\n",
       "    </tr>\n",
       "  </thead>\n",
       "  <tbody>\n",
       "    <tr>\n",
       "      <th>52</th>\n",
       "      <td>2023.05</td>\n",
       "      <td>2488.4</td>\n",
       "    </tr>\n",
       "    <tr>\n",
       "      <th>53</th>\n",
       "      <td>2023.06</td>\n",
       "      <td>2548.9</td>\n",
       "    </tr>\n",
       "    <tr>\n",
       "      <th>54</th>\n",
       "      <td>2023.07</td>\n",
       "      <td>2572.6</td>\n",
       "    </tr>\n",
       "    <tr>\n",
       "      <th>55</th>\n",
       "      <td>2023.08</td>\n",
       "      <td>2585.1</td>\n",
       "    </tr>\n",
       "    <tr>\n",
       "      <th>56</th>\n",
       "      <td>2023.09</td>\n",
       "      <td>2566.8</td>\n",
       "    </tr>\n",
       "  </tbody>\n",
       "</table>\n",
       "</div>"
      ],
      "text/plain": [
       "         시점  코스피(1980.1.4=100)\n",
       "52  2023.05             2488.4\n",
       "53  2023.06             2548.9\n",
       "54  2023.07             2572.6\n",
       "55  2023.08             2585.1\n",
       "56  2023.09             2566.8"
      ]
     },
     "execution_count": 140,
     "metadata": {},
     "output_type": "execute_result"
    }
   ],
   "source": [
    "#'시점'이라는 열에서 'p)'를 제거\n",
    "eco_df_kospi['시점'] = eco_df_kospi['시점'].str.replace(\"2023.07 p)\", '2023.07', regex = False)\n",
    "eco_df_kospi['시점'] = eco_df_kospi['시점'].str.replace(\"2023.08 p)\", '2023.08', regex = False)\n",
    "eco_df_kospi['시점'] = eco_df_kospi['시점'].str.replace(\"2023.09 p)\", '2023.09', regex = False)\n",
    "\n",
    "\n",
    "eco_df_kospi.tail()"
   ]
  },
  {
   "cell_type": "markdown",
   "id": "629aa2df",
   "metadata": {},
   "source": [
    "#### Only leave values for March, June, September, and December\n",
    "Since the time for shopping_df is ordered quarterly"
   ]
  },
  {
   "cell_type": "code",
   "execution_count": 141,
   "id": "35821212",
   "metadata": {},
   "outputs": [
    {
     "data": {
      "text/html": [
       "<div>\n",
       "<style scoped>\n",
       "    .dataframe tbody tr th:only-of-type {\n",
       "        vertical-align: middle;\n",
       "    }\n",
       "\n",
       "    .dataframe tbody tr th {\n",
       "        vertical-align: top;\n",
       "    }\n",
       "\n",
       "    .dataframe thead th {\n",
       "        text-align: right;\n",
       "    }\n",
       "</style>\n",
       "<table border=\"1\" class=\"dataframe\">\n",
       "  <thead>\n",
       "    <tr style=\"text-align: right;\">\n",
       "      <th></th>\n",
       "      <th>시점</th>\n",
       "      <th>코스피(1980.1.4=100)</th>\n",
       "    </tr>\n",
       "  </thead>\n",
       "  <tbody>\n",
       "    <tr>\n",
       "      <th>2</th>\n",
       "      <td>2019.03</td>\n",
       "      <td>2158.0</td>\n",
       "    </tr>\n",
       "    <tr>\n",
       "      <th>5</th>\n",
       "      <td>2019.06</td>\n",
       "      <td>2134.8</td>\n",
       "    </tr>\n",
       "    <tr>\n",
       "      <th>8</th>\n",
       "      <td>2019.09</td>\n",
       "      <td>2023.0</td>\n",
       "    </tr>\n",
       "    <tr>\n",
       "      <th>11</th>\n",
       "      <td>2019.12</td>\n",
       "      <td>2113.9</td>\n",
       "    </tr>\n",
       "    <tr>\n",
       "      <th>14</th>\n",
       "      <td>2020.03</td>\n",
       "      <td>2052.4</td>\n",
       "    </tr>\n",
       "  </tbody>\n",
       "</table>\n",
       "</div>"
      ],
      "text/plain": [
       "         시점  코스피(1980.1.4=100)\n",
       "2   2019.03             2158.0\n",
       "5   2019.06             2134.8\n",
       "8   2019.09             2023.0\n",
       "11  2019.12             2113.9\n",
       "14  2020.03             2052.4"
      ]
     },
     "execution_count": 141,
     "metadata": {},
     "output_type": "execute_result"
    }
   ],
   "source": [
    "# 마지막 두 문자가 주어진 리스트에 있는 경우 해당 행을 선택\n",
    "to_drop = eco_df_kospi['시점'].str[-2:].isin(['01', '02', '04', '05', '07', '08', '10', '11'])\n",
    "\n",
    "# 조건을 만족하는 행을 제거\n",
    "eco_df_kospi = eco_df_kospi[~to_drop]\n",
    "eco_df_kospi.head()"
   ]
  },
  {
   "cell_type": "markdown",
   "id": "13fdbbe0",
   "metadata": {},
   "source": [
    "####  Change the Months Into Quartiles"
   ]
  },
  {
   "cell_type": "code",
   "execution_count": 143,
   "id": "bde37173",
   "metadata": {},
   "outputs": [
    {
     "data": {
      "text/html": [
       "<div>\n",
       "<style scoped>\n",
       "    .dataframe tbody tr th:only-of-type {\n",
       "        vertical-align: middle;\n",
       "    }\n",
       "\n",
       "    .dataframe tbody tr th {\n",
       "        vertical-align: top;\n",
       "    }\n",
       "\n",
       "    .dataframe thead th {\n",
       "        text-align: right;\n",
       "    }\n",
       "</style>\n",
       "<table border=\"1\" class=\"dataframe\">\n",
       "  <thead>\n",
       "    <tr style=\"text-align: right;\">\n",
       "      <th></th>\n",
       "      <th>시점</th>\n",
       "      <th>코스피(1980.1.4=100)</th>\n",
       "    </tr>\n",
       "  </thead>\n",
       "  <tbody>\n",
       "    <tr>\n",
       "      <th>2</th>\n",
       "      <td>2019.1/4</td>\n",
       "      <td>2158.0</td>\n",
       "    </tr>\n",
       "    <tr>\n",
       "      <th>5</th>\n",
       "      <td>2019.2/4</td>\n",
       "      <td>2134.8</td>\n",
       "    </tr>\n",
       "    <tr>\n",
       "      <th>8</th>\n",
       "      <td>2019.3/4</td>\n",
       "      <td>2023.0</td>\n",
       "    </tr>\n",
       "    <tr>\n",
       "      <th>11</th>\n",
       "      <td>2019.4/4</td>\n",
       "      <td>2113.9</td>\n",
       "    </tr>\n",
       "    <tr>\n",
       "      <th>14</th>\n",
       "      <td>2020.1/4</td>\n",
       "      <td>2052.4</td>\n",
       "    </tr>\n",
       "  </tbody>\n",
       "</table>\n",
       "</div>"
      ],
      "text/plain": [
       "          시점  코스피(1980.1.4=100)\n",
       "2   2019.1/4             2158.0\n",
       "5   2019.2/4             2134.8\n",
       "8   2019.3/4             2023.0\n",
       "11  2019.4/4             2113.9\n",
       "14  2020.1/4             2052.4"
      ]
     },
     "execution_count": 143,
     "metadata": {},
     "output_type": "execute_result"
    }
   ],
   "source": [
    "#월별 값을 분기별 값으로 변경\n",
    "eco_df_kospi['시점'] = eco_df_kospi['시점'].str.replace(\"03\", '1/4', regex = False)\n",
    "eco_df_kospi['시점'] = eco_df_kospi['시점'].str.replace(\"06\", '2/4', regex = False)\n",
    "eco_df_kospi['시점'] = eco_df_kospi['시점'].str.replace(\"09\", '3/4', regex = False)\n",
    "eco_df_kospi['시점'] = eco_df_kospi['시점'].str.replace(\"12\", '4/4', regex = False)\n",
    "\n",
    "\n",
    "eco_df_kospi.head()"
   ]
  },
  {
   "cell_type": "markdown",
   "id": "43c19ab2",
   "metadata": {},
   "source": [
    "#### Visualize Kospi Over Time by Line Graph"
   ]
  },
  {
   "cell_type": "code",
   "execution_count": 147,
   "id": "52337946",
   "metadata": {},
   "outputs": [
    {
     "data": {
      "image/png": "[encoded data removed]",
      "text/plain": [
       "<Figure size 2200x600 with 1 Axes>"
      ]
     },
     "metadata": {},
     "output_type": "display_data"
    }
   ],
   "source": [
    "plt.figure(figsize = (22,6))\n",
    "plt.plot(eco_df_kospi['시점'], eco_df_kospi['코스피(1980.1.4=100)'], color = '#EB7F2A', linestyle= '--', marker = 'o')\n",
    "plt.title('Variance of Kospi Index over Time')\n",
    "plt.xlabel('Time')\n",
    "plt.ylabel('Kospi')\n",
    "plt.ylim(1700, 3300)\n",
    "plt.show()"
   ]
  },
  {
   "cell_type": "markdown",
   "id": "2f2b12f0",
   "metadata": {},
   "source": [
    "####  Visualize Sales Over Time by Bar Graph"
   ]
  },
  {
   "cell_type": "code",
   "execution_count": 148,
   "id": "c44df6aa",
   "metadata": {},
   "outputs": [
    {
     "data": {
      "image/png": "[encoded data removed]",
      "text/plain": [
       "<Figure size 2200x600 with 1 Axes>"
      ]
     },
     "metadata": {},
     "output_type": "display_data"
    }
   ],
   "source": [
    "plt.figure(figsize = (22,6))\n",
    "plt.bar(shopping_df['기간'], shopping_df['백만원'], color = '#2CC69E')\n",
    "plt.title('Changes in Online Shopping Sales During 2019~2023')\n",
    "plt.xlabel('Time')\n",
    "plt.ylabel('Sales')\n",
    "plt.show()"
   ]
  },
  {
   "cell_type": "markdown",
   "id": "6749d6c1",
   "metadata": {},
   "source": [
    "#### Plot Two Graphs Together"
   ]
  },
  {
   "cell_type": "code",
   "execution_count": 160,
   "id": "852fc6ed",
   "metadata": {},
   "outputs": [
    {
     "data": {
      "image/png": "[encoded data removed]",
      "text/plain": [
       "<Figure size 2200x600 with 2 Axes>"
      ]
     },
     "metadata": {},
     "output_type": "display_data"
    }
   ],
   "source": [
    "import matplotlib.pyplot as plt\n",
    "\n",
    "x = shopping_df['기간']\n",
    "y1 = shopping_df['백만원']\n",
    "y2 = eco_df_kospi['코스피(1980.1.4=100)']\n",
    "\n",
    "# Create the figure and axis objects with specified figsize\n",
    "fig, ax1 = plt.subplots(figsize=(22,6))\n",
    "\n",
    "# Plot the bar chart\n",
    "ax1.bar(x, y1, color='#286EE1', label='Online Shopping Sales', zorder = 1)\n",
    "ax1.set_xlabel('Time')\n",
    "ax1.set_ylabel('Sales in millions')\n",
    "ax1.tick_params('y')\n",
    "\n",
    "\n",
    "# Create a secondary y-axis for the line plot\n",
    "ax2 = ax1.twinx()\n",
    "\n",
    "ax2.plot(x, y2, color='#EC7F1E', linestyle='--', marker='o', label='KOSPI Index', zorder = 2)\n",
    "ax2.set_ylabel('KOSPI Index')\n",
    "ax2.set_ylim(0,4000)\n",
    "ax2.tick_params('y')\n",
    "\n",
    "\n",
    "# Add a title and a legend\n",
    "plt.title('Online Shopping Sales and KOSPI Index Over Time')\n",
    "ax1.legend(loc='upper left')\n",
    "ax2.legend(loc='upper right')\n",
    "\n",
    "# Show the plot\n",
    "plt.show()\n"
   ]
  },
  {
   "cell_type": "markdown",
   "id": "6741aea3",
   "metadata": {},
   "source": [
    "#### Solution of Hypothesis 2"
   ]
  },
  {
   "cell_type": "markdown",
   "id": "b8dda5d7",
   "metadata": {},
   "source": [
    "<details>\n",
    "    <summary><font color = '#EBC22A'><font size = 4>>Click to See Solution</font></font></summary>\n",
    "    <ul> The KOSPI Index and the Online Shopping Sales generally seem to have an \n",
    "        inversely proportional relationship. However, If you set the time interval narrowly, it can be seen to have\n",
    "        a proportional relationship. Ex) From 2021~2023, it generally shows a proportional relationship\n",
    "        \n",
    "    코스피 지수와 온라인 해외 판매 내역은 일반적으로 반비례관계를 가지는 것으로 보인다. 그러나 시차 구간을 좁게 잡으면 어느정도 비례관계를 보이는 것을 파악할 수 있다. 예) 2021~2023년 사이에는 대체로 비례관계를 보인다.</ul>\n",
    "</details>\n",
    "    "
   ]
  },
  {
   "cell_type": "markdown",
   "id": "18b9832d",
   "metadata": {},
   "source": [
    "--------------------------------------------------------------------------------------------------------------------------"
   ]
  },
  {
   "cell_type": "markdown",
   "id": "8cee2dac",
   "metadata": {},
   "source": [
    "### Analysis for Hypothesis 3"
   ]
  },
  {
   "cell_type": "markdown",
   "id": "afbc0602",
   "metadata": {},
   "source": [
    "<li> <font color = '#FACC2E'><font size = 4>[Hypothesis 3]: \"The Increase in Service Production Index is Associated with Expansion of Overseas Online Shopping Sales.\" </font></font></li>"
   ]
  },
  {
   "cell_type": "markdown",
   "id": "ab2deb69",
   "metadata": {},
   "source": [
    "#### Extract Only '서비스업생산지수' from eco_df"
   ]
  },
  {
   "cell_type": "code",
   "execution_count": 161,
   "id": "7a6e26a4",
   "metadata": {},
   "outputs": [
    {
     "data": {
      "text/html": [
       "<div>\n",
       "<style scoped>\n",
       "    .dataframe tbody tr th:only-of-type {\n",
       "        vertical-align: middle;\n",
       "    }\n",
       "\n",
       "    .dataframe tbody tr th {\n",
       "        vertical-align: top;\n",
       "    }\n",
       "\n",
       "    .dataframe thead th {\n",
       "        text-align: right;\n",
       "    }\n",
       "</style>\n",
       "<table border=\"1\" class=\"dataframe\">\n",
       "  <thead>\n",
       "    <tr style=\"text-align: right;\">\n",
       "      <th></th>\n",
       "      <th>시점</th>\n",
       "      <th>서비스업생산지수(도소매업제외)(2020=100)</th>\n",
       "    </tr>\n",
       "  </thead>\n",
       "  <tbody>\n",
       "    <tr>\n",
       "      <th>0</th>\n",
       "      <td>2019.01</td>\n",
       "      <td>100.2</td>\n",
       "    </tr>\n",
       "    <tr>\n",
       "      <th>1</th>\n",
       "      <td>2019.02</td>\n",
       "      <td>100.3</td>\n",
       "    </tr>\n",
       "    <tr>\n",
       "      <th>2</th>\n",
       "      <td>2019.03</td>\n",
       "      <td>100.5</td>\n",
       "    </tr>\n",
       "    <tr>\n",
       "      <th>3</th>\n",
       "      <td>2019.04</td>\n",
       "      <td>100.7</td>\n",
       "    </tr>\n",
       "    <tr>\n",
       "      <th>4</th>\n",
       "      <td>2019.05</td>\n",
       "      <td>101.3</td>\n",
       "    </tr>\n",
       "  </tbody>\n",
       "</table>\n",
       "</div>"
      ],
      "text/plain": [
       "        시점   서비스업생산지수(도소매업제외)(2020=100)\n",
       "0  2019.01                        100.2\n",
       "1  2019.02                        100.3\n",
       "2  2019.03                        100.5\n",
       "3  2019.04                        100.7\n",
       "4  2019.05                        101.3"
      ]
     },
     "execution_count": 161,
     "metadata": {},
     "output_type": "execute_result"
    }
   ],
   "source": [
    "eco_df_service = pd.DataFrame(eco_df[['시점', ' 서비스업생산지수(도소매업제외)(2020=100)']])\n",
    "eco_df_service.head()"
   ]
  },
  {
   "cell_type": "markdown",
   "id": "9df9b405",
   "metadata": {},
   "source": [
    "#### Change the value 2023.07 p), 2023.08 p), 2023.09 p) to 2023.07, 2023.08, 2023.09"
   ]
  },
  {
   "cell_type": "code",
   "execution_count": 162,
   "id": "84f877b7",
   "metadata": {},
   "outputs": [
    {
     "data": {
      "text/html": [
       "<div>\n",
       "<style scoped>\n",
       "    .dataframe tbody tr th:only-of-type {\n",
       "        vertical-align: middle;\n",
       "    }\n",
       "\n",
       "    .dataframe tbody tr th {\n",
       "        vertical-align: top;\n",
       "    }\n",
       "\n",
       "    .dataframe thead th {\n",
       "        text-align: right;\n",
       "    }\n",
       "</style>\n",
       "<table border=\"1\" class=\"dataframe\">\n",
       "  <thead>\n",
       "    <tr style=\"text-align: right;\">\n",
       "      <th></th>\n",
       "      <th>시점</th>\n",
       "      <th>서비스업생산지수(도소매업제외)(2020=100)</th>\n",
       "    </tr>\n",
       "  </thead>\n",
       "  <tbody>\n",
       "    <tr>\n",
       "      <th>52</th>\n",
       "      <td>2023.05</td>\n",
       "      <td>117.1</td>\n",
       "    </tr>\n",
       "    <tr>\n",
       "      <th>53</th>\n",
       "      <td>2023.06</td>\n",
       "      <td>116.9</td>\n",
       "    </tr>\n",
       "    <tr>\n",
       "      <th>54</th>\n",
       "      <td>2023.07</td>\n",
       "      <td>116.8</td>\n",
       "    </tr>\n",
       "    <tr>\n",
       "      <th>55</th>\n",
       "      <td>2023.08</td>\n",
       "      <td>117.5</td>\n",
       "    </tr>\n",
       "    <tr>\n",
       "      <th>56</th>\n",
       "      <td>2023.09</td>\n",
       "      <td>118.0</td>\n",
       "    </tr>\n",
       "  </tbody>\n",
       "</table>\n",
       "</div>"
      ],
      "text/plain": [
       "         시점   서비스업생산지수(도소매업제외)(2020=100)\n",
       "52  2023.05                        117.1\n",
       "53  2023.06                        116.9\n",
       "54  2023.07                        116.8\n",
       "55  2023.08                        117.5\n",
       "56  2023.09                        118.0"
      ]
     },
     "execution_count": 162,
     "metadata": {},
     "output_type": "execute_result"
    }
   ],
   "source": [
    "#'시점'이라는 열에서 'p)'를 제거\n",
    "eco_df_service['시점'] = eco_df_service['시점'].str.replace(\"2023.07 p)\", '2023.07', regex = False)\n",
    "eco_df_service['시점'] = eco_df_service['시점'].str.replace(\"2023.08 p)\", '2023.08', regex = False)\n",
    "eco_df_service['시점'] = eco_df_service['시점'].str.replace(\"2023.09 p)\", '2023.09', regex = False)\n",
    "\n",
    "\n",
    "eco_df_service.tail()"
   ]
  },
  {
   "cell_type": "markdown",
   "id": "34bcd686",
   "metadata": {},
   "source": [
    "#### Only leave values for March, June, September, and December\n",
    "Since the time for shopping_df is ordered quarterly"
   ]
  },
  {
   "cell_type": "code",
   "execution_count": 163,
   "id": "23ce892c",
   "metadata": {},
   "outputs": [
    {
     "data": {
      "text/html": [
       "<div>\n",
       "<style scoped>\n",
       "    .dataframe tbody tr th:only-of-type {\n",
       "        vertical-align: middle;\n",
       "    }\n",
       "\n",
       "    .dataframe tbody tr th {\n",
       "        vertical-align: top;\n",
       "    }\n",
       "\n",
       "    .dataframe thead th {\n",
       "        text-align: right;\n",
       "    }\n",
       "</style>\n",
       "<table border=\"1\" class=\"dataframe\">\n",
       "  <thead>\n",
       "    <tr style=\"text-align: right;\">\n",
       "      <th></th>\n",
       "      <th>시점</th>\n",
       "      <th>서비스업생산지수(도소매업제외)(2020=100)</th>\n",
       "    </tr>\n",
       "  </thead>\n",
       "  <tbody>\n",
       "    <tr>\n",
       "      <th>2</th>\n",
       "      <td>2019.03</td>\n",
       "      <td>100.5</td>\n",
       "    </tr>\n",
       "    <tr>\n",
       "      <th>5</th>\n",
       "      <td>2019.06</td>\n",
       "      <td>101.2</td>\n",
       "    </tr>\n",
       "    <tr>\n",
       "      <th>8</th>\n",
       "      <td>2019.09</td>\n",
       "      <td>102.1</td>\n",
       "    </tr>\n",
       "    <tr>\n",
       "      <th>11</th>\n",
       "      <td>2019.12</td>\n",
       "      <td>102.8</td>\n",
       "    </tr>\n",
       "    <tr>\n",
       "      <th>14</th>\n",
       "      <td>2020.03</td>\n",
       "      <td>102.0</td>\n",
       "    </tr>\n",
       "  </tbody>\n",
       "</table>\n",
       "</div>"
      ],
      "text/plain": [
       "         시점   서비스업생산지수(도소매업제외)(2020=100)\n",
       "2   2019.03                        100.5\n",
       "5   2019.06                        101.2\n",
       "8   2019.09                        102.1\n",
       "11  2019.12                        102.8\n",
       "14  2020.03                        102.0"
      ]
     },
     "execution_count": 163,
     "metadata": {},
     "output_type": "execute_result"
    }
   ],
   "source": [
    "# 마지막 두 문자가 주어진 리스트에 있는 경우 해당 행을 선택\n",
    "to_drop = eco_df_service['시점'].str[-2:].isin(['01', '02', '04', '05', '07', '08', '10', '11'])\n",
    "\n",
    "# 조건을 만족하는 행을 제거\n",
    "eco_df_service = eco_df_service[~to_drop]\n",
    "eco_df_service.head()"
   ]
  },
  {
   "cell_type": "markdown",
   "id": "ed22f878",
   "metadata": {},
   "source": [
    "#### Change the Months Into Quartiles"
   ]
  },
  {
   "cell_type": "code",
   "execution_count": 164,
   "id": "6e914c2c",
   "metadata": {},
   "outputs": [
    {
     "data": {
      "text/html": [
       "<div>\n",
       "<style scoped>\n",
       "    .dataframe tbody tr th:only-of-type {\n",
       "        vertical-align: middle;\n",
       "    }\n",
       "\n",
       "    .dataframe tbody tr th {\n",
       "        vertical-align: top;\n",
       "    }\n",
       "\n",
       "    .dataframe thead th {\n",
       "        text-align: right;\n",
       "    }\n",
       "</style>\n",
       "<table border=\"1\" class=\"dataframe\">\n",
       "  <thead>\n",
       "    <tr style=\"text-align: right;\">\n",
       "      <th></th>\n",
       "      <th>시점</th>\n",
       "      <th>서비스업생산지수(도소매업제외)(2020=100)</th>\n",
       "    </tr>\n",
       "  </thead>\n",
       "  <tbody>\n",
       "    <tr>\n",
       "      <th>2</th>\n",
       "      <td>2019.1/4</td>\n",
       "      <td>100.5</td>\n",
       "    </tr>\n",
       "    <tr>\n",
       "      <th>5</th>\n",
       "      <td>2019.2/4</td>\n",
       "      <td>101.2</td>\n",
       "    </tr>\n",
       "    <tr>\n",
       "      <th>8</th>\n",
       "      <td>2019.3/4</td>\n",
       "      <td>102.1</td>\n",
       "    </tr>\n",
       "    <tr>\n",
       "      <th>11</th>\n",
       "      <td>2019.4/4</td>\n",
       "      <td>102.8</td>\n",
       "    </tr>\n",
       "    <tr>\n",
       "      <th>14</th>\n",
       "      <td>2020.1/4</td>\n",
       "      <td>102.0</td>\n",
       "    </tr>\n",
       "  </tbody>\n",
       "</table>\n",
       "</div>"
      ],
      "text/plain": [
       "          시점   서비스업생산지수(도소매업제외)(2020=100)\n",
       "2   2019.1/4                        100.5\n",
       "5   2019.2/4                        101.2\n",
       "8   2019.3/4                        102.1\n",
       "11  2019.4/4                        102.8\n",
       "14  2020.1/4                        102.0"
      ]
     },
     "execution_count": 164,
     "metadata": {},
     "output_type": "execute_result"
    }
   ],
   "source": [
    "#월별 값을 분기별 값으로 변경\n",
    "eco_df_service['시점'] = eco_df_service['시점'].str.replace(\"03\", '1/4', regex = False)\n",
    "eco_df_service['시점'] = eco_df_service['시점'].str.replace(\"06\", '2/4', regex = False)\n",
    "eco_df_service['시점'] = eco_df_service['시점'].str.replace(\"09\", '3/4', regex = False)\n",
    "eco_df_service['시점'] = eco_df_service['시점'].str.replace(\"12\", '4/4', regex = False)\n",
    "\n",
    "\n",
    "eco_df_service.head()"
   ]
  },
  {
   "cell_type": "markdown",
   "id": "79c74918",
   "metadata": {},
   "source": [
    "#### Visualize Service Production Index Over Time by Line Graph"
   ]
  },
  {
   "cell_type": "code",
   "execution_count": 169,
   "id": "c2d73d81",
   "metadata": {},
   "outputs": [
    {
     "data": {
      "image/png": "[encoded data removed]",
      "text/plain": [
       "<Figure size 2200x600 with 1 Axes>"
      ]
     },
     "metadata": {},
     "output_type": "display_data"
    }
   ],
   "source": [
    "plt.figure(figsize = (22,6))\n",
    "plt.plot(eco_df_service['시점'], eco_df_service[' 서비스업생산지수(도소매업제외)(2020=100)'], color = '#EA0F83', linestyle= '--', marker = 's')\n",
    "plt.title('Variance of Service Production Index over Time')\n",
    "plt.xlabel('Time')\n",
    "plt.ylabel('Servce Production')\n",
    "plt.ylim(90, 120)\n",
    "plt.show()"
   ]
  },
  {
   "cell_type": "markdown",
   "id": "704a18dc",
   "metadata": {},
   "source": [
    "#### Visualize Sales Over Time by Bar Graph"
   ]
  },
  {
   "cell_type": "code",
   "execution_count": 170,
   "id": "e84dfaec",
   "metadata": {},
   "outputs": [
    {
     "data": {
      "image/png": "[encoded data removed]",
      "text/plain": [
       "<Figure size 2200x600 with 1 Axes>"
      ]
     },
     "metadata": {},
     "output_type": "display_data"
    }
   ],
   "source": [
    "plt.figure(figsize = (22,6))\n",
    "plt.bar(shopping_df['기간'], shopping_df['백만원'], color = '#2CC69E')\n",
    "plt.title('Changes in Online Shopping Sales During 2019~2023')\n",
    "plt.xlabel('Time')\n",
    "plt.ylabel('Sales')\n",
    "plt.show()"
   ]
  },
  {
   "cell_type": "markdown",
   "id": "2727dbd6",
   "metadata": {},
   "source": [
    "#### Plot Two Graphs Together"
   ]
  },
  {
   "cell_type": "code",
   "execution_count": 176,
   "id": "f5584196",
   "metadata": {},
   "outputs": [
    {
     "data": {
      "image/png": "[encoded data removed]",
      "text/plain": [
       "<Figure size 2200x600 with 2 Axes>"
      ]
     },
     "metadata": {},
     "output_type": "display_data"
    }
   ],
   "source": [
    "import matplotlib.pyplot as plt\n",
    "\n",
    "x = shopping_df['기간']\n",
    "y1 = shopping_df['백만원']\n",
    "y2 = eco_df_service[' 서비스업생산지수(도소매업제외)(2020=100)']\n",
    "\n",
    "# Create the figure and axis objects with specified figsize\n",
    "fig, ax1 = plt.subplots(figsize=(22,6))\n",
    "\n",
    "# Plot the bar chart\n",
    "ax1.bar(x, y1, color='#F4D615', label='Online Shopping Sales', zorder = 1)\n",
    "ax1.set_xlabel('Time')\n",
    "ax1.set_ylabel('Sales in millions')\n",
    "ax1.tick_params('y')\n",
    "\n",
    "\n",
    "# Create a secondary y-axis for the line plot\n",
    "ax2 = ax1.twinx()\n",
    "\n",
    "ax2.plot(x, y2, color='#EA0F83', linestyle='--', marker='s', label='Service Production Index', zorder = 2)\n",
    "ax2.set_ylabel('Service Production Index')\n",
    "ax2.set_ylim(90,129)\n",
    "ax2.tick_params('y')\n",
    "\n",
    "\n",
    "# Add a title and a legend\n",
    "plt.title('Online Shopping Sales and Service Production Index Over Time')\n",
    "ax1.legend(loc='upper left')\n",
    "ax2.legend(loc='upper right')\n",
    "\n",
    "# Show the plot\n",
    "plt.show()\n"
   ]
  },
  {
   "cell_type": "markdown",
   "id": "c7bbbd83",
   "metadata": {},
   "source": [
    "#### Solution of Hypothesis 3"
   ]
  },
  {
   "cell_type": "markdown",
   "id": "171ac347",
   "metadata": {},
   "source": [
    "<details>\n",
    "    <summary><font color = '#EBC22A'><font size = 4>>Click to See Solution</font></font></summary>\n",
    "    <ul> The Service Production Index and the Online Shopping Sales generally seem to have an \n",
    "        inversely proportional relationship. \n",
    "        \n",
    "    서비스 생산 지수와 온라인 해외 판매 내역은 일반적으로 반비례관계를 가지는 것으로 보인다.</ul>\n",
    "</details>\n",
    "    "
   ]
  },
  {
   "cell_type": "markdown",
   "id": "d3201ddf",
   "metadata": {},
   "source": [
    "## Final Solution"
   ]
  },
  {
   "cell_type": "markdown",
   "id": "ab95e15c",
   "metadata": {},
   "source": [
    "### English"
   ]
  },
  {
   "cell_type": "markdown",
   "id": "1d8e4b7c",
   "metadata": {},
   "source": [
    "<details>\n",
    "<font size=\"4\">\n",
    "    Analysis Summary: A general analysis has shown that there is typically an inverse relationship between online shopping overseas sales volume and composite economic indices.\n",
    "    \n",
    "    Hypothesis 1 Analysis: \n",
    "    Upon examining the relationship between the economic sentiment index and online sales volume, contrary to expectations, an increase in the economic sentiment index was associated with a decrease in online overseas sales volume. This suggests that an increase in market saturation and intensified competition can lead to fierce price wars, resulting in a decrease in sales revenue for existing sellers.\n",
    "    \n",
    "    Hypothesis 2 Analysis: \n",
    "    In regards to the correlation between the KOSPI index and online overseas sales volume, an overall inverse relationship was observed, although there were periods of direct correlation. Increases in liquidity or economic confidence may cause a direct relationship in the short term, but in the long term, the strength of the Korean won, leading to higher product prices, and market saturation overseas appear to be the reasons for the inverse relationship.\n",
    "    \n",
    "    Hypothesis 3 Analysis: \n",
    "    The analysis of the relationship between the service production index and online overseas sales volume showed the strongest inverse relationship. Increased domestic market demand leading companies to focus more on the domestic market, and growth in the service industry altering consumer spending patterns are presumed to be the main causes.\n",
    "</font>\n",
    "</details>\n"
   ]
  },
  {
   "cell_type": "markdown",
   "id": "5424d372",
   "metadata": {},
   "source": [
    "### Korean"
   ]
  },
  {
   "cell_type": "markdown",
   "id": "b0973c99",
   "metadata": {},
   "source": [
    "<details>\n",
    "<font size=\"4\">\n",
    "    <p><strong>분석 개요:</strong> 전반적인 분석을 통해, 온라인 쇼핑 해외 판매량과 경기 종합 지수들 간의 대체로 반비례 관계가 관찰되었습니다.</p>\n",
    "    \n",
    "    가설 1 분석:\n",
    "    경제심리지수와 온라인 판매량 간의 관계를 살펴본 결과, 예상과 달리 경제심리지수가 증가할 때 온라인 해외 판매량이 감소하는 경향이 나타났습니다. 이는 시장 포화 상태와 경쟁 심화로 인해 가격 경쟁이 치열해지고, 결과적으로 기존 판매자의 판매액이 감소할 수 있음을 시사합니다.\n",
    "    \n",
    "    가설 2 분석:\n",
    "    KOSPI 지수와 온라인 해외 판매량 간의 상관관계에 대해, 전반적으로 반비례하는 경향을 보였으나, 특정 구간에서는 비례하는 경향이 관찰되었습니다. 유동성 증가나 경제 신뢰도 향상이 단기적으로 비례 관계를 초래할 수 있지만, 장기적으로는 한국 원화 강세로 인한 상품 가격 상승, 해외 시장 포화 등이 반비례 관계의 원인으로 보입니다.\n",
    "    \n",
    "    가설 3 분석: \n",
    "    서비스 생산지수와 온라인 해외 판매량 간의 관계를 분석한 결과, 가장 강한 반비례 관계를 보였습니다. 국내 시장 수요 증가가 기업들로 하여금 내수 시장에 집중하게 만들고, 서비스 산업의 성장이 소비자들의 소비 패턴을 변화시키는 것이 주된 원인으로 추정됩니다.\n",
    "</font>\n",
    "</details>\n"
   ]
  },
  {
   "cell_type": "markdown",
   "id": "309c5dfe",
   "metadata": {},
   "source": [
    "## References"
   ]
  },
  {
   "cell_type": "markdown",
   "id": "d8b8e7c3",
   "metadata": {},
   "source": [
    "[가설에 대한 근거 기사 1 - 국내 경기 2024년까지 하락](https://www.etnews.com/20221201000063)\n",
    "\n",
    "[가설에 대한 근거 기사 2 - 온라인 쇼핑 20개월째 감소](http://www.cncnews.co.kr/news/article.html?no=8067)\n",
    "\n",
    "[경제 지수 관련 논문](https://www.kci.go.kr/kciportal/ci/sereArticleSearch/ciSereArtiView.kci?sereArticleSearchBean.artiId=ART001909359)\n",
    "\n",
    "[소비자 물가지수와 경제적 요인](https://www.bigdata-map.kr/datastory/9-3)"
   ]
  },
  {
   "cell_type": "code",
   "execution_count": null,
   "id": "a05b595d",
   "metadata": {},
   "outputs": [],
   "source": []
  }
 ],
 "metadata": {
  "kernelspec": {
   "display_name": "Python 3 (ipykernel)",
   "language": "python",
   "name": "python3"
  },
  "language_info": {
   "codemirror_mode": {
    "name": "ipython",
    "version": 3
   },
   "file_extension": ".py",
   "mimetype": "text/x-python",
   "name": "python",
   "nbconvert_exporter": "python",
   "pygments_lexer": "ipython3",
   "version": "3.9.7"
  },
  "toc": {
   "base_numbering": 1,
   "nav_menu": {},
   "number_sections": true,
   "sideBar": true,
   "skip_h1_title": true,
   "title_cell": "Table of Contents",
   "title_sidebar": "Contents",
   "toc_cell": false,
   "toc_position": {
    "height": "calc(100% - 180px)",
    "left": "10px",
    "top": "150px",
    "width": "307.2px"
   },
   "toc_section_display": true,
   "toc_window_display": true
  }
 },
 "nbformat": 4,
 "nbformat_minor": 5
}
