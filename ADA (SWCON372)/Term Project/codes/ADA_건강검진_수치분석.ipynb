{
 "cells": [
  {
   "cell_type": "markdown",
   "metadata": {
    "id": "jEzquVMhyvlb"
   },
   "source": [
    "## 국민건강보험공단_건강검진정보 Open API 데이터 수집 및 전처리"
   ]
  },
  {
   "cell_type": "markdown",
   "metadata": {
    "id": "jEzquVMhyvlb"
   },
   "source": [
    "- <a href = \"https://www.data.go.kr/iim/api/selectAPIAcountView.do#/API%20%EB%AA%A9%EB%A1%9D/getuddi%3A4be8523e-2fd4-457d-a594-ac1fbba444b5\">출처: 공공데이터 포털 - 국민건강보험공단_건강검진정보</a>\n",
    "<br></br>\n",
    "<font size = 4> 이 프로젝트는 Jupyter Notebook 상에서 작성되었습니다</font>"
   ]
  },
  {
   "cell_type": "markdown",
   "metadata": {},
   "source": [
    "### 가설 설정"
   ]
  },
  {
   "cell_type": "markdown",
   "metadata": {},
   "source": [
    "- 가설 1: [지도학습] 간 수치로 음주 여부를 판단할 수 있을까?\n",
    "- 가설 2: [통계검정] BMI와 혈압은 상관관계가 있을까?\n",
    "- 가설 3: [비지도학습] 음주가 시력에 안 좋은 영향을 미칠까?¶"
   ]
  },
  {
   "cell_type": "markdown",
   "metadata": {
    "id": "-xZel7dszUa7"
   },
   "source": [
    "### API 수집을 위한 request 라이브러리 설치"
   ]
  },
  {
   "cell_type": "code",
   "execution_count": 1,
   "metadata": {
    "colab": {
     "base_uri": "https://localhost:8080/"
    },
    "id": "HFMBHSv_8ar5",
    "outputId": "0ab5e36e-ffd3-4d14-e753-3b7dfefffefd"
   },
   "outputs": [
    {
     "name": "stdout",
     "output_type": "stream",
     "text": [
      "Requirement already satisfied: requests in c:\\users\\82107\\anaconda3\\lib\\site-packages (2.26.0)\n",
      "Requirement already satisfied: certifi>=2017.4.17 in c:\\users\\82107\\anaconda3\\lib\\site-packages (from requests) (2023.7.22)\n",
      "Requirement already satisfied: idna<4,>=2.5 in c:\\users\\82107\\anaconda3\\lib\\site-packages (from requests) (3.2)\n",
      "Requirement already satisfied: charset-normalizer~=2.0.0 in c:\\users\\82107\\anaconda3\\lib\\site-packages (from requests) (2.0.4)\n",
      "Requirement already satisfied: urllib3<1.27,>=1.21.1 in c:\\users\\82107\\anaconda3\\lib\\site-packages (from requests) (1.26.7)\n"
     ]
    }
   ],
   "source": [
    "!pip install requests"
   ]
  },
  {
   "cell_type": "code",
   "execution_count": 2,
   "metadata": {
    "id": "WZVRqjBeyN_h"
   },
   "outputs": [],
   "source": [
    "import requests\n",
    "import pandas as pd\n",
    "\n",
    "# Define the API key\n",
    "skey = 'OaE7WFXPyKXCPtSvtE9HuQdSwbzhl/C9FhjkxVzyOfKLRZxqAMChtLhArevfCux2XuluPYLtgDuMUEPXvGaoNQ=='\n",
    "\n",
    "# Define the API endpoint and parameters\n",
    "url = f'https://api.odcloud.kr/api/15007122/v1/uddi:0c59c663-3222-4e70-80eb-fb993b5bacf7?page=1&perPage=3000'\n",
    "params = {\n",
    "    'page': 1,\n",
    "    'perPage': 3000,\n",
    "    'serviceKey': skey  # Add the API key here\n",
    "}\n",
    "\n",
    "# Make the GET request\n",
    "response = requests.get(url, params=params)\n",
    "\n",
    "# Check if the request was successful\n",
    "if response.status_code == 200:\n",
    "    # Parse the JSON response\n",
    "    data = response.json()\n",
    "\n",
    "    # Convert the JSON data to a DataFrame\n",
    "    df = pd.json_normalize(data['data'])\n",
    "\n",
    "    # Print the DataFrame\n",
    "    df\n",
    "else:\n",
    "    print(f\"Failed to retrieve data: {response.status_code}\")\n",
    "    print(response.json())\n"
   ]
  },
  {
   "cell_type": "code",
   "execution_count": 3,
   "metadata": {
    "colab": {
     "base_uri": "https://localhost:8080/",
     "height": 545
    },
    "id": "dVce31YW5RS2",
    "outputId": "3b5dbbca-3ab1-41b3-9bae-868d68c0eb84"
   },
   "outputs": [
    {
     "data": {
      "text/html": [
       "<div>\n",
       "<style scoped>\n",
       "    .dataframe tbody tr th:only-of-type {\n",
       "        vertical-align: middle;\n",
       "    }\n",
       "\n",
       "    .dataframe tbody tr th {\n",
       "        vertical-align: top;\n",
       "    }\n",
       "\n",
       "    .dataframe thead th {\n",
       "        text-align: right;\n",
       "    }\n",
       "</style>\n",
       "<table border=\"1\" class=\"dataframe\">\n",
       "  <thead>\n",
       "    <tr style=\"text-align: right;\">\n",
       "      <th></th>\n",
       "      <th>HDL콜레스테롤</th>\n",
       "      <th>LDL콜레스테롤</th>\n",
       "      <th>가입자일련번호</th>\n",
       "      <th>감마지티피</th>\n",
       "      <th>구강검진수검여부</th>\n",
       "      <th>기준년도</th>\n",
       "      <th>성별</th>\n",
       "      <th>수축기혈압</th>\n",
       "      <th>시도코드</th>\n",
       "      <th>시력(우)</th>\n",
       "      <th>...</th>\n",
       "      <th>총콜레스테롤</th>\n",
       "      <th>치석</th>\n",
       "      <th>치아우식증유무</th>\n",
       "      <th>트리글리세라이드</th>\n",
       "      <th>허리둘레</th>\n",
       "      <th>혈색소</th>\n",
       "      <th>혈청지오티(AST)</th>\n",
       "      <th>혈청지피티(ALT)</th>\n",
       "      <th>혈청크레아티닌</th>\n",
       "      <th>흡연상태</th>\n",
       "    </tr>\n",
       "  </thead>\n",
       "  <tbody>\n",
       "    <tr>\n",
       "      <th>0</th>\n",
       "      <td>None</td>\n",
       "      <td>None</td>\n",
       "      <td>4400892</td>\n",
       "      <td>28</td>\n",
       "      <td>0</td>\n",
       "      <td>2021</td>\n",
       "      <td>1</td>\n",
       "      <td>110</td>\n",
       "      <td>41</td>\n",
       "      <td>1.00</td>\n",
       "      <td>...</td>\n",
       "      <td>None</td>\n",
       "      <td>None</td>\n",
       "      <td>None</td>\n",
       "      <td>None</td>\n",
       "      <td>86.4</td>\n",
       "      <td>14.3</td>\n",
       "      <td>18.0</td>\n",
       "      <td>20</td>\n",
       "      <td>0.80</td>\n",
       "      <td>1</td>\n",
       "    </tr>\n",
       "    <tr>\n",
       "      <th>1</th>\n",
       "      <td>None</td>\n",
       "      <td>None</td>\n",
       "      <td>2358945</td>\n",
       "      <td>74</td>\n",
       "      <td>0</td>\n",
       "      <td>2021</td>\n",
       "      <td>1</td>\n",
       "      <td>126</td>\n",
       "      <td>41</td>\n",
       "      <td>1.00</td>\n",
       "      <td>...</td>\n",
       "      <td>None</td>\n",
       "      <td>None</td>\n",
       "      <td>None</td>\n",
       "      <td>None</td>\n",
       "      <td>94.0</td>\n",
       "      <td>16.0</td>\n",
       "      <td>58.0</td>\n",
       "      <td>144</td>\n",
       "      <td>0.80</td>\n",
       "      <td>1</td>\n",
       "    </tr>\n",
       "    <tr>\n",
       "      <th>2</th>\n",
       "      <td>None</td>\n",
       "      <td>None</td>\n",
       "      <td>2369829</td>\n",
       "      <td>38</td>\n",
       "      <td>0</td>\n",
       "      <td>2021</td>\n",
       "      <td>1</td>\n",
       "      <td>183</td>\n",
       "      <td>41</td>\n",
       "      <td>1.00</td>\n",
       "      <td>...</td>\n",
       "      <td>None</td>\n",
       "      <td>None</td>\n",
       "      <td>None</td>\n",
       "      <td>None</td>\n",
       "      <td>80.0</td>\n",
       "      <td>13.8</td>\n",
       "      <td>32.0</td>\n",
       "      <td>26</td>\n",
       "      <td>0.80</td>\n",
       "      <td>1</td>\n",
       "    </tr>\n",
       "    <tr>\n",
       "      <th>3</th>\n",
       "      <td>None</td>\n",
       "      <td>None</td>\n",
       "      <td>1761219</td>\n",
       "      <td>35</td>\n",
       "      <td>0</td>\n",
       "      <td>2021</td>\n",
       "      <td>2</td>\n",
       "      <td>166</td>\n",
       "      <td>41</td>\n",
       "      <td>1.00</td>\n",
       "      <td>...</td>\n",
       "      <td>None</td>\n",
       "      <td>None</td>\n",
       "      <td>None</td>\n",
       "      <td>None</td>\n",
       "      <td>74.0</td>\n",
       "      <td>13.2</td>\n",
       "      <td>23.0</td>\n",
       "      <td>15</td>\n",
       "      <td>0.80</td>\n",
       "      <td>1</td>\n",
       "    </tr>\n",
       "    <tr>\n",
       "      <th>4</th>\n",
       "      <td>None</td>\n",
       "      <td>None</td>\n",
       "      <td>2312054</td>\n",
       "      <td>21</td>\n",
       "      <td>0</td>\n",
       "      <td>2021</td>\n",
       "      <td>2</td>\n",
       "      <td>135</td>\n",
       "      <td>41</td>\n",
       "      <td>1.00</td>\n",
       "      <td>...</td>\n",
       "      <td>None</td>\n",
       "      <td>None</td>\n",
       "      <td>None</td>\n",
       "      <td>None</td>\n",
       "      <td>80.0</td>\n",
       "      <td>13.8</td>\n",
       "      <td>17.0</td>\n",
       "      <td>9</td>\n",
       "      <td>0.80</td>\n",
       "      <td>1</td>\n",
       "    </tr>\n",
       "    <tr>\n",
       "      <th>...</th>\n",
       "      <td>...</td>\n",
       "      <td>...</td>\n",
       "      <td>...</td>\n",
       "      <td>...</td>\n",
       "      <td>...</td>\n",
       "      <td>...</td>\n",
       "      <td>...</td>\n",
       "      <td>...</td>\n",
       "      <td>...</td>\n",
       "      <td>...</td>\n",
       "      <td>...</td>\n",
       "      <td>...</td>\n",
       "      <td>...</td>\n",
       "      <td>...</td>\n",
       "      <td>...</td>\n",
       "      <td>...</td>\n",
       "      <td>...</td>\n",
       "      <td>...</td>\n",
       "      <td>...</td>\n",
       "      <td>...</td>\n",
       "      <td>...</td>\n",
       "    </tr>\n",
       "    <tr>\n",
       "      <th>2995</th>\n",
       "      <td>None</td>\n",
       "      <td>None</td>\n",
       "      <td>3842719</td>\n",
       "      <td>14</td>\n",
       "      <td>0</td>\n",
       "      <td>2021</td>\n",
       "      <td>2</td>\n",
       "      <td>114</td>\n",
       "      <td>41</td>\n",
       "      <td>1.20</td>\n",
       "      <td>...</td>\n",
       "      <td>None</td>\n",
       "      <td>None</td>\n",
       "      <td>None</td>\n",
       "      <td>None</td>\n",
       "      <td>78.0</td>\n",
       "      <td>13.3</td>\n",
       "      <td>18.0</td>\n",
       "      <td>14</td>\n",
       "      <td>0.80</td>\n",
       "      <td>1</td>\n",
       "    </tr>\n",
       "    <tr>\n",
       "      <th>2996</th>\n",
       "      <td>None</td>\n",
       "      <td>None</td>\n",
       "      <td>2477164</td>\n",
       "      <td>25</td>\n",
       "      <td>0</td>\n",
       "      <td>2021</td>\n",
       "      <td>1</td>\n",
       "      <td>148</td>\n",
       "      <td>41</td>\n",
       "      <td>1.00</td>\n",
       "      <td>...</td>\n",
       "      <td>None</td>\n",
       "      <td>None</td>\n",
       "      <td>None</td>\n",
       "      <td>None</td>\n",
       "      <td>88.0</td>\n",
       "      <td>16.4</td>\n",
       "      <td>19.0</td>\n",
       "      <td>19</td>\n",
       "      <td>0.80</td>\n",
       "      <td>1</td>\n",
       "    </tr>\n",
       "    <tr>\n",
       "      <th>2997</th>\n",
       "      <td>None</td>\n",
       "      <td>None</td>\n",
       "      <td>4533710</td>\n",
       "      <td>14</td>\n",
       "      <td>0</td>\n",
       "      <td>2021</td>\n",
       "      <td>2</td>\n",
       "      <td>108</td>\n",
       "      <td>41</td>\n",
       "      <td>0.60</td>\n",
       "      <td>...</td>\n",
       "      <td>None</td>\n",
       "      <td>None</td>\n",
       "      <td>None</td>\n",
       "      <td>None</td>\n",
       "      <td>83.0</td>\n",
       "      <td>12.9</td>\n",
       "      <td>24.0</td>\n",
       "      <td>22</td>\n",
       "      <td>0.80</td>\n",
       "      <td>1</td>\n",
       "    </tr>\n",
       "    <tr>\n",
       "      <th>2998</th>\n",
       "      <td>None</td>\n",
       "      <td>None</td>\n",
       "      <td>189217</td>\n",
       "      <td>14</td>\n",
       "      <td>0</td>\n",
       "      <td>2021</td>\n",
       "      <td>2</td>\n",
       "      <td>122</td>\n",
       "      <td>41</td>\n",
       "      <td>0.80</td>\n",
       "      <td>...</td>\n",
       "      <td>None</td>\n",
       "      <td>None</td>\n",
       "      <td>None</td>\n",
       "      <td>None</td>\n",
       "      <td>74.0</td>\n",
       "      <td>12.4</td>\n",
       "      <td>23.0</td>\n",
       "      <td>23</td>\n",
       "      <td>0.80</td>\n",
       "      <td>1</td>\n",
       "    </tr>\n",
       "    <tr>\n",
       "      <th>2999</th>\n",
       "      <td>None</td>\n",
       "      <td>None</td>\n",
       "      <td>4346259</td>\n",
       "      <td>14</td>\n",
       "      <td>0</td>\n",
       "      <td>2021</td>\n",
       "      <td>2</td>\n",
       "      <td>94</td>\n",
       "      <td>41</td>\n",
       "      <td>1.50</td>\n",
       "      <td>...</td>\n",
       "      <td>None</td>\n",
       "      <td>None</td>\n",
       "      <td>None</td>\n",
       "      <td>None</td>\n",
       "      <td>69.0</td>\n",
       "      <td>13.3</td>\n",
       "      <td>19.0</td>\n",
       "      <td>8</td>\n",
       "      <td>0.80</td>\n",
       "      <td>1</td>\n",
       "    </tr>\n",
       "  </tbody>\n",
       "</table>\n",
       "<p>3000 rows × 30 columns</p>\n",
       "</div>"
      ],
      "text/plain": [
       "     HDL콜레스테롤 LDL콜레스테롤  가입자일련번호  감마지티피  구강검진수검여부  기준년도  성별  수축기혈압  시도코드 시력(우)  \\\n",
       "0        None     None  4400892     28         0  2021   1    110    41  1.00   \n",
       "1        None     None  2358945     74         0  2021   1    126    41  1.00   \n",
       "2        None     None  2369829     38         0  2021   1    183    41  1.00   \n",
       "3        None     None  1761219     35         0  2021   2    166    41  1.00   \n",
       "4        None     None  2312054     21         0  2021   2    135    41  1.00   \n",
       "...       ...      ...      ...    ...       ...   ...  ..    ...   ...   ...   \n",
       "2995     None     None  3842719     14         0  2021   2    114    41  1.20   \n",
       "2996     None     None  2477164     25         0  2021   1    148    41  1.00   \n",
       "2997     None     None  4533710     14         0  2021   2    108    41  0.60   \n",
       "2998     None     None   189217     14         0  2021   2    122    41  0.80   \n",
       "2999     None     None  4346259     14         0  2021   2     94    41  1.50   \n",
       "\n",
       "      ... 총콜레스테롤    치석  치아우식증유무  트리글리세라이드  허리둘레   혈색소  혈청지오티(AST)  혈청지피티(ALT)  \\\n",
       "0     ...   None  None     None      None  86.4  14.3        18.0          20   \n",
       "1     ...   None  None     None      None  94.0  16.0        58.0         144   \n",
       "2     ...   None  None     None      None  80.0  13.8        32.0          26   \n",
       "3     ...   None  None     None      None  74.0  13.2        23.0          15   \n",
       "4     ...   None  None     None      None  80.0  13.8        17.0           9   \n",
       "...   ...    ...   ...      ...       ...   ...   ...         ...         ...   \n",
       "2995  ...   None  None     None      None  78.0  13.3        18.0          14   \n",
       "2996  ...   None  None     None      None  88.0  16.4        19.0          19   \n",
       "2997  ...   None  None     None      None  83.0  12.9        24.0          22   \n",
       "2998  ...   None  None     None      None  74.0  12.4        23.0          23   \n",
       "2999  ...   None  None     None      None  69.0  13.3        19.0           8   \n",
       "\n",
       "      혈청크레아티닌  흡연상태  \n",
       "0        0.80     1  \n",
       "1        0.80     1  \n",
       "2        0.80     1  \n",
       "3        0.80     1  \n",
       "4        0.80     1  \n",
       "...       ...   ...  \n",
       "2995     0.80     1  \n",
       "2996     0.80     1  \n",
       "2997     0.80     1  \n",
       "2998     0.80     1  \n",
       "2999     0.80     1  \n",
       "\n",
       "[3000 rows x 30 columns]"
      ]
     },
     "execution_count": 3,
     "metadata": {},
     "output_type": "execute_result"
    }
   ],
   "source": [
    "df"
   ]
  },
  {
   "cell_type": "code",
   "execution_count": 4,
   "metadata": {
    "colab": {
     "base_uri": "https://localhost:8080/"
    },
    "id": "CGKvwjki7L6D",
    "outputId": "04b79e4c-8988-40a9-ca36-45c27ceca463"
   },
   "outputs": [
    {
     "name": "stdout",
     "output_type": "stream",
     "text": [
      "Index(['HDL콜레스테롤', 'LDL콜레스테롤', '가입자일련번호', '감마지티피', '구강검진수검여부', '기준년도', '성별',\n",
      "       '수축기혈압', '시도코드', '시력(우)', '시력(좌)', '식전혈당(공복혈당)', '신장(5cm단위)',\n",
      "       '연령대코드(5세단위)', '요단백', '음주여부', '이완기혈압', '청력(우)', '청력(좌)', '체중(5kg단위)',\n",
      "       '총콜레스테롤', '치석', '치아우식증유무', '트리글리세라이드', '허리둘레', '혈색소', '혈청지오티(AST)',\n",
      "       '혈청지피티(ALT)', '혈청크레아티닌', '흡연상태'],\n",
      "      dtype='object')\n"
     ]
    }
   ],
   "source": [
    "print(df.columns)"
   ]
  },
  {
   "cell_type": "markdown",
   "metadata": {
    "id": "dfpYvCTFKhm5"
   },
   "source": [
    "### 필요한 칼럼만 추출 후 데이터프레임을 별도의 csv파일로 저장"
   ]
  },
  {
   "cell_type": "code",
   "execution_count": 5,
   "metadata": {
    "id": "edKAVA1IKgID"
   },
   "outputs": [],
   "source": [
    "df = df[[ '감마지티피',  '시력(우)', '시력(좌)','청력(우)', '청력(좌)',\n",
    "       '수축기혈압', '식전혈당(공복혈당)', '신장(5cm단위)',\n",
    "        '요단백', '음주여부', '이완기혈압', '체중(5kg단위)',\n",
    "      '허리둘레', '혈색소', '혈청지오티(AST)',\n",
    "       '혈청지피티(ALT)', '혈청크레아티닌', '흡연상태']]"
   ]
  },
  {
   "cell_type": "code",
   "execution_count": 6,
   "metadata": {
    "id": "TnXaeP3J7oRu"
   },
   "outputs": [
    {
     "data": {
      "text/plain": [
       "'코드를 돌릴 때 매번 API를 호출하기 번거로워 별도의 csv파일로 저장했습니다'"
      ]
     },
     "execution_count": 6,
     "metadata": {},
     "output_type": "execute_result"
    }
   ],
   "source": [
    "'''코드를 돌릴 때 매번 API를 호출하기 번거로워 별도의 csv파일로 저장했습니다'''\n",
    "# df.to_csv('healthcare.csv', encoding = 'cp949')"
   ]
  },
  {
   "cell_type": "markdown",
   "metadata": {
    "id": "sWOTEb38NUul"
   },
   "source": [
    "### csv파일 불러오기"
   ]
  },
  {
   "cell_type": "code",
   "execution_count": 513,
   "metadata": {
    "colab": {
     "base_uri": "https://localhost:8080/",
     "height": 223
    },
    "id": "zB9fsb3DNDxj",
    "outputId": "9af59786-9bd2-437d-d541-ae731755dbce"
   },
   "outputs": [
    {
     "data": {
      "text/html": [
       "<div>\n",
       "<style scoped>\n",
       "    .dataframe tbody tr th:only-of-type {\n",
       "        vertical-align: middle;\n",
       "    }\n",
       "\n",
       "    .dataframe tbody tr th {\n",
       "        vertical-align: top;\n",
       "    }\n",
       "\n",
       "    .dataframe thead th {\n",
       "        text-align: right;\n",
       "    }\n",
       "</style>\n",
       "<table border=\"1\" class=\"dataframe\">\n",
       "  <thead>\n",
       "    <tr style=\"text-align: right;\">\n",
       "      <th></th>\n",
       "      <th>감마지티피</th>\n",
       "      <th>시력(우)</th>\n",
       "      <th>시력(좌)</th>\n",
       "      <th>청력(우)</th>\n",
       "      <th>청력(좌)</th>\n",
       "      <th>수축기혈압</th>\n",
       "      <th>식전혈당(공복혈당)</th>\n",
       "      <th>신장(5cm단위)</th>\n",
       "      <th>요단백</th>\n",
       "      <th>음주여부</th>\n",
       "      <th>이완기혈압</th>\n",
       "      <th>체중(5kg단위)</th>\n",
       "      <th>허리둘레</th>\n",
       "      <th>혈색소</th>\n",
       "      <th>혈청지오티(AST)</th>\n",
       "      <th>혈청지피티(ALT)</th>\n",
       "      <th>혈청크레아티닌</th>\n",
       "      <th>흡연상태</th>\n",
       "    </tr>\n",
       "  </thead>\n",
       "  <tbody>\n",
       "    <tr>\n",
       "      <th>0</th>\n",
       "      <td>28</td>\n",
       "      <td>1.0</td>\n",
       "      <td>1.0</td>\n",
       "      <td>1</td>\n",
       "      <td>1</td>\n",
       "      <td>110</td>\n",
       "      <td>179</td>\n",
       "      <td>160</td>\n",
       "      <td>1</td>\n",
       "      <td>1</td>\n",
       "      <td>72</td>\n",
       "      <td>65</td>\n",
       "      <td>86.4</td>\n",
       "      <td>14.3</td>\n",
       "      <td>18.0</td>\n",
       "      <td>20</td>\n",
       "      <td>0.8</td>\n",
       "      <td>1</td>\n",
       "    </tr>\n",
       "    <tr>\n",
       "      <th>1</th>\n",
       "      <td>74</td>\n",
       "      <td>1.0</td>\n",
       "      <td>1.0</td>\n",
       "      <td>1</td>\n",
       "      <td>1</td>\n",
       "      <td>126</td>\n",
       "      <td>86</td>\n",
       "      <td>175</td>\n",
       "      <td>1</td>\n",
       "      <td>1</td>\n",
       "      <td>76</td>\n",
       "      <td>90</td>\n",
       "      <td>94.0</td>\n",
       "      <td>16.0</td>\n",
       "      <td>58.0</td>\n",
       "      <td>144</td>\n",
       "      <td>0.8</td>\n",
       "      <td>1</td>\n",
       "    </tr>\n",
       "    <tr>\n",
       "      <th>2</th>\n",
       "      <td>38</td>\n",
       "      <td>1.0</td>\n",
       "      <td>1.0</td>\n",
       "      <td>1</td>\n",
       "      <td>1</td>\n",
       "      <td>183</td>\n",
       "      <td>115</td>\n",
       "      <td>160</td>\n",
       "      <td>1</td>\n",
       "      <td>1</td>\n",
       "      <td>109</td>\n",
       "      <td>55</td>\n",
       "      <td>80.0</td>\n",
       "      <td>13.8</td>\n",
       "      <td>32.0</td>\n",
       "      <td>26</td>\n",
       "      <td>0.8</td>\n",
       "      <td>1</td>\n",
       "    </tr>\n",
       "    <tr>\n",
       "      <th>3</th>\n",
       "      <td>35</td>\n",
       "      <td>1.0</td>\n",
       "      <td>1.0</td>\n",
       "      <td>1</td>\n",
       "      <td>1</td>\n",
       "      <td>166</td>\n",
       "      <td>102</td>\n",
       "      <td>155</td>\n",
       "      <td>1</td>\n",
       "      <td>1</td>\n",
       "      <td>115</td>\n",
       "      <td>50</td>\n",
       "      <td>74.0</td>\n",
       "      <td>13.2</td>\n",
       "      <td>23.0</td>\n",
       "      <td>15</td>\n",
       "      <td>0.8</td>\n",
       "      <td>1</td>\n",
       "    </tr>\n",
       "    <tr>\n",
       "      <th>4</th>\n",
       "      <td>21</td>\n",
       "      <td>1.0</td>\n",
       "      <td>1.0</td>\n",
       "      <td>1</td>\n",
       "      <td>1</td>\n",
       "      <td>135</td>\n",
       "      <td>86</td>\n",
       "      <td>155</td>\n",
       "      <td>1</td>\n",
       "      <td>1</td>\n",
       "      <td>70</td>\n",
       "      <td>65</td>\n",
       "      <td>80.0</td>\n",
       "      <td>13.8</td>\n",
       "      <td>17.0</td>\n",
       "      <td>9</td>\n",
       "      <td>0.8</td>\n",
       "      <td>1</td>\n",
       "    </tr>\n",
       "  </tbody>\n",
       "</table>\n",
       "</div>"
      ],
      "text/plain": [
       "   감마지티피  시력(우)  시력(좌)  청력(우)  청력(좌)  수축기혈압  식전혈당(공복혈당)  신장(5cm단위)  요단백  음주여부  \\\n",
       "0     28    1.0    1.0      1      1    110         179        160    1     1   \n",
       "1     74    1.0    1.0      1      1    126          86        175    1     1   \n",
       "2     38    1.0    1.0      1      1    183         115        160    1     1   \n",
       "3     35    1.0    1.0      1      1    166         102        155    1     1   \n",
       "4     21    1.0    1.0      1      1    135          86        155    1     1   \n",
       "\n",
       "   이완기혈압  체중(5kg단위)  허리둘레   혈색소  혈청지오티(AST)  혈청지피티(ALT)  혈청크레아티닌  흡연상태  \n",
       "0     72         65  86.4  14.3        18.0          20      0.8     1  \n",
       "1     76         90  94.0  16.0        58.0         144      0.8     1  \n",
       "2    109         55  80.0  13.8        32.0          26      0.8     1  \n",
       "3    115         50  74.0  13.2        23.0          15      0.8     1  \n",
       "4     70         65  80.0  13.8        17.0           9      0.8     1  "
      ]
     },
     "execution_count": 513,
     "metadata": {},
     "output_type": "execute_result"
    }
   ],
   "source": [
    "import pandas as pd\n",
    "import numpy as np\n",
    "%matplotlib inline\n",
    "import matplotlib.pyplot as plt\n",
    "import seaborn as sns\n",
    "\n",
    "'''Jupyter Notebook 다크 테마 사용시 필요'''\n",
    "plt.rcParams['figure.facecolor'] = 'white'\n",
    "plt.rcParams['axes.facecolor'] = 'white'\n",
    "plt.rcParams['axes.edgecolor'] = 'black'\n",
    "plt.rcParams['axes.labelcolor'] = 'black'\n",
    "plt.rcParams['axes.titlecolor'] = 'black'\n",
    "plt.rcParams['xtick.color'] = 'black'\n",
    "plt.rcParams['ytick.color'] = 'black'\n",
    "\n",
    "\n",
    "#file_path = '/content/drive/MyDrive/ADA/'\n",
    "health_df = pd.read_csv('./healthcare.csv', encoding = 'cp949', index_col = 0)\n",
    "health_df.head()"
   ]
  },
  {
   "cell_type": "markdown",
   "metadata": {
    "id": "BFuVgk7I2-3A"
   },
   "source": [
    "### 한글 폰트 설정"
   ]
  },
  {
   "cell_type": "code",
   "execution_count": 514,
   "metadata": {
    "colab": {
     "base_uri": "https://localhost:8080/"
    },
    "id": "Wc8Rbkg029hd",
    "outputId": "e80dfc69-7a73-4228-f490-1586f4508068"
   },
   "outputs": [],
   "source": [
    "import os\n",
    "\n",
    "# 윈도우, 맥 외의 OS는 별도로 설정해 주세요.\n",
    "if os.name == 'posix':\n",
    "    plt.rc(\"font\", family=\"AppleGothic\")\n",
    "else:\n",
    "    plt.rc(\"font\", family=\"Malgun Gothic\")\n",
    "# 마이너스 폰트 깨지는 문제에 대한 대처\n",
    "plt.rc(\"axes\", unicode_minus=False)"
   ]
  },
  {
   "cell_type": "code",
   "execution_count": 515,
   "metadata": {
    "colab": {
     "base_uri": "https://localhost:8080/"
    },
    "id": "bzLNXpIbzPGd",
    "outputId": "d576a152-d1f1-4983-898f-f48d7ef492af"
   },
   "outputs": [
    {
     "name": "stdout",
     "output_type": "stream",
     "text": [
      "<class 'pandas.core.frame.DataFrame'>\n",
      "Int64Index: 3000 entries, 0 to 2999\n",
      "Data columns (total 18 columns):\n",
      " #   Column      Non-Null Count  Dtype  \n",
      "---  ------      --------------  -----  \n",
      " 0   감마지티피       3000 non-null   int64  \n",
      " 1   시력(우)       3000 non-null   float64\n",
      " 2   시력(좌)       3000 non-null   float64\n",
      " 3   청력(우)       3000 non-null   int64  \n",
      " 4   청력(좌)       3000 non-null   int64  \n",
      " 5   수축기혈압       3000 non-null   int64  \n",
      " 6   식전혈당(공복혈당)  3000 non-null   int64  \n",
      " 7   신장(5cm단위)   3000 non-null   int64  \n",
      " 8   요단백         3000 non-null   int64  \n",
      " 9   음주여부        3000 non-null   int64  \n",
      " 10  이완기혈압       3000 non-null   int64  \n",
      " 11  체중(5kg단위)   3000 non-null   int64  \n",
      " 12  허리둘레        2999 non-null   float64\n",
      " 13  혈색소         3000 non-null   float64\n",
      " 14  혈청지오티(AST)  3000 non-null   float64\n",
      " 15  혈청지피티(ALT)  3000 non-null   int64  \n",
      " 16  혈청크레아티닌     3000 non-null   float64\n",
      " 17  흡연상태        3000 non-null   int64  \n",
      "dtypes: float64(6), int64(12)\n",
      "memory usage: 445.3 KB\n"
     ]
    }
   ],
   "source": [
    "health_df.info()"
   ]
  },
  {
   "cell_type": "markdown",
   "metadata": {
    "id": "_UIpXYT9zhcW"
   },
   "source": [
    "### 결측치 처리"
   ]
  },
  {
   "cell_type": "markdown",
   "metadata": {
    "id": "boSvYCspzxpY"
   },
   "source": [
    "#### 결측치 확인"
   ]
  },
  {
   "cell_type": "code",
   "execution_count": 516,
   "metadata": {
    "colab": {
     "base_uri": "https://localhost:8080/"
    },
    "id": "o7b_tcUkzgJA",
    "outputId": "d5f5686e-a033-4cd4-ff63-e5ae894a1151"
   },
   "outputs": [
    {
     "data": {
      "text/plain": [
       "감마지티피         0\n",
       "시력(우)         0\n",
       "시력(좌)         0\n",
       "청력(우)         0\n",
       "청력(좌)         0\n",
       "수축기혈압         0\n",
       "식전혈당(공복혈당)    0\n",
       "신장(5cm단위)     0\n",
       "요단백           0\n",
       "음주여부          0\n",
       "이완기혈압         0\n",
       "체중(5kg단위)     0\n",
       "허리둘레          1\n",
       "혈색소           0\n",
       "혈청지오티(AST)    0\n",
       "혈청지피티(ALT)    0\n",
       "혈청크레아티닌       0\n",
       "흡연상태          0\n",
       "dtype: int64"
      ]
     },
     "execution_count": 516,
     "metadata": {},
     "output_type": "execute_result"
    }
   ],
   "source": [
    "health_df.isnull().sum()"
   ]
  },
  {
   "cell_type": "markdown",
   "metadata": {
    "id": "wlg9R35Jz0vL"
   },
   "source": [
    "#### 결측치 처리"
   ]
  },
  {
   "cell_type": "code",
   "execution_count": 517,
   "metadata": {
    "id": "4S4x7xqXztrh"
   },
   "outputs": [],
   "source": [
    "#허리둘레 결측치 처리\n",
    "mean_waist = health_df['허리둘레'].mean()\n",
    "health_df['허리둘레'].fillna(mean_waist, inplace = True)"
   ]
  },
  {
   "cell_type": "code",
   "execution_count": 518,
   "metadata": {
    "colab": {
     "base_uri": "https://localhost:8080/"
    },
    "id": "p5ZeUs-40df1",
    "outputId": "bc49e285-a7b4-40db-d70f-6f3a2d9f27c9"
   },
   "outputs": [
    {
     "data": {
      "text/plain": [
       "감마지티피         0\n",
       "시력(우)         0\n",
       "시력(좌)         0\n",
       "청력(우)         0\n",
       "청력(좌)         0\n",
       "수축기혈압         0\n",
       "식전혈당(공복혈당)    0\n",
       "신장(5cm단위)     0\n",
       "요단백           0\n",
       "음주여부          0\n",
       "이완기혈압         0\n",
       "체중(5kg단위)     0\n",
       "허리둘레          0\n",
       "혈색소           0\n",
       "혈청지오티(AST)    0\n",
       "혈청지피티(ALT)    0\n",
       "혈청크레아티닌       0\n",
       "흡연상태          0\n",
       "dtype: int64"
      ]
     },
     "execution_count": 518,
     "metadata": {},
     "output_type": "execute_result"
    }
   ],
   "source": [
    "health_df.isnull().sum()    #허리둘레 칼럼 결측치 채워짐"
   ]
  },
  {
   "cell_type": "markdown",
   "metadata": {},
   "source": [
    "### 데이터 가공 및 전처리"
   ]
  },
  {
   "cell_type": "markdown",
   "metadata": {},
   "source": [
    "#### 수축기혈압과 이완기혈압을 이용해 평균 혈압을 계산\n",
    "<br></br>\n",
    "$$\\text{MAP} = \\text{이완기 혈압}+ \\frac{1}{3}\\text{(수축기 혈압−이완기 혈압)}$$\n",
    "\n",
    "공식의 근거(출처): <a href = \"http://www.monews.co.kr/news/articleView.html?idxno=107487\">평균 동맥압</a>"
   ]
  },
  {
   "cell_type": "code",
   "execution_count": 519,
   "metadata": {},
   "outputs": [
    {
     "data": {
      "text/html": [
       "<div>\n",
       "<style scoped>\n",
       "    .dataframe tbody tr th:only-of-type {\n",
       "        vertical-align: middle;\n",
       "    }\n",
       "\n",
       "    .dataframe tbody tr th {\n",
       "        vertical-align: top;\n",
       "    }\n",
       "\n",
       "    .dataframe thead th {\n",
       "        text-align: right;\n",
       "    }\n",
       "</style>\n",
       "<table border=\"1\" class=\"dataframe\">\n",
       "  <thead>\n",
       "    <tr style=\"text-align: right;\">\n",
       "      <th></th>\n",
       "      <th>감마지티피</th>\n",
       "      <th>시력(우)</th>\n",
       "      <th>시력(좌)</th>\n",
       "      <th>청력(우)</th>\n",
       "      <th>청력(좌)</th>\n",
       "      <th>수축기혈압</th>\n",
       "      <th>식전혈당(공복혈당)</th>\n",
       "      <th>신장(5cm단위)</th>\n",
       "      <th>요단백</th>\n",
       "      <th>음주여부</th>\n",
       "      <th>이완기혈압</th>\n",
       "      <th>체중(5kg단위)</th>\n",
       "      <th>허리둘레</th>\n",
       "      <th>혈색소</th>\n",
       "      <th>혈청지오티(AST)</th>\n",
       "      <th>혈청지피티(ALT)</th>\n",
       "      <th>혈청크레아티닌</th>\n",
       "      <th>흡연상태</th>\n",
       "      <th>평균동맥압</th>\n",
       "    </tr>\n",
       "  </thead>\n",
       "  <tbody>\n",
       "    <tr>\n",
       "      <th>0</th>\n",
       "      <td>28</td>\n",
       "      <td>1.0</td>\n",
       "      <td>1.0</td>\n",
       "      <td>1</td>\n",
       "      <td>1</td>\n",
       "      <td>110</td>\n",
       "      <td>179</td>\n",
       "      <td>160</td>\n",
       "      <td>1</td>\n",
       "      <td>1</td>\n",
       "      <td>72</td>\n",
       "      <td>65</td>\n",
       "      <td>86.4</td>\n",
       "      <td>14.3</td>\n",
       "      <td>18.0</td>\n",
       "      <td>20</td>\n",
       "      <td>0.8</td>\n",
       "      <td>1</td>\n",
       "      <td>84.67</td>\n",
       "    </tr>\n",
       "    <tr>\n",
       "      <th>1</th>\n",
       "      <td>74</td>\n",
       "      <td>1.0</td>\n",
       "      <td>1.0</td>\n",
       "      <td>1</td>\n",
       "      <td>1</td>\n",
       "      <td>126</td>\n",
       "      <td>86</td>\n",
       "      <td>175</td>\n",
       "      <td>1</td>\n",
       "      <td>1</td>\n",
       "      <td>76</td>\n",
       "      <td>90</td>\n",
       "      <td>94.0</td>\n",
       "      <td>16.0</td>\n",
       "      <td>58.0</td>\n",
       "      <td>144</td>\n",
       "      <td>0.8</td>\n",
       "      <td>1</td>\n",
       "      <td>92.67</td>\n",
       "    </tr>\n",
       "    <tr>\n",
       "      <th>2</th>\n",
       "      <td>38</td>\n",
       "      <td>1.0</td>\n",
       "      <td>1.0</td>\n",
       "      <td>1</td>\n",
       "      <td>1</td>\n",
       "      <td>183</td>\n",
       "      <td>115</td>\n",
       "      <td>160</td>\n",
       "      <td>1</td>\n",
       "      <td>1</td>\n",
       "      <td>109</td>\n",
       "      <td>55</td>\n",
       "      <td>80.0</td>\n",
       "      <td>13.8</td>\n",
       "      <td>32.0</td>\n",
       "      <td>26</td>\n",
       "      <td>0.8</td>\n",
       "      <td>1</td>\n",
       "      <td>133.67</td>\n",
       "    </tr>\n",
       "    <tr>\n",
       "      <th>3</th>\n",
       "      <td>35</td>\n",
       "      <td>1.0</td>\n",
       "      <td>1.0</td>\n",
       "      <td>1</td>\n",
       "      <td>1</td>\n",
       "      <td>166</td>\n",
       "      <td>102</td>\n",
       "      <td>155</td>\n",
       "      <td>1</td>\n",
       "      <td>1</td>\n",
       "      <td>115</td>\n",
       "      <td>50</td>\n",
       "      <td>74.0</td>\n",
       "      <td>13.2</td>\n",
       "      <td>23.0</td>\n",
       "      <td>15</td>\n",
       "      <td>0.8</td>\n",
       "      <td>1</td>\n",
       "      <td>132.00</td>\n",
       "    </tr>\n",
       "    <tr>\n",
       "      <th>4</th>\n",
       "      <td>21</td>\n",
       "      <td>1.0</td>\n",
       "      <td>1.0</td>\n",
       "      <td>1</td>\n",
       "      <td>1</td>\n",
       "      <td>135</td>\n",
       "      <td>86</td>\n",
       "      <td>155</td>\n",
       "      <td>1</td>\n",
       "      <td>1</td>\n",
       "      <td>70</td>\n",
       "      <td>65</td>\n",
       "      <td>80.0</td>\n",
       "      <td>13.8</td>\n",
       "      <td>17.0</td>\n",
       "      <td>9</td>\n",
       "      <td>0.8</td>\n",
       "      <td>1</td>\n",
       "      <td>91.67</td>\n",
       "    </tr>\n",
       "  </tbody>\n",
       "</table>\n",
       "</div>"
      ],
      "text/plain": [
       "   감마지티피  시력(우)  시력(좌)  청력(우)  청력(좌)  수축기혈압  식전혈당(공복혈당)  신장(5cm단위)  요단백  음주여부  \\\n",
       "0     28    1.0    1.0      1      1    110         179        160    1     1   \n",
       "1     74    1.0    1.0      1      1    126          86        175    1     1   \n",
       "2     38    1.0    1.0      1      1    183         115        160    1     1   \n",
       "3     35    1.0    1.0      1      1    166         102        155    1     1   \n",
       "4     21    1.0    1.0      1      1    135          86        155    1     1   \n",
       "\n",
       "   이완기혈압  체중(5kg단위)  허리둘레   혈색소  혈청지오티(AST)  혈청지피티(ALT)  혈청크레아티닌  흡연상태   평균동맥압  \n",
       "0     72         65  86.4  14.3        18.0          20      0.8     1   84.67  \n",
       "1     76         90  94.0  16.0        58.0         144      0.8     1   92.67  \n",
       "2    109         55  80.0  13.8        32.0          26      0.8     1  133.67  \n",
       "3    115         50  74.0  13.2        23.0          15      0.8     1  132.00  \n",
       "4     70         65  80.0  13.8        17.0           9      0.8     1   91.67  "
      ]
     },
     "execution_count": 519,
     "metadata": {},
     "output_type": "execute_result"
    }
   ],
   "source": [
    "health_df['평균동맥압'] = np.round((2 * health_df['이완기혈압'] + health_df['수축기혈압'])/3 ,2)\n",
    "health_df.head()"
   ]
  },
  {
   "cell_type": "markdown",
   "metadata": {},
   "source": [
    "#### 신장과 체중을 이용해 대략적인 BMI 수치 계산\n",
    "$$BMI = \\frac{체중}{신장(m)^2}$$"
   ]
  },
  {
   "cell_type": "code",
   "execution_count": 520,
   "metadata": {},
   "outputs": [
    {
     "data": {
      "text/html": [
       "<div>\n",
       "<style scoped>\n",
       "    .dataframe tbody tr th:only-of-type {\n",
       "        vertical-align: middle;\n",
       "    }\n",
       "\n",
       "    .dataframe tbody tr th {\n",
       "        vertical-align: top;\n",
       "    }\n",
       "\n",
       "    .dataframe thead th {\n",
       "        text-align: right;\n",
       "    }\n",
       "</style>\n",
       "<table border=\"1\" class=\"dataframe\">\n",
       "  <thead>\n",
       "    <tr style=\"text-align: right;\">\n",
       "      <th></th>\n",
       "      <th>감마지티피</th>\n",
       "      <th>시력(우)</th>\n",
       "      <th>시력(좌)</th>\n",
       "      <th>청력(우)</th>\n",
       "      <th>청력(좌)</th>\n",
       "      <th>수축기혈압</th>\n",
       "      <th>식전혈당(공복혈당)</th>\n",
       "      <th>신장(5cm단위)</th>\n",
       "      <th>요단백</th>\n",
       "      <th>음주여부</th>\n",
       "      <th>이완기혈압</th>\n",
       "      <th>체중(5kg단위)</th>\n",
       "      <th>허리둘레</th>\n",
       "      <th>혈색소</th>\n",
       "      <th>혈청지오티(AST)</th>\n",
       "      <th>혈청지피티(ALT)</th>\n",
       "      <th>혈청크레아티닌</th>\n",
       "      <th>흡연상태</th>\n",
       "      <th>평균동맥압</th>\n",
       "      <th>BMI</th>\n",
       "    </tr>\n",
       "  </thead>\n",
       "  <tbody>\n",
       "    <tr>\n",
       "      <th>0</th>\n",
       "      <td>28</td>\n",
       "      <td>1.0</td>\n",
       "      <td>1.0</td>\n",
       "      <td>1</td>\n",
       "      <td>1</td>\n",
       "      <td>110</td>\n",
       "      <td>179</td>\n",
       "      <td>160</td>\n",
       "      <td>1</td>\n",
       "      <td>1</td>\n",
       "      <td>72</td>\n",
       "      <td>65</td>\n",
       "      <td>86.4</td>\n",
       "      <td>14.3</td>\n",
       "      <td>18.0</td>\n",
       "      <td>20</td>\n",
       "      <td>0.8</td>\n",
       "      <td>1</td>\n",
       "      <td>84.67</td>\n",
       "      <td>25.39</td>\n",
       "    </tr>\n",
       "    <tr>\n",
       "      <th>1</th>\n",
       "      <td>74</td>\n",
       "      <td>1.0</td>\n",
       "      <td>1.0</td>\n",
       "      <td>1</td>\n",
       "      <td>1</td>\n",
       "      <td>126</td>\n",
       "      <td>86</td>\n",
       "      <td>175</td>\n",
       "      <td>1</td>\n",
       "      <td>1</td>\n",
       "      <td>76</td>\n",
       "      <td>90</td>\n",
       "      <td>94.0</td>\n",
       "      <td>16.0</td>\n",
       "      <td>58.0</td>\n",
       "      <td>144</td>\n",
       "      <td>0.8</td>\n",
       "      <td>1</td>\n",
       "      <td>92.67</td>\n",
       "      <td>29.39</td>\n",
       "    </tr>\n",
       "    <tr>\n",
       "      <th>2</th>\n",
       "      <td>38</td>\n",
       "      <td>1.0</td>\n",
       "      <td>1.0</td>\n",
       "      <td>1</td>\n",
       "      <td>1</td>\n",
       "      <td>183</td>\n",
       "      <td>115</td>\n",
       "      <td>160</td>\n",
       "      <td>1</td>\n",
       "      <td>1</td>\n",
       "      <td>109</td>\n",
       "      <td>55</td>\n",
       "      <td>80.0</td>\n",
       "      <td>13.8</td>\n",
       "      <td>32.0</td>\n",
       "      <td>26</td>\n",
       "      <td>0.8</td>\n",
       "      <td>1</td>\n",
       "      <td>133.67</td>\n",
       "      <td>21.48</td>\n",
       "    </tr>\n",
       "    <tr>\n",
       "      <th>3</th>\n",
       "      <td>35</td>\n",
       "      <td>1.0</td>\n",
       "      <td>1.0</td>\n",
       "      <td>1</td>\n",
       "      <td>1</td>\n",
       "      <td>166</td>\n",
       "      <td>102</td>\n",
       "      <td>155</td>\n",
       "      <td>1</td>\n",
       "      <td>1</td>\n",
       "      <td>115</td>\n",
       "      <td>50</td>\n",
       "      <td>74.0</td>\n",
       "      <td>13.2</td>\n",
       "      <td>23.0</td>\n",
       "      <td>15</td>\n",
       "      <td>0.8</td>\n",
       "      <td>1</td>\n",
       "      <td>132.00</td>\n",
       "      <td>20.81</td>\n",
       "    </tr>\n",
       "    <tr>\n",
       "      <th>4</th>\n",
       "      <td>21</td>\n",
       "      <td>1.0</td>\n",
       "      <td>1.0</td>\n",
       "      <td>1</td>\n",
       "      <td>1</td>\n",
       "      <td>135</td>\n",
       "      <td>86</td>\n",
       "      <td>155</td>\n",
       "      <td>1</td>\n",
       "      <td>1</td>\n",
       "      <td>70</td>\n",
       "      <td>65</td>\n",
       "      <td>80.0</td>\n",
       "      <td>13.8</td>\n",
       "      <td>17.0</td>\n",
       "      <td>9</td>\n",
       "      <td>0.8</td>\n",
       "      <td>1</td>\n",
       "      <td>91.67</td>\n",
       "      <td>27.06</td>\n",
       "    </tr>\n",
       "  </tbody>\n",
       "</table>\n",
       "</div>"
      ],
      "text/plain": [
       "   감마지티피  시력(우)  시력(좌)  청력(우)  청력(좌)  수축기혈압  식전혈당(공복혈당)  신장(5cm단위)  요단백  음주여부  \\\n",
       "0     28    1.0    1.0      1      1    110         179        160    1     1   \n",
       "1     74    1.0    1.0      1      1    126          86        175    1     1   \n",
       "2     38    1.0    1.0      1      1    183         115        160    1     1   \n",
       "3     35    1.0    1.0      1      1    166         102        155    1     1   \n",
       "4     21    1.0    1.0      1      1    135          86        155    1     1   \n",
       "\n",
       "   이완기혈압  체중(5kg단위)  허리둘레   혈색소  혈청지오티(AST)  혈청지피티(ALT)  혈청크레아티닌  흡연상태  \\\n",
       "0     72         65  86.4  14.3        18.0          20      0.8     1   \n",
       "1     76         90  94.0  16.0        58.0         144      0.8     1   \n",
       "2    109         55  80.0  13.8        32.0          26      0.8     1   \n",
       "3    115         50  74.0  13.2        23.0          15      0.8     1   \n",
       "4     70         65  80.0  13.8        17.0           9      0.8     1   \n",
       "\n",
       "    평균동맥압    BMI  \n",
       "0   84.67  25.39  \n",
       "1   92.67  29.39  \n",
       "2  133.67  21.48  \n",
       "3  132.00  20.81  \n",
       "4   91.67  27.06  "
      ]
     },
     "execution_count": 520,
     "metadata": {},
     "output_type": "execute_result"
    }
   ],
   "source": [
    "health_df['BMI'] = np.round(health_df['체중(5kg단위)']/(health_df['신장(5cm단위)']/100)**2, 2)\n",
    "health_df.head()"
   ]
  },
  {
   "cell_type": "markdown",
   "metadata": {},
   "source": [
    "#### 시력(좌)와 시력(우)로 평균 시력 데이터 추가"
   ]
  },
  {
   "cell_type": "code",
   "execution_count": 521,
   "metadata": {},
   "outputs": [
    {
     "data": {
      "text/html": [
       "<div>\n",
       "<style scoped>\n",
       "    .dataframe tbody tr th:only-of-type {\n",
       "        vertical-align: middle;\n",
       "    }\n",
       "\n",
       "    .dataframe tbody tr th {\n",
       "        vertical-align: top;\n",
       "    }\n",
       "\n",
       "    .dataframe thead th {\n",
       "        text-align: right;\n",
       "    }\n",
       "</style>\n",
       "<table border=\"1\" class=\"dataframe\">\n",
       "  <thead>\n",
       "    <tr style=\"text-align: right;\">\n",
       "      <th></th>\n",
       "      <th>감마지티피</th>\n",
       "      <th>시력(우)</th>\n",
       "      <th>시력(좌)</th>\n",
       "      <th>청력(우)</th>\n",
       "      <th>청력(좌)</th>\n",
       "      <th>수축기혈압</th>\n",
       "      <th>식전혈당(공복혈당)</th>\n",
       "      <th>신장(5cm단위)</th>\n",
       "      <th>요단백</th>\n",
       "      <th>음주여부</th>\n",
       "      <th>...</th>\n",
       "      <th>체중(5kg단위)</th>\n",
       "      <th>허리둘레</th>\n",
       "      <th>혈색소</th>\n",
       "      <th>혈청지오티(AST)</th>\n",
       "      <th>혈청지피티(ALT)</th>\n",
       "      <th>혈청크레아티닌</th>\n",
       "      <th>흡연상태</th>\n",
       "      <th>평균동맥압</th>\n",
       "      <th>BMI</th>\n",
       "      <th>평균시력</th>\n",
       "    </tr>\n",
       "  </thead>\n",
       "  <tbody>\n",
       "    <tr>\n",
       "      <th>0</th>\n",
       "      <td>28</td>\n",
       "      <td>1.0</td>\n",
       "      <td>1.0</td>\n",
       "      <td>1</td>\n",
       "      <td>1</td>\n",
       "      <td>110</td>\n",
       "      <td>179</td>\n",
       "      <td>160</td>\n",
       "      <td>1</td>\n",
       "      <td>1</td>\n",
       "      <td>...</td>\n",
       "      <td>65</td>\n",
       "      <td>86.4</td>\n",
       "      <td>14.3</td>\n",
       "      <td>18.0</td>\n",
       "      <td>20</td>\n",
       "      <td>0.8</td>\n",
       "      <td>1</td>\n",
       "      <td>84.67</td>\n",
       "      <td>25.39</td>\n",
       "      <td>1.0</td>\n",
       "    </tr>\n",
       "    <tr>\n",
       "      <th>1</th>\n",
       "      <td>74</td>\n",
       "      <td>1.0</td>\n",
       "      <td>1.0</td>\n",
       "      <td>1</td>\n",
       "      <td>1</td>\n",
       "      <td>126</td>\n",
       "      <td>86</td>\n",
       "      <td>175</td>\n",
       "      <td>1</td>\n",
       "      <td>1</td>\n",
       "      <td>...</td>\n",
       "      <td>90</td>\n",
       "      <td>94.0</td>\n",
       "      <td>16.0</td>\n",
       "      <td>58.0</td>\n",
       "      <td>144</td>\n",
       "      <td>0.8</td>\n",
       "      <td>1</td>\n",
       "      <td>92.67</td>\n",
       "      <td>29.39</td>\n",
       "      <td>1.0</td>\n",
       "    </tr>\n",
       "    <tr>\n",
       "      <th>2</th>\n",
       "      <td>38</td>\n",
       "      <td>1.0</td>\n",
       "      <td>1.0</td>\n",
       "      <td>1</td>\n",
       "      <td>1</td>\n",
       "      <td>183</td>\n",
       "      <td>115</td>\n",
       "      <td>160</td>\n",
       "      <td>1</td>\n",
       "      <td>1</td>\n",
       "      <td>...</td>\n",
       "      <td>55</td>\n",
       "      <td>80.0</td>\n",
       "      <td>13.8</td>\n",
       "      <td>32.0</td>\n",
       "      <td>26</td>\n",
       "      <td>0.8</td>\n",
       "      <td>1</td>\n",
       "      <td>133.67</td>\n",
       "      <td>21.48</td>\n",
       "      <td>1.0</td>\n",
       "    </tr>\n",
       "    <tr>\n",
       "      <th>3</th>\n",
       "      <td>35</td>\n",
       "      <td>1.0</td>\n",
       "      <td>1.0</td>\n",
       "      <td>1</td>\n",
       "      <td>1</td>\n",
       "      <td>166</td>\n",
       "      <td>102</td>\n",
       "      <td>155</td>\n",
       "      <td>1</td>\n",
       "      <td>1</td>\n",
       "      <td>...</td>\n",
       "      <td>50</td>\n",
       "      <td>74.0</td>\n",
       "      <td>13.2</td>\n",
       "      <td>23.0</td>\n",
       "      <td>15</td>\n",
       "      <td>0.8</td>\n",
       "      <td>1</td>\n",
       "      <td>132.00</td>\n",
       "      <td>20.81</td>\n",
       "      <td>1.0</td>\n",
       "    </tr>\n",
       "    <tr>\n",
       "      <th>4</th>\n",
       "      <td>21</td>\n",
       "      <td>1.0</td>\n",
       "      <td>1.0</td>\n",
       "      <td>1</td>\n",
       "      <td>1</td>\n",
       "      <td>135</td>\n",
       "      <td>86</td>\n",
       "      <td>155</td>\n",
       "      <td>1</td>\n",
       "      <td>1</td>\n",
       "      <td>...</td>\n",
       "      <td>65</td>\n",
       "      <td>80.0</td>\n",
       "      <td>13.8</td>\n",
       "      <td>17.0</td>\n",
       "      <td>9</td>\n",
       "      <td>0.8</td>\n",
       "      <td>1</td>\n",
       "      <td>91.67</td>\n",
       "      <td>27.06</td>\n",
       "      <td>1.0</td>\n",
       "    </tr>\n",
       "  </tbody>\n",
       "</table>\n",
       "<p>5 rows × 21 columns</p>\n",
       "</div>"
      ],
      "text/plain": [
       "   감마지티피  시력(우)  시력(좌)  청력(우)  청력(좌)  수축기혈압  식전혈당(공복혈당)  신장(5cm단위)  요단백  음주여부  \\\n",
       "0     28    1.0    1.0      1      1    110         179        160    1     1   \n",
       "1     74    1.0    1.0      1      1    126          86        175    1     1   \n",
       "2     38    1.0    1.0      1      1    183         115        160    1     1   \n",
       "3     35    1.0    1.0      1      1    166         102        155    1     1   \n",
       "4     21    1.0    1.0      1      1    135          86        155    1     1   \n",
       "\n",
       "   ...  체중(5kg단위)  허리둘레   혈색소  혈청지오티(AST)  혈청지피티(ALT)  혈청크레아티닌  흡연상태   평균동맥압  \\\n",
       "0  ...         65  86.4  14.3        18.0          20      0.8     1   84.67   \n",
       "1  ...         90  94.0  16.0        58.0         144      0.8     1   92.67   \n",
       "2  ...         55  80.0  13.8        32.0          26      0.8     1  133.67   \n",
       "3  ...         50  74.0  13.2        23.0          15      0.8     1  132.00   \n",
       "4  ...         65  80.0  13.8        17.0           9      0.8     1   91.67   \n",
       "\n",
       "     BMI  평균시력  \n",
       "0  25.39   1.0  \n",
       "1  29.39   1.0  \n",
       "2  21.48   1.0  \n",
       "3  20.81   1.0  \n",
       "4  27.06   1.0  \n",
       "\n",
       "[5 rows x 21 columns]"
      ]
     },
     "execution_count": 521,
     "metadata": {},
     "output_type": "execute_result"
    }
   ],
   "source": [
    "health_df['평균시력'] = (health_df['시력(좌)'] + health_df['시력(우)'])/2\n",
    "health_df.head()"
   ]
  },
  {
   "cell_type": "markdown",
   "metadata": {},
   "source": [
    "### 변수 데이터 찍어보기"
   ]
  },
  {
   "cell_type": "code",
   "execution_count": 522,
   "metadata": {},
   "outputs": [
    {
     "data": {
      "image/png": "[encoded data removed]",
      "text/plain": [
       "<Figure size 1440x432 with 4 Axes>"
      ]
     },
     "metadata": {},
     "output_type": "display_data"
    }
   ],
   "source": [
    "fig, axes = plt.subplots(nrows=1, ncols=4, figsize=(20, 6))\n",
    "fig.suptitle('독립 변수별 데이터', fontsize=16)\n",
    "\n",
    "columns = ['혈청지오티(AST)', '혈청지피티(ALT)', '감마지티피', 'BMI']\n",
    "\n",
    "for i, col in enumerate(columns):\n",
    "    sns.scatterplot(x=health_df[col], y=health_df['평균동맥압'], ax=axes[i])  # i 인덱스를 사용하여 축에 접근\n",
    "    \n",
    "    axes[i].set_title(f'{col} vs 평균동맥압')\n",
    "    axes[i].set_xlabel(col)\n",
    "    axes[i].set_ylabel('평균동맥압')\n",
    "\n",
    "plt.tight_layout(rect=[0, 0, 1, 0.96])\n",
    "plt.show()"
   ]
  },
  {
   "cell_type": "markdown",
   "metadata": {},
   "source": [
    "### Outlier 제거: $|Z| \\geq 2.58$ 인 데이터 기준"
   ]
  },
  {
   "cell_type": "code",
   "execution_count": 523,
   "metadata": {},
   "outputs": [
    {
     "data": {
      "text/plain": [
       "(2886, 21)"
      ]
     },
     "execution_count": 523,
     "metadata": {},
     "output_type": "execute_result"
    }
   ],
   "source": [
    "from scipy.stats import zscore\n",
    "columns_to_check = ['혈청지오티(AST)', '혈청지피티(ALT)', '감마지티피']   #BMI는 통계 검정에 쓸 예정이라 일단 놔둠\n",
    "\n",
    "# Filter out rows with any z-score in the specified columns having absolute value >= 2.58\n",
    "health_df = health_df[(z_scores.abs() < 2.58).all(axis=1)]\n",
    "\n",
    "health_df.reset_index(drop=True, inplace=True)\n",
    "health_df.shape     "
   ]
  },
  {
   "cell_type": "code",
   "execution_count": 524,
   "metadata": {},
   "outputs": [
    {
     "name": "stdout",
     "output_type": "stream",
     "text": [
      "<class 'pandas.core.frame.DataFrame'>\n",
      "RangeIndex: 2886 entries, 0 to 2885\n",
      "Data columns (total 21 columns):\n",
      " #   Column      Non-Null Count  Dtype  \n",
      "---  ------      --------------  -----  \n",
      " 0   감마지티피       2886 non-null   int64  \n",
      " 1   시력(우)       2886 non-null   float64\n",
      " 2   시력(좌)       2886 non-null   float64\n",
      " 3   청력(우)       2886 non-null   int64  \n",
      " 4   청력(좌)       2886 non-null   int64  \n",
      " 5   수축기혈압       2886 non-null   int64  \n",
      " 6   식전혈당(공복혈당)  2886 non-null   int64  \n",
      " 7   신장(5cm단위)   2886 non-null   int64  \n",
      " 8   요단백         2886 non-null   int64  \n",
      " 9   음주여부        2886 non-null   int64  \n",
      " 10  이완기혈압       2886 non-null   int64  \n",
      " 11  체중(5kg단위)   2886 non-null   int64  \n",
      " 12  허리둘레        2886 non-null   float64\n",
      " 13  혈색소         2886 non-null   float64\n",
      " 14  혈청지오티(AST)  2886 non-null   float64\n",
      " 15  혈청지피티(ALT)  2886 non-null   int64  \n",
      " 16  혈청크레아티닌     2886 non-null   float64\n",
      " 17  흡연상태        2886 non-null   int64  \n",
      " 18  평균동맥압       2886 non-null   float64\n",
      " 19  BMI         2886 non-null   float64\n",
      " 20  평균시력        2886 non-null   float64\n",
      "dtypes: float64(9), int64(12)\n",
      "memory usage: 473.6 KB\n"
     ]
    }
   ],
   "source": [
    "health_df.info()"
   ]
  },
  {
   "cell_type": "markdown",
   "metadata": {
    "id": "vubN1ZcSOOt8"
   },
   "source": [
    "## 가설 1: 간수치로 음주 여부를 판단할 수 있을까?\n",
    "\n",
    "- $y$ : '음주여부'\n",
    "- $x$: ['혈청지오티(AST)', '혈청지피티(ALT)', '감마지티피']"
   ]
  },
  {
   "cell_type": "markdown",
   "metadata": {
    "id": "l8H25T890p9e"
   },
   "source": [
    "### 독립변수와 종속변수 설정"
   ]
  },
  {
   "cell_type": "code",
   "execution_count": 525,
   "metadata": {
    "colab": {
     "base_uri": "https://localhost:8080/"
    },
    "id": "ZJgNr59fN-hY",
    "outputId": "d24fe2d4-ac83-4533-990c-b03d17624376"
   },
   "outputs": [
    {
     "data": {
      "text/plain": [
       "((2886, 3), (2886,))"
      ]
     },
     "execution_count": 525,
     "metadata": {},
     "output_type": "execute_result"
    }
   ],
   "source": [
    "features = health_df[['혈청지오티(AST)', '혈청지피티(ALT)', '감마지티피']]\n",
    "labels = health_df['음주여부']\n",
    "\n",
    "features.shape, labels.shape"
   ]
  },
  {
   "cell_type": "markdown",
   "metadata": {},
   "source": [
    "### 변수들 간 다중공선성 검정"
   ]
  },
  {
   "cell_type": "code",
   "execution_count": 526,
   "metadata": {},
   "outputs": [],
   "source": [
    "from sklearn.preprocessing import StandardScaler\n",
    "\n",
    "scaler = StandardScaler()\n",
    "features = pd.DataFrame(scaler.fit_transform(features), columns = features.columns)"
   ]
  },
  {
   "cell_type": "markdown",
   "metadata": {},
   "source": [
    "#### Correlation Matrix 출력"
   ]
  },
  {
   "cell_type": "code",
   "execution_count": 527,
   "metadata": {},
   "outputs": [
    {
     "data": {
      "image/png": "[encoded data removed]",
      "text/plain": [
       "<Figure size 576x432 with 2 Axes>"
      ]
     },
     "metadata": {},
     "output_type": "display_data"
    }
   ],
   "source": [
    "correlation_matrix = features.corr()\n",
    "plt.figure(figsize=(8, 6))\n",
    "sns.heatmap(correlation_matrix, annot=True, cmap='coolwarm', linewidths=.5)\n",
    "plt.title('Correlation Matrix of Variables')\n",
    "plt.show()"
   ]
  },
  {
   "cell_type": "markdown",
   "metadata": {},
   "source": [
    "#### VIF 계산"
   ]
  },
  {
   "cell_type": "code",
   "execution_count": 528,
   "metadata": {},
   "outputs": [
    {
     "name": "stdout",
     "output_type": "stream",
     "text": [
      "      feature       VIF\n",
      "0       const  1.000000\n",
      "1  혈청지오티(AST)  2.060474\n",
      "2  혈청지피티(ALT)  2.462127\n",
      "3       감마지티피  1.357571\n"
     ]
    },
    {
     "name": "stderr",
     "output_type": "stream",
     "text": [
      "C:\\Users\\82107\\anaconda3\\lib\\site-packages\\statsmodels\\tsa\\tsatools.py:142: FutureWarning: In a future version of pandas all arguments of concat except for the argument 'objs' will be keyword-only\n",
      "  x = pd.concat(x[::order], 1)\n"
     ]
    }
   ],
   "source": [
    "from statsmodels.stats.outliers_influence import variance_inflation_factor\n",
    "from statsmodels.tools.tools import add_constant\n",
    "\n",
    "# Adding a constant column for intercept\n",
    "X = add_constant(features)\n",
    "\n",
    "# Calculating VIF for each feature\n",
    "vif_data = pd.DataFrame()\n",
    "vif_data[\"feature\"] = X.columns\n",
    "vif_data[\"VIF\"] = [variance_inflation_factor(X.values, i) for i in range(X.shape[1])]\n",
    "\n",
    "print(vif_data)"
   ]
  },
  {
   "cell_type": "markdown",
   "metadata": {
    "id": "30CO_Es80vKt"
   },
   "source": [
    "### 사이킷런 메서드 호출 및 Train, Test 분리"
   ]
  },
  {
   "cell_type": "code",
   "execution_count": 566,
   "metadata": {
    "colab": {
     "base_uri": "https://localhost:8080/"
    },
    "id": "qnZWPZJFxdUx",
    "outputId": "75784f43-4b4f-46e5-80d7-d841942138d5"
   },
   "outputs": [
    {
     "name": "stdout",
     "output_type": "stream",
     "text": [
      "(2308, 3) (578, 3)\n",
      "(2308,) (578,)\n"
     ]
    }
   ],
   "source": [
    "X = features\n",
    "y = labels\n",
    "\n",
    "from sklearn.model_selection import train_test_split\n",
    "\n",
    "X_train, X_test, y_train, y_test = train_test_split(X, y, test_size = 0.2, shuffle = True, random_state = 156)\n",
    "\n",
    "print(X_train.shape, X_test.shape)\n",
    "print(y_train.shape, y_test.shape)"
   ]
  },
  {
   "cell_type": "code",
   "execution_count": 555,
   "metadata": {},
   "outputs": [
    {
     "name": "stdout",
     "output_type": "stream",
     "text": [
      "[0 1]\n"
     ]
    }
   ],
   "source": [
    "# y_train의 유형 확인\n",
    "print(np.unique(y_train))\n"
   ]
  },
  {
   "cell_type": "markdown",
   "metadata": {
    "id": "xrZBMauy1j8c"
   },
   "source": [
    "### 보팅 분류 모델 설계"
   ]
  },
  {
   "cell_type": "code",
   "execution_count": 563,
   "metadata": {
    "colab": {
     "base_uri": "https://localhost:8080/"
    },
    "id": "lkFgFbyjymOB",
    "outputId": "d07f0ad9-33ee-4468-f8f4-0513e4fba446"
   },
   "outputs": [],
   "source": [
    "from sklearn.metrics import accuracy_score, precision_score, recall_score, fbeta_score, confusion_matrix, roc_auc_score\n",
    "from sklearn.ensemble import VotingClassifier\n",
    "from sklearn.tree import DecisionTreeClassifier\n",
    "from sklearn.linear_model import LogisticRegression\n",
    "from sklearn.neighbors import KNeighborsClassifier\n",
    "from sklearn.model_selection import GridSearchCV"
   ]
  },
  {
   "cell_type": "code",
   "execution_count": 567,
   "metadata": {
    "colab": {
     "base_uri": "https://localhost:8080/"
    },
    "id": "lkFgFbyjymOB",
    "outputId": "d07f0ad9-33ee-4468-f8f4-0513e4fba446"
   },
   "outputs": [
    {
     "name": "stdout",
     "output_type": "stream",
     "text": [
      "Best parameters: {'DT__max_depth': 6, 'DT__min_samples_leaf': 6, 'DT__min_samples_split': 4, 'KNN__n_neighbors': 12, 'LR__C': 1.0}\n",
      "Best cross-validation accuracy: 0.5641321801842409\n"
     ]
    }
   ],
   "source": [
    "dt_clf = DecisionTreeClassifier(random_state = 156)\n",
    "lr_clf = LogisticRegression(solver = 'liblinear')\n",
    "knn_clf = KNeighborsClassifier()\n",
    "\n",
    "vo_clf = VotingClassifier(estimators = [('DT', dt_clf), ('LR', lr_clf), ('KNN', knn_clf)], voting = 'soft')\n",
    "\n",
    "#하이퍼파리미터 튜닝\n",
    "params = {\n",
    "    'DT__max_depth': [6, 8, 12, 24],\n",
    "    'DT__min_samples_split': [4, 8, 16],\n",
    "    'DT__min_samples_leaf': [2, 6, 12],\n",
    "    'LR__C': [0.01, 0.1, 1.0, 10.0],\n",
    "    'KNN__n_neighbors': [3, 6, 9, 12] \n",
    "}\n",
    "\n",
    "grid = GridSearchCV(estimator=vo_clf, param_grid=params, cv=5)\n",
    "grid.fit(X_train, y_train)\n",
    "\n",
    "print(\"Best parameters:\", grid.best_params_)\n",
    "print(\"Best cross-validation accuracy:\", grid.best_score_)"
   ]
  },
  {
   "cell_type": "markdown",
   "metadata": {
    "id": "f9pibEac33HB"
   },
   "source": [
    "### 모델 정확도 출력하기"
   ]
  },
  {
   "cell_type": "code",
   "execution_count": 570,
   "metadata": {
    "colab": {
     "base_uri": "https://localhost:8080/"
    },
    "id": "ff4F6xMy3uPJ",
    "outputId": "bb5c3fcd-ce2e-4491-da0c-2649edd7bb67"
   },
   "outputs": [
    {
     "name": "stdout",
     "output_type": "stream",
     "text": [
      "Test accuracy: 0.59\n",
      "Precision: 0.6\n",
      "Recall: 0.88\n",
      "Confusion Matrix:\n",
      " [[ 43 200]\n",
      " [ 39 296]]\n",
      "F1 Score:  0.81\n"
     ]
    }
   ],
   "source": [
    "y_pred = grid.best_estimator_.predict(X_test)\n",
    "y_proba = grid.best_estimator_.predict_proba(X_test)[:, 1]  # 소프트 투표를 사용하는 경우 확률 예측 필요\n",
    "\n",
    "# 성능 지표 계산\n",
    "accuracy = accuracy_score(y_test, y_pred)\n",
    "precision = precision_score(y_test, y_pred)\n",
    "recall = recall_score(y_test, y_pred)\n",
    "conf_matrix = confusion_matrix(y_test, y_pred)\n",
    "f2 = fbeta_score(y_test, y_pred, beta = 2)  # recall이 더 중요하다고 판단해서 beta = 2로 설정\n",
    "\n",
    "roc_auc = roc_auc_score(y_test, y_proba)\n",
    "\n",
    "# 성능 지표 출력\n",
    "print(\"Test accuracy:\", np.round(accuracy,2))\n",
    "print(\"Precision:\", np.round(precision,2))\n",
    "print(\"Recall:\", np.round(recall, 2))\n",
    "print(\"Confusion Matrix:\\n\", conf_matrix)\n",
    "print(\"F1 Score: \", np.round(f2,2))"
   ]
  },
  {
   "cell_type": "markdown",
   "metadata": {},
   "source": [
    "### ROC - Curve 그리기"
   ]
  },
  {
   "cell_type": "code",
   "execution_count": 571,
   "metadata": {},
   "outputs": [
    {
     "data": {
      "image/png": "[encoded data removed]",
      "text/plain": [
       "<Figure size 864x576 with 1 Axes>"
      ]
     },
     "metadata": {},
     "output_type": "display_data"
    }
   ],
   "source": [
    "from sklearn.metrics import roc_curve, auc\n",
    "\n",
    "fpr, tpr, thresholds = roc_curve(y_test, y_proba)\n",
    "roc_auc = auc(fpr, tpr)\n",
    "\n",
    "# ROC 곡선 그리기\n",
    "plt.figure(figsize = (12,8))\n",
    "plt.plot(fpr, tpr, color='darkorange', lw=2, label='ROC curve (area = %0.2f)' % roc_auc)\n",
    "plt.plot([0, 1], [0, 1], color='navy', lw=2, linestyle='--')\n",
    "plt.xlim([0.0, 1.0])\n",
    "plt.ylim([0.0, 1.05])\n",
    "plt.xlabel('False Positive Rate')\n",
    "plt.ylabel('True Positive Rate')\n",
    "plt.title('Receiver Operating Characteristic')\n",
    "plt.legend(loc=\"lower right\")\n",
    "plt.show()"
   ]
  },
  {
   "cell_type": "markdown",
   "metadata": {},
   "source": [
    "### 가설 1에 대한 결론"
   ]
  },
  {
   "cell_type": "markdown",
   "metadata": {},
   "source": [
    "<font size = 4>[분류 분석 결과]</font>\n",
    "\n",
    "Recall = 0.88\n",
    "<br></br>\n",
    "<font size = 4>[결론]</font>\n",
    "\n",
    "음주 여부를 예측하는 모델에서 높은 재현율(Recall)인 0.88을 달성한 것은 모델이 실제로 음주로 인한 간 건강 위험이 있는 사람들을 효과적으로 식별해내고 있음을 나타냅니다. 이는 모델이 실제로 위험한 상태인 사람들을 대부분 놓치지 않고 잘 포착하고 있다는 의미로, 음주로 인한 간 건강 문제를 조기에 감지하여 적절한 조치를 취할 수 있는 기반을 마련해줍니다.\n",
    "<br></br>\n",
    "<font size = 4>[인사이트]</font>\n",
    "\n",
    "이 결과는 음주로 인한 건강 위험을 가능한 한 많이 포착하고, 필요한 의료적 개입을 제공하여 개인의 건강을 보호하고 간 건강 문제의 진행을 예방할 수 있도록 합니다. 따라서 높은 재현율은 의료 서비스 제공자와 공중 보건 정책 입안자에게 음주 관련 건강 위험을 인식시키고, 조기 개입을 통해 건강 문제를 관리할 수 있는 중요한 정보를 제공합니다."
   ]
  },
  {
   "cell_type": "markdown",
   "metadata": {},
   "source": [
    "## 가설 2"
   ]
  },
  {
   "cell_type": "markdown",
   "metadata": {},
   "source": [
    "### 가설 2.1. BMI와 혈압이 상관관계가 있을까?"
   ]
  },
  {
   "cell_type": "markdown",
   "metadata": {},
   "source": [
    "#### BMI 데이터의 분포 형태 확인"
   ]
  },
  {
   "cell_type": "code",
   "execution_count": 535,
   "metadata": {},
   "outputs": [
    {
     "name": "stderr",
     "output_type": "stream",
     "text": [
      "C:\\Users\\82107\\AppData\\Local\\Temp/ipykernel_588/3470957701.py:7: UserWarning: color is redundantly defined by the 'color' keyword argument and the fmt string \"k\" (-> color=(0.0, 0.0, 0.0, 1)). The keyword argument will take precedence.\n",
      "  plt.plot(x, p, 'k', linewidth=2, color='red', label='Normal Distribution')\n"
     ]
    },
    {
     "data": {
      "image/png": "[encoded data removed]",
      "text/plain": [
       "<Figure size 720x504 with 1 Axes>"
      ]
     },
     "metadata": {},
     "output_type": "display_data"
    }
   ],
   "source": [
    "plt.figure(figsize=(10, 7))\n",
    "\n",
    "sns.histplot(health_df['BMI'], kde=True, stat=\"density\", bins=30, color='green', label='Histogram')\n",
    "xmin, xmax = plt.xlim()\n",
    "x = np.linspace(xmin, xmax, 100)\n",
    "p = norm.pdf(x, health_df['BMI'].mean(), health_df['BMI'].std())\n",
    "plt.plot(x, p, 'k', linewidth=2, color='red', label='Normal Distribution')\n",
    "\n",
    "title = \"Fit results: mu = {:.2f},  std = {:.2f}\".format(health_df['BMI'].mean(), health_df['BMI'].std())\n",
    "plt.title(title)\n",
    "plt.xlabel(\"BMI\")\n",
    "plt.ylabel(\"Density\")\n",
    "plt.legend()\n",
    "plt.show()"
   ]
  },
  {
   "cell_type": "markdown",
   "metadata": {},
   "source": [
    "#### 평균동맥압 데이터의 분포도 확인"
   ]
  },
  {
   "cell_type": "code",
   "execution_count": 536,
   "metadata": {},
   "outputs": [
    {
     "name": "stderr",
     "output_type": "stream",
     "text": [
      "C:\\Users\\82107\\AppData\\Local\\Temp/ipykernel_588/5907487.py:7: UserWarning: color is redundantly defined by the 'color' keyword argument and the fmt string \"k\" (-> color=(0.0, 0.0, 0.0, 1)). The keyword argument will take precedence.\n",
      "  plt.plot(x, p, 'k', linewidth=2, color='red', label='Normal Distribution')\n"
     ]
    },
    {
     "data": {
      "image/png": "[encoded data removed]",
      "text/plain": [
       "<Figure size 720x504 with 1 Axes>"
      ]
     },
     "metadata": {},
     "output_type": "display_data"
    }
   ],
   "source": [
    "plt.figure(figsize=(10, 7))\n",
    "\n",
    "sns.histplot(health_df['평균동맥압'], kde=True, stat=\"density\", bins=30, color='blue', label='Histogram')\n",
    "xmin, xmax = plt.xlim()\n",
    "x = np.linspace(xmin, xmax, 100)\n",
    "p = norm.pdf(x, health_df['평균동맥압'].mean(), health_df['평균동맥압'].std())\n",
    "plt.plot(x, p, 'k', linewidth=2, color='red', label='Normal Distribution')\n",
    "\n",
    "title = \"Fit results: mu = {:.2f},  std = {:.2f}\".format(health_df['평균동맥압'].mean(), health_df['평균동맥압'].std())\n",
    "plt.title(title)\n",
    "plt.xlabel(\"MAP\")\n",
    "plt.ylabel(\"Density\")\n",
    "plt.legend()\n",
    "plt.show()"
   ]
  },
  {
   "cell_type": "markdown",
   "metadata": {},
   "source": [
    "#### 비만도 유형 카테고리화"
   ]
  },
  {
   "cell_type": "markdown",
   "metadata": {},
   "source": [
    "BMI에 따라서 비만 유형을 다음과 같이 분류 가능 (mean = 23.17, std = 3.81)\n",
    "- BMI(~ 18.5) : 저체중\n",
    "- BMI(18.5 ~ 23) : 정상\n",
    "- BMI(23 ~ 25) : 과체중\n",
    "- BMI(25 ~ 30) : 경도비만\n",
    "- BMI(30 ~ 35) : 중증도비만\n",
    "- BMI(35 ~ ) : 고도비만\n",
    "\n",
    "\n",
    "\n",
    "출처: <a href = \"https://health.kdca.go.kr/healthinfo/biz/health/gnrlzHealthInfo/gnrlzHealthInfo/gnrlzHealthInfoView.do?cntnts_sn=5292\">비만도 유형 분류 기준</a>"
   ]
  },
  {
   "cell_type": "code",
   "execution_count": 537,
   "metadata": {},
   "outputs": [
    {
     "name": "stdout",
     "output_type": "stream",
     "text": [
      "ANOVA 결과: F-value = 59.33 , P-value = 0.0\n"
     ]
    }
   ],
   "source": [
    "from scipy import stats\n",
    "\n",
    "conditions = [\n",
    "    (health_df['BMI'] < 18.5),\n",
    "    (health_df['BMI'] >= 18.5) & (health_df['BMI'] < 23),\n",
    "    (health_df['BMI'] >= 23) & (health_df['BMI'] < 25),\n",
    "    (health_df['BMI'] >= 25) & (health_df['BMI'] < 30),\n",
    "    (health_df['BMI'] >= 30) & (health_df['BMI'] < 35),\n",
    "    (health_df['BMI'] >= 35)\n",
    "]\n",
    "\n",
    "categories = ['underweight', 'normal', 'overweight', 'obese_light', 'obese_mid', 'obese_high']\n",
    "health_df['BMI_category'] = np.select(conditions, categories, default='Unknown')\n",
    "\n",
    "\n",
    "anova_results = stats.f_oneway(health_df[health_df['BMI_category'] == 'underweight']['평균동맥압'],\n",
    "                               health_df[health_df['BMI_category'] == 'normal']['평균동맥압'],\n",
    "                               health_df[health_df['BMI_category'] == 'overweight']['평균동맥압'],\n",
    "                               health_df[health_df['BMI_category'] == 'obese_light']['평균동맥압'],\n",
    "                               health_df[health_df['BMI_category'] == 'obese_mid']['평균동맥압'],\n",
    "                               health_df[health_df['BMI_category'] == 'obese_high']['평균동맥압']\n",
    "                              )\n",
    "\n",
    "print(\"ANOVA 결과: F-value =\", np.round(anova_results.statistic, 2), \", P-value =\", np.round(anova_results.pvalue,2))"
   ]
  },
  {
   "cell_type": "markdown",
   "metadata": {},
   "source": [
    "#### ANOVA 테이블 그리기"
   ]
  },
  {
   "cell_type": "code",
   "execution_count": 538,
   "metadata": {},
   "outputs": [
    {
     "data": {
      "text/html": [
       "<div>\n",
       "<style scoped>\n",
       "    .dataframe tbody tr th:only-of-type {\n",
       "        vertical-align: middle;\n",
       "    }\n",
       "\n",
       "    .dataframe tbody tr th {\n",
       "        vertical-align: top;\n",
       "    }\n",
       "\n",
       "    .dataframe thead th {\n",
       "        text-align: right;\n",
       "    }\n",
       "</style>\n",
       "<table border=\"1\" class=\"dataframe\">\n",
       "  <thead>\n",
       "    <tr style=\"text-align: right;\">\n",
       "      <th></th>\n",
       "      <th>Source of Variation</th>\n",
       "      <th>SS</th>\n",
       "      <th>DF</th>\n",
       "      <th>MS</th>\n",
       "      <th>F Value</th>\n",
       "      <th>P Value</th>\n",
       "    </tr>\n",
       "  </thead>\n",
       "  <tbody>\n",
       "    <tr>\n",
       "      <th>0</th>\n",
       "      <td>Between Groups</td>\n",
       "      <td>30839.220229</td>\n",
       "      <td>5</td>\n",
       "      <td>6167.844046</td>\n",
       "      <td>59.328381</td>\n",
       "      <td>0.0</td>\n",
       "    </tr>\n",
       "    <tr>\n",
       "      <th>1</th>\n",
       "      <td>Within Groups</td>\n",
       "      <td>299407.981916</td>\n",
       "      <td>2880</td>\n",
       "      <td>103.961105</td>\n",
       "      <td></td>\n",
       "      <td></td>\n",
       "    </tr>\n",
       "    <tr>\n",
       "      <th>2</th>\n",
       "      <td>Total</td>\n",
       "      <td>330247.202145</td>\n",
       "      <td>2885</td>\n",
       "      <td></td>\n",
       "      <td></td>\n",
       "      <td></td>\n",
       "    </tr>\n",
       "  </tbody>\n",
       "</table>\n",
       "</div>"
      ],
      "text/plain": [
       "  Source of Variation             SS    DF           MS    F Value P Value\n",
       "0      Between Groups   30839.220229     5  6167.844046  59.328381     0.0\n",
       "1       Within Groups  299407.981916  2880   103.961105                   \n",
       "2               Total  330247.202145  2885                                "
      ]
     },
     "execution_count": 538,
     "metadata": {},
     "output_type": "execute_result"
    }
   ],
   "source": [
    "from statsmodels.formula.api import ols\n",
    "import statsmodels.api as sm\n",
    "\n",
    "# 모델 정의 및 ANOVA 수행\n",
    "model = ols('평균동맥압 ~ C(BMI_category)', data=health_df).fit()\n",
    "anova_results = sm.stats.anova_lm(model, typ=2)\n",
    "\n",
    "# 그룹별로 SS, DF 계산 추가\n",
    "group_means = health_df.groupby('BMI_category')['평균동맥압'].mean()\n",
    "overall_mean = health_df['평균동맥압'].mean()\n",
    "ss_total = sum((health_df['평균동맥압'] - overall_mean)**2)\n",
    "ss_between = sum(health_df.groupby('BMI_category').size() * (group_means - overall_mean)**2)\n",
    "df_between = health_df['BMI_category'].nunique() - 1\n",
    "ss_within = ss_total - ss_between\n",
    "df_within = len(health_df) - health_df['BMI_category'].nunique()\n",
    "ms_between = ss_between / df_between\n",
    "ms_within = ss_within / df_within\n",
    "f_value = ms_between / ms_within\n",
    "p_value = stats.f.sf(f_value, df_between, df_within)\n",
    "\n",
    "# ANOVA 테이블 완성\n",
    "anova_table = pd.DataFrame({\n",
    "    \"Source of Variation\": [\"Between Groups\", \"Within Groups\", \"Total\"],\n",
    "    \"SS\": [ss_between, ss_within, ss_total],\n",
    "    \"DF\": [df_between, df_within, len(data) - 1],\n",
    "    \"MS\": [ms_between, ms_within, \"\"],\n",
    "    \"F Value\": [f_value, \"\", \"\"],\n",
    "    \"P Value\": [p_value, \"\", \"\"]\n",
    "})\n",
    "\n",
    "anova_table = pd.DataFrame(anova_table)\n",
    "anova_table"
   ]
  },
  {
   "cell_type": "markdown",
   "metadata": {},
   "source": [
    "#### ANOVA 분석 결과 시각화"
   ]
  },
  {
   "cell_type": "code",
   "execution_count": 539,
   "metadata": {},
   "outputs": [
    {
     "data": {
      "image/png": "[encoded data removed]",
      "text/plain": [
       "<Figure size 864x432 with 2 Axes>"
      ]
     },
     "metadata": {},
     "output_type": "display_data"
    }
   ],
   "source": [
    "plt.figure(figsize=(12, 6))\n",
    "\n",
    "# 박스플롯\n",
    "plt.subplot(1, 2, 1)\n",
    "sns.boxplot(x='BMI_category', y='평균동맥압', data=health_df)\n",
    "plt.title('Box Plot of MAP by BMI Category')\n",
    "plt.ylabel('Mean Arterial Pressure (MAP)')\n",
    "plt.xlabel('BMI Category')\n",
    "\n",
    "# 바이올린 플롯\n",
    "plt.subplot(1, 2, 2)\n",
    "sns.violinplot(x='BMI_category', y='평균동맥압', data=health_df)\n",
    "plt.title('Violin Plot of MAP by BMI Category')\n",
    "plt.ylabel('Mean Arterial Pressure (MAP)')\n",
    "plt.xlabel('BMI Category')\n",
    "\n",
    "plt.tight_layout()\n",
    "plt.show()"
   ]
  },
  {
   "cell_type": "markdown",
   "metadata": {},
   "source": [
    "### 가설 2.2. 감마지티피와 음주여부는 상관관계가 있을까?"
   ]
  },
  {
   "cell_type": "markdown",
   "metadata": {},
   "source": [
    "#### 감마지티피 데이터 분포 형태 확인"
   ]
  },
  {
   "cell_type": "code",
   "execution_count": 540,
   "metadata": {},
   "outputs": [
    {
     "name": "stderr",
     "output_type": "stream",
     "text": [
      "C:\\Users\\82107\\AppData\\Local\\Temp/ipykernel_588/3477334063.py:7: UserWarning: color is redundantly defined by the 'color' keyword argument and the fmt string \"k\" (-> color=(0.0, 0.0, 0.0, 1)). The keyword argument will take precedence.\n",
      "  plt.plot(x, p, 'k', linewidth=2, color='red', label='Normal Distribution')\n"
     ]
    },
    {
     "data": {
      "image/png": "[encoded data removed]",
      "text/plain": [
       "<Figure size 720x504 with 1 Axes>"
      ]
     },
     "metadata": {},
     "output_type": "display_data"
    }
   ],
   "source": [
    "plt.figure(figsize=(10, 7))\n",
    "\n",
    "sns.histplot(health_df['감마지티피'], kde=True, stat=\"density\", bins=30, color='purple', label='Histogram')\n",
    "xmin, xmax = plt.xlim()\n",
    "x = np.linspace(xmin, xmax, 100)\n",
    "p = norm.pdf(x, health_df['감마지티피'].mean(), health_df['감마지티피'].std())\n",
    "plt.plot(x, p, 'k', linewidth=2, color='red', label='Normal Distribution')\n",
    "\n",
    "title = \"Fit results: mu = {:.2f},  std = {:.2f}\".format(health_df['감마지티피'].mean(), health_df['감마지티피'].std())\n",
    "plt.title(title)\n",
    "plt.xlabel(\"감마지티피\")\n",
    "plt.ylabel(\"Density\")\n",
    "plt.legend()\n",
    "plt.show()"
   ]
  },
  {
   "cell_type": "markdown",
   "metadata": {},
   "source": [
    "#### 음주여부 카테고리화"
   ]
  },
  {
   "cell_type": "code",
   "execution_count": 541,
   "metadata": {},
   "outputs": [
    {
     "name": "stdout",
     "output_type": "stream",
     "text": [
      "ANOVA 결과: F-value = 5.15 , P-value = 0.02\n"
     ]
    }
   ],
   "source": [
    "from scipy import stats\n",
    "\n",
    "conditions = [\n",
    "    (health_df['음주여부'] < 1),\n",
    "    (health_df['음주여부'] >= 1) \n",
    "]\n",
    "\n",
    "categories = ['non_alcoholic', 'alcoholic']\n",
    "health_df['alcohol_category'] = np.select(conditions, categories, default='Unknown')\n",
    "\n",
    "\n",
    "anova_results = stats.f_oneway(health_df[health_df['alcohol_category'] == 'non_alcoholic']['감마지티피'],\n",
    "                               health_df[health_df['alcohol_category'] == 'alcoholic']['감마지티피']\n",
    "                              )\n",
    "\n",
    "print(\"ANOVA 결과: F-value =\", np.round(anova_results.statistic, 2), \", P-value =\", np.round(anova_results.pvalue,2))"
   ]
  },
  {
   "cell_type": "markdown",
   "metadata": {},
   "source": [
    "#### ANOVA 테이블 그리기"
   ]
  },
  {
   "cell_type": "code",
   "execution_count": 542,
   "metadata": {},
   "outputs": [
    {
     "data": {
      "text/html": [
       "<div>\n",
       "<style scoped>\n",
       "    .dataframe tbody tr th:only-of-type {\n",
       "        vertical-align: middle;\n",
       "    }\n",
       "\n",
       "    .dataframe tbody tr th {\n",
       "        vertical-align: top;\n",
       "    }\n",
       "\n",
       "    .dataframe thead th {\n",
       "        text-align: right;\n",
       "    }\n",
       "</style>\n",
       "<table border=\"1\" class=\"dataframe\">\n",
       "  <thead>\n",
       "    <tr style=\"text-align: right;\">\n",
       "      <th></th>\n",
       "      <th>Source of Variation</th>\n",
       "      <th>SS</th>\n",
       "      <th>DF</th>\n",
       "      <th>MS</th>\n",
       "      <th>F Value</th>\n",
       "      <th>P Value</th>\n",
       "    </tr>\n",
       "  </thead>\n",
       "  <tbody>\n",
       "    <tr>\n",
       "      <th>0</th>\n",
       "      <td>Between Groups</td>\n",
       "      <td>1048.432914</td>\n",
       "      <td>1</td>\n",
       "      <td>1048.432914</td>\n",
       "      <td>5.148906</td>\n",
       "      <td>0.023335</td>\n",
       "    </tr>\n",
       "    <tr>\n",
       "      <th>1</th>\n",
       "      <td>Within Groups</td>\n",
       "      <td>587247.153018</td>\n",
       "      <td>2884</td>\n",
       "      <td>203.622453</td>\n",
       "      <td></td>\n",
       "      <td></td>\n",
       "    </tr>\n",
       "    <tr>\n",
       "      <th>2</th>\n",
       "      <td>Total</td>\n",
       "      <td>588295.585932</td>\n",
       "      <td>2885</td>\n",
       "      <td></td>\n",
       "      <td></td>\n",
       "      <td></td>\n",
       "    </tr>\n",
       "  </tbody>\n",
       "</table>\n",
       "</div>"
      ],
      "text/plain": [
       "  Source of Variation             SS    DF           MS   F Value   P Value\n",
       "0      Between Groups    1048.432914     1  1048.432914  5.148906  0.023335\n",
       "1       Within Groups  587247.153018  2884   203.622453                    \n",
       "2               Total  588295.585932  2885                                 "
      ]
     },
     "execution_count": 542,
     "metadata": {},
     "output_type": "execute_result"
    }
   ],
   "source": [
    "from statsmodels.formula.api import ols\n",
    "import statsmodels.api as sm\n",
    "\n",
    "# 모델 정의 및 ANOVA 수행\n",
    "model = ols('감마지티피 ~ C(alcohol_category)', data=health_df).fit()\n",
    "anova_results = sm.stats.anova_lm(model, typ=2)\n",
    "\n",
    "# 그룹별로 SS, DF 계산 추가\n",
    "group_means = health_df.groupby('alcohol_category')['감마지티피'].mean()\n",
    "overall_mean = health_df['감마지티피'].mean()\n",
    "ss_total = sum((health_df['감마지티피'] - overall_mean)**2)\n",
    "ss_between = sum(health_df.groupby('alcohol_category').size() * (group_means - overall_mean)**2)\n",
    "df_between = health_df['alcohol_category'].nunique() - 1\n",
    "ss_within = ss_total - ss_between\n",
    "df_within = len(health_df) - health_df['alcohol_category'].nunique()\n",
    "ms_between = ss_between / df_between\n",
    "ms_within = ss_within / df_within\n",
    "f_value = ms_between / ms_within\n",
    "p_value = stats.f.sf(f_value, df_between, df_within)\n",
    "\n",
    "# ANOVA 테이블 완성\n",
    "anova_table = pd.DataFrame({\n",
    "    \"Source of Variation\": [\"Between Groups\", \"Within Groups\", \"Total\"],\n",
    "    \"SS\": [ss_between, ss_within, ss_total],\n",
    "    \"DF\": [df_between, df_within, len(data) - 1],\n",
    "    \"MS\": [ms_between, ms_within, \"\"],\n",
    "    \"F Value\": [f_value, \"\", \"\"],\n",
    "    \"P Value\": [p_value, \"\", \"\"]\n",
    "})\n",
    "\n",
    "anova_table = pd.DataFrame(anova_table)\n",
    "anova_table"
   ]
  },
  {
   "cell_type": "markdown",
   "metadata": {},
   "source": [
    "#### ANOVA 분석 결과 시각화"
   ]
  },
  {
   "cell_type": "code",
   "execution_count": 543,
   "metadata": {},
   "outputs": [
    {
     "data": {
      "image/png": "[encoded data removed]",
      "text/plain": [
       "<Figure size 864x432 with 2 Axes>"
      ]
     },
     "metadata": {},
     "output_type": "display_data"
    }
   ],
   "source": [
    "plt.figure(figsize=(12, 6))\n",
    "\n",
    "# 박스플롯\n",
    "plt.subplot(1, 2, 1)\n",
    "sns.boxplot(x='alcohol_category', y='감마지티피', data=health_df)\n",
    "plt.title('Box Plot of Gamma GTP by Alcohol Category')\n",
    "plt.ylabel('Gamma GTP')\n",
    "plt.xlabel('Alcohol Category')\n",
    "\n",
    "# 바이올린 플롯\n",
    "plt.subplot(1, 2, 2)\n",
    "sns.violinplot(x='alcohol_category', y='감마지티피', data=health_df)\n",
    "plt.title('Violin Plot of Gamma GTP by Alcohol Category')\n",
    "plt.ylabel('Gamma GTP')\n",
    "plt.xlabel('Alcohol Category')\n",
    "\n",
    "plt.tight_layout()\n",
    "plt.show()"
   ]
  },
  {
   "cell_type": "markdown",
   "metadata": {},
   "source": [
    "### 가설 2에 대한 결론"
   ]
  },
  {
   "cell_type": "markdown",
   "metadata": {},
   "source": [
    "<font size = 4>[ANOVA 분석 결과] </font>\n",
    "\n",
    "가설 2.1 : p-value가 0에 가깝게 나왔습니다. 이 결과는 BMI 그룹 간에 평균동맥압(MAP)의 차이가 통계적으로 매우 유의미하다는 것을 나타냅니다. 특히, ANOVA의 p-value가 매우 낮다는 것은 귀무 가설(그룹 간에 차이가 없다)을 기각하고, 대립 가설(BMI 그룹 간에 MAP의 차이가 있다)을 지지합니다.\n",
    "\n",
    "가설 2.2 : p-value가 0에 가깝게 나왔습니다. 이 결과는 음주여부 그룹 간에 감마지티피의 차이가 통계적으로 매우 유의미하다는 것을 나타냅니다. 특히, ANOVA의 p-value가 매우 낮다는 것은 귀무 가설(그룹 간에 차이가 없다)을 기각하고, 대립 가설(음주여부 그룹 간에 감마지티피의 차이가 있다)을 지지합니다.\n",
    "<br></br>\n",
    "<font size = 4>[결론]</font>\n",
    "\n",
    "이 분석으로부터, BMI 수치가 다른 그룹 간에 평균동맥압의 차이가 존재한다는 결론을 도출할 수 있습니다. 즉, BMI가 높거나 낮은 그룹은 평균동맥압이 서로 다를 가능성이 높습니다. 이는 BMI가 심혈관 건강에 영향을 미칠 수 있는 중요한 지표임을 시사합니다. 또한, 음주여부가 다른 그룹 간에 감마지티피의 차이가 존재한다는 결론을 도출할 수 있습니다.\n",
    " γ-GTP는 특히 알코올에 민감하다는 수치라는 점을 생각하면 유의미한 결과임을 시사합니다\n",
    "<br></br>\n",
    "<font size = 4>[인사이트]</font>\n",
    "\n",
    "이 연구 결과는 공중 보건 정책 입안자들에게 고 BMI 그룹을 대상으로 한 특정 건강 강화 및 예방 프로그램의 필요성을 강조합니다. 예를 들어, 비만과 과체중을 감소시키기 위한 식습관 개선과 체중 관리 프로그램이 심혈관 질환 예방에 중요할 수 있습니다. 또한, 가설 1에서 음주여부가 간 경화 등 질환과 관련이 있다는 주장을 뒷받침해주는 추가 근거가 될 수 있습니다."
   ]
  },
  {
   "cell_type": "markdown",
   "metadata": {},
   "source": [
    "## 가설 3: 음주가 시력에 안 좋은 영향을 미칠까?"
   ]
  },
  {
   "cell_type": "markdown",
   "metadata": {},
   "source": [
    "<font size = 4>가설 1과 2에서 간 수치로 음주 여부를 어느정도 판단 가능함을 입증하였기 때문에, 감마지티피와 시력 간에 유사성이 있는 지 확인하는 분석을 진행하겠습니다.</font>"
   ]
  },
  {
   "cell_type": "code",
   "execution_count": 544,
   "metadata": {},
   "outputs": [
    {
     "data": {
      "text/html": [
       "<div>\n",
       "<style scoped>\n",
       "    .dataframe tbody tr th:only-of-type {\n",
       "        vertical-align: middle;\n",
       "    }\n",
       "\n",
       "    .dataframe tbody tr th {\n",
       "        vertical-align: top;\n",
       "    }\n",
       "\n",
       "    .dataframe thead th {\n",
       "        text-align: right;\n",
       "    }\n",
       "</style>\n",
       "<table border=\"1\" class=\"dataframe\">\n",
       "  <thead>\n",
       "    <tr style=\"text-align: right;\">\n",
       "      <th></th>\n",
       "      <th>감마지티피</th>\n",
       "      <th>시력(우)</th>\n",
       "      <th>시력(좌)</th>\n",
       "      <th>청력(우)</th>\n",
       "      <th>청력(좌)</th>\n",
       "      <th>수축기혈압</th>\n",
       "      <th>식전혈당(공복혈당)</th>\n",
       "      <th>신장(5cm단위)</th>\n",
       "      <th>요단백</th>\n",
       "      <th>음주여부</th>\n",
       "      <th>...</th>\n",
       "      <th>혈색소</th>\n",
       "      <th>혈청지오티(AST)</th>\n",
       "      <th>혈청지피티(ALT)</th>\n",
       "      <th>혈청크레아티닌</th>\n",
       "      <th>흡연상태</th>\n",
       "      <th>평균동맥압</th>\n",
       "      <th>BMI</th>\n",
       "      <th>평균시력</th>\n",
       "      <th>BMI_category</th>\n",
       "      <th>alcohol_category</th>\n",
       "    </tr>\n",
       "  </thead>\n",
       "  <tbody>\n",
       "    <tr>\n",
       "      <th>0</th>\n",
       "      <td>28</td>\n",
       "      <td>1.0</td>\n",
       "      <td>1.0</td>\n",
       "      <td>1</td>\n",
       "      <td>1</td>\n",
       "      <td>110</td>\n",
       "      <td>179</td>\n",
       "      <td>160</td>\n",
       "      <td>1</td>\n",
       "      <td>1</td>\n",
       "      <td>...</td>\n",
       "      <td>14.3</td>\n",
       "      <td>18.0</td>\n",
       "      <td>20</td>\n",
       "      <td>0.8</td>\n",
       "      <td>1</td>\n",
       "      <td>84.67</td>\n",
       "      <td>25.39</td>\n",
       "      <td>1.0</td>\n",
       "      <td>obese_light</td>\n",
       "      <td>alcoholic</td>\n",
       "    </tr>\n",
       "    <tr>\n",
       "      <th>1</th>\n",
       "      <td>38</td>\n",
       "      <td>1.0</td>\n",
       "      <td>1.0</td>\n",
       "      <td>1</td>\n",
       "      <td>1</td>\n",
       "      <td>183</td>\n",
       "      <td>115</td>\n",
       "      <td>160</td>\n",
       "      <td>1</td>\n",
       "      <td>1</td>\n",
       "      <td>...</td>\n",
       "      <td>13.8</td>\n",
       "      <td>32.0</td>\n",
       "      <td>26</td>\n",
       "      <td>0.8</td>\n",
       "      <td>1</td>\n",
       "      <td>133.67</td>\n",
       "      <td>21.48</td>\n",
       "      <td>1.0</td>\n",
       "      <td>normal</td>\n",
       "      <td>alcoholic</td>\n",
       "    </tr>\n",
       "    <tr>\n",
       "      <th>2</th>\n",
       "      <td>35</td>\n",
       "      <td>1.0</td>\n",
       "      <td>1.0</td>\n",
       "      <td>1</td>\n",
       "      <td>1</td>\n",
       "      <td>166</td>\n",
       "      <td>102</td>\n",
       "      <td>155</td>\n",
       "      <td>1</td>\n",
       "      <td>1</td>\n",
       "      <td>...</td>\n",
       "      <td>13.2</td>\n",
       "      <td>23.0</td>\n",
       "      <td>15</td>\n",
       "      <td>0.8</td>\n",
       "      <td>1</td>\n",
       "      <td>132.00</td>\n",
       "      <td>20.81</td>\n",
       "      <td>1.0</td>\n",
       "      <td>normal</td>\n",
       "      <td>alcoholic</td>\n",
       "    </tr>\n",
       "    <tr>\n",
       "      <th>3</th>\n",
       "      <td>21</td>\n",
       "      <td>1.0</td>\n",
       "      <td>1.0</td>\n",
       "      <td>1</td>\n",
       "      <td>1</td>\n",
       "      <td>135</td>\n",
       "      <td>86</td>\n",
       "      <td>155</td>\n",
       "      <td>1</td>\n",
       "      <td>1</td>\n",
       "      <td>...</td>\n",
       "      <td>13.8</td>\n",
       "      <td>17.0</td>\n",
       "      <td>9</td>\n",
       "      <td>0.8</td>\n",
       "      <td>1</td>\n",
       "      <td>91.67</td>\n",
       "      <td>27.06</td>\n",
       "      <td>1.0</td>\n",
       "      <td>obese_light</td>\n",
       "      <td>alcoholic</td>\n",
       "    </tr>\n",
       "    <tr>\n",
       "      <th>4</th>\n",
       "      <td>7</td>\n",
       "      <td>1.0</td>\n",
       "      <td>1.0</td>\n",
       "      <td>1</td>\n",
       "      <td>1</td>\n",
       "      <td>112</td>\n",
       "      <td>92</td>\n",
       "      <td>160</td>\n",
       "      <td>1</td>\n",
       "      <td>1</td>\n",
       "      <td>...</td>\n",
       "      <td>12.6</td>\n",
       "      <td>17.0</td>\n",
       "      <td>13</td>\n",
       "      <td>0.8</td>\n",
       "      <td>1</td>\n",
       "      <td>81.33</td>\n",
       "      <td>19.53</td>\n",
       "      <td>1.0</td>\n",
       "      <td>normal</td>\n",
       "      <td>alcoholic</td>\n",
       "    </tr>\n",
       "    <tr>\n",
       "      <th>...</th>\n",
       "      <td>...</td>\n",
       "      <td>...</td>\n",
       "      <td>...</td>\n",
       "      <td>...</td>\n",
       "      <td>...</td>\n",
       "      <td>...</td>\n",
       "      <td>...</td>\n",
       "      <td>...</td>\n",
       "      <td>...</td>\n",
       "      <td>...</td>\n",
       "      <td>...</td>\n",
       "      <td>...</td>\n",
       "      <td>...</td>\n",
       "      <td>...</td>\n",
       "      <td>...</td>\n",
       "      <td>...</td>\n",
       "      <td>...</td>\n",
       "      <td>...</td>\n",
       "      <td>...</td>\n",
       "      <td>...</td>\n",
       "      <td>...</td>\n",
       "    </tr>\n",
       "    <tr>\n",
       "      <th>2881</th>\n",
       "      <td>14</td>\n",
       "      <td>1.2</td>\n",
       "      <td>1.2</td>\n",
       "      <td>1</td>\n",
       "      <td>1</td>\n",
       "      <td>114</td>\n",
       "      <td>101</td>\n",
       "      <td>160</td>\n",
       "      <td>1</td>\n",
       "      <td>0</td>\n",
       "      <td>...</td>\n",
       "      <td>13.3</td>\n",
       "      <td>18.0</td>\n",
       "      <td>14</td>\n",
       "      <td>0.8</td>\n",
       "      <td>1</td>\n",
       "      <td>87.33</td>\n",
       "      <td>23.44</td>\n",
       "      <td>1.2</td>\n",
       "      <td>overweight</td>\n",
       "      <td>non_alcoholic</td>\n",
       "    </tr>\n",
       "    <tr>\n",
       "      <th>2882</th>\n",
       "      <td>25</td>\n",
       "      <td>1.0</td>\n",
       "      <td>1.2</td>\n",
       "      <td>1</td>\n",
       "      <td>1</td>\n",
       "      <td>148</td>\n",
       "      <td>103</td>\n",
       "      <td>165</td>\n",
       "      <td>1</td>\n",
       "      <td>0</td>\n",
       "      <td>...</td>\n",
       "      <td>16.4</td>\n",
       "      <td>19.0</td>\n",
       "      <td>19</td>\n",
       "      <td>0.8</td>\n",
       "      <td>1</td>\n",
       "      <td>108.67</td>\n",
       "      <td>25.71</td>\n",
       "      <td>1.1</td>\n",
       "      <td>obese_light</td>\n",
       "      <td>non_alcoholic</td>\n",
       "    </tr>\n",
       "    <tr>\n",
       "      <th>2883</th>\n",
       "      <td>14</td>\n",
       "      <td>0.6</td>\n",
       "      <td>0.8</td>\n",
       "      <td>1</td>\n",
       "      <td>1</td>\n",
       "      <td>108</td>\n",
       "      <td>94</td>\n",
       "      <td>165</td>\n",
       "      <td>1</td>\n",
       "      <td>0</td>\n",
       "      <td>...</td>\n",
       "      <td>12.9</td>\n",
       "      <td>24.0</td>\n",
       "      <td>22</td>\n",
       "      <td>0.8</td>\n",
       "      <td>1</td>\n",
       "      <td>82.00</td>\n",
       "      <td>27.55</td>\n",
       "      <td>0.7</td>\n",
       "      <td>obese_light</td>\n",
       "      <td>non_alcoholic</td>\n",
       "    </tr>\n",
       "    <tr>\n",
       "      <th>2884</th>\n",
       "      <td>14</td>\n",
       "      <td>0.8</td>\n",
       "      <td>0.8</td>\n",
       "      <td>1</td>\n",
       "      <td>1</td>\n",
       "      <td>122</td>\n",
       "      <td>93</td>\n",
       "      <td>160</td>\n",
       "      <td>1</td>\n",
       "      <td>0</td>\n",
       "      <td>...</td>\n",
       "      <td>12.4</td>\n",
       "      <td>23.0</td>\n",
       "      <td>23</td>\n",
       "      <td>0.8</td>\n",
       "      <td>1</td>\n",
       "      <td>90.00</td>\n",
       "      <td>23.44</td>\n",
       "      <td>0.8</td>\n",
       "      <td>overweight</td>\n",
       "      <td>non_alcoholic</td>\n",
       "    </tr>\n",
       "    <tr>\n",
       "      <th>2885</th>\n",
       "      <td>14</td>\n",
       "      <td>1.5</td>\n",
       "      <td>1.5</td>\n",
       "      <td>1</td>\n",
       "      <td>1</td>\n",
       "      <td>94</td>\n",
       "      <td>99</td>\n",
       "      <td>155</td>\n",
       "      <td>1</td>\n",
       "      <td>1</td>\n",
       "      <td>...</td>\n",
       "      <td>13.3</td>\n",
       "      <td>19.0</td>\n",
       "      <td>8</td>\n",
       "      <td>0.8</td>\n",
       "      <td>1</td>\n",
       "      <td>74.00</td>\n",
       "      <td>20.81</td>\n",
       "      <td>1.5</td>\n",
       "      <td>normal</td>\n",
       "      <td>alcoholic</td>\n",
       "    </tr>\n",
       "  </tbody>\n",
       "</table>\n",
       "<p>2886 rows × 23 columns</p>\n",
       "</div>"
      ],
      "text/plain": [
       "      감마지티피  시력(우)  시력(좌)  청력(우)  청력(좌)  수축기혈압  식전혈당(공복혈당)  신장(5cm단위)  요단백  \\\n",
       "0        28    1.0    1.0      1      1    110         179        160    1   \n",
       "1        38    1.0    1.0      1      1    183         115        160    1   \n",
       "2        35    1.0    1.0      1      1    166         102        155    1   \n",
       "3        21    1.0    1.0      1      1    135          86        155    1   \n",
       "4         7    1.0    1.0      1      1    112          92        160    1   \n",
       "...     ...    ...    ...    ...    ...    ...         ...        ...  ...   \n",
       "2881     14    1.2    1.2      1      1    114         101        160    1   \n",
       "2882     25    1.0    1.2      1      1    148         103        165    1   \n",
       "2883     14    0.6    0.8      1      1    108          94        165    1   \n",
       "2884     14    0.8    0.8      1      1    122          93        160    1   \n",
       "2885     14    1.5    1.5      1      1     94          99        155    1   \n",
       "\n",
       "      음주여부  ...   혈색소  혈청지오티(AST)  혈청지피티(ALT)  혈청크레아티닌  흡연상태   평균동맥압    BMI  \\\n",
       "0        1  ...  14.3        18.0          20      0.8     1   84.67  25.39   \n",
       "1        1  ...  13.8        32.0          26      0.8     1  133.67  21.48   \n",
       "2        1  ...  13.2        23.0          15      0.8     1  132.00  20.81   \n",
       "3        1  ...  13.8        17.0           9      0.8     1   91.67  27.06   \n",
       "4        1  ...  12.6        17.0          13      0.8     1   81.33  19.53   \n",
       "...    ...  ...   ...         ...         ...      ...   ...     ...    ...   \n",
       "2881     0  ...  13.3        18.0          14      0.8     1   87.33  23.44   \n",
       "2882     0  ...  16.4        19.0          19      0.8     1  108.67  25.71   \n",
       "2883     0  ...  12.9        24.0          22      0.8     1   82.00  27.55   \n",
       "2884     0  ...  12.4        23.0          23      0.8     1   90.00  23.44   \n",
       "2885     1  ...  13.3        19.0           8      0.8     1   74.00  20.81   \n",
       "\n",
       "      평균시력  BMI_category  alcohol_category  \n",
       "0      1.0   obese_light         alcoholic  \n",
       "1      1.0        normal         alcoholic  \n",
       "2      1.0        normal         alcoholic  \n",
       "3      1.0   obese_light         alcoholic  \n",
       "4      1.0        normal         alcoholic  \n",
       "...    ...           ...               ...  \n",
       "2881   1.2    overweight     non_alcoholic  \n",
       "2882   1.1   obese_light     non_alcoholic  \n",
       "2883   0.7   obese_light     non_alcoholic  \n",
       "2884   0.8    overweight     non_alcoholic  \n",
       "2885   1.5        normal         alcoholic  \n",
       "\n",
       "[2886 rows x 23 columns]"
      ]
     },
     "execution_count": 544,
     "metadata": {},
     "output_type": "execute_result"
    }
   ],
   "source": [
    "health_df"
   ]
  },
  {
   "cell_type": "markdown",
   "metadata": {},
   "source": [
    "### K-평균 클러스터링 모델 설계"
   ]
  },
  {
   "cell_type": "code",
   "execution_count": 545,
   "metadata": {},
   "outputs": [
    {
     "name": "stdout",
     "output_type": "stream",
     "text": [
      "[0 1 0 ... 0 0 0]\n"
     ]
    },
    {
     "name": "stderr",
     "output_type": "stream",
     "text": [
      "C:\\Users\\82107\\anaconda3\\lib\\site-packages\\sklearn\\cluster\\_kmeans.py:1416: FutureWarning: The default value of `n_init` will change from 10 to 'auto' in 1.4. Set the value of `n_init` explicitly to suppress the warning\n",
      "  super()._check_params_vs_input(X, default_n_init=10)\n"
     ]
    }
   ],
   "source": [
    "from sklearn.preprocessing import scale\n",
    "from sklearn.cluster import KMeans\n",
    "\n",
    "# 스케일링을 위해 '감마지티피'와 '평균시력' 칼럼만 선택\n",
    "features = health_df[['감마지티피', '허리둘레']]\n",
    "\n",
    "# KMeans 클러스터링\n",
    "kmeans = KMeans(n_clusters=2, init='k-means++', max_iter=300, random_state=11)\n",
    "kmeans.fit(features)\n",
    "print(kmeans.labels_)"
   ]
  },
  {
   "cell_type": "markdown",
   "metadata": {},
   "source": [
    "### 군집 시각화"
   ]
  },
  {
   "cell_type": "code",
   "execution_count": 546,
   "metadata": {},
   "outputs": [
    {
     "name": "stderr",
     "output_type": "stream",
     "text": [
      "C:\\Users\\82107\\AppData\\Local\\Temp/ipykernel_588/1831055847.py:1: SettingWithCopyWarning: \n",
      "A value is trying to be set on a copy of a slice from a DataFrame.\n",
      "Try using .loc[row_indexer,col_indexer] = value instead\n",
      "\n",
      "See the caveats in the documentation: https://pandas.pydata.org/pandas-docs/stable/user_guide/indexing.html#returning-a-view-versus-a-copy\n",
      "  features['Cluster'] = kmeans.labels_\n"
     ]
    },
    {
     "data": {
      "image/png": "[encoded data removed]",
      "text/plain": [
       "<Figure size 1296x864 with 1 Axes>"
      ]
     },
     "metadata": {},
     "output_type": "display_data"
    }
   ],
   "source": [
    "features['Cluster'] = kmeans.labels_\n",
    "\n",
    "marker0_ind = features[features['Cluster'] == 0].index\n",
    "marker1_ind = features[features['Cluster'] == 1].index\n",
    "\n",
    "plt.figure(figsize = (18, 12))\n",
    "plt.scatter(x = features.loc[marker0_ind, '감마지티피'], y = features.loc[marker0_ind, '허리둘레'], marker = 'o')\n",
    "plt.scatter(x = features.loc[marker1_ind, '감마지티피'], y = features.loc[marker1_ind, '허리둘레'], marker = '^')\n",
    "\n",
    "plt.xlabel('감마지티피')\n",
    "plt.ylabel('허리둘레')\n",
    "plt.title('2 - Clustering Visualization')\n",
    "plt.show()"
   ]
  },
  {
   "cell_type": "markdown",
   "metadata": {},
   "source": [
    "### 피어슨 상관계수"
   ]
  },
  {
   "cell_type": "code",
   "execution_count": 547,
   "metadata": {},
   "outputs": [
    {
     "name": "stdout",
     "output_type": "stream",
     "text": [
      "상관계수 (감마지티피와 허리둘레): 0.4\n"
     ]
    }
   ],
   "source": [
    "correlation = health_df['감마지티피'].corr(health_df['허리둘레'])\n",
    "print(\"상관계수 (감마지티피와 허리둘레):\", np.round(correlation,1))"
   ]
  },
  {
   "cell_type": "markdown",
   "metadata": {},
   "source": [
    "### 가설 3에 대한 결론"
   ]
  },
  {
   "cell_type": "markdown",
   "metadata": {},
   "source": [
    "<font size = 4>[결론]</font>\n",
    "\n",
    "감마지피티(Gamma-GTP)와 허리둘레 간에 상관계수가 0.4로 나타난 결과는 두 변수 사이에 중간 정도의 양의 상관관계가 있음을 나타냅니다. 이는 감마지피티 수치가 높을수록 허리둘레도 커지는 경향이 있음을 시사합니다. 상관계수 값은 완벽한 선형 관계는 아니지만, 통계적으로 의미 있는 연관성이 존재한다는 점을 분명히 합니다.\n",
    "\n",
    "산점도 결과에서도 이러한 경향이 관찰됩니다. 회귀선은 감마지피티 수치가 증가함에 따라 허리둘레도 대략적으로 증가하는 경향을 보여줍니다. 이러한 경향성은 감마지피티 수치가 신체 건강과 밀접한 관련이 있음을 시사하며, 특히 간 건강과 중심 비만의 관련성을 시사합니다.\n",
    "<br></br>\n",
    "<font size = 4>[인사이트]</font>\n",
    "\n",
    "건강 보험 회사는 감마지피티 수치와 허리둘레 측정을 건강 보험 평가의 일부로 고려하여 개인의 건강 위험을 더 정확하게 평가할 수 있습니다. 이를 통해 개인 맞춤형 건강 개선 프로그램을 제안하고 보험료를 조정할 수 있습니다."
   ]
  },
  {
   "cell_type": "code",
   "execution_count": null,
   "metadata": {},
   "outputs": [],
   "source": []
  }
 ],
 "metadata": {
  "colab": {
   "provenance": []
  },
  "kernelspec": {
   "display_name": "Python 3 (ipykernel)",
   "language": "python",
   "name": "python3"
  },
  "language_info": {
   "codemirror_mode": {
    "name": "ipython",
    "version": 3
   },
   "file_extension": ".py",
   "mimetype": "text/x-python",
   "name": "python",
   "nbconvert_exporter": "python",
   "pygments_lexer": "ipython3",
   "version": "3.9.7"
  },
  "toc": {
   "base_numbering": 1,
   "nav_menu": {},
   "number_sections": true,
   "sideBar": true,
   "skip_h1_title": false,
   "title_cell": "Table of Contents",
   "title_sidebar": "Contents",
   "toc_cell": false,
   "toc_position": {
    "height": "730px",
    "left": "40px",
    "top": "87px",
    "width": "307.188px"
   },
   "toc_section_display": true,
   "toc_window_display": true
  }
 },
 "nbformat": 4,
 "nbformat_minor": 1
}
