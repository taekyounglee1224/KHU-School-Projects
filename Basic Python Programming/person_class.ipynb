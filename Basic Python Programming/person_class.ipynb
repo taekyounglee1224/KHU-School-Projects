{
 "cells": [
  {
   "cell_type": "code",
   "execution_count": 1,
   "id": "9f8e3cc8-f8ba-4eb1-8b24-6b04326def57",
   "metadata": {},
   "outputs": [],
   "source": [
    "class Person:\n",
    "    def __init__(self, first, last):\n",
    "        self.firstname=first\n",
    "        self.lastname=last\n",
    "        \n",
    "    def Name(self):\n",
    "        return self.firstname+\" \"+self.lastname\n",
    "    \n",
    "class Student(Person):\n",
    "    def __init__(self, first, last, studentnum):\n",
    "        Person. __init__(self, first, last)\n",
    "        self.studentnumber=studentnum\n",
    "    \n",
    "    def Getstudent(self):\n",
    "        return self.Name()+ \",\" +self. studentnumber\n",
    "    \n",
    "#%save studentinformation.py 1-15"
   ]
  },
  {
   "cell_type": "code",
   "execution_count": 2,
   "id": "5964660f-0289-4063-b9fd-677e35450784",
   "metadata": {},
   "outputs": [
    {
     "name": "stdout",
     "output_type": "stream",
     "text": [
      "TaeKyoung Lee\n",
      "TaeKyoung Lee,2022104004\n"
     ]
    }
   ],
   "source": [
    "x=Person(\"TaeKyoung\", \"Lee\")\n",
    "print(x.Name())\n",
    "y=Student(\"TaeKyoung\", \"Lee\", \"2022104004\")\n",
    "print(y.Getstudent())"
   ]
  },
  {
   "cell_type": "code",
   "execution_count": null,
   "id": "1c4551b3-0550-4bb1-a95b-e116117152e5",
   "metadata": {},
   "outputs": [],
   "source": []
  }
 ],
 "metadata": {
  "kernelspec": {
   "display_name": "Python 3 (ipykernel)",
   "language": "python",
   "name": "python3"
  },
  "language_info": {
   "codemirror_mode": {
    "name": "ipython",
    "version": 3
   },
   "file_extension": ".py",
   "mimetype": "text/x-python",
   "name": "python",
   "nbconvert_exporter": "python",
   "pygments_lexer": "ipython3",
   "version": "3.7.11"
  }
 },
 "nbformat": 4,
 "nbformat_minor": 5
}
