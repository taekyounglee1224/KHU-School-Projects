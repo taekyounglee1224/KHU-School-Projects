{
 "cells": [
  {
   "cell_type": "code",
   "execution_count": 3,
   "id": "e313b276-cb1c-4470-b1c3-090c84c153e7",
   "metadata": {},
   "outputs": [],
   "source": [
    "#fourcalculation.py\n",
    "\"\"\"A class for four arithmetic calculations\"\"\"\n",
    "\n",
    "class FourCalculation:\n",
    "    \"\"\"A class for four arithmetic caluclations\"\"\"\n",
    "    \n",
    "    def __init__(self,first,second):\n",
    "        self.first=first\n",
    "        self.second=second\n",
    "        #if second is zero, raise an exception\n",
    "        if second==0:\n",
    "            raise ValueError('The second number must not be 0')\n",
    "            \n",
    "    def add(self):\n",
    "        return self.first+self.second\n",
    "    \n",
    "    def mul(self):\n",
    "        return self.first*self.second\n",
    "    \n",
    "    def sub(self):\n",
    "        return self.first-self.second\n",
    "    \n",
    "    def div(self):\n",
    "        return self.first/self.second\n",
    "    \n",
    "#%save fourcalculation.py 1-24\n",
    "    "
   ]
  },
  {
   "cell_type": "code",
   "execution_count": 4,
   "id": "5d12c58d-5b06-47e2-8504-dd7a5b72575b",
   "metadata": {},
   "outputs": [
    {
     "name": "stdout",
     "output_type": "stream",
     "text": [
      "8 2\n",
      "10 16 6 4.0\n"
     ]
    }
   ],
   "source": [
    "b=FourCalculation(8,2)\n",
    "print(b.first,b.second)\n",
    "print(b.add(),b.mul(), b.sub(),b.div())"
   ]
  },
  {
   "cell_type": "code",
   "execution_count": null,
   "id": "d5e94010-be72-427e-b750-0eab9c67941b",
   "metadata": {},
   "outputs": [],
   "source": []
  },
  {
   "cell_type": "code",
   "execution_count": null,
   "id": "da23eed4-fb3a-47e6-9de5-484d341e6bf4",
   "metadata": {},
   "outputs": [],
   "source": []
  }
 ],
 "metadata": {
  "kernelspec": {
   "display_name": "Python 3 (ipykernel)",
   "language": "python",
   "name": "python3"
  },
  "language_info": {
   "codemirror_mode": {
    "name": "ipython",
    "version": 3
   },
   "file_extension": ".py",
   "mimetype": "text/x-python",
   "name": "python",
   "nbconvert_exporter": "python",
   "pygments_lexer": "ipython3",
   "version": "3.7.11"
  }
 },
 "nbformat": 4,
 "nbformat_minor": 5
}
