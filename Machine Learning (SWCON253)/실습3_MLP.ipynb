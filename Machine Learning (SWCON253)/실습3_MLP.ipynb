{
  "cells": [
    {
      "cell_type": "markdown",
      "metadata": {
        "id": "fXeZ6WVmm3_k"
      },
      "source": [
        "# [SWCON25301] Machine Learning\n",
        "Teaching Assistant: Suyong Bahk (clapd10@khu.ac.kr)\n",
        "\n",
        "Professor: Hui Yong Kim (hykim.v@khu.ac.kr)"
      ]
    },
    {
      "cell_type": "markdown",
      "metadata": {
        "id": "9XZ9MRcDm3_l"
      },
      "source": [
        "---"
      ]
    },
    {
      "cell_type": "markdown",
      "metadata": {
        "id": "_huT3ILSm3_l"
      },
      "source": [
        "# P3:  Deep Learning Framwork: Pytorch를 이용하여 MLP 구현 (10점)\n",
        "\n",
        "### 학습목표\n",
        "- pytorch를 사용하여 구현된 MLP 구조를 이해하고 수정할수 있다.\n",
        "- Fashinon-MNIST 문제를 스스로 해결하면서 딥러닝 학습과정을 이해하고 하이퍼파라미터를 튜닝을 할 수 있다.\n",
        "\n",
        "### 실습내용\n",
        "pytorch를 사용하여 구현 되어 있는 MLP를 통해 Fashion-MNIST 데이터셋을 분류하는 classfier를 학습합니다.\n",
        "\n",
        "실습은 다음 순서로 진행됩니다.\n",
        "- 1) Fashon-MNIST 데이터셋 설명\n",
        "- 2) Data loading\n",
        "- 3) Multilayer Perceptron Model\n",
        "- 4) Training\n",
        "- 5) Evaluation\n",
        "- 6) Discussion\n",
        "\n",
        "아래 코드에는 2개의 퍼셉트론은 이용한 MLP 모델이 정의 되어 있습니다.\n",
        "실습을 시작하기전에 이 노트북 파일을 읽고 모든 셀을 실행해하여 올바르게 작동하는지 확인하세요.<br>\n",
        "이후에 아키텍쳐를 마음껏 변경하여 최고의 성능이 나오도록 수정해 보세요.\n",
        "\n",
        "**1. 다음은 변경 가능한 부분입니다.**\n",
        "- activation 함수 (logistic sigmoid, tanh, relu, leaky relu, ...)\n",
        "- learning rate\n",
        "- hidden layers 갯수\n",
        "- epochs\n",
        "- minibatch size\n",
        "- 각 hidden layer의 neuron 개수\n",
        "\n",
        "**2. 그러나 다음 사항은 변경하지 마세요.**\n",
        "- 가중치 초기화 방법\n",
        "- 랜덤시드\n",
        "- 최적화 방법, 학습 방법\n",
        "\n",
        "**3. layer를 추가하여 2개 이상의 hidden layer를 구성할 수 있게 구현하세요.**\n",
        "\n",
        "**4. 수정가능한 셀은 아래 주석으로 확실하게 하이라이트되어 표시되어 있습니다.**\n",
        "\n",
        "```\n",
        "############################################################\n",
        "# 변경 가능한 셀\n",
        "############################################################\n",
        "```\n",
        "\n",
        "### 점수\n",
        "**Test set 기준**\n",
        "\n",
        "- 정확도 85% 이상 2점\n",
        "- 정확도 86% 이상 4점\n",
        "- 정확도 87% 이상 6점\n",
        "- 정확도 88% 이상 8점\n",
        "\n",
        "**구현**\n",
        "- Layer 수 2개 이상으로 구현: 2점\n",
        "\n",
        "`.ipynb 파일과 함께 .html 파일 (File -> export as -> HTML)도 함께 제출하세요. 하나만 제출할시 감점이 있습니다.`\n",
        "\n",
        "`Colab에서 실행하는 경우 맨 아래 HTML 변환 코드를 이용하세요.`"
      ]
    },
    {
      "cell_type": "code",
      "execution_count": 1,
      "metadata": {
        "id": "POwKGiQTm3_m"
      },
      "outputs": [],
      "source": [
        "import torch\n",
        "import os\n",
        "import numpy as np\n",
        "import time\n",
        "import random\n",
        "from PIL import Image\n",
        "from torch.utils.data import Dataset\n",
        "from torchvision import transforms\n",
        "from torch.utils.data import DataLoader\n",
        "import torch.nn.functional as F\n",
        "# Document: https://pytorch.org/docs/stable/nn.functional.html\n",
        "import matplotlib.pyplot as plt\n",
        "# Document: https://matplotlib.org/stable/api/_as_gen/matplotlib.pyplot.html\n",
        "%matplotlib inline"
      ]
    },
    {
      "cell_type": "code",
      "execution_count": 2,
      "metadata": {
        "id": "Gjxa45J9m3_m"
      },
      "outputs": [],
      "source": [
        "# 이 부분은 절대 변경하지 마세요.\n",
        "\n",
        "RANDOM_SEED = 123\n",
        "DEVICE = torch.device('cuda:0' if torch.cuda.is_available() else 'cpu')"
      ]
    },
    {
      "cell_type": "markdown",
      "metadata": {
        "id": "SQBKGQszm3_n"
      },
      "source": [
        "## 1) Dataset 설명"
      ]
    },
    {
      "cell_type": "markdown",
      "metadata": {
        "id": "0j6T3_9Ym3_n"
      },
      "source": [
        "이 데이터셋은 기존의 MNIST와 비슷하게 10개의 클래스로 이루어진 데이터셋입니다. 또한 흑백의 28x28크기, 60k개의 학습용 이미지와 10k개의 테스트용 이미지로 구성 되어 있는것과 같이 MNIST와 대부분 비슷한 구조로 이뤄져 있습니다.\n",
        "\n",
        "아래는 데이터셋의 샘플 이미지 입니다.\n",
        "\n",
        "![](https://github.com/zalandoresearch/fashion-mnist/raw/master/doc/img/fashion-mnist-sprite.png)\n",
        "\n",
        "출처: https://github.com/zalandoresearch/fashion-mnist)\n",
        "\n"
      ]
    },
    {
      "cell_type": "markdown",
      "metadata": {
        "id": "fSar9q0Sm3_n"
      },
      "source": [
        "데이터셋의 10개의 클래스는 다음과 같습니다.\n",
        "\n",
        "\n",
        "| Label | Description |\n",
        "| --- | --- |\n",
        "| 0 | T-shirt/top |\n",
        "| 1 | Trouser |\n",
        "| 2 | Pullover |\n",
        "| 3 | Dress |\n",
        "| 4 | Coat |\n",
        "| 5 | Sandal |\n",
        "| 6 | Shirt |\n",
        "| 7 | Sneaker |\n",
        "| 8 | Bag |\n",
        "| 9 | Ankle boot |"
      ]
    },
    {
      "cell_type": "markdown",
      "metadata": {
        "id": "1vrhuUtnm3_n"
      },
      "source": [
        "## 2) Dataset Loader"
      ]
    },
    {
      "cell_type": "code",
      "execution_count": 3,
      "metadata": {
        "id": "_xQcphinm3_o"
      },
      "outputs": [],
      "source": [
        "import torch\n",
        "from PIL import Image\n",
        "from torchvision.datasets import FashionMNIST\n",
        "from torchvision import transforms\n",
        "from torch.utils.data import DataLoader\n",
        "\n",
        "import os"
      ]
    },
    {
      "cell_type": "code",
      "execution_count": 4,
      "metadata": {
        "id": "28xfhi2mm3_o"
      },
      "outputs": [],
      "source": [
        "# Train 데이터 로딩시 이미지 데이터 전처리를 Transforms를 통해 할 수 있습니다.\n",
        "# ToTensor는 PIL 형태의 이미지나 ndarray 를 PyTorch 가 이해할 수 있는 tensor 자료형으로 바꾸어 주는 역할을 하며\n",
        "# Random Flip, Random Crop 등을 사용하여 Data augmentation을 수행하고 이를 통해 좋은 성능을 얻을 수 있습니다.\n",
        "# 하지만, 이번 실습에서는 사용하지 않습니다.\n",
        "# Document: https://pytorch.org/vision/stable/transforms.html\n",
        "custom_train_transform = transforms.Compose([\n",
        "                                             transforms.ToTensor(),\n",
        "                                             transforms.Normalize(mean=(0.5,), std=(0.5,))\n",
        "])"
      ]
    },
    {
      "cell_type": "code",
      "execution_count": 5,
      "metadata": {
        "id": "fJuOhxihm3_p"
      },
      "outputs": [],
      "source": [
        "# Test 데이터 로딩시 데이터 Transform\n",
        "# Testset의 Trainsform은 Training set 과 다르게 랜덤하게 변경되면 안됩니다.\n",
        "# 이번 실습에서는 사용하지 않습니다.\n",
        "custom_test_transform = transforms.Compose([\n",
        "                                             transforms.ToTensor(),\n",
        "                                             transforms.Normalize(mean=(0.5,), std=(0.5,))\n",
        "])"
      ]
    },
    {
      "cell_type": "code",
      "execution_count": 38,
      "metadata": {
        "id": "cRKt3l-Hm3_p"
      },
      "outputs": [],
      "source": [
        "############################################################\n",
        "# 변경 가능한 셀\n",
        "############################################################\n",
        "\n",
        "# BATCH_SIZE = 60000을 사용하면 Full-Batch 학습\n",
        "# BATCH_SIZE = 1을 사용하면 Online 학습\n",
        "# BATCH_SIZE = N (1 < N < 60000) 을 사용하면 Mini-batch 학습\n",
        "BATCH_SIZE = 48"
      ]
    },
    {
      "cell_type": "code",
      "execution_count": 7,
      "metadata": {
        "id": "4JGQ1Osym3_p",
        "colab": {
          "base_uri": "https://localhost:8080/"
        },
        "outputId": "0cdec9f6-2ec0-4969-e1ef-0afdb0629bd2"
      },
      "outputs": [
        {
          "output_type": "stream",
          "name": "stdout",
          "text": [
            "Downloading http://fashion-mnist.s3-website.eu-central-1.amazonaws.com/train-images-idx3-ubyte.gz\n",
            "Downloading http://fashion-mnist.s3-website.eu-central-1.amazonaws.com/train-images-idx3-ubyte.gz to ./FashionMNIST/raw/train-images-idx3-ubyte.gz\n"
          ]
        },
        {
          "output_type": "stream",
          "name": "stderr",
          "text": [
            "100%|██████████| 26421880/26421880 [00:02<00:00, 11992995.73it/s]\n"
          ]
        },
        {
          "output_type": "stream",
          "name": "stdout",
          "text": [
            "Extracting ./FashionMNIST/raw/train-images-idx3-ubyte.gz to ./FashionMNIST/raw\n",
            "\n",
            "Downloading http://fashion-mnist.s3-website.eu-central-1.amazonaws.com/train-labels-idx1-ubyte.gz\n",
            "Downloading http://fashion-mnist.s3-website.eu-central-1.amazonaws.com/train-labels-idx1-ubyte.gz to ./FashionMNIST/raw/train-labels-idx1-ubyte.gz\n"
          ]
        },
        {
          "output_type": "stream",
          "name": "stderr",
          "text": [
            "100%|██████████| 29515/29515 [00:00<00:00, 176054.32it/s]\n"
          ]
        },
        {
          "output_type": "stream",
          "name": "stdout",
          "text": [
            "Extracting ./FashionMNIST/raw/train-labels-idx1-ubyte.gz to ./FashionMNIST/raw\n",
            "\n",
            "Downloading http://fashion-mnist.s3-website.eu-central-1.amazonaws.com/t10k-images-idx3-ubyte.gz\n",
            "Downloading http://fashion-mnist.s3-website.eu-central-1.amazonaws.com/t10k-images-idx3-ubyte.gz to ./FashionMNIST/raw/t10k-images-idx3-ubyte.gz\n"
          ]
        },
        {
          "output_type": "stream",
          "name": "stderr",
          "text": [
            "100%|██████████| 4422102/4422102 [00:01<00:00, 3220349.24it/s]\n"
          ]
        },
        {
          "output_type": "stream",
          "name": "stdout",
          "text": [
            "Extracting ./FashionMNIST/raw/t10k-images-idx3-ubyte.gz to ./FashionMNIST/raw\n",
            "\n",
            "Downloading http://fashion-mnist.s3-website.eu-central-1.amazonaws.com/t10k-labels-idx1-ubyte.gz\n",
            "Downloading http://fashion-mnist.s3-website.eu-central-1.amazonaws.com/t10k-labels-idx1-ubyte.gz to ./FashionMNIST/raw/t10k-labels-idx1-ubyte.gz\n"
          ]
        },
        {
          "output_type": "stream",
          "name": "stderr",
          "text": [
            "100%|██████████| 5148/5148 [00:00<00:00, 5020292.26it/s]"
          ]
        },
        {
          "output_type": "stream",
          "name": "stdout",
          "text": [
            "Extracting ./FashionMNIST/raw/t10k-labels-idx1-ubyte.gz to ./FashionMNIST/raw\n",
            "\n"
          ]
        },
        {
          "output_type": "stream",
          "name": "stderr",
          "text": [
            "\n"
          ]
        }
      ],
      "source": [
        "train_dataset = FashionMNIST(\".\", train=True, download=True, transform=custom_train_transform)\n",
        "\n",
        "train_loader = DataLoader(dataset=train_dataset,\n",
        "                          batch_size=BATCH_SIZE,\n",
        "                          shuffle=True,\n",
        "                          drop_last=True,\n",
        "                          num_workers=2)\n",
        "\n",
        "\n",
        "test_dataset = FashionMNIST(\".\", train=False, download=True, transform=custom_test_transform)\n",
        "\n",
        "test_loader = DataLoader(dataset=test_dataset,\n",
        "                         batch_size=BATCH_SIZE,\n",
        "                         shuffle=False,\n",
        "                         num_workers=2)"
      ]
    },
    {
      "cell_type": "markdown",
      "metadata": {
        "id": "7J6V0mTWm3_p"
      },
      "source": [
        "아래 셀은 데이터셋이 잘 Load 되었는지 확인하는 테스트용 코드입니다.\n",
        "\n",
        "특히, Label data의 경우 One-hot vector encoding 되기 전의 형태의 class label 정보입니다."
      ]
    },
    {
      "cell_type": "code",
      "execution_count": 8,
      "metadata": {
        "id": "yMnZjVW_m3_p",
        "colab": {
          "base_uri": "https://localhost:8080/"
        },
        "outputId": "0e5eff18-98d4-4aa2-c7b8-bf6d963e0248"
      },
      "outputs": [
        {
          "output_type": "stream",
          "name": "stdout",
          "text": [
            "Epoch: 1 | Batch index: 0 | Batch size: 64\n",
            "Image data shape: \t torch.Size([64, 1, 28, 28])\n",
            "Label data shape: \t torch.Size([64])\n",
            "tensor([2, 8, 4, 7, 1, 9, 3, 5, 6, 6, 4, 4, 6, 2, 6, 6, 9, 1, 3, 3, 2, 1, 5, 6,\n",
            "        5, 9, 9, 8, 0, 3, 1, 8, 2, 5, 6, 6, 2, 5, 4, 6, 0, 3, 5, 2, 9, 5, 1, 9,\n",
            "        2, 0, 1, 3, 2, 5, 9, 9, 7, 0, 2, 8, 7, 7, 4, 0], device='cuda:0')\n"
          ]
        }
      ],
      "source": [
        "num_epochs = 1\n",
        "for epoch in range(num_epochs):\n",
        "\n",
        "    for batch_idx, (x, y) in enumerate(train_loader):\n",
        "\n",
        "        print('Epoch:', epoch+1, end='')\n",
        "        print(' | Batch index:', batch_idx, end='')\n",
        "        print(' | Batch size:', y.size()[0])\n",
        "\n",
        "        x = x.to(DEVICE)\n",
        "        y = y.to(DEVICE)\n",
        "        print(f'Image data shape: \\t {x.shape}')\n",
        "        print(f'Label data shape: \\t {y.shape}')\n",
        "        print(y)\n",
        "        break"
      ]
    },
    {
      "cell_type": "markdown",
      "metadata": {
        "id": "b-xri8K1m3_q"
      },
      "source": [
        "## 3) Multilayer Perceptron Model\n",
        "\n",
        "아래 셀은 MLP모델을 정의하는 부분입니다. 이 과제에서 메인 부분입니다.<br>\n",
        "Hidden layer이 2개가 되도록 변경하세요. 필요에 따라 3개 이상으로 늘려도 됩니다."
      ]
    },
    {
      "cell_type": "code",
      "execution_count": 11,
      "metadata": {
        "id": "buR-lPZbm3_q",
        "colab": {
          "base_uri": "https://localhost:8080/"
        },
        "outputId": "cb978c5d-149a-40b7-cbde-b50bd7e947c6"
      },
      "outputs": [
        {
          "output_type": "execute_result",
          "data": {
            "text/plain": [
              "<torch._C.Generator at 0x7a9fd818c050>"
            ]
          },
          "metadata": {},
          "execution_count": 11
        }
      ],
      "source": [
        "############################################################\n",
        "# 변경 가능한 셀\n",
        "############################################################\n",
        "\n",
        "class MLP(torch.nn.Module):\n",
        "\n",
        "    def __init__(self, num_features, num_hidden_1, num_hidden_2, num_classes):\n",
        "        super(MLP, self).__init__()\n",
        "\n",
        "        self.num_classes = num_classes # 10\n",
        "        self.linear_1 = torch.nn.Linear(num_features, num_hidden_1)\n",
        "\n",
        "        # <your code> to add layer\n",
        "        self.linear_2 = torch.nn.Linear(num_hidden_1, num_hidden_2)\n",
        "        self.linear_out = torch.nn.Linear(num_hidden_2, num_classes)\n",
        "\n",
        "        # Multi-class classification 문제를 풀기 위해 Softmax 함수를 사용합니다.\n",
        "        self.softmax = torch.nn.Softmax(dim=-1)\n",
        "\n",
        "    def forward(self, x):\n",
        "\n",
        "        ### activation 함수 변경 가능\n",
        "        ### 레이어간의 연결 추가, 변경\n",
        "        out = self.linear_1(x)\n",
        "        out = torch.sigmoid(out)\n",
        "\n",
        "        # <your code> to set the layer and the activation function\n",
        "        out = self.linear_2(x)\n",
        "        logits = self.linear_out(out)\n",
        "\n",
        "        # Multi-class classification 문제를 풀기 위해 Softmax 함수를 사용합니다.\n",
        "        # 다만, 이후 사용할 F.cross_entropy() 함수 내부에 softmax가 이미 구현되어 있기 때문에\n",
        "        # Loss function 계산 시에는 self.softmax()를 통과하기 전의 logits 값을 이용하게 됩니다.\n",
        "        probas = self.softmax(logits)\n",
        "        return logits, probas\n",
        "\n",
        "# random seed는 무작위 가중치 초기화가 항상 같도록 해줍니다.\n",
        "# 초기화된 가중치에 따라 같은 네트워크도 서로 다른 성능을 낼 수 있어서\n",
        "# 실제 사용시에는 좋은 성능을 얻기 위해 여러가지 무작위 가중치를 시도해 볼 수 있습니다.\n",
        "# 그러나 이 과제에서는 변경하지 않습니다.\n",
        "random.seed(RANDOM_SEED)\n",
        "torch.manual_seed(RANDOM_SEED)"
      ]
    },
    {
      "cell_type": "markdown",
      "metadata": {
        "id": "Xjn2x6URm3_q"
      },
      "source": [
        "## 4) Training"
      ]
    },
    {
      "cell_type": "markdown",
      "metadata": {
        "id": "XEnVESRlm3_q"
      },
      "source": [
        "**Cross entropy loss function 사용 시 주의점**\n",
        "\n",
        "- 모델의 출력인 logits, probas의 차원은 [BATCH_SIZE, num_classes] 형태지만, 정답 Label인 targets 변수의 차원은 [BATCH_SIZE] 입니다. (ex, [1, 3, 2, 4, 9, ..., 3])\n",
        "\n",
        "\n",
        "- 일반적으로 Cross Entropy Loss를 계산하기 위해서는 targets에 one-hot vector encoding을 수행해주어야 하지만, F.cross_entropy() 함수는 이를 내부적으로 수행해줍니다.\n",
        "\n",
        "\n",
        "- 또한, F.cross_entropy() 함수 내부적으로 softmax 함수를 이용하기 때문에, 모델의 출력 중 probas 값이 아닌 logits 값을 이용하여 Loss function을 계산합니다.\n",
        "\n",
        "\n",
        "- 구현 상세는 pytorch documents에서 확인할 수 있습니다. (https://pytorch.org/docs/stable/generated/torch.nn.functional.cross_entropy.html#torch.nn.functional.cross_entropy)"
      ]
    },
    {
      "cell_type": "code",
      "execution_count": 34,
      "metadata": {
        "id": "4scLIkpFm3_r",
        "colab": {
          "base_uri": "https://localhost:8080/"
        },
        "outputId": "bacc6727-5534-4fe9-bd92-d43df6e20bcc"
      },
      "outputs": [
        {
          "output_type": "stream",
          "name": "stdout",
          "text": [
            "Epoch: 001/020 | Batch 000/937 | Cost: 2.3384\n",
            "Epoch: 001/020 | Batch 040/937 | Cost: 1.7340\n",
            "Epoch: 001/020 | Batch 080/937 | Cost: 1.3215\n",
            "Epoch: 001/020 | Batch 120/937 | Cost: 1.0982\n",
            "Epoch: 001/020 | Batch 160/937 | Cost: 1.0490\n",
            "Epoch: 001/020 | Batch 200/937 | Cost: 0.8724\n",
            "Epoch: 001/020 | Batch 240/937 | Cost: 0.8192\n",
            "Epoch: 001/020 | Batch 280/937 | Cost: 0.7598\n",
            "Epoch: 001/020 | Batch 320/937 | Cost: 0.8091\n",
            "Epoch: 001/020 | Batch 360/937 | Cost: 0.8072\n",
            "Epoch: 001/020 | Batch 400/937 | Cost: 0.7291\n",
            "Epoch: 001/020 | Batch 440/937 | Cost: 0.6208\n",
            "Epoch: 001/020 | Batch 480/937 | Cost: 0.7856\n",
            "Epoch: 001/020 | Batch 520/937 | Cost: 0.7400\n",
            "Epoch: 001/020 | Batch 560/937 | Cost: 0.8445\n",
            "Epoch: 001/020 | Batch 600/937 | Cost: 0.5472\n",
            "Epoch: 001/020 | Batch 640/937 | Cost: 0.7576\n",
            "Epoch: 001/020 | Batch 680/937 | Cost: 0.5644\n",
            "Epoch: 001/020 | Batch 720/937 | Cost: 0.6575\n",
            "Epoch: 001/020 | Batch 760/937 | Cost: 0.5697\n",
            "Epoch: 001/020 | Batch 800/937 | Cost: 0.5325\n",
            "Epoch: 001/020 | Batch 840/937 | Cost: 0.7501\n",
            "Epoch: 001/020 | Batch 880/937 | Cost: 0.5578\n",
            "Epoch: 001/020 | Batch 920/937 | Cost: 0.5642\n",
            "Epoch: 001/020 Train Acc.: 79.06% | Test Acc.: 77.94%\n",
            "Time elapsed: 0.53 min\n",
            "Epoch: 002/020 | Batch 000/937 | Cost: 0.4485\n",
            "Epoch: 002/020 | Batch 040/937 | Cost: 0.5217\n",
            "Epoch: 002/020 | Batch 080/937 | Cost: 0.5128\n",
            "Epoch: 002/020 | Batch 120/937 | Cost: 0.6419\n",
            "Epoch: 002/020 | Batch 160/937 | Cost: 0.6646\n",
            "Epoch: 002/020 | Batch 200/937 | Cost: 0.5261\n",
            "Epoch: 002/020 | Batch 240/937 | Cost: 0.6005\n",
            "Epoch: 002/020 | Batch 280/937 | Cost: 0.5778\n",
            "Epoch: 002/020 | Batch 320/937 | Cost: 0.6855\n",
            "Epoch: 002/020 | Batch 360/937 | Cost: 0.6404\n",
            "Epoch: 002/020 | Batch 400/937 | Cost: 0.4945\n",
            "Epoch: 002/020 | Batch 440/937 | Cost: 0.5942\n",
            "Epoch: 002/020 | Batch 480/937 | Cost: 0.6426\n",
            "Epoch: 002/020 | Batch 520/937 | Cost: 0.5802\n",
            "Epoch: 002/020 | Batch 560/937 | Cost: 0.4022\n",
            "Epoch: 002/020 | Batch 600/937 | Cost: 0.5250\n",
            "Epoch: 002/020 | Batch 640/937 | Cost: 0.5881\n",
            "Epoch: 002/020 | Batch 680/937 | Cost: 0.3732\n",
            "Epoch: 002/020 | Batch 720/937 | Cost: 0.4217\n",
            "Epoch: 002/020 | Batch 760/937 | Cost: 0.5263\n",
            "Epoch: 002/020 | Batch 800/937 | Cost: 0.3919\n",
            "Epoch: 002/020 | Batch 840/937 | Cost: 0.6762\n",
            "Epoch: 002/020 | Batch 880/937 | Cost: 0.4241\n",
            "Epoch: 002/020 | Batch 920/937 | Cost: 0.5038\n",
            "Epoch: 002/020 Train Acc.: 81.81% | Test Acc.: 80.39%\n",
            "Time elapsed: 1.08 min\n",
            "Epoch: 003/020 | Batch 000/937 | Cost: 0.5171\n",
            "Epoch: 003/020 | Batch 040/937 | Cost: 0.4511\n",
            "Epoch: 003/020 | Batch 080/937 | Cost: 0.7082\n",
            "Epoch: 003/020 | Batch 120/937 | Cost: 0.5860\n",
            "Epoch: 003/020 | Batch 160/937 | Cost: 0.4561\n",
            "Epoch: 003/020 | Batch 200/937 | Cost: 0.4683\n",
            "Epoch: 003/020 | Batch 240/937 | Cost: 0.6046\n",
            "Epoch: 003/020 | Batch 280/937 | Cost: 0.6117\n",
            "Epoch: 003/020 | Batch 320/937 | Cost: 0.5040\n",
            "Epoch: 003/020 | Batch 360/937 | Cost: 0.5567\n",
            "Epoch: 003/020 | Batch 400/937 | Cost: 0.4182\n",
            "Epoch: 003/020 | Batch 440/937 | Cost: 0.3930\n",
            "Epoch: 003/020 | Batch 480/937 | Cost: 0.4071\n",
            "Epoch: 003/020 | Batch 520/937 | Cost: 0.5103\n",
            "Epoch: 003/020 | Batch 560/937 | Cost: 0.5010\n",
            "Epoch: 003/020 | Batch 600/937 | Cost: 0.3250\n",
            "Epoch: 003/020 | Batch 640/937 | Cost: 0.5321\n",
            "Epoch: 003/020 | Batch 680/937 | Cost: 0.5906\n",
            "Epoch: 003/020 | Batch 720/937 | Cost: 0.6375\n",
            "Epoch: 003/020 | Batch 760/937 | Cost: 0.5164\n",
            "Epoch: 003/020 | Batch 800/937 | Cost: 0.3790\n",
            "Epoch: 003/020 | Batch 840/937 | Cost: 0.3677\n",
            "Epoch: 003/020 | Batch 880/937 | Cost: 0.6010\n",
            "Epoch: 003/020 | Batch 920/937 | Cost: 0.5139\n",
            "Epoch: 003/020 Train Acc.: 82.99% | Test Acc.: 81.96%\n",
            "Time elapsed: 1.63 min\n",
            "Epoch: 004/020 | Batch 000/937 | Cost: 0.5271\n",
            "Epoch: 004/020 | Batch 040/937 | Cost: 0.4666\n",
            "Epoch: 004/020 | Batch 080/937 | Cost: 0.4129\n",
            "Epoch: 004/020 | Batch 120/937 | Cost: 0.5882\n",
            "Epoch: 004/020 | Batch 160/937 | Cost: 0.4904\n",
            "Epoch: 004/020 | Batch 200/937 | Cost: 0.4403\n",
            "Epoch: 004/020 | Batch 240/937 | Cost: 0.3757\n",
            "Epoch: 004/020 | Batch 280/937 | Cost: 0.4256\n",
            "Epoch: 004/020 | Batch 320/937 | Cost: 0.4894\n",
            "Epoch: 004/020 | Batch 360/937 | Cost: 0.5027\n",
            "Epoch: 004/020 | Batch 400/937 | Cost: 0.3659\n",
            "Epoch: 004/020 | Batch 440/937 | Cost: 0.5148\n",
            "Epoch: 004/020 | Batch 480/937 | Cost: 0.5510\n",
            "Epoch: 004/020 | Batch 520/937 | Cost: 0.2869\n",
            "Epoch: 004/020 | Batch 560/937 | Cost: 0.5062\n",
            "Epoch: 004/020 | Batch 600/937 | Cost: 0.4450\n",
            "Epoch: 004/020 | Batch 640/937 | Cost: 0.4391\n",
            "Epoch: 004/020 | Batch 680/937 | Cost: 0.3148\n",
            "Epoch: 004/020 | Batch 720/937 | Cost: 0.3586\n",
            "Epoch: 004/020 | Batch 760/937 | Cost: 0.5410\n",
            "Epoch: 004/020 | Batch 800/937 | Cost: 0.4166\n",
            "Epoch: 004/020 | Batch 840/937 | Cost: 0.5136\n",
            "Epoch: 004/020 | Batch 880/937 | Cost: 0.4424\n",
            "Epoch: 004/020 | Batch 920/937 | Cost: 0.6297\n",
            "Epoch: 004/020 Train Acc.: 83.79% | Test Acc.: 82.19%\n",
            "Time elapsed: 2.16 min\n",
            "Epoch: 005/020 | Batch 000/937 | Cost: 0.4934\n",
            "Epoch: 005/020 | Batch 040/937 | Cost: 0.5801\n",
            "Epoch: 005/020 | Batch 080/937 | Cost: 0.3643\n",
            "Epoch: 005/020 | Batch 120/937 | Cost: 0.8129\n",
            "Epoch: 005/020 | Batch 160/937 | Cost: 0.4453\n",
            "Epoch: 005/020 | Batch 200/937 | Cost: 0.4728\n",
            "Epoch: 005/020 | Batch 240/937 | Cost: 0.4174\n",
            "Epoch: 005/020 | Batch 280/937 | Cost: 0.3462\n",
            "Epoch: 005/020 | Batch 320/937 | Cost: 0.3975\n",
            "Epoch: 005/020 | Batch 360/937 | Cost: 0.5762\n",
            "Epoch: 005/020 | Batch 400/937 | Cost: 0.3811\n",
            "Epoch: 005/020 | Batch 440/937 | Cost: 0.4069\n",
            "Epoch: 005/020 | Batch 480/937 | Cost: 0.3472\n",
            "Epoch: 005/020 | Batch 520/937 | Cost: 0.3469\n",
            "Epoch: 005/020 | Batch 560/937 | Cost: 0.4179\n",
            "Epoch: 005/020 | Batch 600/937 | Cost: 0.3870\n",
            "Epoch: 005/020 | Batch 640/937 | Cost: 0.4554\n",
            "Epoch: 005/020 | Batch 680/937 | Cost: 0.3464\n",
            "Epoch: 005/020 | Batch 720/937 | Cost: 0.5955\n",
            "Epoch: 005/020 | Batch 760/937 | Cost: 0.6342\n",
            "Epoch: 005/020 | Batch 800/937 | Cost: 0.4734\n",
            "Epoch: 005/020 | Batch 840/937 | Cost: 0.6103\n",
            "Epoch: 005/020 | Batch 880/937 | Cost: 0.4450\n",
            "Epoch: 005/020 | Batch 920/937 | Cost: 0.4492\n",
            "Epoch: 005/020 Train Acc.: 84.36% | Test Acc.: 82.75%\n",
            "Time elapsed: 2.69 min\n",
            "Epoch: 006/020 | Batch 000/937 | Cost: 0.3492\n",
            "Epoch: 006/020 | Batch 040/937 | Cost: 0.4665\n",
            "Epoch: 006/020 | Batch 080/937 | Cost: 0.3715\n",
            "Epoch: 006/020 | Batch 120/937 | Cost: 0.3144\n",
            "Epoch: 006/020 | Batch 160/937 | Cost: 0.3926\n",
            "Epoch: 006/020 | Batch 200/937 | Cost: 0.3761\n",
            "Epoch: 006/020 | Batch 240/937 | Cost: 0.5601\n",
            "Epoch: 006/020 | Batch 280/937 | Cost: 0.6333\n",
            "Epoch: 006/020 | Batch 320/937 | Cost: 0.4064\n",
            "Epoch: 006/020 | Batch 360/937 | Cost: 0.6194\n",
            "Epoch: 006/020 | Batch 400/937 | Cost: 0.3816\n",
            "Epoch: 006/020 | Batch 440/937 | Cost: 0.2451\n",
            "Epoch: 006/020 | Batch 480/937 | Cost: 0.3545\n",
            "Epoch: 006/020 | Batch 520/937 | Cost: 0.4625\n",
            "Epoch: 006/020 | Batch 560/937 | Cost: 0.3988\n",
            "Epoch: 006/020 | Batch 600/937 | Cost: 0.3514\n",
            "Epoch: 006/020 | Batch 640/937 | Cost: 0.3922\n",
            "Epoch: 006/020 | Batch 680/937 | Cost: 0.4784\n",
            "Epoch: 006/020 | Batch 720/937 | Cost: 0.5453\n",
            "Epoch: 006/020 | Batch 760/937 | Cost: 0.3820\n",
            "Epoch: 006/020 | Batch 800/937 | Cost: 0.4431\n",
            "Epoch: 006/020 | Batch 840/937 | Cost: 0.3769\n",
            "Epoch: 006/020 | Batch 880/937 | Cost: 0.6519\n",
            "Epoch: 006/020 | Batch 920/937 | Cost: 0.5468\n",
            "Epoch: 006/020 Train Acc.: 84.76% | Test Acc.: 83.22%\n",
            "Time elapsed: 3.22 min\n",
            "Epoch: 007/020 | Batch 000/937 | Cost: 0.4600\n",
            "Epoch: 007/020 | Batch 040/937 | Cost: 0.3976\n",
            "Epoch: 007/020 | Batch 080/937 | Cost: 0.3982\n",
            "Epoch: 007/020 | Batch 120/937 | Cost: 0.5166\n",
            "Epoch: 007/020 | Batch 160/937 | Cost: 0.4389\n",
            "Epoch: 007/020 | Batch 200/937 | Cost: 0.3901\n",
            "Epoch: 007/020 | Batch 240/937 | Cost: 0.4449\n",
            "Epoch: 007/020 | Batch 280/937 | Cost: 0.3684\n",
            "Epoch: 007/020 | Batch 320/937 | Cost: 0.5348\n",
            "Epoch: 007/020 | Batch 360/937 | Cost: 0.5556\n",
            "Epoch: 007/020 | Batch 400/937 | Cost: 0.5292\n",
            "Epoch: 007/020 | Batch 440/937 | Cost: 0.4786\n",
            "Epoch: 007/020 | Batch 480/937 | Cost: 0.3035\n",
            "Epoch: 007/020 | Batch 520/937 | Cost: 0.3759\n",
            "Epoch: 007/020 | Batch 560/937 | Cost: 0.3059\n",
            "Epoch: 007/020 | Batch 600/937 | Cost: 0.3168\n",
            "Epoch: 007/020 | Batch 640/937 | Cost: 0.3401\n",
            "Epoch: 007/020 | Batch 680/937 | Cost: 0.5085\n",
            "Epoch: 007/020 | Batch 720/937 | Cost: 0.6147\n",
            "Epoch: 007/020 | Batch 760/937 | Cost: 0.6335\n",
            "Epoch: 007/020 | Batch 800/937 | Cost: 0.3589\n",
            "Epoch: 007/020 | Batch 840/937 | Cost: 0.3965\n",
            "Epoch: 007/020 | Batch 880/937 | Cost: 0.5413\n",
            "Epoch: 007/020 | Batch 920/937 | Cost: 0.4761\n",
            "Epoch: 007/020 Train Acc.: 84.80% | Test Acc.: 83.01%\n",
            "Time elapsed: 3.75 min\n",
            "Epoch: 008/020 | Batch 000/937 | Cost: 0.4248\n",
            "Epoch: 008/020 | Batch 040/937 | Cost: 0.5344\n",
            "Epoch: 008/020 | Batch 080/937 | Cost: 0.2668\n",
            "Epoch: 008/020 | Batch 120/937 | Cost: 0.3515\n",
            "Epoch: 008/020 | Batch 160/937 | Cost: 0.5259\n",
            "Epoch: 008/020 | Batch 200/937 | Cost: 0.5451\n",
            "Epoch: 008/020 | Batch 240/937 | Cost: 0.3597\n",
            "Epoch: 008/020 | Batch 280/937 | Cost: 0.4937\n",
            "Epoch: 008/020 | Batch 320/937 | Cost: 0.4678\n",
            "Epoch: 008/020 | Batch 360/937 | Cost: 0.4571\n",
            "Epoch: 008/020 | Batch 400/937 | Cost: 0.4288\n",
            "Epoch: 008/020 | Batch 440/937 | Cost: 0.3128\n",
            "Epoch: 008/020 | Batch 480/937 | Cost: 0.2773\n",
            "Epoch: 008/020 | Batch 520/937 | Cost: 0.4575\n",
            "Epoch: 008/020 | Batch 560/937 | Cost: 0.5642\n",
            "Epoch: 008/020 | Batch 600/937 | Cost: 0.4039\n",
            "Epoch: 008/020 | Batch 640/937 | Cost: 0.7632\n",
            "Epoch: 008/020 | Batch 680/937 | Cost: 0.4279\n",
            "Epoch: 008/020 | Batch 720/937 | Cost: 0.8649\n",
            "Epoch: 008/020 | Batch 760/937 | Cost: 0.4626\n",
            "Epoch: 008/020 | Batch 800/937 | Cost: 0.2763\n",
            "Epoch: 008/020 | Batch 840/937 | Cost: 0.4941\n",
            "Epoch: 008/020 | Batch 880/937 | Cost: 0.4058\n",
            "Epoch: 008/020 | Batch 920/937 | Cost: 0.2447\n",
            "Epoch: 008/020 Train Acc.: 85.08% | Test Acc.: 83.48%\n",
            "Time elapsed: 4.29 min\n",
            "Epoch: 009/020 | Batch 000/937 | Cost: 0.4314\n",
            "Epoch: 009/020 | Batch 040/937 | Cost: 0.3551\n",
            "Epoch: 009/020 | Batch 080/937 | Cost: 0.4173\n",
            "Epoch: 009/020 | Batch 120/937 | Cost: 0.4349\n",
            "Epoch: 009/020 | Batch 160/937 | Cost: 0.5816\n",
            "Epoch: 009/020 | Batch 200/937 | Cost: 0.4476\n",
            "Epoch: 009/020 | Batch 240/937 | Cost: 0.4212\n",
            "Epoch: 009/020 | Batch 280/937 | Cost: 0.3551\n",
            "Epoch: 009/020 | Batch 320/937 | Cost: 0.4413\n",
            "Epoch: 009/020 | Batch 360/937 | Cost: 0.4680\n",
            "Epoch: 009/020 | Batch 400/937 | Cost: 0.4503\n",
            "Epoch: 009/020 | Batch 440/937 | Cost: 0.4711\n",
            "Epoch: 009/020 | Batch 480/937 | Cost: 0.4320\n",
            "Epoch: 009/020 | Batch 520/937 | Cost: 0.4966\n",
            "Epoch: 009/020 | Batch 560/937 | Cost: 0.4618\n",
            "Epoch: 009/020 | Batch 600/937 | Cost: 0.3613\n",
            "Epoch: 009/020 | Batch 640/937 | Cost: 0.4138\n",
            "Epoch: 009/020 | Batch 680/937 | Cost: 0.4517\n",
            "Epoch: 009/020 | Batch 720/937 | Cost: 0.4391\n",
            "Epoch: 009/020 | Batch 760/937 | Cost: 0.3237\n",
            "Epoch: 009/020 | Batch 800/937 | Cost: 0.4219\n",
            "Epoch: 009/020 | Batch 840/937 | Cost: 0.3798\n",
            "Epoch: 009/020 | Batch 880/937 | Cost: 0.3423\n",
            "Epoch: 009/020 | Batch 920/937 | Cost: 0.4524\n",
            "Epoch: 009/020 Train Acc.: 85.43% | Test Acc.: 83.68%\n",
            "Time elapsed: 4.82 min\n",
            "Epoch: 010/020 | Batch 000/937 | Cost: 0.3766\n",
            "Epoch: 010/020 | Batch 040/937 | Cost: 0.3755\n",
            "Epoch: 010/020 | Batch 080/937 | Cost: 0.4021\n",
            "Epoch: 010/020 | Batch 120/937 | Cost: 0.2939\n",
            "Epoch: 010/020 | Batch 160/937 | Cost: 0.3939\n",
            "Epoch: 010/020 | Batch 200/937 | Cost: 0.3594\n",
            "Epoch: 010/020 | Batch 240/937 | Cost: 0.4348\n",
            "Epoch: 010/020 | Batch 280/937 | Cost: 0.6108\n",
            "Epoch: 010/020 | Batch 320/937 | Cost: 0.4450\n",
            "Epoch: 010/020 | Batch 360/937 | Cost: 0.2585\n",
            "Epoch: 010/020 | Batch 400/937 | Cost: 0.3180\n",
            "Epoch: 010/020 | Batch 440/937 | Cost: 0.4535\n",
            "Epoch: 010/020 | Batch 480/937 | Cost: 0.2926\n",
            "Epoch: 010/020 | Batch 520/937 | Cost: 0.4948\n",
            "Epoch: 010/020 | Batch 560/937 | Cost: 0.3388\n",
            "Epoch: 010/020 | Batch 600/937 | Cost: 0.5338\n",
            "Epoch: 010/020 | Batch 640/937 | Cost: 0.4710\n",
            "Epoch: 010/020 | Batch 680/937 | Cost: 0.4086\n",
            "Epoch: 010/020 | Batch 720/937 | Cost: 0.4921\n",
            "Epoch: 010/020 | Batch 760/937 | Cost: 0.2967\n",
            "Epoch: 010/020 | Batch 800/937 | Cost: 0.2890\n",
            "Epoch: 010/020 | Batch 840/937 | Cost: 0.3263\n",
            "Epoch: 010/020 | Batch 880/937 | Cost: 0.5526\n",
            "Epoch: 010/020 | Batch 920/937 | Cost: 0.2948\n",
            "Epoch: 010/020 Train Acc.: 85.49% | Test Acc.: 83.72%\n",
            "Time elapsed: 5.35 min\n",
            "Epoch: 011/020 | Batch 000/937 | Cost: 0.4060\n",
            "Epoch: 011/020 | Batch 040/937 | Cost: 0.4066\n",
            "Epoch: 011/020 | Batch 080/937 | Cost: 0.3917\n",
            "Epoch: 011/020 | Batch 120/937 | Cost: 0.5346\n",
            "Epoch: 011/020 | Batch 160/937 | Cost: 0.3830\n",
            "Epoch: 011/020 | Batch 200/937 | Cost: 0.4729\n",
            "Epoch: 011/020 | Batch 240/937 | Cost: 0.3351\n",
            "Epoch: 011/020 | Batch 280/937 | Cost: 0.3593\n",
            "Epoch: 011/020 | Batch 320/937 | Cost: 0.2664\n",
            "Epoch: 011/020 | Batch 360/937 | Cost: 0.4545\n",
            "Epoch: 011/020 | Batch 400/937 | Cost: 0.3939\n",
            "Epoch: 011/020 | Batch 440/937 | Cost: 0.3400\n",
            "Epoch: 011/020 | Batch 480/937 | Cost: 0.2772\n",
            "Epoch: 011/020 | Batch 520/937 | Cost: 0.5248\n",
            "Epoch: 011/020 | Batch 560/937 | Cost: 0.3624\n",
            "Epoch: 011/020 | Batch 600/937 | Cost: 0.5619\n",
            "Epoch: 011/020 | Batch 640/937 | Cost: 0.3461\n",
            "Epoch: 011/020 | Batch 680/937 | Cost: 0.3379\n",
            "Epoch: 011/020 | Batch 720/937 | Cost: 0.4507\n",
            "Epoch: 011/020 | Batch 760/937 | Cost: 0.4964\n",
            "Epoch: 011/020 | Batch 800/937 | Cost: 0.3911\n",
            "Epoch: 011/020 | Batch 840/937 | Cost: 0.4662\n",
            "Epoch: 011/020 | Batch 880/937 | Cost: 0.3884\n",
            "Epoch: 011/020 | Batch 920/937 | Cost: 0.3460\n",
            "Epoch: 011/020 Train Acc.: 85.45% | Test Acc.: 83.76%\n",
            "Time elapsed: 5.88 min\n",
            "Epoch: 012/020 | Batch 000/937 | Cost: 0.3494\n",
            "Epoch: 012/020 | Batch 040/937 | Cost: 0.3206\n",
            "Epoch: 012/020 | Batch 080/937 | Cost: 0.5283\n",
            "Epoch: 012/020 | Batch 120/937 | Cost: 0.2645\n",
            "Epoch: 012/020 | Batch 160/937 | Cost: 0.2807\n",
            "Epoch: 012/020 | Batch 200/937 | Cost: 0.3752\n",
            "Epoch: 012/020 | Batch 240/937 | Cost: 0.2713\n",
            "Epoch: 012/020 | Batch 280/937 | Cost: 0.3194\n",
            "Epoch: 012/020 | Batch 320/937 | Cost: 0.4906\n",
            "Epoch: 012/020 | Batch 360/937 | Cost: 0.3228\n",
            "Epoch: 012/020 | Batch 400/937 | Cost: 0.3258\n",
            "Epoch: 012/020 | Batch 440/937 | Cost: 0.4130\n",
            "Epoch: 012/020 | Batch 480/937 | Cost: 0.5044\n",
            "Epoch: 012/020 | Batch 520/937 | Cost: 0.3435\n",
            "Epoch: 012/020 | Batch 560/937 | Cost: 0.3570\n",
            "Epoch: 012/020 | Batch 600/937 | Cost: 0.2693\n",
            "Epoch: 012/020 | Batch 640/937 | Cost: 0.3006\n",
            "Epoch: 012/020 | Batch 680/937 | Cost: 0.1861\n",
            "Epoch: 012/020 | Batch 720/937 | Cost: 0.3172\n",
            "Epoch: 012/020 | Batch 760/937 | Cost: 0.3187\n",
            "Epoch: 012/020 | Batch 800/937 | Cost: 0.3651\n",
            "Epoch: 012/020 | Batch 840/937 | Cost: 0.4844\n",
            "Epoch: 012/020 | Batch 880/937 | Cost: 0.2620\n",
            "Epoch: 012/020 | Batch 920/937 | Cost: 0.4015\n",
            "Epoch: 012/020 Train Acc.: 85.84% | Test Acc.: 84.12%\n",
            "Time elapsed: 6.41 min\n",
            "Epoch: 013/020 | Batch 000/937 | Cost: 0.3808\n",
            "Epoch: 013/020 | Batch 040/937 | Cost: 0.4483\n",
            "Epoch: 013/020 | Batch 080/937 | Cost: 0.3395\n",
            "Epoch: 013/020 | Batch 120/937 | Cost: 0.4318\n",
            "Epoch: 013/020 | Batch 160/937 | Cost: 0.3862\n",
            "Epoch: 013/020 | Batch 200/937 | Cost: 0.5188\n",
            "Epoch: 013/020 | Batch 240/937 | Cost: 0.4592\n",
            "Epoch: 013/020 | Batch 280/937 | Cost: 0.2889\n",
            "Epoch: 013/020 | Batch 320/937 | Cost: 0.4238\n",
            "Epoch: 013/020 | Batch 360/937 | Cost: 0.3725\n",
            "Epoch: 013/020 | Batch 400/937 | Cost: 0.5111\n",
            "Epoch: 013/020 | Batch 440/937 | Cost: 0.4450\n",
            "Epoch: 013/020 | Batch 480/937 | Cost: 0.4084\n",
            "Epoch: 013/020 | Batch 520/937 | Cost: 0.4121\n",
            "Epoch: 013/020 | Batch 560/937 | Cost: 0.2845\n",
            "Epoch: 013/020 | Batch 600/937 | Cost: 0.5049\n",
            "Epoch: 013/020 | Batch 640/937 | Cost: 0.4385\n",
            "Epoch: 013/020 | Batch 680/937 | Cost: 0.3827\n",
            "Epoch: 013/020 | Batch 720/937 | Cost: 0.3243\n",
            "Epoch: 013/020 | Batch 760/937 | Cost: 0.3975\n",
            "Epoch: 013/020 | Batch 800/937 | Cost: 0.3991\n",
            "Epoch: 013/020 | Batch 840/937 | Cost: 0.5162\n",
            "Epoch: 013/020 | Batch 880/937 | Cost: 0.5303\n",
            "Epoch: 013/020 | Batch 920/937 | Cost: 0.2441\n",
            "Epoch: 013/020 Train Acc.: 85.98% | Test Acc.: 84.00%\n",
            "Time elapsed: 6.96 min\n",
            "Epoch: 014/020 | Batch 000/937 | Cost: 0.3462\n",
            "Epoch: 014/020 | Batch 040/937 | Cost: 0.5366\n",
            "Epoch: 014/020 | Batch 080/937 | Cost: 0.5969\n",
            "Epoch: 014/020 | Batch 120/937 | Cost: 0.5088\n",
            "Epoch: 014/020 | Batch 160/937 | Cost: 0.4696\n",
            "Epoch: 014/020 | Batch 200/937 | Cost: 0.3330\n",
            "Epoch: 014/020 | Batch 240/937 | Cost: 0.2927\n",
            "Epoch: 014/020 | Batch 280/937 | Cost: 0.5244\n",
            "Epoch: 014/020 | Batch 320/937 | Cost: 0.3105\n",
            "Epoch: 014/020 | Batch 360/937 | Cost: 0.4532\n",
            "Epoch: 014/020 | Batch 400/937 | Cost: 0.5287\n",
            "Epoch: 014/020 | Batch 440/937 | Cost: 0.3292\n",
            "Epoch: 014/020 | Batch 480/937 | Cost: 0.4837\n",
            "Epoch: 014/020 | Batch 520/937 | Cost: 0.4482\n",
            "Epoch: 014/020 | Batch 560/937 | Cost: 0.6161\n",
            "Epoch: 014/020 | Batch 600/937 | Cost: 0.5228\n",
            "Epoch: 014/020 | Batch 640/937 | Cost: 0.4503\n",
            "Epoch: 014/020 | Batch 680/937 | Cost: 0.5989\n",
            "Epoch: 014/020 | Batch 720/937 | Cost: 0.3400\n",
            "Epoch: 014/020 | Batch 760/937 | Cost: 0.3224\n",
            "Epoch: 014/020 | Batch 800/937 | Cost: 0.3438\n",
            "Epoch: 014/020 | Batch 840/937 | Cost: 0.3121\n",
            "Epoch: 014/020 | Batch 880/937 | Cost: 0.3898\n",
            "Epoch: 014/020 | Batch 920/937 | Cost: 0.2342\n",
            "Epoch: 014/020 Train Acc.: 86.05% | Test Acc.: 84.01%\n",
            "Time elapsed: 7.49 min\n",
            "Epoch: 015/020 | Batch 000/937 | Cost: 0.3677\n",
            "Epoch: 015/020 | Batch 040/937 | Cost: 0.3204\n",
            "Epoch: 015/020 | Batch 080/937 | Cost: 0.2825\n",
            "Epoch: 015/020 | Batch 120/937 | Cost: 0.4034\n",
            "Epoch: 015/020 | Batch 160/937 | Cost: 0.3521\n",
            "Epoch: 015/020 | Batch 200/937 | Cost: 0.3248\n",
            "Epoch: 015/020 | Batch 240/937 | Cost: 0.3873\n",
            "Epoch: 015/020 | Batch 280/937 | Cost: 0.3863\n",
            "Epoch: 015/020 | Batch 320/937 | Cost: 0.3099\n",
            "Epoch: 015/020 | Batch 360/937 | Cost: 0.4865\n",
            "Epoch: 015/020 | Batch 400/937 | Cost: 0.4673\n",
            "Epoch: 015/020 | Batch 440/937 | Cost: 0.3786\n",
            "Epoch: 015/020 | Batch 480/937 | Cost: 0.2514\n",
            "Epoch: 015/020 | Batch 520/937 | Cost: 0.3361\n",
            "Epoch: 015/020 | Batch 560/937 | Cost: 0.4750\n",
            "Epoch: 015/020 | Batch 600/937 | Cost: 0.2954\n",
            "Epoch: 015/020 | Batch 640/937 | Cost: 0.3734\n",
            "Epoch: 015/020 | Batch 680/937 | Cost: 0.4411\n",
            "Epoch: 015/020 | Batch 720/937 | Cost: 0.5293\n",
            "Epoch: 015/020 | Batch 760/937 | Cost: 0.3703\n",
            "Epoch: 015/020 | Batch 800/937 | Cost: 0.2680\n",
            "Epoch: 015/020 | Batch 840/937 | Cost: 0.3632\n",
            "Epoch: 015/020 | Batch 880/937 | Cost: 0.5876\n",
            "Epoch: 015/020 | Batch 920/937 | Cost: 0.3681\n",
            "Epoch: 015/020 Train Acc.: 85.87% | Test Acc.: 83.92%\n",
            "Time elapsed: 8.01 min\n",
            "Epoch: 016/020 | Batch 000/937 | Cost: 0.4781\n",
            "Epoch: 016/020 | Batch 040/937 | Cost: 0.5448\n",
            "Epoch: 016/020 | Batch 080/937 | Cost: 0.6251\n",
            "Epoch: 016/020 | Batch 120/937 | Cost: 0.3312\n",
            "Epoch: 016/020 | Batch 160/937 | Cost: 0.4856\n",
            "Epoch: 016/020 | Batch 200/937 | Cost: 0.3509\n",
            "Epoch: 016/020 | Batch 240/937 | Cost: 0.3808\n",
            "Epoch: 016/020 | Batch 280/937 | Cost: 0.4658\n",
            "Epoch: 016/020 | Batch 320/937 | Cost: 0.2661\n",
            "Epoch: 016/020 | Batch 360/937 | Cost: 0.2291\n",
            "Epoch: 016/020 | Batch 400/937 | Cost: 0.4037\n",
            "Epoch: 016/020 | Batch 440/937 | Cost: 0.6101\n",
            "Epoch: 016/020 | Batch 480/937 | Cost: 0.4155\n",
            "Epoch: 016/020 | Batch 520/937 | Cost: 0.3353\n",
            "Epoch: 016/020 | Batch 560/937 | Cost: 0.2776\n",
            "Epoch: 016/020 | Batch 600/937 | Cost: 0.3474\n",
            "Epoch: 016/020 | Batch 640/937 | Cost: 0.3006\n",
            "Epoch: 016/020 | Batch 680/937 | Cost: 0.5138\n",
            "Epoch: 016/020 | Batch 720/937 | Cost: 0.3812\n",
            "Epoch: 016/020 | Batch 760/937 | Cost: 0.4291\n",
            "Epoch: 016/020 | Batch 800/937 | Cost: 0.3984\n",
            "Epoch: 016/020 | Batch 840/937 | Cost: 0.3680\n",
            "Epoch: 016/020 | Batch 880/937 | Cost: 0.2903\n",
            "Epoch: 016/020 | Batch 920/937 | Cost: 0.3665\n",
            "Epoch: 016/020 Train Acc.: 86.17% | Test Acc.: 84.14%\n",
            "Time elapsed: 8.54 min\n",
            "Epoch: 017/020 | Batch 000/937 | Cost: 0.3061\n",
            "Epoch: 017/020 | Batch 040/937 | Cost: 0.3616\n",
            "Epoch: 017/020 | Batch 080/937 | Cost: 0.3153\n",
            "Epoch: 017/020 | Batch 120/937 | Cost: 0.5649\n",
            "Epoch: 017/020 | Batch 160/937 | Cost: 0.2359\n",
            "Epoch: 017/020 | Batch 200/937 | Cost: 0.3156\n",
            "Epoch: 017/020 | Batch 240/937 | Cost: 0.3391\n",
            "Epoch: 017/020 | Batch 280/937 | Cost: 0.2932\n",
            "Epoch: 017/020 | Batch 320/937 | Cost: 0.1632\n",
            "Epoch: 017/020 | Batch 360/937 | Cost: 0.5781\n",
            "Epoch: 017/020 | Batch 400/937 | Cost: 0.4472\n",
            "Epoch: 017/020 | Batch 440/937 | Cost: 0.5030\n",
            "Epoch: 017/020 | Batch 480/937 | Cost: 0.5007\n",
            "Epoch: 017/020 | Batch 520/937 | Cost: 0.3581\n",
            "Epoch: 017/020 | Batch 560/937 | Cost: 0.4169\n",
            "Epoch: 017/020 | Batch 600/937 | Cost: 0.2696\n",
            "Epoch: 017/020 | Batch 640/937 | Cost: 0.4699\n",
            "Epoch: 017/020 | Batch 680/937 | Cost: 0.4697\n",
            "Epoch: 017/020 | Batch 720/937 | Cost: 0.2914\n",
            "Epoch: 017/020 | Batch 760/937 | Cost: 0.5243\n",
            "Epoch: 017/020 | Batch 800/937 | Cost: 0.3316\n",
            "Epoch: 017/020 | Batch 840/937 | Cost: 0.6030\n",
            "Epoch: 017/020 | Batch 880/937 | Cost: 0.4156\n",
            "Epoch: 017/020 | Batch 920/937 | Cost: 0.5466\n",
            "Epoch: 017/020 Train Acc.: 86.16% | Test Acc.: 83.81%\n",
            "Time elapsed: 9.07 min\n",
            "Epoch: 018/020 | Batch 000/937 | Cost: 0.7325\n",
            "Epoch: 018/020 | Batch 040/937 | Cost: 0.2850\n",
            "Epoch: 018/020 | Batch 080/937 | Cost: 0.2426\n",
            "Epoch: 018/020 | Batch 120/937 | Cost: 0.3404\n",
            "Epoch: 018/020 | Batch 160/937 | Cost: 0.4643\n",
            "Epoch: 018/020 | Batch 200/937 | Cost: 0.4215\n",
            "Epoch: 018/020 | Batch 240/937 | Cost: 0.5002\n",
            "Epoch: 018/020 | Batch 280/937 | Cost: 0.2772\n",
            "Epoch: 018/020 | Batch 320/937 | Cost: 0.4876\n",
            "Epoch: 018/020 | Batch 360/937 | Cost: 0.4676\n",
            "Epoch: 018/020 | Batch 400/937 | Cost: 0.2929\n",
            "Epoch: 018/020 | Batch 440/937 | Cost: 0.3224\n",
            "Epoch: 018/020 | Batch 480/937 | Cost: 0.2554\n",
            "Epoch: 018/020 | Batch 520/937 | Cost: 0.3327\n",
            "Epoch: 018/020 | Batch 560/937 | Cost: 0.5418\n",
            "Epoch: 018/020 | Batch 600/937 | Cost: 0.4819\n",
            "Epoch: 018/020 | Batch 640/937 | Cost: 0.3083\n",
            "Epoch: 018/020 | Batch 680/937 | Cost: 0.4066\n",
            "Epoch: 018/020 | Batch 720/937 | Cost: 0.4378\n",
            "Epoch: 018/020 | Batch 760/937 | Cost: 0.3993\n",
            "Epoch: 018/020 | Batch 800/937 | Cost: 0.3944\n",
            "Epoch: 018/020 | Batch 840/937 | Cost: 0.4311\n",
            "Epoch: 018/020 | Batch 880/937 | Cost: 0.3834\n",
            "Epoch: 018/020 | Batch 920/937 | Cost: 0.3101\n",
            "Epoch: 018/020 Train Acc.: 86.03% | Test Acc.: 84.09%\n",
            "Time elapsed: 9.62 min\n",
            "Epoch: 019/020 | Batch 000/937 | Cost: 0.3901\n",
            "Epoch: 019/020 | Batch 040/937 | Cost: 0.1589\n",
            "Epoch: 019/020 | Batch 080/937 | Cost: 0.5490\n",
            "Epoch: 019/020 | Batch 120/937 | Cost: 0.3591\n",
            "Epoch: 019/020 | Batch 160/937 | Cost: 0.2511\n",
            "Epoch: 019/020 | Batch 200/937 | Cost: 0.3947\n",
            "Epoch: 019/020 | Batch 240/937 | Cost: 0.4133\n",
            "Epoch: 019/020 | Batch 280/937 | Cost: 0.4255\n",
            "Epoch: 019/020 | Batch 320/937 | Cost: 0.4982\n",
            "Epoch: 019/020 | Batch 360/937 | Cost: 0.3520\n",
            "Epoch: 019/020 | Batch 400/937 | Cost: 0.5128\n",
            "Epoch: 019/020 | Batch 440/937 | Cost: 0.4880\n",
            "Epoch: 019/020 | Batch 480/937 | Cost: 0.4240\n",
            "Epoch: 019/020 | Batch 520/937 | Cost: 0.4991\n",
            "Epoch: 019/020 | Batch 560/937 | Cost: 0.3799\n",
            "Epoch: 019/020 | Batch 600/937 | Cost: 0.3939\n",
            "Epoch: 019/020 | Batch 640/937 | Cost: 0.5021\n",
            "Epoch: 019/020 | Batch 680/937 | Cost: 0.4636\n",
            "Epoch: 019/020 | Batch 720/937 | Cost: 0.2965\n",
            "Epoch: 019/020 | Batch 760/937 | Cost: 0.3765\n",
            "Epoch: 019/020 | Batch 800/937 | Cost: 0.2925\n",
            "Epoch: 019/020 | Batch 840/937 | Cost: 0.3122\n",
            "Epoch: 019/020 | Batch 880/937 | Cost: 0.6690\n",
            "Epoch: 019/020 | Batch 920/937 | Cost: 0.4899\n",
            "Epoch: 019/020 Train Acc.: 86.28% | Test Acc.: 84.18%\n",
            "Time elapsed: 10.17 min\n",
            "Epoch: 020/020 | Batch 000/937 | Cost: 0.5792\n",
            "Epoch: 020/020 | Batch 040/937 | Cost: 0.3794\n",
            "Epoch: 020/020 | Batch 080/937 | Cost: 0.4668\n",
            "Epoch: 020/020 | Batch 120/937 | Cost: 0.1933\n",
            "Epoch: 020/020 | Batch 160/937 | Cost: 0.2914\n",
            "Epoch: 020/020 | Batch 200/937 | Cost: 0.4156\n",
            "Epoch: 020/020 | Batch 240/937 | Cost: 0.3066\n",
            "Epoch: 020/020 | Batch 280/937 | Cost: 0.1890\n",
            "Epoch: 020/020 | Batch 320/937 | Cost: 0.2809\n",
            "Epoch: 020/020 | Batch 360/937 | Cost: 0.5258\n",
            "Epoch: 020/020 | Batch 400/937 | Cost: 0.2473\n",
            "Epoch: 020/020 | Batch 440/937 | Cost: 0.4104\n",
            "Epoch: 020/020 | Batch 480/937 | Cost: 0.2961\n",
            "Epoch: 020/020 | Batch 520/937 | Cost: 0.3553\n",
            "Epoch: 020/020 | Batch 560/937 | Cost: 0.5317\n",
            "Epoch: 020/020 | Batch 600/937 | Cost: 0.4560\n",
            "Epoch: 020/020 | Batch 640/937 | Cost: 0.5215\n",
            "Epoch: 020/020 | Batch 680/937 | Cost: 0.3145\n",
            "Epoch: 020/020 | Batch 720/937 | Cost: 0.5324\n",
            "Epoch: 020/020 | Batch 760/937 | Cost: 0.6012\n",
            "Epoch: 020/020 | Batch 800/937 | Cost: 0.2715\n",
            "Epoch: 020/020 | Batch 840/937 | Cost: 0.5604\n",
            "Epoch: 020/020 | Batch 880/937 | Cost: 0.4127\n",
            "Epoch: 020/020 | Batch 920/937 | Cost: 0.2895\n",
            "Epoch: 020/020 Train Acc.: 86.41% | Test Acc.: 84.18%\n",
            "Time elapsed: 10.70 min\n",
            "Total Training Time: 10.70 min\n"
          ]
        }
      ],
      "source": [
        "############################################################\n",
        "# 변경 가능한 셀\n",
        "############################################################\n",
        "\n",
        "### num_hidden_1, num_hidden_2 변경 가능,\n",
        "### 레이어를 더 추가하고 싶다면 이부분을 알맞게 수정하세요.\n",
        "model = MLP(num_features=28*28,\n",
        "            num_hidden_1=784,\n",
        "            num_hidden_2=10,\n",
        "            num_classes=10)\n",
        "\n",
        "model = model.to(DEVICE)\n",
        "\n",
        "\n",
        "### Optimizer는 가중치를 업데이트하는 방법을 바꾸어 더 빠르게 좋은 성능을 낼 수 있도록합니다.\n",
        "### 이 과제에서는 optimizer를 변경하지 않습니다.\n",
        "### 그러나 Learning Rate(lr)는 변경이 가능합니다.\n",
        "optimizer = torch.optim.SGD(model.parameters(), lr=0.01)\n",
        "\n",
        "NUM_EPOCHS = 20 # 변경 가능\n",
        "############################################################\n",
        "\n",
        "### 아래는 변경 불가능\n",
        "def compute_accuracy_and_loss(model, data_loader, device):\n",
        "    correct_pred, num_examples = 0, 0\n",
        "    cross_entropy = 0.\n",
        "    for i, (features, targets) in enumerate(data_loader):\n",
        "\n",
        "        features = features.view(-1, 28*28).to(device)\n",
        "        targets = targets.to(device)\n",
        "\n",
        "        logits, probas = model(features)\n",
        "\n",
        "        # Loss 계산 시에는 logits 이용\n",
        "        cross_entropy += F.cross_entropy(logits, targets).item()\n",
        "\n",
        "        # 추론 시에는 probas 이용\n",
        "        _, predicted_labels = torch.max(probas, 1)\n",
        "        num_examples += targets.size(0)\n",
        "        correct_pred += (predicted_labels == targets).sum()\n",
        "    return correct_pred.cpu().float()/num_examples * 100, cross_entropy/num_examples\n",
        "\n",
        "\n",
        "start_time = time.time()\n",
        "train_acc_lst, test_acc_lst = [], []\n",
        "train_loss_lst, test_loss_lst = [], []\n",
        "\n",
        "for epoch in range(NUM_EPOCHS):\n",
        "\n",
        "    model.train()\n",
        "\n",
        "    for batch_idx, (features, targets) in enumerate(train_loader):\n",
        "\n",
        "        ### PREPARE MINIBATCH\n",
        "        features = features.view(-1, 28*28).to(DEVICE)\n",
        "        targets = targets.to(DEVICE)\n",
        "\n",
        "        ### FORWARD AND BACK PROP\n",
        "        logits, probas = model(features)\n",
        "        cost = F.cross_entropy(logits, targets)\n",
        "        optimizer.zero_grad()\n",
        "\n",
        "        cost.backward()\n",
        "\n",
        "        ### UPDATE MODEL PARAMETERS\n",
        "        optimizer.step()\n",
        "\n",
        "        ### LOGGING\n",
        "        if not batch_idx % 40:\n",
        "            print (f'Epoch: {epoch+1:03d}/{NUM_EPOCHS:03d} | '\n",
        "                   f'Batch {batch_idx:03d}/{len(train_loader):03d} |'\n",
        "                   f' Cost: {cost:.4f}')\n",
        "\n",
        "    # no need to build the computation graph for backprop when computing accuracy\n",
        "    model.eval()\n",
        "    with torch.set_grad_enabled(False):\n",
        "        train_acc, train_loss = compute_accuracy_and_loss(model, train_loader, device=DEVICE)\n",
        "        test_acc, test_loss = compute_accuracy_and_loss(model, test_loader, device=DEVICE)\n",
        "        train_acc_lst.append(train_acc)\n",
        "        test_acc_lst.append(test_acc)\n",
        "        train_loss_lst.append(train_loss)\n",
        "        test_loss_lst.append(test_loss)\n",
        "        print(f'Epoch: {epoch+1:03d}/{NUM_EPOCHS:03d} Train Acc.: {train_acc:.2f}%'\n",
        "              f' | Test Acc.: {test_acc:.2f}%')\n",
        "\n",
        "    elapsed = (time.time() - start_time)/60\n",
        "    print(f'Time elapsed: {elapsed:.2f} min')\n",
        "\n",
        "elapsed = (time.time() - start_time)/60\n",
        "print(f'Total Training Time: {elapsed:.2f} min')"
      ]
    },
    {
      "cell_type": "markdown",
      "metadata": {
        "id": "-LcJGrEmm3_r"
      },
      "source": [
        "## 5) Evaluation\n",
        "\n",
        "테스트 데이터와 학습 데이터의 Loss변화를 확인합니다."
      ]
    },
    {
      "cell_type": "code",
      "execution_count": 35,
      "metadata": {
        "id": "Zqrc1dxhm3_r",
        "colab": {
          "base_uri": "https://localhost:8080/",
          "height": 449
        },
        "outputId": "f702e296-1430-45f1-a98f-f759b13942cd"
      },
      "outputs": [
        {
          "output_type": "display_data",
          "data": {
            "text/plain": [
              "<Figure size 640x480 with 1 Axes>"
            ],
            "image/png": "[encoded data removed]"
          },
          "metadata": {}
        }
      ],
      "source": [
        "plt.plot(range(1, NUM_EPOCHS+1), train_loss_lst, label='Training loss')\n",
        "plt.plot(range(1, NUM_EPOCHS+1), test_loss_lst, label='Test loss')\n",
        "plt.legend(loc='upper right')\n",
        "plt.ylabel('Cross entropy')\n",
        "plt.xlabel('Epoch')\n",
        "plt.show()"
      ]
    },
    {
      "cell_type": "code",
      "execution_count": 36,
      "metadata": {
        "id": "PFrx65mhm3_r",
        "colab": {
          "base_uri": "https://localhost:8080/",
          "height": 449
        },
        "outputId": "741df6fc-f8b9-4a5f-c2d5-9786b368f34c"
      },
      "outputs": [
        {
          "output_type": "display_data",
          "data": {
            "text/plain": [
              "<Figure size 640x480 with 1 Axes>"
            ],
            "image/png": "[encoded data removed]"
          },
          "metadata": {}
        }
      ],
      "source": [
        "plt.plot(range(1, NUM_EPOCHS+1), train_acc_lst, label='Training accuracy')\n",
        "plt.plot(range(1, NUM_EPOCHS+1), test_acc_lst, label='Test accuracy')\n",
        "plt.legend(loc='upper left')\n",
        "plt.ylabel('Cross entropy')\n",
        "plt.xlabel('Epoch')\n",
        "plt.show()"
      ]
    },
    {
      "cell_type": "code",
      "execution_count": 37,
      "metadata": {
        "id": "fI_fdQCBm3_r",
        "colab": {
          "base_uri": "https://localhost:8080/"
        },
        "outputId": "6fed4f8a-29c6-4bcc-a629-041ab7da4e97"
      },
      "outputs": [
        {
          "output_type": "stream",
          "name": "stdout",
          "text": [
            "Test accuracy: 84.18%\n"
          ]
        }
      ],
      "source": [
        "model.eval()\n",
        "with torch.set_grad_enabled(False): # save memory during inference\n",
        "    test_acc, test_loss = compute_accuracy_and_loss(model, test_loader, DEVICE)\n",
        "    print(f'Test accuracy: {test_acc:.2f}%')"
      ]
    },
    {
      "cell_type": "markdown",
      "metadata": {
        "id": "xUty3HYvm3_s"
      },
      "source": [
        "## 6) Discussion"
      ]
    },
    {
      "cell_type": "markdown",
      "metadata": {
        "id": "a5mQasZVm3_s"
      },
      "source": [
        "**1) 학습, 테스트 정확도는 얼마인가요? (위 숫자를 복사하세요.)**"
      ]
    },
    {
      "cell_type": "markdown",
      "metadata": {
        "id": "YZnjt314m3_s"
      },
      "source": [
        "- Training:  86.41%\n",
        "- Test: 84.18%"
      ]
    },
    {
      "cell_type": "markdown",
      "metadata": {
        "id": "R77V_WC7m3_s"
      },
      "source": [
        "**2) overfitting을 경험했나요? 만약 그랬다면 왜 그랬을지 적어보고, overfitting을 방지하기위한 간단한 방법은 무엇일까요?**"
      ]
    },
    {
      "cell_type": "markdown",
      "metadata": {
        "id": "orHmEoBLm3_s"
      },
      "source": [
        "[제안하는 방법 적기]\n",
        "overfitting을 경험하지는 않았지만,\n",
        "overfitting을 방지하는 방법으로는 hidden layer의 층수를 줄이거나,\n",
        "각 hidden layer의 node 수를 줄이는 방법이 있다"
      ]
    },
    {
      "cell_type": "markdown",
      "metadata": {
        "id": "7-TbPmuTm3_s"
      },
      "source": [
        "예를 들면,\n",
        "\n",
        "- batch size를 256으로 변경\n",
        "- 두개의 hidden layers의 activation을 relu로 변경\n",
        "- learning rate를 0.2로 변경"
      ]
    },
    {
      "cell_type": "markdown",
      "metadata": {
        "id": "0HWGQNF5m3_s"
      },
      "source": [
        "**3) 만약 hidden layer 수가 늘어나면(3개 이상) 얻을 수 있는 장/단점은 무엇일까요?**"
      ]
    },
    {
      "cell_type": "markdown",
      "metadata": {
        "id": "g_WBDl0rm3_s"
      },
      "source": [
        "[답변작성]\n",
        "장점: Train set에 더 학습 성능이 좋은 모델이 될 수 있다.\n",
        "단점: Train set에 과적합 될 가능성이 있다."
      ]
    },
    {
      "cell_type": "markdown",
      "metadata": {
        "id": "UNo7kaPhm3_t"
      },
      "source": [
        "**4) 구현하면서 수정한 부분에 대해 작성하여 수정한 이유 및 성능향상이 생긴 이유에 대해 답해보세요.**"
      ]
    },
    {
      "cell_type": "markdown",
      "metadata": {
        "id": "2m5lSfHzm3_t"
      },
      "source": [
        "[답변작성]\n",
        "Batch size : 48\n",
        "hidden 1 : 784\n",
        "hidden 2 : 10\n",
        "epoch : 20\n",
        "\n",
        "수정 이유 및 성능 향상 이유:\n",
        "hidden layer를 늘려 모델의 복잡성을 증가시켰다. 그러나 hidden layer 2의 노드 수는 과적합 방지를 위해 최소로 하였다.\n",
        "또한 epoch수를 늘려 학습 횟수를 증가시켜 정확성을 키웠다."
      ]
    },
    {
      "cell_type": "code",
      "execution_count": 39,
      "metadata": {
        "id": "4FhcP565-JpA",
        "colab": {
          "base_uri": "https://localhost:8080/",
          "height": 76
        },
        "outputId": "c4dc4bce-bd80-4e95-b80d-3e097b4a0d4e"
      },
      "outputs": [
        {
          "output_type": "display_data",
          "data": {
            "text/plain": [
              "<IPython.core.display.HTML object>"
            ],
            "text/html": [
              "\n",
              "     <input type=\"file\" id=\"files-06ac648a-ea91-4a40-9aa0-65c3d7e57897\" name=\"files[]\" multiple disabled\n",
              "        style=\"border:none\" />\n",
              "     <output id=\"result-06ac648a-ea91-4a40-9aa0-65c3d7e57897\">\n",
              "      Upload widget is only available when the cell has been executed in the\n",
              "      current browser session. Please rerun this cell to enable.\n",
              "      </output>\n",
              "      <script>// Copyright 2017 Google LLC\n",
              "//\n",
              "// Licensed under the Apache License, Version 2.0 (the \"License\");\n",
              "// you may not use this file except in compliance with the License.\n",
              "// You may obtain a copy of the License at\n",
              "//\n",
              "//      http://www.apache.org/licenses/LICENSE-2.0\n",
              "//\n",
              "// Unless required by applicable law or agreed to in writing, software\n",
              "// distributed under the License is distributed on an \"AS IS\" BASIS,\n",
              "// WITHOUT WARRANTIES OR CONDITIONS OF ANY KIND, either express or implied.\n",
              "// See the License for the specific language governing permissions and\n",
              "// limitations under the License.\n",
              "\n",
              "/**\n",
              " * @fileoverview Helpers for google.colab Python module.\n",
              " */\n",
              "(function(scope) {\n",
              "function span(text, styleAttributes = {}) {\n",
              "  const element = document.createElement('span');\n",
              "  element.textContent = text;\n",
              "  for (const key of Object.keys(styleAttributes)) {\n",
              "    element.style[key] = styleAttributes[key];\n",
              "  }\n",
              "  return element;\n",
              "}\n",
              "\n",
              "// Max number of bytes which will be uploaded at a time.\n",
              "const MAX_PAYLOAD_SIZE = 100 * 1024;\n",
              "\n",
              "function _uploadFiles(inputId, outputId) {\n",
              "  const steps = uploadFilesStep(inputId, outputId);\n",
              "  const outputElement = document.getElementById(outputId);\n",
              "  // Cache steps on the outputElement to make it available for the next call\n",
              "  // to uploadFilesContinue from Python.\n",
              "  outputElement.steps = steps;\n",
              "\n",
              "  return _uploadFilesContinue(outputId);\n",
              "}\n",
              "\n",
              "// This is roughly an async generator (not supported in the browser yet),\n",
              "// where there are multiple asynchronous steps and the Python side is going\n",
              "// to poll for completion of each step.\n",
              "// This uses a Promise to block the python side on completion of each step,\n",
              "// then passes the result of the previous step as the input to the next step.\n",
              "function _uploadFilesContinue(outputId) {\n",
              "  const outputElement = document.getElementById(outputId);\n",
              "  const steps = outputElement.steps;\n",
              "\n",
              "  const next = steps.next(outputElement.lastPromiseValue);\n",
              "  return Promise.resolve(next.value.promise).then((value) => {\n",
              "    // Cache the last promise value to make it available to the next\n",
              "    // step of the generator.\n",
              "    outputElement.lastPromiseValue = value;\n",
              "    return next.value.response;\n",
              "  });\n",
              "}\n",
              "\n",
              "/**\n",
              " * Generator function which is called between each async step of the upload\n",
              " * process.\n",
              " * @param {string} inputId Element ID of the input file picker element.\n",
              " * @param {string} outputId Element ID of the output display.\n",
              " * @return {!Iterable<!Object>} Iterable of next steps.\n",
              " */\n",
              "function* uploadFilesStep(inputId, outputId) {\n",
              "  const inputElement = document.getElementById(inputId);\n",
              "  inputElement.disabled = false;\n",
              "\n",
              "  const outputElement = document.getElementById(outputId);\n",
              "  outputElement.innerHTML = '';\n",
              "\n",
              "  const pickedPromise = new Promise((resolve) => {\n",
              "    inputElement.addEventListener('change', (e) => {\n",
              "      resolve(e.target.files);\n",
              "    });\n",
              "  });\n",
              "\n",
              "  const cancel = document.createElement('button');\n",
              "  inputElement.parentElement.appendChild(cancel);\n",
              "  cancel.textContent = 'Cancel upload';\n",
              "  const cancelPromise = new Promise((resolve) => {\n",
              "    cancel.onclick = () => {\n",
              "      resolve(null);\n",
              "    };\n",
              "  });\n",
              "\n",
              "  // Wait for the user to pick the files.\n",
              "  const files = yield {\n",
              "    promise: Promise.race([pickedPromise, cancelPromise]),\n",
              "    response: {\n",
              "      action: 'starting',\n",
              "    }\n",
              "  };\n",
              "\n",
              "  cancel.remove();\n",
              "\n",
              "  // Disable the input element since further picks are not allowed.\n",
              "  inputElement.disabled = true;\n",
              "\n",
              "  if (!files) {\n",
              "    return {\n",
              "      response: {\n",
              "        action: 'complete',\n",
              "      }\n",
              "    };\n",
              "  }\n",
              "\n",
              "  for (const file of files) {\n",
              "    const li = document.createElement('li');\n",
              "    li.append(span(file.name, {fontWeight: 'bold'}));\n",
              "    li.append(span(\n",
              "        `(${file.type || 'n/a'}) - ${file.size} bytes, ` +\n",
              "        `last modified: ${\n",
              "            file.lastModifiedDate ? file.lastModifiedDate.toLocaleDateString() :\n",
              "                                    'n/a'} - `));\n",
              "    const percent = span('0% done');\n",
              "    li.appendChild(percent);\n",
              "\n",
              "    outputElement.appendChild(li);\n",
              "\n",
              "    const fileDataPromise = new Promise((resolve) => {\n",
              "      const reader = new FileReader();\n",
              "      reader.onload = (e) => {\n",
              "        resolve(e.target.result);\n",
              "      };\n",
              "      reader.readAsArrayBuffer(file);\n",
              "    });\n",
              "    // Wait for the data to be ready.\n",
              "    let fileData = yield {\n",
              "      promise: fileDataPromise,\n",
              "      response: {\n",
              "        action: 'continue',\n",
              "      }\n",
              "    };\n",
              "\n",
              "    // Use a chunked sending to avoid message size limits. See b/62115660.\n",
              "    let position = 0;\n",
              "    do {\n",
              "      const length = Math.min(fileData.byteLength - position, MAX_PAYLOAD_SIZE);\n",
              "      const chunk = new Uint8Array(fileData, position, length);\n",
              "      position += length;\n",
              "\n",
              "      const base64 = btoa(String.fromCharCode.apply(null, chunk));\n",
              "      yield {\n",
              "        response: {\n",
              "          action: 'append',\n",
              "          file: file.name,\n",
              "          data: base64,\n",
              "        },\n",
              "      };\n",
              "\n",
              "      let percentDone = fileData.byteLength === 0 ?\n",
              "          100 :\n",
              "          Math.round((position / fileData.byteLength) * 100);\n",
              "      percent.textContent = `${percentDone}% done`;\n",
              "\n",
              "    } while (position < fileData.byteLength);\n",
              "  }\n",
              "\n",
              "  // All done.\n",
              "  yield {\n",
              "    response: {\n",
              "      action: 'complete',\n",
              "    }\n",
              "  };\n",
              "}\n",
              "\n",
              "scope.google = scope.google || {};\n",
              "scope.google.colab = scope.google.colab || {};\n",
              "scope.google.colab._files = {\n",
              "  _uploadFiles,\n",
              "  _uploadFilesContinue,\n",
              "};\n",
              "})(self);\n",
              "</script> "
            ]
          },
          "metadata": {}
        },
        {
          "output_type": "stream",
          "name": "stdout",
          "text": [
            "Saving P3_MLP.ipynb to P3_MLP.ipynb\n"
          ]
        },
        {
          "output_type": "display_data",
          "data": {
            "text/plain": [
              "<IPython.core.display.Javascript object>"
            ],
            "application/javascript": [
              "\n",
              "    async function download(id, filename, size) {\n",
              "      if (!google.colab.kernel.accessAllowed) {\n",
              "        return;\n",
              "      }\n",
              "      const div = document.createElement('div');\n",
              "      const label = document.createElement('label');\n",
              "      label.textContent = `Downloading \"${filename}\": `;\n",
              "      div.appendChild(label);\n",
              "      const progress = document.createElement('progress');\n",
              "      progress.max = size;\n",
              "      div.appendChild(progress);\n",
              "      document.body.appendChild(div);\n",
              "\n",
              "      const buffers = [];\n",
              "      let downloaded = 0;\n",
              "\n",
              "      const channel = await google.colab.kernel.comms.open(id);\n",
              "      // Send a message to notify the kernel that we're ready.\n",
              "      channel.send({})\n",
              "\n",
              "      for await (const message of channel.messages) {\n",
              "        // Send a message to notify the kernel that we're ready.\n",
              "        channel.send({})\n",
              "        if (message.buffers) {\n",
              "          for (const buffer of message.buffers) {\n",
              "            buffers.push(buffer);\n",
              "            downloaded += buffer.byteLength;\n",
              "            progress.value = downloaded;\n",
              "          }\n",
              "        }\n",
              "      }\n",
              "      const blob = new Blob(buffers, {type: 'application/binary'});\n",
              "      const a = document.createElement('a');\n",
              "      a.href = window.URL.createObjectURL(blob);\n",
              "      a.download = filename;\n",
              "      div.appendChild(a);\n",
              "      a.click();\n",
              "      div.remove();\n",
              "    }\n",
              "  "
            ]
          },
          "metadata": {}
        },
        {
          "output_type": "display_data",
          "data": {
            "text/plain": [
              "<IPython.core.display.Javascript object>"
            ],
            "application/javascript": [
              "download(\"download_df55214f-c0a8-4577-ad40-de63140523f6\", \"P3_MLP.html\", 635558)"
            ]
          },
          "metadata": {}
        }
      ],
      "source": [
        "#@title (Optional) Convert ipynb to HTML in Colab : Colab에서 실행한 경우 과제를 완성하고 아래 코드를 실행하여 HTML로 변환하세요.\n",
        "# * 사용방법 * : 파일 -> 다운로드 -> ipynb 다운로드 후 아래 업로드 란에 업로드하여 변환된 HTML 다운로드\n",
        "# Upload ipynb\n",
        "from google.colab import files\n",
        "f = files.upload()\n",
        "\n",
        "# Convert ipynb to html\n",
        "import subprocess\n",
        "file0 = list(f.keys())[0]\n",
        "_ = subprocess.run([\"pip\", \"install\", \"nbconvert\"])\n",
        "_ = subprocess.run([\"jupyter\", \"nbconvert\", file0, \"--to\", \"html\"])\n",
        "\n",
        "# download the html\n",
        "files.download(file0[:-5]+\"html\")\n"
      ]
    },
    {
      "cell_type": "code",
      "source": [],
      "metadata": {
        "id": "YX6E7WynkAeb"
      },
      "execution_count": null,
      "outputs": []
    }
  ],
  "metadata": {
    "kernelspec": {
      "display_name": "Python 3",
      "name": "python3"
    },
    "language_info": {
      "codemirror_mode": {
        "name": "ipython",
        "version": 3
      },
      "file_extension": ".py",
      "mimetype": "text/x-python",
      "name": "python",
      "nbconvert_exporter": "python",
      "pygments_lexer": "ipython3",
      "version": "3.10.9 | packaged by conda-forge | (main, Jan 11 2023, 15:15:40) [MSC v.1916 64 bit (AMD64)]"
    },
    "vscode": {
      "interpreter": {
        "hash": "2a12d92b1a220d9aa9f15d7a492dd92e0d9fdccee4f697d28d5af986bf540452"
      }
    },
    "colab": {
      "provenance": [],
      "gpuType": "T4"
    },
    "accelerator": "GPU"
  },
  "nbformat": 4,
  "nbformat_minor": 0
}