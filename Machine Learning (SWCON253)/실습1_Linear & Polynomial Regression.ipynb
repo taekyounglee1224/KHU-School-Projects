{
 "cells": [
  {
   "cell_type": "markdown",
   "metadata": {},
   "source": [
    "# [SWCON25301] Machine Learning\n",
    "Teaching Assistant: Suyong Bahk (clapd10@khu.ac.kr)\n",
    "\n",
    "Professor: Hui Yong Kim (hykim.v@khu.ac.kr)"
   ]
  },
  {
   "cell_type": "markdown",
   "metadata": {},
   "source": [
    "---"
   ]
  },
  {
   "cell_type": "markdown",
   "metadata": {},
   "source": [
    "# P1:  Linear/Polynomial Regression Model (10점)\n",
    "\n",
    "### 학습목표\n",
    "- 실습에 필요한 데이터 준비, 개발, 학습, 검증, 시각화 과정을 이해한다.\n",
    "- Pure python으로 작성된 Linear Regression Model을 분석하고 이해한다.\n",
    "- Pure python으로 Polynomial Regression Model class를 직접 작성하고 분석한다.\n",
    "\n",
    "### 실습내용\n",
    "\n",
    "실습은 다음 순서로 진행됩니다.\n",
    "학생분들께서는 **<구현>** 과 **<작성>** 에 해당하는 부분을 수행해주시면 됩니다.\n",
    "\n",
    "- S1. Linear Regression Model 구현 및 분석\n",
    "    - 1) 패키지 import\n",
    "    - 2) 데이터셋 생성\n",
    "    - 3) Linear Regression Model 구현\n",
    "    - 4) 학습 및 결과 시각화\n",
    "\n",
    "<br>\n",
    "\n",
    "- S2. Polynomial Regression Model 구현 및 분석\n",
    "    - 1) Polynomial Regression Model 구현 **<구현>** \n",
    "    - 2) 학습 및 결과 시각화\n",
    "    - 3) Polynomial Regression Model 분석 **<구현>** \n",
    "\n",
    "<br>\n",
    "\n",
    "- S3. Discussion **<작성>**\n",
    "\n",
    "\n",
    "--- \n",
    "\n",
    "앞으로 대부분의 실습도 위와 같은 순서로 진행됩니다. 이번 실습을 통해 각 부분의 코드를 이해하고 다음 실습에 참고하도록 합니다.\n",
    "\n",
    "\n",
    "### 점수\n",
    "- 2-1) Polynomial regression model class 구현: **4점**\n",
    "- 2-3) Polynomial Regression Model 분석: **4점**\n",
    "- Discussion: **2점**\n",
    "\n",
    "### 제출방법\n",
    "- .ipynb 파일과 함께 .html 파일 (File -> Download/export as -> HTML)도 함께 제출하세요. 하나만 제출할시 2점 감점이 있습니다.\n",
    "\n",
    "---"
   ]
  },
  {
   "cell_type": "markdown",
   "metadata": {},
   "source": [
    "## S1. Linear regression model 분석\n",
    "\n",
    "S1에서는 2차원 평면 상의 데이터에 대하여 해당 데이터를 잘 표현할 수 있는 선형 회귀 모델(Linear Regression Model)을 학습하고 평가합니다."
   ]
  },
  {
   "cell_type": "markdown",
   "metadata": {},
   "source": [
    "### 1-1) Import packages\n",
    "**수정하지 마세요.**"
   ]
  },
  {
   "cell_type": "code",
   "execution_count": 303,
   "metadata": {},
   "outputs": [],
   "source": [
    "from random import random as rand\n",
    "import random\n",
    "import numpy as np\n",
    "import matplotlib.pyplot as plt\n",
    "\n",
    "plt.style.use('default')\n",
    "\n",
    "# Customize the default style\n",
    "plt.rcParams['figure.facecolor'] = 'white'\n",
    "plt.rcParams['axes.facecolor'] = 'white'\n",
    "plt.rcParams['axes.edgecolor'] = 'white'\n",
    "plt.rcParams['axes.labelcolor'] = 'white'\n",
    "plt.rcParams['axes.titlecolor'] = 'white'\n",
    "plt.rcParams['xtick.color'] = 'white'\n",
    "plt.rcParams['ytick.color'] = 'white'\n",
    "\n",
    "%matplotlib inline"
   ]
  },
  {
   "cell_type": "markdown",
   "metadata": {},
   "source": [
    "### 1-2) Loading the Dataset\n",
    "**수정하지 마세요.** \n",
    "\n",
    "학습과 테스트에 사용할 데이터를 생성합니다."
   ]
  },
  {
   "cell_type": "code",
   "execution_count": 304,
   "metadata": {},
   "outputs": [
    {
     "name": "stdout",
     "output_type": "stream",
     "text": [
      "100 100\n"
     ]
    }
   ],
   "source": [
    "# Random seed\n",
    "random.seed(1234)\n",
    "\n",
    "# Generate 2-dimensional data points\n",
    "X = [rand() * i * 0.5 - 20 for i in range(0, 100)]\n",
    "y = [x ** 3 * 0.002 - x ** 2 * 0.005 + x * 0.003 + rand() * 5 for x in X]\n",
    "print(len(X), len(y))"
   ]
  },
  {
   "cell_type": "markdown",
   "metadata": {},
   "source": [
    "Load 된 데이터셋을 모델 학습과 검증을 위해 Trainset과 Testset으로 랜덤 샘플링하여 나누고 데이터셋이 어떤 분포로 생겼는지 시각화하여 살펴봅니다."
   ]
  },
  {
   "cell_type": "code",
   "execution_count": 305,
   "metadata": {},
   "outputs": [],
   "source": [
    "# Data random shuffle\n",
    "idx = list(range(len(X)))\n",
    "random.shuffle(idx)\n",
    "\n",
    "# Split data for train/test\n",
    "X_train, X_test = [X[i] for i in idx[:80]], [X[i] for i in idx[80:]]\n",
    "y_train, y_test = [y[i] for i in idx[:80]], [y[i] for i in idx[80:]]"
   ]
  },
  {
   "cell_type": "code",
   "execution_count": 306,
   "metadata": {
    "scrolled": true
   },
   "outputs": [
    {
     "data": {
      "image/png": "[encoded data removed]",
      "text/plain": [
       "<Figure size 432x288 with 1 Axes>"
      ]
     },
     "metadata": {
      "needs_background": "dark"
     },
     "output_type": "display_data"
    }
   ],
   "source": [
    "# 학습 데이터를 시각화하여 분포를 확인\n",
    "plt.scatter([i for idx, i in enumerate(X_train)], \n",
    "            [i for idx, i in enumerate(y_train)],\n",
    "            label='Train', marker='o')\n",
    "\n",
    "plt.scatter([i for idx, i in enumerate(X_test)], \n",
    "            [i for idx, i in enumerate(y_test)],\n",
    "            label='Test', marker='x', color='r')\n",
    "\n",
    "plt.title('Data points')\n",
    "plt.xlabel('x')\n",
    "plt.ylabel('y')\n",
    "plt.ylim([-20, 20])\n",
    "plt.legend()\n",
    "plt.show()"
   ]
  },
  {
   "cell_type": "markdown",
   "metadata": {},
   "source": [
    "### 1-3) Linear Regression Model 구현\n",
    "\n",
    "**수정하지 마세요.** \n",
    "\n",
    "`Linear` class는 생성자, forward, backward, train, evaluation 다섯개 함수로 이루어져 있습니다.\n",
    "- `__init__` 생성자에서는 model의 weights와 bias를 초기화합니다.\n",
    "- `forward`에서는 input을 model의 가중치를 이용해서 예측을 수행합니다.\n",
    "- `backward`에서는 model의 가중치를 학습하기 위해 에러를 계산합니다.\n",
    "- `train`에서는 model을 학습하는 과정으로 `forward`와 `backward`를 차례로 반복하여 model의 가중치를 업데이트 합니다.\n",
    "- `evaluation`에서는 들어온 input data를 학습된 가중치를 이용하여 예측하고 결과를 반환합니다.\n"
   ]
  },
  {
   "cell_type": "code",
   "execution_count": 307,
   "metadata": {},
   "outputs": [],
   "source": [
    "import math\n",
    "\n",
    "class Linear():\n",
    "    def __init__(self):\n",
    "        self.weight = rand() # Random initialization\n",
    "        self.bias = 0 # initialization\n",
    "        self.lr = 5e-4\n",
    "        \n",
    "    def forward(self, x):\n",
    "        # To compute the weighted sum of Linear regression model\n",
    "        prediction = self.weight * x  + self.bias\n",
    "        return prediction\n",
    "        \n",
    "    def backward(self, x, y):\n",
    "        # To compute the prediction error (derivative of L=1/2 * (prediction - y)^2 by prediction)\n",
    "        pred = self.forward(x) \n",
    "        errors = pred - y\n",
    "        return errors\n",
    "        \n",
    "    def train(self, x, y, epochs):\n",
    "        for e in range(epochs): # epochs 만큼 학습\n",
    "            for i in range(len(y)):# Each data point (Online learning)\n",
    "                x_, y_ = x[i], y[i]\n",
    "                \n",
    "                # To calculate gradient of the model by the sample\n",
    "                errors = self.backward(x_, y_)\n",
    "                gradient = errors * x_\n",
    "                \n",
    "                # To update the weight and bias with backward() \n",
    "                self.weight -= gradient * self.lr\n",
    "                self.bias -= errors * self.lr\n",
    "                \n",
    "    def evaluate(self, x):\n",
    "        # To compute the predictions with forward()\n",
    "        predictions = [self.forward(x_) for x_ in x]\n",
    "        return predictions # list type\n",
    "    "
   ]
  },
  {
   "cell_type": "markdown",
   "metadata": {},
   "source": [
    "### 1-4) 학습 및 결과 시각화\n",
    "**수정하지 마세요.**\n",
    "\n",
    "작성한 `Linear` class와 Trainset을 이용해 1차 선형 회귀 모델을 학습시키고 학습된 모델의 평가 결과를 시각화합니다."
   ]
  },
  {
   "cell_type": "code",
   "execution_count": 308,
   "metadata": {},
   "outputs": [
    {
     "name": "stdout",
     "output_type": "stream",
     "text": [
      "weight: 0.602628\n",
      "bias: 1.462181\n"
     ]
    }
   ],
   "source": [
    "# Define a model\n",
    "linear = Linear()  #  위에서 구현한 Linear regression model 모델 생성\n",
    "\n",
    "# Training\n",
    "linear.train(X_train, y_train, 100)   #  100 epoch 학습\n",
    "\n",
    "# Print weight and bias\n",
    "print(f\"weight: {linear.weight:0.6f}\")\n",
    "print(f\"bias: {linear.bias:0.6f}\")"
   ]
  },
  {
   "cell_type": "code",
   "execution_count": 309,
   "metadata": {},
   "outputs": [
    {
     "data": {
      "image/png": "[encoded data removed]",
      "text/plain": [
       "<Figure size 432x288 with 1 Axes>"
      ]
     },
     "metadata": {
      "needs_background": "dark"
     },
     "output_type": "display_data"
    }
   ],
   "source": [
    "# Range of X\n",
    "x = np.linspace(-20, 20, 50)\n",
    "\n",
    "# Plotting linear\n",
    "plt.plot(x, linear.forward(x), label='Prediction')\n",
    "\n",
    "# Plotting test data points\n",
    "plt.scatter([i for idx, i in enumerate(X_test)], \n",
    "            [i for idx, i in enumerate(y_test)],\n",
    "            label='Test', marker='x', color='r')\n",
    "\n",
    "# Calculate MSE (Mean Square Error) of test data\n",
    "mse = sum([(y - linear.forward(x))** 2 for x, y in zip(X_test, y_test)]) / len(X_test)\n",
    "\n",
    "plt.title(f'Data points (MSE: {mse:0.3f})')\n",
    "plt.xlabel('x')\n",
    "plt.ylabel('y')\n",
    "plt.ylim([-20, 20])\n",
    "plt.legend()\n",
    "plt.show()"
   ]
  },
  {
   "cell_type": "markdown",
   "metadata": {},
   "source": [
    "## S2. Polynomial Regression Model\n",
    "\n",
    "1차 Linear Regression Model은 1차 Polynomial Regression Model과 동일하다고 볼 수 있습니다. \n",
    "\n",
    "S2에서는 입력 파라메터에 따라 1차 이상의 차수를 가진 Polynomial Regression Model을 반환하는 `Polynomial` class를 구현합니다.\n",
    "\n",
    "S1에서 작성된 `Linear` class를 참고하여 구현하시면 됩니다.\n",
    "\n",
    "`Polynomial` class는 생성자, forward, backward, train, evaluation 다섯개 함수로 이루어져 있습니다.\n",
    "- `__init__` 생성자에서는 model의 weights와 bias를 초기화합니다.\n",
    "- `forward`에서는 input을 model의 가중치를 이용해서 예측을 수행합니다.\n",
    "- `backward`에서는 model의 가중치를 학습하기 위해 에러를 계산합니다.\n",
    "- `train`에서는 model을 학습하는 과정으로 `forward`와 `backward`를 차례로 반복하여 model의 가중치를 업데이트 합니다.\n",
    "- `evaluation`에서는 들어온 input data를 학습된 가중치를 이용하여 예측하고 결과를 반환합니다.\n",
    "\n",
    "학생분들께서는 `Polynomial` class 내의 함수 중 `forward`와 `train`을 일부 작성하게 됩니다. "
   ]
  },
  {
   "cell_type": "markdown",
   "metadata": {},
   "source": [
    "### 2-1) Polynomial Regression Model 구현 <직접구현>\n",
    "`<your code>` 부분을 작성하여 class를 완성하세요. **(4점, 각 2점)**\n",
    "\n",
    "단, Feature Normalization은 고려하지 않아도 됩니다."
   ]
  },
  {
   "cell_type": "code",
   "execution_count": 315,
   "metadata": {},
   "outputs": [],
   "source": [
    "import math\n",
    "\n",
    "class Polynomial():\n",
    "    def __init__(self, dim, lr=1e-5):\n",
    "        self.dim = dim\n",
    "        self.weights = [rand() * 0.001 for i in range(self.dim)] # initialization with a list type\n",
    "        self.bias = 2.5 # initialization\n",
    "        self.lr = lr # learning rate\n",
    "        \n",
    "    def forward(self, x):\n",
    "        # To compute the weighted sum of Polynomial regression model\n",
    "        prediction = sum(self.weights[i] * (x**(i+1)) for i in range(self.dim)) + self.bias\n",
    "        return prediction\n",
    "        \n",
    "    def backward(self, x, y):\n",
    "        # To compute the prediction error (derivative of L=1/2 * (prediction - y)^2 by prediction)\n",
    "        pred = self.forward(x) \n",
    "        errors = pred - y\n",
    "        return errors\n",
    "        \n",
    "    def train(self, x, y, epochs):\n",
    "        for e in range(epochs): # epochs 만큼 학습\n",
    "            for i in range(len(y)): # 데이터 하나씩 학습\n",
    "                x_, y_ = x[i], y[i] # Each data point\n",
    "                \n",
    "                # To update the weights and bias with backward() \n",
    "                errors = self.backward(x_, y_)\n",
    "                for j in range(len(self.weights)):\n",
    "                    gradient = errors * (x_ ** (j+1))\n",
    "                    self.weights[j] -=  gradient * self.lr\n",
    "                self.bias -= errors * self.lr\n",
    "                                        \n",
    "    def evaluate(self, x):\n",
    "        # To compute the predictions with forward()\n",
    "        predictions = [self.forward(x_) for x_ in x]\n",
    "        return predictions # list type\n",
    "    "
   ]
  },
  {
   "cell_type": "markdown",
   "metadata": {},
   "source": [
    "### 2-2) 다항 회귀 모델 학습 및 결과 시각화\n",
    "**수정하지 마세요.**\n",
    "\n",
    "작성한 `Polynomial` class와 Trainset을 이용해 2차 다항 회귀 모델을 학습시키고 학습된 모델의 평가 결과를 시각화합니다."
   ]
  },
  {
   "cell_type": "code",
   "execution_count": 316,
   "metadata": {},
   "outputs": [
    {
     "name": "stdout",
     "output_type": "stream",
     "text": [
      "weight_1: 0.452802\n",
      "weight_2: -0.034107\n",
      "bias: 2.538911\n"
     ]
    }
   ],
   "source": [
    "# Model define and training\n",
    "\n",
    "# Define a model\n",
    "polynomial = Polynomial(dim=2, lr=1e-5)  #  위에서 구현한 Polynomial regression model 모델 정의\n",
    "\n",
    "# Training\n",
    "polynomial.train(X_train, y_train, 100)   #  100 epoch 학습\n",
    "\n",
    "# Print weight and bias\n",
    "for i, weight in enumerate(polynomial.weights):\n",
    "    print(f\"weight_{i+1}: {weight:0.6f}\")\n",
    "print(f\"bias: {polynomial.bias:0.6f}\")"
   ]
  },
  {
   "cell_type": "code",
   "execution_count": 317,
   "metadata": {},
   "outputs": [
    {
     "data": {
      "image/png": "[encoded data removed]",
      "text/plain": [
       "<Figure size 432x288 with 1 Axes>"
      ]
     },
     "metadata": {
      "needs_background": "dark"
     },
     "output_type": "display_data"
    }
   ],
   "source": [
    "# Plotting polynomial and data points\n",
    "\n",
    "# Range of X\n",
    "x = np.linspace(-20, 20, 50)\n",
    "\n",
    "# Plotting polynomial\n",
    "plt.plot(x, polynomial.forward(x), label='Predicted Model')\n",
    "\n",
    "# Plotting test data points\n",
    "plt.scatter([i for idx, i in enumerate(X_test)], \n",
    "            [i for idx, i in enumerate(y_test)],\n",
    "            label='Test', marker='x', color='r')\n",
    "\n",
    "# Calculate MSE (Mean Square Error) of test data\n",
    "mse = sum([(y - polynomial.forward(x))** 2 for x, y in zip(X_test, y_test)]) / len(X_test)\n",
    "\n",
    "plt.title(f'Data points (MSE: {mse:0.3f})')\n",
    "plt.xlabel('x')\n",
    "plt.ylabel('y')\n",
    "plt.ylim([-20, 20])\n",
    "plt.legend()\n",
    "plt.show()"
   ]
  },
  {
   "cell_type": "markdown",
   "metadata": {},
   "source": [
    "### 2-3) 다항 회귀 모델 분석 \n",
    "\n",
    "2-2)를 수정하여 1차부터 4차 다항 회귀 모델 중 주어진 데이터셋을 가장 잘 표현하는 차수의 모델을 학습하고 결과를 시각화 하세요. **(4점, 부분점수 없음)**\n",
    "\n",
    "- 2-2) 코드를 참고하여 작성합니다. (learning rate, dim, training epoch 등 변경)\n",
    "- 다양한 시도를 통해 스스로 최적의 차수와 학습 조건을 찾아보세요. \n",
    "- 제출 시 MSE 기준 3 이하일 경우 정답으로 채점\n",
    "- MSE 값이 nan 값인 경우 learning rate 파라메터를 조정하면 해결할 수 있습니다."
   ]
  },
  {
   "cell_type": "code",
   "execution_count": 318,
   "metadata": {},
   "outputs": [
    {
     "name": "stdout",
     "output_type": "stream",
     "text": [
      "--- Polynomial Model 1 ---\n",
      "weight_1: 0.590502\n",
      "bias: 1.604278\n",
      "--- Polynomial Model 2 ---\n",
      "weight_1: 0.461046\n",
      "weight_2: -0.017102\n",
      "bias: 2.637358\n",
      "--- Polynomial Model 3 ---\n",
      "weight_1: 0.002000\n",
      "weight_2: -0.004062\n",
      "weight_3: 0.002025\n",
      "bias: 2.499854\n",
      "--- Polynomial Model 4 ---\n",
      "weight_1: 0.000152\n",
      "weight_2: 0.000892\n",
      "weight_3: 0.002017\n",
      "weight_4: -0.000014\n",
      "bias: 2.499999\n"
     ]
    }
   ],
   "source": [
    "# Model define and training\n",
    "# Define a model\n",
    "#  위에서 구현한 Polynomial regression model 모델 정의\n",
    "polynomial1 = Polynomial(dim=1, lr=2e-4)\n",
    "polynomial2 = Polynomial(dim=2, lr=3e-6)\n",
    "polynomial3 = Polynomial(dim=3, lr=7e-9)\n",
    "polynomial4 = Polynomial(dim=4, lr=9e-12)\n",
    "\n",
    "# Training\n",
    "polynomial1.train(X_train, y_train, 1000)\n",
    "polynomial2.train(X_train, y_train, 1200) \n",
    "polynomial3.train(X_train, y_train, 5000) \n",
    "polynomial4.train(X_train, y_train, 7000) \n",
    "\n",
    "\n",
    "# Print weight and bias\n",
    "polynomials = [polynomial1, polynomial2, polynomial3, polynomial4]\n",
    "\n",
    "for idx, polynomial in enumerate(polynomials, 1):\n",
    "    print(f\"--- Polynomial Model {idx} ---\")\n",
    "    for i, weight in enumerate(polynomial.weights):\n",
    "        print(f\"weight_{i+1}: {weight:0.6f}\")\n",
    "    print(f\"bias: {polynomial.bias:0.6f}\")"
   ]
  },
  {
   "cell_type": "code",
   "execution_count": 319,
   "metadata": {},
   "outputs": [
    {
     "data": {
      "image/png": "[encoded data removed]",
      "text/plain": [
       "<Figure size 432x288 with 1 Axes>"
      ]
     },
     "metadata": {
      "needs_background": "dark"
     },
     "output_type": "display_data"
    }
   ],
   "source": [
    "# Plotting polynomial and data points\n",
    "# Range of X\n",
    "x = np.linspace(-20, 20, 50)\n",
    "\n",
    "# Plotting polynomial\n",
    "plt.plot(x, polynomial1.forward(x), label='Polynomial1 Model')\n",
    "plt.plot(x, polynomial2.forward(x), label='Polynomial2 Model')\n",
    "plt.plot(x, polynomial3.forward(x), label='Polynomial3 Model')\n",
    "plt.plot(x, polynomial4.forward(x), label='Polynomial4 Model')\n",
    "\n",
    "# Plotting test data points\n",
    "plt.scatter([i for idx, i in enumerate(X_test)], \n",
    "            [i for idx, i in enumerate(y_test)],\n",
    "            label='Test', marker='x', color='r')\n",
    "\n",
    "# Calculate MSE (Mean Square Error) of test data\n",
    "mse1 = sum([(y - polynomial1.forward(x))** 2 for x, y in zip(X_test, y_test)]) / len(X_test)\n",
    "mse2 = sum([(y - polynomial2.forward(x))** 2 for x, y in zip(X_test, y_test)]) / len(X_test)\n",
    "mse3 = sum([(y - polynomial3.forward(x))** 2 for x, y in zip(X_test, y_test)]) / len(X_test)\n",
    "mse4 = sum([(y - polynomial4.forward(x))** 2 for x, y in zip(X_test, y_test)]) / len(X_test)\n",
    "\n",
    "plt.title(f'Data points (list_MSE: [{mse1:0.3f}, {mse2:0.3f}, {mse3:0.3f}, {mse4:0.3f}])')\n",
    "plt.xlabel('x')\n",
    "plt.ylabel('y')\n",
    "plt.ylim([-20, 20])\n",
    "plt.legend()\n",
    "plt.show()"
   ]
  },
  {
   "cell_type": "markdown",
   "metadata": {},
   "source": [
    "## S2. Discussion"
   ]
  },
  {
   "cell_type": "markdown",
   "metadata": {},
   "source": [
    "**1) 본 실습에서 구현한 `Polynomial` class는 Feature Normalization을 사용하지 않았습니다.**\n",
    "\n",
    "1. 본 실습에서의 상황을 예시로 Feature Normalization을 수행하는 방법을 설명하고,\n",
    "\n",
    "2. 수업 시간에 배운 내용을 기반으로 Feature Normalization을 수행했을 때의 효과에 대해서 논하세요."
   ]
  },
  {
   "cell_type": "markdown",
   "metadata": {},
   "source": [
    "[답변작성]:  \n",
    "1. 대표적인 방법으로 Z-정규화 방법이 있는데, feature 값들의 평균과 표준편차를 이용하여 정규화하는 것입니다.\n",
    "Z-정규화를 사용하게 되면 평균은 0, 표준편차는 1인 데이터로 바뀝니다.\n",
    "\n",
    "2. Feature Normalization을 사용하게 되면, 빠른 수렴과 성능 향상의 효과를 볼 수 있습니다. 이는 데이터들의 스케일이 비교적 동일해지기 때문이라고 생각할 수 있습니다. 그렇게 된다면 비용함수가 조금 더 군형잡힌 형태를 가지게 됩니다."
   ]
  },
  {
   "cell_type": "markdown",
   "metadata": {},
   "source": [
    "---"
   ]
  }
 ],
 "metadata": {
  "kernelspec": {
   "display_name": "Python 3 (ipykernel)",
   "language": "python",
   "name": "python3"
  },
  "language_info": {
   "codemirror_mode": {
    "name": "ipython",
    "version": 3
   },
   "file_extension": ".py",
   "mimetype": "text/x-python",
   "name": "python",
   "nbconvert_exporter": "python",
   "pygments_lexer": "ipython3",
   "version": "3.9.7"
  },
  "toc": {
   "base_numbering": 1,
   "nav_menu": {},
   "number_sections": true,
   "sideBar": true,
   "skip_h1_title": false,
   "title_cell": "Table of Contents",
   "title_sidebar": "Contents",
   "toc_cell": false,
   "toc_position": {},
   "toc_section_display": true,
   "toc_window_display": false
  },
  "vscode": {
   "interpreter": {
    "hash": "256620b0ae7f0e8b516da9d154aa18bac4f8ddc9e8af5b459abc95538e70fe29"
   }
  }
 },
 "nbformat": 4,
 "nbformat_minor": 4
}
